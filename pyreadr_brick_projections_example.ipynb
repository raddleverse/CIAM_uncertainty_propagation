{
 "cells": [
  {
   "cell_type": "code",
   "execution_count": 12,
   "metadata": {},
   "outputs": [],
   "source": [
    "import matplotlib.pyplot as plt"
   ]
  },
  {
   "cell_type": "code",
   "execution_count": 8,
   "metadata": {},
   "outputs": [
    {
     "name": "stdout",
     "output_type": "stream",
     "text": [
      "odict_keys(['Tgav.1pctco2', 'tcr', 'Tgav.hind', 'Tgav.rcp26', 'Tgav.rcp85', 'ais.hind', 'ais.rcp26', 'ais.rcp85', 'gis.hind', 'gis.rcp26', 'gis.rcp85', 'gic.hind', 'gic.rcp26', 'gic.rcp85', 'ocheat.hind', 'ocheat.rcp26', 'ocheat.rcp85', 'slr.hind', 'slr.rcp26', 'slr.rcp85', 'te.hind', 'te.rcp26', 'te.rcp85', 'hind.time', 'proj.time', 'parname', 'parameters.sample'])\n"
     ]
    }
   ],
   "source": [
    "import pyreadr\n",
    "from urllib.request import urlopen\n",
    "link=\"https://zenodo.org/record/3628215/files/sample_projections.RData\"\n",
    "response = urlopen(link)\n",
    "content = response.read()\n",
    "fhandle = open('file.RData', 'wb')\n",
    "fhandle.write(content)\n",
    "fhandle.close()\n",
    "result = pyreadr.read_r(\"file.RData\")\n",
    "print(result.keys())\n"
   ]
  },
  {
   "cell_type": "code",
   "execution_count": 16,
   "metadata": {},
   "outputs": [
    {
     "data": {
      "text/html": [
       "<div>\n",
       "<style scoped>\n",
       "    .dataframe tbody tr th:only-of-type {\n",
       "        vertical-align: middle;\n",
       "    }\n",
       "\n",
       "    .dataframe tbody tr th {\n",
       "        vertical-align: top;\n",
       "    }\n",
       "\n",
       "    .dataframe thead th {\n",
       "        text-align: right;\n",
       "    }\n",
       "</style>\n",
       "<table border=\"1\" class=\"dataframe\">\n",
       "  <thead>\n",
       "    <tr style=\"text-align: right;\">\n",
       "      <th></th>\n",
       "      <th>0</th>\n",
       "      <th>1</th>\n",
       "      <th>2</th>\n",
       "      <th>3</th>\n",
       "      <th>4</th>\n",
       "      <th>5</th>\n",
       "      <th>6</th>\n",
       "      <th>7</th>\n",
       "      <th>8</th>\n",
       "      <th>9</th>\n",
       "      <th>...</th>\n",
       "      <th>9990</th>\n",
       "      <th>9991</th>\n",
       "      <th>9992</th>\n",
       "      <th>9993</th>\n",
       "      <th>9994</th>\n",
       "      <th>9995</th>\n",
       "      <th>9996</th>\n",
       "      <th>9997</th>\n",
       "      <th>9998</th>\n",
       "      <th>9999</th>\n",
       "    </tr>\n",
       "  </thead>\n",
       "  <tbody>\n",
       "    <tr>\n",
       "      <th>0</th>\n",
       "      <td>-0.334051</td>\n",
       "      <td>-0.421627</td>\n",
       "      <td>-0.407224</td>\n",
       "      <td>-0.418508</td>\n",
       "      <td>-0.456062</td>\n",
       "      <td>-0.520339</td>\n",
       "      <td>-0.336587</td>\n",
       "      <td>-0.363495</td>\n",
       "      <td>-0.364156</td>\n",
       "      <td>-0.461193</td>\n",
       "      <td>...</td>\n",
       "      <td>-0.485643</td>\n",
       "      <td>-0.310770</td>\n",
       "      <td>-0.307629</td>\n",
       "      <td>-0.322218</td>\n",
       "      <td>-0.472651</td>\n",
       "      <td>-0.321656</td>\n",
       "      <td>-0.515450</td>\n",
       "      <td>-0.471294</td>\n",
       "      <td>-0.455795</td>\n",
       "      <td>-0.441017</td>\n",
       "    </tr>\n",
       "    <tr>\n",
       "      <th>1</th>\n",
       "      <td>-0.334214</td>\n",
       "      <td>-0.415903</td>\n",
       "      <td>-0.406208</td>\n",
       "      <td>-0.416308</td>\n",
       "      <td>-0.451319</td>\n",
       "      <td>-0.519778</td>\n",
       "      <td>-0.334457</td>\n",
       "      <td>-0.361139</td>\n",
       "      <td>-0.362452</td>\n",
       "      <td>-0.458913</td>\n",
       "      <td>...</td>\n",
       "      <td>-0.487120</td>\n",
       "      <td>-0.312997</td>\n",
       "      <td>-0.302649</td>\n",
       "      <td>-0.318286</td>\n",
       "      <td>-0.474019</td>\n",
       "      <td>-0.323913</td>\n",
       "      <td>-0.517546</td>\n",
       "      <td>-0.466701</td>\n",
       "      <td>-0.455851</td>\n",
       "      <td>-0.441073</td>\n",
       "    </tr>\n",
       "    <tr>\n",
       "      <th>2</th>\n",
       "      <td>-0.333991</td>\n",
       "      <td>-0.414504</td>\n",
       "      <td>-0.405110</td>\n",
       "      <td>-0.415198</td>\n",
       "      <td>-0.449519</td>\n",
       "      <td>-0.517874</td>\n",
       "      <td>-0.333878</td>\n",
       "      <td>-0.358959</td>\n",
       "      <td>-0.360562</td>\n",
       "      <td>-0.457109</td>\n",
       "      <td>...</td>\n",
       "      <td>-0.485704</td>\n",
       "      <td>-0.311778</td>\n",
       "      <td>-0.301703</td>\n",
       "      <td>-0.317029</td>\n",
       "      <td>-0.472364</td>\n",
       "      <td>-0.322064</td>\n",
       "      <td>-0.515866</td>\n",
       "      <td>-0.464830</td>\n",
       "      <td>-0.454599</td>\n",
       "      <td>-0.439193</td>\n",
       "    </tr>\n",
       "    <tr>\n",
       "      <th>3</th>\n",
       "      <td>-0.331570</td>\n",
       "      <td>-0.412260</td>\n",
       "      <td>-0.403235</td>\n",
       "      <td>-0.413340</td>\n",
       "      <td>-0.448214</td>\n",
       "      <td>-0.516048</td>\n",
       "      <td>-0.333037</td>\n",
       "      <td>-0.357505</td>\n",
       "      <td>-0.358904</td>\n",
       "      <td>-0.455532</td>\n",
       "      <td>...</td>\n",
       "      <td>-0.484919</td>\n",
       "      <td>-0.310462</td>\n",
       "      <td>-0.300840</td>\n",
       "      <td>-0.314750</td>\n",
       "      <td>-0.470433</td>\n",
       "      <td>-0.320991</td>\n",
       "      <td>-0.513647</td>\n",
       "      <td>-0.462480</td>\n",
       "      <td>-0.452613</td>\n",
       "      <td>-0.437189</td>\n",
       "    </tr>\n",
       "    <tr>\n",
       "      <th>4</th>\n",
       "      <td>-0.329415</td>\n",
       "      <td>-0.410239</td>\n",
       "      <td>-0.401006</td>\n",
       "      <td>-0.411243</td>\n",
       "      <td>-0.446119</td>\n",
       "      <td>-0.513989</td>\n",
       "      <td>-0.331307</td>\n",
       "      <td>-0.355837</td>\n",
       "      <td>-0.357352</td>\n",
       "      <td>-0.453881</td>\n",
       "      <td>...</td>\n",
       "      <td>-0.481998</td>\n",
       "      <td>-0.310145</td>\n",
       "      <td>-0.299516</td>\n",
       "      <td>-0.313859</td>\n",
       "      <td>-0.467929</td>\n",
       "      <td>-0.320262</td>\n",
       "      <td>-0.511409</td>\n",
       "      <td>-0.460905</td>\n",
       "      <td>-0.451365</td>\n",
       "      <td>-0.435373</td>\n",
       "    </tr>\n",
       "  </tbody>\n",
       "</table>\n",
       "<p>5 rows × 10000 columns</p>\n",
       "</div>"
      ],
      "text/plain": [
       "       0         1         2         3         4         5         6     \\\n",
       "0 -0.334051 -0.421627 -0.407224 -0.418508 -0.456062 -0.520339 -0.336587   \n",
       "1 -0.334214 -0.415903 -0.406208 -0.416308 -0.451319 -0.519778 -0.334457   \n",
       "2 -0.333991 -0.414504 -0.405110 -0.415198 -0.449519 -0.517874 -0.333878   \n",
       "3 -0.331570 -0.412260 -0.403235 -0.413340 -0.448214 -0.516048 -0.333037   \n",
       "4 -0.329415 -0.410239 -0.401006 -0.411243 -0.446119 -0.513989 -0.331307   \n",
       "\n",
       "       7         8         9     ...      9990      9991      9992      9993  \\\n",
       "0 -0.363495 -0.364156 -0.461193  ... -0.485643 -0.310770 -0.307629 -0.322218   \n",
       "1 -0.361139 -0.362452 -0.458913  ... -0.487120 -0.312997 -0.302649 -0.318286   \n",
       "2 -0.358959 -0.360562 -0.457109  ... -0.485704 -0.311778 -0.301703 -0.317029   \n",
       "3 -0.357505 -0.358904 -0.455532  ... -0.484919 -0.310462 -0.300840 -0.314750   \n",
       "4 -0.355837 -0.357352 -0.453881  ... -0.481998 -0.310145 -0.299516 -0.313859   \n",
       "\n",
       "       9994      9995      9996      9997      9998      9999  \n",
       "0 -0.472651 -0.321656 -0.515450 -0.471294 -0.455795 -0.441017  \n",
       "1 -0.474019 -0.323913 -0.517546 -0.466701 -0.455851 -0.441073  \n",
       "2 -0.472364 -0.322064 -0.515866 -0.464830 -0.454599 -0.439193  \n",
       "3 -0.470433 -0.320991 -0.513647 -0.462480 -0.452613 -0.437189  \n",
       "4 -0.467929 -0.320262 -0.511409 -0.460905 -0.451365 -0.435373  \n",
       "\n",
       "[5 rows x 10000 columns]"
      ]
     },
     "execution_count": 16,
     "metadata": {},
     "output_type": "execute_result"
    }
   ],
   "source": [
    "result[\"slr.rcp85\"].head()"
   ]
  },
  {
   "cell_type": "code",
   "execution_count": 15,
   "metadata": {},
   "outputs": [
    {
     "data": {
      "text/plain": [
       "pandas.core.frame.DataFrame"
      ]
     },
     "execution_count": 15,
     "metadata": {},
     "output_type": "execute_result"
    }
   ],
   "source": [
    "type(result[\"slr.rcp85\"])"
   ]
  },
  {
   "cell_type": "code",
   "execution_count": 17,
   "metadata": {},
   "outputs": [
    {
     "data": {
      "text/plain": [
       "[<matplotlib.lines.Line2D at 0x7fd9a88f1a90>]"
      ]
     },
     "execution_count": 17,
     "metadata": {},
     "output_type": "execute_result"
    },
    {
     "data": {
      "image/png": "[encoded data removed]",
      "text/plain": [
       "<Figure size 432x288 with 1 Axes>"
      ]
     },
     "metadata": {
      "needs_background": "light"
     },
     "output_type": "display_data"
    }
   ],
   "source": [
    "plt.plot(result[\"slr.rcp85\"][0])"
   ]
  },
  {
   "cell_type": "code",
   "execution_count": null,
   "metadata": {},
   "outputs": [],
   "source": []
  }
 ],
 "metadata": {
  "kernelspec": {
   "display_name": "Python 3",
   "language": "python",
   "name": "python3"
  },
  "language_info": {
   "codemirror_mode": {
    "name": "ipython",
    "version": 3
   },
   "file_extension": ".py",
   "mimetype": "text/x-python",
   "name": "python",
   "nbconvert_exporter": "python",
   "pygments_lexer": "ipython3",
   "version": "3.7.3"
  }
 },
 "nbformat": 4,
 "nbformat_minor": 4
}
