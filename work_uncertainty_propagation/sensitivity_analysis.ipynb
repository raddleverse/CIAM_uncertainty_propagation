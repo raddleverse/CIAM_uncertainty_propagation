{
 "cells": [
  {
   "cell_type": "code",
   "execution_count": 69,
   "metadata": {},
   "outputs": [],
   "source": [
    "import SALib\n",
    "import numpy as np\n",
    "import pandas as pd\n",
    "import re, os\n",
    "import time\n",
    "import matplotlib.pyplot as plt\n",
    "from adjustText import adjust_text"
   ]
  },
  {
   "cell_type": "markdown",
   "metadata": {},
   "source": [
    "Colorblind-friendly palette"
   ]
  },
  {
   "cell_type": "code",
   "execution_count": 79,
   "metadata": {},
   "outputs": [],
   "source": [
    "plt.style.use('tableau-colorblind10')"
   ]
  },
  {
   "cell_type": "markdown",
   "metadata": {},
   "source": [
    "Set `projdir` on your system, then everything else is defined relative to that. `pwd` will just give the directory that this Jupyter notebook is housed in."
   ]
  },
  {
   "cell_type": "code",
   "execution_count": 80,
   "metadata": {},
   "outputs": [],
   "source": [
    "projdir = os.getcwd()\n",
    "datdir = projdir + \"/../ciam-code/output/MonteCarlo\"\n",
    "plotdir = projdir + \"/../ciam-code/figures\""
   ]
  },
  {
   "cell_type": "markdown",
   "metadata": {},
   "source": [
    "If the plot directory `plotdir` doesn't exist, make it."
   ]
  },
  {
   "cell_type": "code",
   "execution_count": 81,
   "metadata": {},
   "outputs": [
    {
     "name": "stdout",
     "output_type": "stream",
     "text": [
      "Will save plots to  /Users/aewsma/codes/CIAM_uncertainty_propagation/work_uncertainty_propagation/../ciam-code/figures\n"
     ]
    }
   ],
   "source": [
    "if not os.path.exists(plotdir):\n",
    "    os.makedirs(plotdir)\n",
    "print(\"Will save plots to \",plotdir)"
   ]
  },
  {
   "cell_type": "markdown",
   "metadata": {},
   "source": [
    "BRICK parameters are the same for all scenarios because they are calibrated in hindcast."
   ]
  },
  {
   "cell_type": "code",
   "execution_count": 82,
   "metadata": {},
   "outputs": [],
   "source": [
    "brickdir = \"https://zenodo.org/record/6626335/files/parameters_subsample_sneasybrick.csv\"\n",
    "dfPB = pd.read_csv(brickdir)"
   ]
  },
  {
   "cell_type": "markdown",
   "metadata": {},
   "source": [
    "SSP-RCP scenarios and a dictionary to hold the sensitivity results from Method of Morris:"
   ]
  },
  {
   "cell_type": "code",
   "execution_count": 83,
   "metadata": {},
   "outputs": [],
   "source": [
    "surge_option = 0\n",
    "scenarios = [(1,26),(2,45),(4,60),(5,85)]\n",
    "dfSi = {scen : None for scen in scenarios}"
   ]
  },
  {
   "cell_type": "markdown",
   "metadata": {},
   "source": [
    "Directories where all the BRICK-CIAM results are, for all the different SSP-RCP scenarios."
   ]
  },
  {
   "cell_type": "code",
   "execution_count": 103,
   "metadata": {},
   "outputs": [],
   "source": [
    "for (ssp, rcp) in scenarios:\n",
    "    bothdir = datdir + \"/SSP\"+str(ssp)+\"_BRICK\"+str(rcp)+\"/SSP\"+str(ssp)+\"_BRICK\"+str(rcp)+\"_surge\"+str(surge_option)+\"_varySLR_varyCIAM/CIAM MC1000/PostProcessing\"\n",
    "    dfSC = pd.read_csv(bothdir+\"/globalnpv_SSP\"+str(ssp)+\"_BRICK\"+str(rcp)+\"_surge\"+str(surge_option)+\"_varySLR_varyCIAM.csv\")\n",
    "    dfSC = dfSC.join(pd.read_csv(bothdir+\"/regionnpv_SSP\"+str(ssp)+\"_BRICK\"+str(rcp)+\"_surge\"+str(surge_option)+\"_varySLR_varyCIAM.csv\"))\n",
    "    dfPC = pd.read_csv(bothdir+\"/trials_SSP\"+str(ssp)+\"_BRICK\"+str(rcp)+\"_surge\"+str(surge_option)+\"_varySLR_varyCIAM.csv\",\n",
    "                       names = [\"movefactor\",\"dvbm\",\"vslel\",\"vslmult\",\"wvel\",\"wvpdl\"], header=0)\n",
    "\n",
    "    tmp = dfPB.iloc[dfSC.brickEnsInd]\n",
    "    tmp.reset_index(inplace=True, drop=True)\n",
    "    dfP = pd.concat([tmp,dfPC], axis=1)\n",
    "        \n",
    "    n_ensemble, n_parameter = dfP.shape\n",
    "    mins = list(dfP.min())\n",
    "    maxs = list(dfP.max())\n",
    "    bounds = [[mins[i],maxs[i]] for i in range(n_parameter)]\n",
    "\n",
    "    problem = {\"num_vars\" : n_parameter,\n",
    "               \"names\" : list(dfP.columns),\n",
    "               \"bounds\" : bounds}\n",
    "\n",
    "    X = np.array(dfP)[:986,:]\n",
    "    Y = np.array(dfSC.npv)[:986]\n",
    "    dfSi[(ssp,rcp)] = pd.DataFrame(SALib.analyze.morris.analyze(problem, X, Y, print_to_console=False))\n",
    "    dfSi[(ssp,rcp)][\"dist\"] = np.sqrt(dfSi[(ssp,rcp)].mu_star**2 + dfSi[(ssp,rcp)].sigma**2)\n",
    "    "
   ]
  },
  {
   "cell_type": "markdown",
   "metadata": {},
   "source": [
    "* dvbm = FUND value of OECD dryland per Darwin et al 1995 converted from $1995 ($2010M per sqkm) (5.376)\n",
    "* wvel = income elasticity of wetland value (1.16) (Brander et al, 2006)\n",
    "* movefactor = Cost to relocate mobile capital as a fraction of asset value (0.1)\n",
    "* vslel = Elasticity of vsl (0.5) (only used for endogenous calculation of vsl)\n",
    "* vslmult = multiplier on USA GDP (216)(only used for endogenous calculation of vsl)\n",
    "* wvpdl = Population density elasticity of wetland value (0.47) (Brander et al, 2"
   ]
  },
  {
   "cell_type": "code",
   "execution_count": 104,
   "metadata": {},
   "outputs": [
    {
     "name": "stdout",
     "output_type": "stream",
     "text": [
      "================================\n",
      "(1, 26)\n",
      "                  names       mu_star\n",
      "52                 dvbm  20967.342562\n",
      "55                 wvel   5879.730739\n",
      "25      CO2_diffusivity   5521.745552\n",
      "10        rho_greenland   5421.156006\n",
      "13           alpha0_CO2   5377.004894\n",
      "28  climate_sensitivity   5189.764296\n",
      "51           movefactor   4920.722021\n",
      "2           sd_glaciers   4763.421734\n",
      "================================\n",
      "(2, 45)\n",
      "              names       mu_star\n",
      "52             dvbm  26370.773888\n",
      "55             wvel  17659.023327\n",
      "53            vslel  10300.679502\n",
      "56            wvpdl   9539.593454\n",
      "7   rho_temperature   9135.686743\n",
      "38  antarctic_gamma   9047.973856\n",
      "14            CO2_0   8977.089476\n",
      "5           sd_gmsl   8440.419013\n",
      "================================\n",
      "(4, 60)\n",
      "                names       mu_star\n",
      "52               dvbm  26666.784299\n",
      "55               wvel  12704.371533\n",
      "42  antarctic_precip0   7544.739062\n",
      "53              vslel   7079.391453\n",
      "35         glaciers_n   6896.367859\n",
      "44    antarctic_flow0   6764.195193\n",
      "33     greenland_beta   6757.277686\n",
      "0             sd_temp   6656.572096\n",
      "================================\n",
      "(5, 85)\n",
      "                       names       mu_star\n",
      "52                      dvbm  45530.850258\n",
      "55                      wvel  30601.648281\n",
      "36                anto_alpha  15034.941553\n",
      "41              antarctic_nu  14157.421614\n",
      "45  antarctic_runoff_height0  13827.252312\n",
      "51                movefactor  13756.439303\n",
      "23                       Q10  13566.026466\n",
      "6       sigma_whitenoise_co2  13503.949174\n"
     ]
    }
   ],
   "source": [
    "top = 8\n",
    "for scen in scenarios:\n",
    "    print(\"================================\")\n",
    "    print(scen)\n",
    "    print(dfSi[scen].sort_values(by=\"mu_star\", ascending=False)[[\"names\",\"mu_star\"]][:top])"
   ]
  },
  {
   "cell_type": "code",
   "execution_count": 105,
   "metadata": {},
   "outputs": [
    {
     "name": "stdout",
     "output_type": "stream",
     "text": [
      "                       names       mu_star\n",
      "52                      dvbm  45530.850258\n",
      "55                      wvel  30601.648281\n",
      "36                anto_alpha  15034.941553\n",
      "41              antarctic_nu  14157.421614\n",
      "45  antarctic_runoff_height0  13827.252312\n",
      "51                movefactor  13756.439303\n",
      "23                       Q10  13566.026466\n",
      "6       sigma_whitenoise_co2  13503.949174\n",
      "\n",
      "                       names       mu_star\n",
      "52                      dvbm  45530.850258\n",
      "55                      wvel  30601.648281\n",
      "36                anto_alpha  15034.941553\n",
      "41              antarctic_nu  14157.421614\n",
      "45  antarctic_runoff_height0  13827.252312\n",
      "24         CO2_fertilization  13227.871158\n",
      "53                     vslel  13482.938200\n",
      "6       sigma_whitenoise_co2  13503.949174\n"
     ]
    }
   ],
   "source": [
    "scen = (5,85)\n",
    "top = 8\n",
    "print(dfSi[scen].sort_values(by=\"mu_star\", ascending=False)[[\"names\",\"mu_star\"]][:top])\n",
    "print()\n",
    "print(dfSi[scen].sort_values(by=\"dist\", ascending=False)[[\"names\",\"mu_star\"]][:top])"
   ]
  },
  {
   "cell_type": "code",
   "execution_count": 87,
   "metadata": {},
   "outputs": [],
   "source": []
  },
  {
   "cell_type": "code",
   "execution_count": 115,
   "metadata": {},
   "outputs": [],
   "source": []
  },
  {
   "cell_type": "code",
   "execution_count": 117,
   "metadata": {},
   "outputs": [],
   "source": []
  },
  {
   "cell_type": "code",
   "execution_count": 96,
   "metadata": {},
   "outputs": [],
   "source": []
  },
  {
   "cell_type": "code",
   "execution_count": 97,
   "metadata": {},
   "outputs": [
    {
     "data": {
      "text/html": [
       "<div>\n",
       "<style scoped>\n",
       "    .dataframe tbody tr th:only-of-type {\n",
       "        vertical-align: middle;\n",
       "    }\n",
       "\n",
       "    .dataframe tbody tr th {\n",
       "        vertical-align: top;\n",
       "    }\n",
       "\n",
       "    .dataframe thead th {\n",
       "        text-align: right;\n",
       "    }\n",
       "</style>\n",
       "<table border=\"1\" class=\"dataframe\">\n",
       "  <thead>\n",
       "    <tr style=\"text-align: right;\">\n",
       "      <th></th>\n",
       "      <th>names</th>\n",
       "      <th>mu</th>\n",
       "      <th>mu_star</th>\n",
       "      <th>sigma</th>\n",
       "      <th>mu_star_conf</th>\n",
       "      <th>dist</th>\n",
       "    </tr>\n",
       "  </thead>\n",
       "  <tbody>\n",
       "    <tr>\n",
       "      <th>52</th>\n",
       "      <td>dvbm</td>\n",
       "      <td>45530.850258</td>\n",
       "      <td>45530.850258</td>\n",
       "      <td>9786.053858</td>\n",
       "      <td>5109.987640</td>\n",
       "      <td>46570.647143</td>\n",
       "    </tr>\n",
       "    <tr>\n",
       "      <th>55</th>\n",
       "      <td>wvel</td>\n",
       "      <td>-30601.648281</td>\n",
       "      <td>30601.648281</td>\n",
       "      <td>11307.203043</td>\n",
       "      <td>5424.994025</td>\n",
       "      <td>32623.821330</td>\n",
       "    </tr>\n",
       "    <tr>\n",
       "      <th>36</th>\n",
       "      <td>anto_alpha</td>\n",
       "      <td>4250.335492</td>\n",
       "      <td>15034.941553</td>\n",
       "      <td>17653.871635</td>\n",
       "      <td>4984.814787</td>\n",
       "      <td>23188.545690</td>\n",
       "    </tr>\n",
       "    <tr>\n",
       "      <th>41</th>\n",
       "      <td>antarctic_nu</td>\n",
       "      <td>4571.472263</td>\n",
       "      <td>14157.421614</td>\n",
       "      <td>16994.644237</td>\n",
       "      <td>4427.381990</td>\n",
       "      <td>22119.008104</td>\n",
       "    </tr>\n",
       "    <tr>\n",
       "      <th>45</th>\n",
       "      <td>antarctic_runoff_height0</td>\n",
       "      <td>1117.783084</td>\n",
       "      <td>13827.252312</td>\n",
       "      <td>17153.600557</td>\n",
       "      <td>4471.721839</td>\n",
       "      <td>22032.678425</td>\n",
       "    </tr>\n",
       "    <tr>\n",
       "      <th>51</th>\n",
       "      <td>movefactor</td>\n",
       "      <td>8326.580867</td>\n",
       "      <td>13756.439303</td>\n",
       "      <td>14881.027897</td>\n",
       "      <td>4293.020061</td>\n",
       "      <td>20265.355007</td>\n",
       "    </tr>\n",
       "    <tr>\n",
       "      <th>23</th>\n",
       "      <td>Q10</td>\n",
       "      <td>-7237.548027</td>\n",
       "      <td>13566.026466</td>\n",
       "      <td>16355.545854</td>\n",
       "      <td>5297.565582</td>\n",
       "      <td>21249.493035</td>\n",
       "    </tr>\n",
       "    <tr>\n",
       "      <th>6</th>\n",
       "      <td>sigma_whitenoise_co2</td>\n",
       "      <td>-1517.620485</td>\n",
       "      <td>13503.949174</td>\n",
       "      <td>16426.007512</td>\n",
       "      <td>4281.836735</td>\n",
       "      <td>21264.297921</td>\n",
       "    </tr>\n",
       "  </tbody>\n",
       "</table>\n",
       "</div>"
      ],
      "text/plain": [
       "                       names            mu       mu_star         sigma  \\\n",
       "52                      dvbm  45530.850258  45530.850258   9786.053858   \n",
       "55                      wvel -30601.648281  30601.648281  11307.203043   \n",
       "36                anto_alpha   4250.335492  15034.941553  17653.871635   \n",
       "41              antarctic_nu   4571.472263  14157.421614  16994.644237   \n",
       "45  antarctic_runoff_height0   1117.783084  13827.252312  17153.600557   \n",
       "51                movefactor   8326.580867  13756.439303  14881.027897   \n",
       "23                       Q10  -7237.548027  13566.026466  16355.545854   \n",
       "6       sigma_whitenoise_co2  -1517.620485  13503.949174  16426.007512   \n",
       "\n",
       "    mu_star_conf          dist  \n",
       "52   5109.987640  46570.647143  \n",
       "55   5424.994025  32623.821330  \n",
       "36   4984.814787  23188.545690  \n",
       "41   4427.381990  22119.008104  \n",
       "45   4471.721839  22032.678425  \n",
       "51   4293.020061  20265.355007  \n",
       "23   5297.565582  21249.493035  \n",
       "6    4281.836735  21264.297921  "
      ]
     },
     "execution_count": 97,
     "metadata": {},
     "output_type": "execute_result"
    }
   ],
   "source": [
    "dfSi[(5,85)].sort_values(by=\"mu_star\", ascending=False).iloc[:8]"
   ]
  },
  {
   "cell_type": "code",
   "execution_count": 98,
   "metadata": {},
   "outputs": [
    {
     "data": {
      "text/html": [
       "<div>\n",
       "<style scoped>\n",
       "    .dataframe tbody tr th:only-of-type {\n",
       "        vertical-align: middle;\n",
       "    }\n",
       "\n",
       "    .dataframe tbody tr th {\n",
       "        vertical-align: top;\n",
       "    }\n",
       "\n",
       "    .dataframe thead th {\n",
       "        text-align: right;\n",
       "    }\n",
       "</style>\n",
       "<table border=\"1\" class=\"dataframe\">\n",
       "  <thead>\n",
       "    <tr style=\"text-align: right;\">\n",
       "      <th></th>\n",
       "      <th>names</th>\n",
       "      <th>mu</th>\n",
       "      <th>mu_star</th>\n",
       "      <th>sigma</th>\n",
       "      <th>mu_star_conf</th>\n",
       "      <th>dist</th>\n",
       "    </tr>\n",
       "  </thead>\n",
       "  <tbody>\n",
       "    <tr>\n",
       "      <th>52</th>\n",
       "      <td>dvbm</td>\n",
       "      <td>45530.850258</td>\n",
       "      <td>45530.850258</td>\n",
       "      <td>9786.053858</td>\n",
       "      <td>5109.987640</td>\n",
       "      <td>46570.647143</td>\n",
       "    </tr>\n",
       "    <tr>\n",
       "      <th>55</th>\n",
       "      <td>wvel</td>\n",
       "      <td>-30601.648281</td>\n",
       "      <td>30601.648281</td>\n",
       "      <td>11307.203043</td>\n",
       "      <td>5424.994025</td>\n",
       "      <td>32623.821330</td>\n",
       "    </tr>\n",
       "    <tr>\n",
       "      <th>36</th>\n",
       "      <td>anto_alpha</td>\n",
       "      <td>4250.335492</td>\n",
       "      <td>15034.941553</td>\n",
       "      <td>17653.871635</td>\n",
       "      <td>4984.814787</td>\n",
       "      <td>23188.545690</td>\n",
       "    </tr>\n",
       "    <tr>\n",
       "      <th>41</th>\n",
       "      <td>antarctic_nu</td>\n",
       "      <td>4571.472263</td>\n",
       "      <td>14157.421614</td>\n",
       "      <td>16994.644237</td>\n",
       "      <td>4427.381990</td>\n",
       "      <td>22119.008104</td>\n",
       "    </tr>\n",
       "    <tr>\n",
       "      <th>45</th>\n",
       "      <td>antarctic_runoff_height0</td>\n",
       "      <td>1117.783084</td>\n",
       "      <td>13827.252312</td>\n",
       "      <td>17153.600557</td>\n",
       "      <td>4471.721839</td>\n",
       "      <td>22032.678425</td>\n",
       "    </tr>\n",
       "    <tr>\n",
       "      <th>24</th>\n",
       "      <td>CO2_fertilization</td>\n",
       "      <td>-628.443841</td>\n",
       "      <td>13227.871158</td>\n",
       "      <td>16983.526916</td>\n",
       "      <td>4561.691163</td>\n",
       "      <td>21527.116897</td>\n",
       "    </tr>\n",
       "    <tr>\n",
       "      <th>53</th>\n",
       "      <td>vslel</td>\n",
       "      <td>-485.415617</td>\n",
       "      <td>13482.938200</td>\n",
       "      <td>16595.487414</td>\n",
       "      <td>4583.390260</td>\n",
       "      <td>21382.231525</td>\n",
       "    </tr>\n",
       "    <tr>\n",
       "      <th>6</th>\n",
       "      <td>sigma_whitenoise_co2</td>\n",
       "      <td>-1517.620485</td>\n",
       "      <td>13503.949174</td>\n",
       "      <td>16426.007512</td>\n",
       "      <td>4281.836735</td>\n",
       "      <td>21264.297921</td>\n",
       "    </tr>\n",
       "  </tbody>\n",
       "</table>\n",
       "</div>"
      ],
      "text/plain": [
       "                       names            mu       mu_star         sigma  \\\n",
       "52                      dvbm  45530.850258  45530.850258   9786.053858   \n",
       "55                      wvel -30601.648281  30601.648281  11307.203043   \n",
       "36                anto_alpha   4250.335492  15034.941553  17653.871635   \n",
       "41              antarctic_nu   4571.472263  14157.421614  16994.644237   \n",
       "45  antarctic_runoff_height0   1117.783084  13827.252312  17153.600557   \n",
       "24         CO2_fertilization   -628.443841  13227.871158  16983.526916   \n",
       "53                     vslel   -485.415617  13482.938200  16595.487414   \n",
       "6       sigma_whitenoise_co2  -1517.620485  13503.949174  16426.007512   \n",
       "\n",
       "    mu_star_conf          dist  \n",
       "52   5109.987640  46570.647143  \n",
       "55   5424.994025  32623.821330  \n",
       "36   4984.814787  23188.545690  \n",
       "41   4427.381990  22119.008104  \n",
       "45   4471.721839  22032.678425  \n",
       "24   4561.691163  21527.116897  \n",
       "53   4583.390260  21382.231525  \n",
       "6    4281.836735  21264.297921  "
      ]
     },
     "execution_count": 98,
     "metadata": {},
     "output_type": "execute_result"
    }
   ],
   "source": [
    "dfSi[(5,85)].sort_values(by=\"dist\", ascending=False).iloc[:8]"
   ]
  },
  {
   "cell_type": "code",
   "execution_count": 133,
   "metadata": {},
   "outputs": [
    {
     "name": "stdout",
     "output_type": "stream",
     "text": [
      "['movefactor', 'dvbm', 'vslel', 'vslmult', 'wvel', 'wvpdl']\n"
     ]
    }
   ],
   "source": [
    "ciam_params = list(dfP.columns[-6:]); print(ciam_params)"
   ]
  },
  {
   "cell_type": "code",
   "execution_count": 172,
   "metadata": {},
   "outputs": [
    {
     "data": {
      "image/png": "[encoded data removed]",
      "text/plain": [
       "<Figure size 720x720 with 4 Axes>"
      ]
     },
     "metadata": {},
     "output_type": "display_data"
    }
   ],
   "source": [
    "#top = len(dfSi[(1,26)])\n",
    "top = 8\n",
    "scen_labels = [\"SSP1-2.6\",\"SSP2-4.5\",\"SSP4-6.0\",\"SSP5-8.5\"]\n",
    "panels = [\"a.\",\"b.\",\"c.\",\"d.\",\"e.\",\"f.\",\"g.\",\"h.\"]\n",
    "colors = {\"SLR\":\"C0\", \"SE\":\"C1\"}\n",
    "\n",
    "fig, ax = plt.subplots(2,2,figsize=(10,10))\n",
    "fig.subplots_adjust(hspace=.25,wspace=0.25)\n",
    "for s in range(len(scenarios)):\n",
    "    scen = scenarios[s]\n",
    "    row,col = int(s/2), s%2\n",
    "    names  = list(dfSi[scen].sort_values(by=\"dist\", ascending=False).iloc[:top][\"names\"])\n",
    "    mustar = list(dfSi[scen].sort_values(by=\"dist\", ascending=False).iloc[:top][\"mu_star\"])\n",
    "    sigma  = list(dfSi[scen].sort_values(by=\"dist\", ascending=False).iloc[:top][\"sigma\"])\n",
    "    for i in range(top):\n",
    "        color = colors[\"SE\"] if (names[i] in ciam_params) else colors[\"SLR\"]\n",
    "        ax[row][col].scatter(np.log10(mustar[i]),np.log10(sigma[i]), color=color)\n",
    "    ax[row][col].set_title(scen_labels[s], fontsize=12);\n",
    "    ax[row][col].set_xticks([]); ax[row][col].set_yticks([])\n",
    "    xlims = ax[row][col].get_xlim(); xrange = np.diff(xlims)[0]\n",
    "    ylims = ax[row][col].get_ylim(); yrange = np.diff(ylims)[0]\n",
    "    ax[row][col].text(xlims[0], ylims[1]+0.05*yrange, panels[s], fontsize=11)\n",
    "    annotations = []\n",
    "    for i in range(top):\n",
    "        annotations.append(ax[row][col].text(np.log10(mustar[i]),np.log10(sigma[i]),names[i]))\n",
    "    adjust_text(annotations,x=np.log10(mustar),y=np.log10(sigma),ax=ax[row][col],expand_align=(1.2,1.2))\n",
    "    \n",
    "    bbox_props = dict(boxstyle=\"rarrow, pad=0.2\", fc=\"white\", ec=\"black\", lw=1)\n",
    "    ax[row][col].text(xlims[0]+0.5*xrange,ylims[0]-0.08*yrange, 5*' '+'$\\\\mu^*$ (importance)'+5*' ',\n",
    "                      fontsize=12,bbox=bbox_props,ha=\"center\")\n",
    "    ax[row][col].arrow(xlims[0]-0.08*xrange, ylims[0]+0.3*yrange,\n",
    "                       0, 0.5*yrange, head_width=0.05, head_length=0.05*yrange, fc='k', ec='k', clip_on=False)\n",
    "#    bbox_props = dict(boxstyle=\"rarrow, pad=0.2\", fc=\"white\", ec=\"black\", lw=1, rotation=90)\n",
    "#    ax[row][col].text(xlims[0]-0.08*xrange,ylims[0]+0.5*yrange, 5*' '+'$\\\\sigma$ (interaction)'+5*' ',\n",
    "#                      fontsize=12,bbox=bbox_props,va=\"center\")\n",
    "\n",
    "fig.savefig(plotdir+\"/sensitivity_ssprcp.pdf\", bbox_inches='tight');\n"
   ]
  },
  {
   "cell_type": "code",
   "execution_count": 167,
   "metadata": {},
   "outputs": [
    {
     "data": {
      "text/plain": [
       "array([0.73080662])"
      ]
     },
     "execution_count": 167,
     "metadata": {},
     "output_type": "execute_result"
    }
   ],
   "source": [
    "xrange"
   ]
  },
  {
   "cell_type": "code",
   "execution_count": 166,
   "metadata": {},
   "outputs": [
    {
     "data": {
      "text/plain": [
       "(array([3.69451656]),\n",
       " array([3.69403018]),\n",
       " array([0.36540331]),\n",
       " array([3.73035692]))"
      ]
     },
     "execution_count": 166,
     "metadata": {},
     "output_type": "execute_result"
    }
   ],
   "source": [
    "xlims[0]+0.08*xrange, ylims[0]+0.3*yrange,         0.5*xrange, ylims[0]+0.5*yrange"
   ]
  },
  {
   "cell_type": "code",
   "execution_count": null,
   "metadata": {},
   "outputs": [],
   "source": [
    "y"
   ]
  },
  {
   "cell_type": "code",
   "execution_count": null,
   "metadata": {},
   "outputs": [],
   "source": [
    "def find_coords(start, prev):\n",
    "    if len(prev)==0:\n",
    "        return start\n",
    "    coords = start\n",
    "    "
   ]
  },
  {
   "cell_type": "code",
   "execution_count": 91,
   "metadata": {},
   "outputs": [
    {
     "data": {
      "image/png": "[encoded data removed]",
      "text/plain": [
       "<Figure size 648x576 with 4 Axes>"
      ]
     },
     "metadata": {
      "needs_background": "light"
     },
     "output_type": "display_data"
    }
   ],
   "source": [
    "#top = len(dfSi[(1,26)])\n",
    "top = 8\n",
    "scen_labels = [\"SSP1-2.6\",\"SSP2-4.5\",\"SSP4-6.0\",\"SSP5-8.5\"]\n",
    "\n",
    "fig, ax = plt.subplots(2,2,figsize=(9,8))\n",
    "fig.subplots_adjust(hspace=.35,wspace=0.35)\n",
    "for s in range(len(scenarios)):\n",
    "    scen = scenarios[s]\n",
    "    row,col = int(s/2), s%2\n",
    "    names  = list(dfSi[scen].sort_values(by=\"mu_star\", ascending=False).iloc[:top][\"names\"])\n",
    "    mustar = list(dfSi[scen].sort_values(by=\"mu_star\", ascending=False).iloc[:top][\"mu_star\"])\n",
    "    sigma  = list(dfSi[scen].sort_values(by=\"mu_star\", ascending=False).iloc[:top][\"sigma\"])\n",
    "    ax[row][col].scatter(mustar,sigma)\n",
    "    ax[row][col].set_xlabel(\"$\\\\mu^*$\", fontsize=12);\n",
    "    ax[row][col].set_ylabel(\"$\\\\sigma$\", fontsize=12);\n",
    "    ax[row][col].set_title(scen_labels[s], fontsize=12);\n",
    "        "
   ]
  },
  {
   "cell_type": "code",
   "execution_count": null,
   "metadata": {},
   "outputs": [],
   "source": []
  },
  {
   "cell_type": "code",
   "execution_count": null,
   "metadata": {},
   "outputs": [],
   "source": []
  },
  {
   "cell_type": "code",
   "execution_count": null,
   "metadata": {},
   "outputs": [],
   "source": []
  }
 ],
 "metadata": {
  "kernelspec": {
   "display_name": "Python 3",
   "language": "python",
   "name": "python3"
  },
  "language_info": {
   "codemirror_mode": {
    "name": "ipython",
    "version": 3
   },
   "file_extension": ".py",
   "mimetype": "text/x-python",
   "name": "python",
   "nbconvert_exporter": "python",
   "pygments_lexer": "ipython3",
   "version": "3.7.3"
  }
 },
 "nbformat": 4,
 "nbformat_minor": 2
}
