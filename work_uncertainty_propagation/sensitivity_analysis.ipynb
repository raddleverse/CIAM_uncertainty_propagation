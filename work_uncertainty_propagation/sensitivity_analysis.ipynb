{
 "cells": [
  {
   "cell_type": "code",
   "execution_count": 1,
   "metadata": {},
   "outputs": [],
   "source": [
    "from SALib.analyze import morris\n",
    "import numpy as np\n",
    "import pandas as pd\n",
    "import re, os\n",
    "import time\n",
    "import matplotlib.pyplot as plt\n",
    "from adjustText import adjust_text"
   ]
  },
  {
   "cell_type": "markdown",
   "metadata": {},
   "source": [
    "Colorblind-friendly palette"
   ]
  },
  {
   "cell_type": "code",
   "execution_count": 2,
   "metadata": {},
   "outputs": [],
   "source": [
    "plt.style.use('tableau-colorblind10')"
   ]
  },
  {
   "cell_type": "markdown",
   "metadata": {},
   "source": [
    "Set `projdir` on your system, then everything else is defined relative to that. `pwd` will just give the directory that this Jupyter notebook is housed in."
   ]
  },
  {
   "cell_type": "code",
   "execution_count": 3,
   "metadata": {},
   "outputs": [],
   "source": [
    "projdir = os.getcwd()\n",
    "datdir = projdir + \"/../ciam-code/output/MonteCarlo\"\n",
    "plotdir = projdir + \"/../ciam-code/figures\""
   ]
  },
  {
   "cell_type": "markdown",
   "metadata": {},
   "source": [
    "If the plot directory `plotdir` doesn't exist, make it."
   ]
  },
  {
   "cell_type": "code",
   "execution_count": 4,
   "metadata": {},
   "outputs": [
    {
     "name": "stdout",
     "output_type": "stream",
     "text": [
      "Will save plots to  /Users/aewsma/codes/CIAM_uncertainty_propagation/work_uncertainty_propagation/../ciam-code/figures\n"
     ]
    }
   ],
   "source": [
    "if not os.path.exists(plotdir):\n",
    "    os.makedirs(plotdir)\n",
    "print(\"Will save plots to \",plotdir)"
   ]
  },
  {
   "cell_type": "markdown",
   "metadata": {},
   "source": [
    "BRICK parameters are the same for all scenarios because they are calibrated in hindcast."
   ]
  },
  {
   "cell_type": "code",
   "execution_count": 5,
   "metadata": {},
   "outputs": [],
   "source": [
    "brickdir = \"https://zenodo.org/record/6626335/files/parameters_subsample_sneasybrick.csv\"\n",
    "dfPB = pd.read_csv(brickdir)"
   ]
  },
  {
   "cell_type": "markdown",
   "metadata": {},
   "source": [
    "SSP-RCP scenarios and a dictionary to hold the sensitivity results from Method of Morris:"
   ]
  },
  {
   "cell_type": "code",
   "execution_count": 6,
   "metadata": {},
   "outputs": [],
   "source": [
    "surge_option = 0\n",
    "scenarios = [(1,26),(2,45),(4,60),(5,85)]\n",
    "dfSi = {scen : None for scen in scenarios}"
   ]
  },
  {
   "cell_type": "markdown",
   "metadata": {},
   "source": [
    "Directories where all the BRICK-CIAM results are, for all the different SSP-RCP scenarios."
   ]
  },
  {
   "cell_type": "code",
   "execution_count": 7,
   "metadata": {},
   "outputs": [],
   "source": [
    "def subtract_ref_npv(dfO,dfG):\n",
    "    nens = dfO.ens.max()\n",
    "    npv_ref = np.zeros(nens)\n",
    "    df1 = dfO.loc[dfO.time==1]\n",
    "    for i in range(1,nens+1):\n",
    "        # first 10 of the first timestep for a single ensemble member are OptimalCost\n",
    "        # *10 to account for 10-year timestep vs annual costs\n",
    "        npv_ref[i-1] = np.sum(np.array(df1.loc[df1.ens==i,\"cost\"])[:10])*10\n",
    "    dfG.npv = dfG.npv - npv_ref\n",
    "    return dfG"
   ]
  },
  {
   "cell_type": "code",
   "execution_count": 11,
   "metadata": {},
   "outputs": [],
   "source": [
    "for (ssp, rcp) in scenarios:\n",
    "    bothdir = datdir + \"/SSP\"+str(ssp)+\"_BRICK\"+str(rcp)+\"/SSP\"+str(ssp)+\"_BRICK\"+str(rcp)+\"_surge\"+str(surge_option)+\"_varySLR_varyCIAM/CIAM MC1000/PostProcessing\"\n",
    "    dfSC = pd.read_csv(bothdir+\"/globalnpv_SSP\"+str(ssp)+\"_BRICK\"+str(rcp)+\"_surge\"+str(surge_option)+\"_varySLR_varyCIAM.csv\")\n",
    "    dfO = pd.read_csv(bothdir+\"/globalts_\"+str(rcp)+\"_SSP\"+str(ssp)+\"_BRICK\"+str(rcp)+\"_surge\"+str(surge_option)+\"_varySLR_varyCIAM.csv\")\n",
    "    dfSC = subtract_ref_npv(dfO,dfSC)\n",
    "\n",
    "    dfR = pd.read_csv(bothdir+\"/regionnpv_SSP\"+str(ssp)+\"_BRICK\"+str(rcp)+\"_surge\"+str(surge_option)+\"_varySLR_varyCIAM.csv\")\n",
    "    dfO = pd.read_csv(bothdir+\"/regionts_SSP\"+str(ssp)+\"_BRICK\"+str(rcp)+\"_surge\"+str(surge_option)+\"_varySLR_varyCIAM.csv\")\n",
    "    dfR = dfR - dfO\n",
    "    dfSC.join(dfR)\n",
    "    \n",
    "    dfPC = pd.read_csv(bothdir+\"/trials_SSP\"+str(ssp)+\"_BRICK\"+str(rcp)+\"_surge\"+str(surge_option)+\"_varySLR_varyCIAM.csv\",\n",
    "                       names = [\"movefactor\",\"dvbm\",\"vslel\",\"vslmult\",\"wvel\",\"wvpdl\"], header=0)\n",
    "\n",
    "    tmp = dfPB.iloc[dfSC.brickEnsInd]\n",
    "    tmp.reset_index(inplace=True, drop=True)\n",
    "    dfP = pd.concat([tmp,dfPC], axis=1)\n",
    "        \n",
    "    n_ensemble, n_parameter = dfP.shape\n",
    "    mins = list(dfP.min())\n",
    "    maxs = list(dfP.max())\n",
    "    bounds = [[mins[i],maxs[i]] for i in range(n_parameter)]\n",
    "\n",
    "    problem = {\"num_vars\" : n_parameter,\n",
    "               \"names\" : list(dfP.columns),\n",
    "               \"bounds\" : bounds}\n",
    "\n",
    "    X = np.array(dfP)[:986,:]\n",
    "    Y = np.array(dfSC.npv)[:986]\n",
    "    #dfSi[(ssp,rcp)] = pd.DataFrame(SALib.analyze.morris.analyze(problem, X, Y, print_to_console=False))\n",
    "    dfSi[(ssp,rcp)] = pd.DataFrame(morris.analyze(problem, X, Y, print_to_console=False))\n",
    "    dfSi[(ssp,rcp)][\"dist\"] = np.sqrt(dfSi[(ssp,rcp)].mu_star**2 + dfSi[(ssp,rcp)].sigma**2)\n",
    "    "
   ]
  },
  {
   "cell_type": "code",
   "execution_count": 17,
   "metadata": {},
   "outputs": [],
   "source": [
    "ciam_params = list(dfPC.columns)"
   ]
  },
  {
   "cell_type": "markdown",
   "metadata": {},
   "source": [
    "* dvbm = FUND value of OECD dryland per Darwin et al 1995 converted from $1995 ($2010M per sqkm) (5.376)\n",
    "* wvel = income elasticity of wetland value (1.16) (Brander et al, 2006)\n",
    "* movefactor = Cost to relocate mobile capital as a fraction of asset value (0.1)\n",
    "* vslel = Elasticity of vsl (0.5) (only used for endogenous calculation of vsl)\n",
    "* vslmult = multiplier on USA GDP (216)(only used for endogenous calculation of vsl)\n",
    "* wvpdl = Population density elasticity of wetland value (0.47) (Brander et al, 2"
   ]
  },
  {
   "cell_type": "markdown",
   "metadata": {},
   "source": [
    "### sorted by mu_star"
   ]
  },
  {
   "cell_type": "code",
   "execution_count": 12,
   "metadata": {},
   "outputs": [
    {
     "name": "stdout",
     "output_type": "stream",
     "text": [
      "================================\n",
      "(1, 26)\n",
      "                       names       mu_star        sigma\n",
      "52                      dvbm  18637.168073  4834.048759\n",
      "55                      wvel   6170.062661  3632.611012\n",
      "56                     wvpdl   4775.331209  5249.469538\n",
      "54                   vslmult   4526.187187  4174.815794\n",
      "8             rho_ocean_heat   4445.370006  5254.013307\n",
      "50  antarctic_temp_threshold   4434.140893  5343.844663\n",
      "7            rho_temperature   4415.537145  5468.599606\n",
      "47     antarctic_bed_height0   4412.548741  5630.719060\n",
      "================================\n",
      "(2, 45)\n",
      "                names       mu_star         sigma\n",
      "52               dvbm  24812.939380   8223.894791\n",
      "55               wvel  15473.774112   8155.706067\n",
      "36         anto_alpha   9322.513204  11330.668225\n",
      "12           rho_gmsl   8694.465661  11132.788641\n",
      "42  antarctic_precip0   8569.216302  11364.180102\n",
      "48    antarctic_slope   8467.130837   9863.920049\n",
      "32    greenland_alpha   8374.461811  10028.762398\n",
      "51         movefactor   8247.856336  10923.857790\n",
      "================================\n",
      "(4, 60)\n",
      "              names       mu_star        sigma\n",
      "52             dvbm  23508.981926  6436.529204\n",
      "55             wvel  13632.698677  6595.513537\n",
      "40     antarctic_mu   6847.674020  8032.000322\n",
      "25  CO2_diffusivity   6615.283281  7507.113434\n",
      "51       movefactor   6410.496509  6045.823782\n",
      "17     ocean_heat_0   6394.885971  7387.864038\n",
      "53            vslel   6216.708842  8116.574383\n",
      "44  antarctic_flow0   6205.996442  7350.095012\n",
      "================================\n",
      "(5, 85)\n",
      "                   names       mu_star         sigma\n",
      "52                  dvbm  47216.211599  10823.780207\n",
      "55                  wvel  30517.889208  14413.085807\n",
      "56                 wvpdl  17090.412519  12665.157138\n",
      "51            movefactor  16171.461199  16011.152148\n",
      "9           rho_glaciers  15415.540159  17961.199456\n",
      "22          antarctic_s0  14626.805335  19117.890636\n",
      "6   sigma_whitenoise_co2  13841.667599  14954.920228\n",
      "21           glaciers_s0  13801.098412  15276.708827\n"
     ]
    }
   ],
   "source": [
    "top = 8\n",
    "for scen in scenarios:\n",
    "    print(\"================================\")\n",
    "    print(scen)\n",
    "    print(dfSi[scen].sort_values(by=\"mu_star\", ascending=False)[[\"names\",\"mu_star\",\"sigma\"]][:top])"
   ]
  },
  {
   "cell_type": "markdown",
   "metadata": {},
   "source": [
    "### sorted by distance (mustar^2 + sigma^2)"
   ]
  },
  {
   "cell_type": "code",
   "execution_count": 13,
   "metadata": {},
   "outputs": [
    {
     "name": "stdout",
     "output_type": "stream",
     "text": [
      "================================\n",
      "(1, 26)\n",
      "                       names       mu_star        sigma          dist\n",
      "52                      dvbm  18637.168073  4834.048759  19253.884314\n",
      "55                      wvel   6170.062661  3632.611012   7159.995531\n",
      "47     antarctic_bed_height0   4412.548741  5630.719060   7153.711171\n",
      "30               greenland_a   4327.640598  5674.211343   7136.185782\n",
      "56                     wvpdl   4775.331209  5249.469538   7096.528630\n",
      "7            rho_temperature   4415.537145  5468.599606   7028.694753\n",
      "50  antarctic_temp_threshold   4434.140893  5343.844663   6943.938453\n",
      "8             rho_ocean_heat   4445.370006  5254.013307   6882.293972\n",
      "================================\n",
      "(2, 45)\n",
      "                names       mu_star         sigma          dist\n",
      "52               dvbm  24812.939380   8223.894791  26140.283208\n",
      "55               wvel  15473.774112   8155.706067  17491.518708\n",
      "36         anto_alpha   9322.513204  11330.668225  14672.876162\n",
      "42  antarctic_precip0   8569.216302  11364.180102  14232.921606\n",
      "12           rho_gmsl   8694.465661  11132.788641  14125.604980\n",
      "51         movefactor   8247.856336  10923.857790  13687.870658\n",
      "19       greenland_v0   7665.815674  11217.711461  13586.823777\n",
      "31        greenland_b   8177.411253  10265.369439  13124.323393\n",
      "================================\n",
      "(4, 60)\n",
      "              names       mu_star        sigma          dist\n",
      "52             dvbm  23508.981926  6436.529204  24374.190025\n",
      "55             wvel  13632.698677  6595.513537  15144.347858\n",
      "40     antarctic_mu   6847.674020  8032.000322  10554.793633\n",
      "53            vslel   6216.708842  8116.574383  10223.807928\n",
      "25  CO2_diffusivity   6615.283281  7507.113434  10005.934489\n",
      "17     ocean_heat_0   6394.885971  7387.864038   9771.136148\n",
      "44  antarctic_flow0   6205.996442  7350.095012   9619.682351\n",
      "15            N2O_0   5884.052056  7596.492318   9608.785778\n",
      "================================\n",
      "(5, 85)\n",
      "           names       mu_star         sigma          dist\n",
      "52          dvbm  47216.211599  10823.780207  48440.941937\n",
      "55          wvel  30517.889208  14413.085807  33750.238579\n",
      "22  antarctic_s0  14626.805335  19117.890636  24071.501339\n",
      "9   rho_glaciers  15415.540159  17961.199456  23669.464808\n",
      "51    movefactor  16171.461199  16011.152148  22756.826457\n",
      "56         wvpdl  17090.412519  12665.157138  21271.774853\n",
      "30   greenland_a  11707.532574  17540.476136  21088.732111\n",
      "13    alpha0_CO2  12741.787882  16716.244384  21018.705591\n"
     ]
    }
   ],
   "source": [
    "top = 8\n",
    "for scen in scenarios:\n",
    "    print(\"================================\")\n",
    "    print(scen)\n",
    "    print(dfSi[scen].sort_values(by=\"dist\", ascending=False)[[\"names\",\"mu_star\",\"sigma\",\"dist\"]][:top])"
   ]
  },
  {
   "cell_type": "code",
   "execution_count": 30,
   "metadata": {},
   "outputs": [
    {
     "data": {
      "image/png": "[encoded data removed]",
      "text/plain": [
       "<Figure size 648x648 with 4 Axes>"
      ]
     },
     "metadata": {},
     "output_type": "display_data"
    }
   ],
   "source": [
    "#top = len(dfSi[(1,26)])\n",
    "top = 8\n",
    "scen_labels = [\"SSP1-2.6\",\"SSP2-4.5\",\"SSP4-6.0\",\"SSP5-8.5\"]\n",
    "panels = [\"a.\",\"b.\",\"c.\",\"d.\",\"e.\",\"f.\",\"g.\",\"h.\"]\n",
    "colors = {\"SLR\":\"C0\", \"SE\":\"C1\"}\n",
    "\n",
    "fig, ax = plt.subplots(2,2,figsize=(9,9))\n",
    "fig.subplots_adjust(hspace=.25,wspace=0.2)\n",
    "for s in range(len(scenarios)):\n",
    "    scen = scenarios[s]\n",
    "    row,col = int(s/2), s%2\n",
    "    names  = list(dfSi[scen].sort_values(by=\"dist\", ascending=False).iloc[:top][\"names\"])\n",
    "    mustar = list(dfSi[scen].sort_values(by=\"dist\", ascending=False).iloc[:top][\"mu_star\"])\n",
    "    sigma  = list(dfSi[scen].sort_values(by=\"dist\", ascending=False).iloc[:top][\"sigma\"])\n",
    "    # for the legend only\n",
    "    ax[row][col].scatter(np.log10(mustar[0]),np.log10(sigma[0]),color=colors[\"SLR\"],label=\"SLR\")\n",
    "    ax[row][col].scatter(np.log10(mustar[0]),np.log10(sigma[0]),color=colors[\"SE\"],label=\"SE\")\n",
    "    for i in range(top):\n",
    "        color = colors[\"SE\"] if (names[i] in ciam_params) else colors[\"SLR\"]\n",
    "        ax[row][col].scatter(np.log10(mustar[i]),np.log10(sigma[i]), color=color)\n",
    "    ax[row][col].set_title(scen_labels[s], fontsize=12);\n",
    "    ax[row][col].set_xticks([]); ax[row][col].set_yticks([])\n",
    "    xlims = ax[row][col].get_xlim(); xrange = np.diff(xlims)[0]\n",
    "    ylims = ax[row][col].get_ylim(); yrange = np.diff(ylims)[0]\n",
    "    ax[row][col].text(xlims[0], ylims[1]+0.04*yrange, panels[s], fontsize=11)\n",
    "    annotations = []\n",
    "    for i in range(top):\n",
    "        annotations.append(ax[row][col].text(np.log10(mustar[i]),np.log10(sigma[i]),names[i],fontsize=9))\n",
    "    adjust_text(annotations,x=np.log10(mustar),y=np.log10(sigma),ax=ax[row][col],expand_align=(1.2,1.2))\n",
    "    \n",
    "    bbox_props = dict(boxstyle=\"rarrow, pad=0.2\", fc=\"white\", ec=\"black\", lw=1)\n",
    "    ax[row][col].set_xlabel(\"$\\\\mu^*$ (importance)\", fontsize=12);\n",
    "    ax[row][col].set_ylabel(\"$\\\\sigma$ (interactions)\", fontsize=12);\n",
    "    ax[row][col].arrow(xlims[0]+0.25*xrange, ylims[0]-0.1*yrange, 0.5*xrange, 0,\n",
    "                       head_width=0.05*yrange, head_length=0.05*xrange, fc='k', ec='k', clip_on=False)\n",
    "    ax[row][col].arrow(xlims[0]-0.09*xrange, ylims[0]+0.25*yrange, 0, 0.5*yrange,\n",
    "                       head_width=0.05*xrange, head_length=0.05*yrange, fc='k', ec='k', clip_on=False)\n",
    "    if s==0:\n",
    "        ax[row][col].legend(fontsize=11,loc=\"lower right\")\n",
    "fig.savefig(plotdir+\"/sensitivity_ssprcp.pdf\", bbox_inches='tight');\n"
   ]
  },
  {
   "cell_type": "markdown",
   "metadata": {},
   "source": [
    "## Write a template for parameter descriptions"
   ]
  },
  {
   "cell_type": "code",
   "execution_count": 26,
   "metadata": {},
   "outputs": [],
   "source": [
    "dfSi[scen][[\"names\"]].to_csv(\"parameter_table.csv\",index=False)"
   ]
  },
  {
   "cell_type": "code",
   "execution_count": null,
   "metadata": {},
   "outputs": [],
   "source": []
  }
 ],
 "metadata": {
  "kernelspec": {
   "display_name": "Python 3",
   "language": "python",
   "name": "python3"
  },
  "language_info": {
   "codemirror_mode": {
    "name": "ipython",
    "version": 3
   },
   "file_extension": ".py",
   "mimetype": "text/x-python",
   "name": "python",
   "nbconvert_exporter": "python",
   "pygments_lexer": "ipython3",
   "version": "3.7.3"
  }
 },
 "nbformat": 4,
 "nbformat_minor": 2
}
