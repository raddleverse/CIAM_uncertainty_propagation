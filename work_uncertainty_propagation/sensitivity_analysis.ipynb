{
 "cells": [
  {
   "cell_type": "code",
   "execution_count": 69,
   "metadata": {},
   "outputs": [],
   "source": [
    "import SALib\n",
    "import numpy as np\n",
    "import pandas as pd\n",
    "import re, os\n",
    "import time\n",
    "import matplotlib.pyplot as plt\n",
    "from adjustText import adjust_text"
   ]
  },
  {
   "cell_type": "markdown",
   "metadata": {},
   "source": [
    "Colorblind-friendly palette"
   ]
  },
  {
   "cell_type": "code",
   "execution_count": 79,
   "metadata": {},
   "outputs": [],
   "source": [
    "plt.style.use('tableau-colorblind10')"
   ]
  },
  {
   "cell_type": "markdown",
   "metadata": {},
   "source": [
    "Set `projdir` on your system, then everything else is defined relative to that. `pwd` will just give the directory that this Jupyter notebook is housed in."
   ]
  },
  {
   "cell_type": "code",
   "execution_count": 80,
   "metadata": {},
   "outputs": [],
   "source": [
    "projdir = os.getcwd()\n",
    "datdir = projdir + \"/../ciam-code/output/MonteCarlo\"\n",
    "plotdir = projdir + \"/../ciam-code/figures\""
   ]
  },
  {
   "cell_type": "markdown",
   "metadata": {},
   "source": [
    "If the plot directory `plotdir` doesn't exist, make it."
   ]
  },
  {
   "cell_type": "code",
   "execution_count": 81,
   "metadata": {},
   "outputs": [
    {
     "name": "stdout",
     "output_type": "stream",
     "text": [
      "Will save plots to  /Users/aewsma/codes/CIAM_uncertainty_propagation/work_uncertainty_propagation/../ciam-code/figures\n"
     ]
    }
   ],
   "source": [
    "if not os.path.exists(plotdir):\n",
    "    os.makedirs(plotdir)\n",
    "print(\"Will save plots to \",plotdir)"
   ]
  },
  {
   "cell_type": "markdown",
   "metadata": {},
   "source": [
    "BRICK parameters are the same for all scenarios because they are calibrated in hindcast."
   ]
  },
  {
   "cell_type": "code",
   "execution_count": 82,
   "metadata": {},
   "outputs": [],
   "source": [
    "brickdir = \"https://zenodo.org/record/6626335/files/parameters_subsample_sneasybrick.csv\"\n",
    "dfPB = pd.read_csv(brickdir)"
   ]
  },
  {
   "cell_type": "markdown",
   "metadata": {},
   "source": [
    "SSP-RCP scenarios and a dictionary to hold the sensitivity results from Method of Morris:"
   ]
  },
  {
   "cell_type": "code",
   "execution_count": 83,
   "metadata": {},
   "outputs": [],
   "source": [
    "surge_option = 0\n",
    "scenarios = [(1,26),(2,45),(4,60),(5,85)]\n",
    "dfSi = {scen : None for scen in scenarios}"
   ]
  },
  {
   "cell_type": "markdown",
   "metadata": {},
   "source": [
    "Directories where all the BRICK-CIAM results are, for all the different SSP-RCP scenarios."
   ]
  },
  {
   "cell_type": "code",
   "execution_count": 103,
   "metadata": {},
   "outputs": [],
   "source": [
    "for (ssp, rcp) in scenarios:\n",
    "    bothdir = datdir + \"/SSP\"+str(ssp)+\"_BRICK\"+str(rcp)+\"/SSP\"+str(ssp)+\"_BRICK\"+str(rcp)+\"_surge\"+str(surge_option)+\"_varySLR_varyCIAM/CIAM MC1000/PostProcessing\"\n",
    "    dfSC = pd.read_csv(bothdir+\"/globalnpv_SSP\"+str(ssp)+\"_BRICK\"+str(rcp)+\"_surge\"+str(surge_option)+\"_varySLR_varyCIAM.csv\")\n",
    "    dfSC = dfSC.join(pd.read_csv(bothdir+\"/regionnpv_SSP\"+str(ssp)+\"_BRICK\"+str(rcp)+\"_surge\"+str(surge_option)+\"_varySLR_varyCIAM.csv\"))\n",
    "    dfPC = pd.read_csv(bothdir+\"/trials_SSP\"+str(ssp)+\"_BRICK\"+str(rcp)+\"_surge\"+str(surge_option)+\"_varySLR_varyCIAM.csv\",\n",
    "                       names = [\"movefactor\",\"dvbm\",\"vslel\",\"vslmult\",\"wvel\",\"wvpdl\"], header=0)\n",
    "\n",
    "    tmp = dfPB.iloc[dfSC.brickEnsInd]\n",
    "    tmp.reset_index(inplace=True, drop=True)\n",
    "    dfP = pd.concat([tmp,dfPC], axis=1)\n",
    "        \n",
    "    n_ensemble, n_parameter = dfP.shape\n",
    "    mins = list(dfP.min())\n",
    "    maxs = list(dfP.max())\n",
    "    bounds = [[mins[i],maxs[i]] for i in range(n_parameter)]\n",
    "\n",
    "    problem = {\"num_vars\" : n_parameter,\n",
    "               \"names\" : list(dfP.columns),\n",
    "               \"bounds\" : bounds}\n",
    "\n",
    "    X = np.array(dfP)[:986,:]\n",
    "    Y = np.array(dfSC.npv)[:986]\n",
    "    dfSi[(ssp,rcp)] = pd.DataFrame(SALib.analyze.morris.analyze(problem, X, Y, print_to_console=False))\n",
    "    dfSi[(ssp,rcp)][\"dist\"] = np.sqrt(dfSi[(ssp,rcp)].mu_star**2 + dfSi[(ssp,rcp)].sigma**2)\n",
    "    "
   ]
  },
  {
   "cell_type": "markdown",
   "metadata": {},
   "source": [
    "* dvbm = FUND value of OECD dryland per Darwin et al 1995 converted from $1995 ($2010M per sqkm) (5.376)\n",
    "* wvel = income elasticity of wetland value (1.16) (Brander et al, 2006)\n",
    "* movefactor = Cost to relocate mobile capital as a fraction of asset value (0.1)\n",
    "* vslel = Elasticity of vsl (0.5) (only used for endogenous calculation of vsl)\n",
    "* vslmult = multiplier on USA GDP (216)(only used for endogenous calculation of vsl)\n",
    "* wvpdl = Population density elasticity of wetland value (0.47) (Brander et al, 2"
   ]
  },
  {
   "cell_type": "markdown",
   "metadata": {},
   "source": [
    "### sorted by mu_star"
   ]
  },
  {
   "cell_type": "code",
   "execution_count": 189,
   "metadata": {},
   "outputs": [
    {
     "name": "stdout",
     "output_type": "stream",
     "text": [
      "================================\n",
      "(1, 26)\n",
      "                  names       mu_star        sigma\n",
      "52                 dvbm  20967.342562  4573.128103\n",
      "55                 wvel   5879.730739  5417.719416\n",
      "25      CO2_diffusivity   5521.745552  6336.531167\n",
      "10        rho_greenland   5421.156006  6494.989944\n",
      "13           alpha0_CO2   5377.004894  6364.049920\n",
      "28  climate_sensitivity   5189.764296  6020.111551\n",
      "51           movefactor   4920.722021  6066.460217\n",
      "2           sd_glaciers   4763.421734  5636.844177\n",
      "================================\n",
      "(2, 45)\n",
      "              names       mu_star         sigma\n",
      "52             dvbm  26370.773888   5356.556643\n",
      "55             wvel  17659.023327   6314.389764\n",
      "53            vslel  10300.679502  12282.423727\n",
      "56            wvpdl   9539.593454  10957.693149\n",
      "7   rho_temperature   9135.686743  10989.637577\n",
      "38  antarctic_gamma   9047.973856  12770.985154\n",
      "14            CO2_0   8977.089476  10765.111325\n",
      "5           sd_gmsl   8440.419013  10173.117591\n",
      "================================\n",
      "(4, 60)\n",
      "                names       mu_star        sigma\n",
      "52               dvbm  26666.784299  5285.951262\n",
      "55               wvel  12704.371533  9399.909860\n",
      "42  antarctic_precip0   7544.739062  8895.990140\n",
      "53              vslel   7079.391453  8838.112724\n",
      "35         glaciers_n   6896.367859  7941.824649\n",
      "44    antarctic_flow0   6764.195193  8166.217190\n",
      "33     greenland_beta   6757.277686  7710.507661\n",
      "0             sd_temp   6656.572096  8453.797573\n",
      "================================\n",
      "(5, 85)\n",
      "                       names       mu_star         sigma\n",
      "52                      dvbm  45530.850258   9786.053858\n",
      "55                      wvel  30601.648281  11307.203043\n",
      "36                anto_alpha  15034.941553  17653.871635\n",
      "41              antarctic_nu  14157.421614  16994.644237\n",
      "45  antarctic_runoff_height0  13827.252312  17153.600557\n",
      "51                movefactor  13756.439303  14881.027897\n",
      "23                       Q10  13566.026466  16355.545854\n",
      "6       sigma_whitenoise_co2  13503.949174  16426.007512\n"
     ]
    }
   ],
   "source": [
    "top = 8\n",
    "for scen in scenarios:\n",
    "    print(\"================================\")\n",
    "    print(scen)\n",
    "    print(dfSi[scen].sort_values(by=\"mu_star\", ascending=False)[[\"names\",\"mu_star\",\"sigma\"]][:top])"
   ]
  },
  {
   "cell_type": "markdown",
   "metadata": {},
   "source": [
    "### sorted by distance (mustar^2 + sigma^2)"
   ]
  },
  {
   "cell_type": "code",
   "execution_count": 188,
   "metadata": {},
   "outputs": [
    {
     "name": "stdout",
     "output_type": "stream",
     "text": [
      "================================\n",
      "(1, 26)\n",
      "                  names       mu_star        sigma          dist\n",
      "52                 dvbm  20967.342562  4573.128103  21460.264555\n",
      "10        rho_greenland   5421.156006  6494.989944   8460.131608\n",
      "25      CO2_diffusivity   5521.745552  6336.531167   8404.837962\n",
      "13           alpha0_CO2   5377.004894  6364.049920   8331.465238\n",
      "55                 wvel   5879.730739  5417.719416   7995.180875\n",
      "28  climate_sensitivity   5189.764296  6020.111551   7948.295196\n",
      "51           movefactor   4920.722021  6066.460217   7811.238364\n",
      "2           sd_glaciers   4763.421734  5636.844177   7379.986375\n",
      "================================\n",
      "(2, 45)\n",
      "              names       mu_star         sigma          dist\n",
      "52             dvbm  26370.773888   5356.556643  26909.299777\n",
      "55             wvel  17659.023327   6314.389764  18754.002851\n",
      "53            vslel  10300.679502  12282.423727  16030.032152\n",
      "38  antarctic_gamma   9047.973856  12770.985154  15651.322394\n",
      "56            wvpdl   9539.593454  10957.693149  14528.416376\n",
      "7   rho_temperature   9135.686743  10989.637577  14291.007884\n",
      "14            CO2_0   8977.089476  10765.111325  14016.981033\n",
      "30      greenland_a   7941.261884  10687.879614  13315.194740\n",
      "================================\n",
      "(4, 60)\n",
      "                names       mu_star        sigma          dist\n",
      "52               dvbm  26666.784299  5285.951262  27185.633441\n",
      "55               wvel  12704.371533  9399.909860  15803.776809\n",
      "42  antarctic_precip0   7544.739062  8895.990140  11664.550059\n",
      "53              vslel   7079.391453  8838.112724  11323.869474\n",
      "0             sd_temp   6656.572096  8453.797573  10759.955645\n",
      "1       sd_ocean_heat   6401.363000  8527.686513  10662.967951\n",
      "44    antarctic_flow0   6764.195193  8166.217190  10603.840804\n",
      "35         glaciers_n   6896.367859  7941.824649  10518.197013\n",
      "================================\n",
      "(5, 85)\n",
      "                       names       mu_star         sigma          dist\n",
      "52                      dvbm  45530.850258   9786.053858  46570.647143\n",
      "55                      wvel  30601.648281  11307.203043  32623.821330\n",
      "36                anto_alpha  15034.941553  17653.871635  23188.545690\n",
      "41              antarctic_nu  14157.421614  16994.644237  22119.008104\n",
      "45  antarctic_runoff_height0  13827.252312  17153.600557  22032.678425\n",
      "24         CO2_fertilization  13227.871158  16983.526916  21527.116897\n",
      "53                     vslel  13482.938200  16595.487414  21382.231525\n",
      "6       sigma_whitenoise_co2  13503.949174  16426.007512  21264.297921\n"
     ]
    }
   ],
   "source": [
    "top = 8\n",
    "for scen in scenarios:\n",
    "    print(\"================================\")\n",
    "    print(scen)\n",
    "    print(dfSi[scen].sort_values(by=\"dist\", ascending=False)[[\"names\",\"mu_star\",\"sigma\",\"dist\"]][:top])"
   ]
  },
  {
   "cell_type": "code",
   "execution_count": 187,
   "metadata": {},
   "outputs": [
    {
     "data": {
      "image/png": "[encoded data removed]",
      "text/plain": [
       "<Figure size 648x648 with 4 Axes>"
      ]
     },
     "metadata": {},
     "output_type": "display_data"
    }
   ],
   "source": [
    "#top = len(dfSi[(1,26)])\n",
    "top = 8\n",
    "scen_labels = [\"SSP1-2.6\",\"SSP2-4.5\",\"SSP4-6.0\",\"SSP5-8.5\"]\n",
    "panels = [\"a.\",\"b.\",\"c.\",\"d.\",\"e.\",\"f.\",\"g.\",\"h.\"]\n",
    "colors = {\"SLR\":\"C0\", \"SE\":\"C1\"}\n",
    "\n",
    "fig, ax = plt.subplots(2,2,figsize=(9,9))\n",
    "fig.subplots_adjust(hspace=.25,wspace=0.2)\n",
    "for s in range(len(scenarios)):\n",
    "    scen = scenarios[s]\n",
    "    row,col = int(s/2), s%2\n",
    "    names  = list(dfSi[scen].sort_values(by=\"dist\", ascending=False).iloc[:top][\"names\"])\n",
    "    mustar = list(dfSi[scen].sort_values(by=\"dist\", ascending=False).iloc[:top][\"mu_star\"])\n",
    "    sigma  = list(dfSi[scen].sort_values(by=\"dist\", ascending=False).iloc[:top][\"sigma\"])\n",
    "    # for the legend only\n",
    "    ax[row][col].scatter(np.log10(mustar[0]),np.log10(sigma[0]),color=colors[\"SLR\"],label=\"SLR\")\n",
    "    ax[row][col].scatter(np.log10(mustar[0]),np.log10(sigma[0]),color=colors[\"SE\"],label=\"SE\")\n",
    "    for i in range(top):\n",
    "        color = colors[\"SE\"] if (names[i] in ciam_params) else colors[\"SLR\"]\n",
    "        ax[row][col].scatter(np.log10(mustar[i]),np.log10(sigma[i]), color=color)\n",
    "    ax[row][col].set_title(scen_labels[s], fontsize=12);\n",
    "    ax[row][col].set_xticks([]); ax[row][col].set_yticks([])\n",
    "    xlims = ax[row][col].get_xlim(); xrange = np.diff(xlims)[0]\n",
    "    ylims = ax[row][col].get_ylim(); yrange = np.diff(ylims)[0]\n",
    "    ax[row][col].text(xlims[0], ylims[1]+0.04*yrange, panels[s], fontsize=11)\n",
    "    annotations = []\n",
    "    for i in range(top):\n",
    "        annotations.append(ax[row][col].text(np.log10(mustar[i]),np.log10(sigma[i]),names[i]))\n",
    "    adjust_text(annotations,x=np.log10(mustar),y=np.log10(sigma),ax=ax[row][col],expand_align=(1.2,1.2))\n",
    "    \n",
    "    bbox_props = dict(boxstyle=\"rarrow, pad=0.2\", fc=\"white\", ec=\"black\", lw=1)\n",
    "    ax[row][col].set_xlabel(\"$\\\\mu^*$ (importance)\", fontsize=12);\n",
    "    ax[row][col].set_ylabel(\"$\\\\sigma$ (interactions)\", fontsize=12);\n",
    "    ax[row][col].arrow(xlims[0]+0.25*xrange, ylims[0]-0.1*yrange, 0.5*xrange, 0,\n",
    "                       head_width=0.05*yrange, head_length=0.05*xrange, fc='k', ec='k', clip_on=False)\n",
    "    ax[row][col].arrow(xlims[0]-0.09*xrange, ylims[0]+0.25*yrange, 0, 0.5*yrange,\n",
    "                       head_width=0.05*xrange, head_length=0.05*yrange, fc='k', ec='k', clip_on=False)\n",
    "    if s==0:\n",
    "        ax[row][col].legend(fontsize=11,loc=\"lower left\")\n",
    "fig.savefig(plotdir+\"/sensitivity_ssprcp.pdf\", bbox_inches='tight');\n"
   ]
  },
  {
   "cell_type": "code",
   "execution_count": null,
   "metadata": {},
   "outputs": [],
   "source": []
  },
  {
   "cell_type": "code",
   "execution_count": null,
   "metadata": {},
   "outputs": [],
   "source": []
  },
  {
   "cell_type": "code",
   "execution_count": null,
   "metadata": {},
   "outputs": [],
   "source": []
  }
 ],
 "metadata": {
  "kernelspec": {
   "display_name": "Python 3",
   "language": "python",
   "name": "python3"
  },
  "language_info": {
   "codemirror_mode": {
    "name": "ipython",
    "version": 3
   },
   "file_extension": ".py",
   "mimetype": "text/x-python",
   "name": "python",
   "nbconvert_exporter": "python",
   "pygments_lexer": "ipython3",
   "version": "3.7.3"
  }
 },
 "nbformat": 4,
 "nbformat_minor": 2
}
