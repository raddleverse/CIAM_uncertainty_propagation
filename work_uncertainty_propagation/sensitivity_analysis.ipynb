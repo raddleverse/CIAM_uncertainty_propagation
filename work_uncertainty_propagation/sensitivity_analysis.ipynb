{
 "cells": [
  {
   "cell_type": "code",
   "execution_count": 17,
   "metadata": {},
   "outputs": [],
   "source": [
    "import SALib\n",
    "import numpy as np\n",
    "import pandas as pd\n",
    "import re, os\n",
    "import time\n",
    "import matplotlib.pyplot as plt"
   ]
  },
  {
   "cell_type": "markdown",
   "metadata": {},
   "source": [
    "Colorblind-friendly palette"
   ]
  },
  {
   "cell_type": "code",
   "execution_count": 18,
   "metadata": {},
   "outputs": [],
   "source": [
    "plt.style.use('tableau-colorblind10')"
   ]
  },
  {
   "cell_type": "markdown",
   "metadata": {},
   "source": [
    "Set `projdir` on your system, then everything else is defined relative to that. `pwd` will just give the directory that this Jupyter notebook is housed in."
   ]
  },
  {
   "cell_type": "code",
   "execution_count": 19,
   "metadata": {},
   "outputs": [],
   "source": [
    "projdir = os.getcwd()\n",
    "datdir = projdir + \"/../ciam-code/output/MonteCarlo\"\n",
    "plotdir = projdir + \"/../ciam-code/figures\""
   ]
  },
  {
   "cell_type": "markdown",
   "metadata": {},
   "source": [
    "If the plot directory `plotdir` doesn't exist, make it."
   ]
  },
  {
   "cell_type": "code",
   "execution_count": 20,
   "metadata": {},
   "outputs": [
    {
     "name": "stdout",
     "output_type": "stream",
     "text": [
      "Will save plots to  /Users/aewsma/codes/CIAM_uncertainty_propagation/work_uncertainty_propagation/../ciam-code/figures\n"
     ]
    }
   ],
   "source": [
    "if not os.path.exists(plotdir):\n",
    "    os.makedirs(plotdir)\n",
    "print(\"Will save plots to \",plotdir)"
   ]
  },
  {
   "cell_type": "markdown",
   "metadata": {},
   "source": [
    "BRICK parameters are the same for all scenarios because they are calibrated in hindcast."
   ]
  },
  {
   "cell_type": "code",
   "execution_count": 68,
   "metadata": {},
   "outputs": [],
   "source": [
    "brickdir = \"https://zenodo.org/record/6626335/files/parameters_subsample_sneasybrick.csv\"\n",
    "dfPB = pd.read_csv(brickdir)"
   ]
  },
  {
   "cell_type": "markdown",
   "metadata": {},
   "source": [
    "SSP-RCP scenarios and a dictionary to hold the sensitivity results from Method of Morris:"
   ]
  },
  {
   "cell_type": "code",
   "execution_count": 22,
   "metadata": {},
   "outputs": [],
   "source": [
    "surge_option = 0\n",
    "scenarios = [(1,26),(2,45),(4,60),(5,85)]\n",
    "dfSi = {scen : None for scen in scenarios}"
   ]
  },
  {
   "cell_type": "markdown",
   "metadata": {},
   "source": [
    "Directories where all the BRICK-CIAM results are, for all the different SSP-RCP scenarios."
   ]
  },
  {
   "cell_type": "code",
   "execution_count": 23,
   "metadata": {},
   "outputs": [],
   "source": [
    "for (ssp, rcp) in scenarios:\n",
    "    bothdir = datdir + \"/SSP\"+str(ssp)+\"_BRICK\"+str(rcp)+\"/SSP\"+str(ssp)+\"_BRICK\"+str(rcp)+\"_surge\"+str(surge_option)+\"_varySLR_varyCIAM/CIAM MC1000/PostProcessing\"\n",
    "    dfSC = pd.read_csv(bothdir+\"/globalnpv_SSP\"+str(ssp)+\"_BRICK\"+str(rcp)+\"_surge\"+str(surge_option)+\"_varySLR_varyCIAM.csv\")\n",
    "    dfSC = dfSC.join(pd.read_csv(bothdir+\"/regionnpv_SSP\"+str(ssp)+\"_BRICK\"+str(rcp)+\"_surge\"+str(surge_option)+\"_varySLR_varyCIAM.csv\"))\n",
    "    dfPC = pd.read_csv(bothdir+\"/trials_SSP\"+str(ssp)+\"_BRICK\"+str(rcp)+\"_surge\"+str(surge_option)+\"_varySLR_varyCIAM.csv\",\n",
    "                       names = [\"movefactor\",\"dvbm\",\"vslel\",\"vslmult\",\"wvel\",\"wvpdl\"], header=0)\n",
    "\n",
    "    tmp = dfPB.iloc[dfSC.brickEnsInd]\n",
    "    tmp.reset_index(inplace=True, drop=True)\n",
    "    dfP = pd.concat([tmp,dfPC], axis=1)\n",
    "        \n",
    "    n_ensemble, n_parameter = dfP.shape\n",
    "    mins = list(dfP.min())\n",
    "    maxs = list(dfP.max())\n",
    "    bounds = [[mins[i],maxs[i]] for i in range(n_parameter)]\n",
    "\n",
    "    problem = {\"num_vars\" : n_parameter,\n",
    "               \"names\" : list(dfP.columns),\n",
    "               \"bounds\" : bounds}\n",
    "\n",
    "    X = np.array(dfP)[:986,:]\n",
    "    Y = np.array(dfSC.npv)[:986]\n",
    "    dfSi[(ssp,rcp)] = pd.DataFrame(SALib.analyze.morris.analyze(problem, X, Y, print_to_console=False))\n",
    "    "
   ]
  },
  {
   "cell_type": "markdown",
   "metadata": {},
   "source": [
    "* dvbm = FUND value of OECD dryland per Darwin et al 1995 converted from $1995 ($2010M per sqkm) (5.376)\n",
    "* wvel = income elasticity of wetland value (1.16) (Brander et al, 2006)\n",
    "* movefactor = Cost to relocate mobile capital as a fraction of asset value (0.1)\n",
    "* vslel = Elasticity of vsl (0.5) (only used for endogenous calculation of vsl)\n",
    "* vslmult = multiplier on USA GDP (216)(only used for endogenous calculation of vsl)\n",
    "* wvpdl = Population density elasticity of wetland value (0.47) (Brander et al, 2"
   ]
  },
  {
   "cell_type": "code",
   "execution_count": 25,
   "metadata": {},
   "outputs": [
    {
     "name": "stdout",
     "output_type": "stream",
     "text": [
      "================================\n",
      "(1, 26)\n",
      "                  names       mu_star\n",
      "52                 dvbm  20967.342562\n",
      "55                 wvel   5879.730739\n",
      "25      CO2_diffusivity   5521.745552\n",
      "10        rho_greenland   5421.156006\n",
      "13           alpha0_CO2   5377.004894\n",
      "28  climate_sensitivity   5189.764296\n",
      "51           movefactor   4920.722021\n",
      "2           sd_glaciers   4763.421734\n",
      "23                  Q10   4618.336314\n",
      "3          sd_greenland   4606.414427\n",
      "================================\n",
      "(2, 45)\n",
      "              names       mu_star\n",
      "52             dvbm  26370.773888\n",
      "55             wvel  17659.023327\n",
      "53            vslel  10300.679502\n",
      "56            wvpdl   9539.593454\n",
      "7   rho_temperature   9135.686743\n",
      "38  antarctic_gamma   9047.973856\n",
      "14            CO2_0   8977.089476\n",
      "5           sd_gmsl   8440.419013\n",
      "13       alpha0_CO2   8123.493293\n",
      "18       thermal_s0   8096.310714\n",
      "================================\n",
      "(4, 60)\n",
      "                       names       mu_star\n",
      "52                      dvbm  27654.358963\n",
      "55                      wvel  12992.819829\n",
      "16             temperature_0   8803.793645\n",
      "13                alpha0_CO2   7606.643115\n",
      "30               greenland_a   7458.438307\n",
      "24         CO2_fertilization   7287.590724\n",
      "50  antarctic_temp_threshold   7218.911293\n",
      "20               glaciers_v0   7043.519547\n",
      "36                anto_alpha   7024.691039\n",
      "49          antarctic_lambda   6989.102816\n",
      "================================\n",
      "(5, 85)\n",
      "                       names       mu_star\n",
      "52                      dvbm  45530.850258\n",
      "55                      wvel  30601.648281\n",
      "36                anto_alpha  15034.941553\n",
      "41              antarctic_nu  14157.421614\n",
      "45  antarctic_runoff_height0  13827.252312\n",
      "51                movefactor  13756.439303\n",
      "23                       Q10  13566.026466\n",
      "6       sigma_whitenoise_co2  13503.949174\n",
      "53                     vslel  13482.938200\n",
      "25           CO2_diffusivity  13411.268165\n"
     ]
    }
   ],
   "source": [
    "for scen in scenarios:\n",
    "    print(\"================================\")\n",
    "    print(scen)\n",
    "    print(dfSi[scen].sort_values(by=\"mu_star\", ascending=False)[[\"names\",\"mu_star\"]][:10])"
   ]
  },
  {
   "cell_type": "code",
   "execution_count": 87,
   "metadata": {},
   "outputs": [],
   "source": []
  },
  {
   "cell_type": "code",
   "execution_count": 115,
   "metadata": {},
   "outputs": [],
   "source": []
  },
  {
   "cell_type": "code",
   "execution_count": 117,
   "metadata": {},
   "outputs": [],
   "source": []
  },
  {
   "cell_type": "code",
   "execution_count": 122,
   "metadata": {},
   "outputs": [],
   "source": [
    "dfSi[scen] = pd.DataFrame(Si)"
   ]
  },
  {
   "cell_type": "code",
   "execution_count": 29,
   "metadata": {},
   "outputs": [
    {
     "data": {
      "text/html": [
       "<div>\n",
       "<style scoped>\n",
       "    .dataframe tbody tr th:only-of-type {\n",
       "        vertical-align: middle;\n",
       "    }\n",
       "\n",
       "    .dataframe tbody tr th {\n",
       "        vertical-align: top;\n",
       "    }\n",
       "\n",
       "    .dataframe thead th {\n",
       "        text-align: right;\n",
       "    }\n",
       "</style>\n",
       "<table border=\"1\" class=\"dataframe\">\n",
       "  <thead>\n",
       "    <tr style=\"text-align: right;\">\n",
       "      <th></th>\n",
       "      <th>names</th>\n",
       "      <th>mu</th>\n",
       "      <th>mu_star</th>\n",
       "      <th>sigma</th>\n",
       "      <th>mu_star_conf</th>\n",
       "    </tr>\n",
       "  </thead>\n",
       "  <tbody>\n",
       "    <tr>\n",
       "      <th>52</th>\n",
       "      <td>dvbm</td>\n",
       "      <td>45530.850258</td>\n",
       "      <td>45530.850258</td>\n",
       "      <td>9786.053858</td>\n",
       "      <td>4622.422317</td>\n",
       "    </tr>\n",
       "    <tr>\n",
       "      <th>55</th>\n",
       "      <td>wvel</td>\n",
       "      <td>-30601.648281</td>\n",
       "      <td>30601.648281</td>\n",
       "      <td>11307.203043</td>\n",
       "      <td>5119.242804</td>\n",
       "    </tr>\n",
       "    <tr>\n",
       "      <th>36</th>\n",
       "      <td>anto_alpha</td>\n",
       "      <td>4250.335492</td>\n",
       "      <td>15034.941553</td>\n",
       "      <td>17653.871635</td>\n",
       "      <td>4495.662616</td>\n",
       "    </tr>\n",
       "    <tr>\n",
       "      <th>41</th>\n",
       "      <td>antarctic_nu</td>\n",
       "      <td>4571.472263</td>\n",
       "      <td>14157.421614</td>\n",
       "      <td>16994.644237</td>\n",
       "      <td>4193.648822</td>\n",
       "    </tr>\n",
       "    <tr>\n",
       "      <th>45</th>\n",
       "      <td>antarctic_runoff_height0</td>\n",
       "      <td>1117.783084</td>\n",
       "      <td>13827.252312</td>\n",
       "      <td>17153.600557</td>\n",
       "      <td>4675.154311</td>\n",
       "    </tr>\n",
       "    <tr>\n",
       "      <th>51</th>\n",
       "      <td>movefactor</td>\n",
       "      <td>8326.580867</td>\n",
       "      <td>13756.439303</td>\n",
       "      <td>14881.027897</td>\n",
       "      <td>3622.394838</td>\n",
       "    </tr>\n",
       "    <tr>\n",
       "      <th>23</th>\n",
       "      <td>Q10</td>\n",
       "      <td>-7237.548027</td>\n",
       "      <td>13566.026466</td>\n",
       "      <td>16355.545854</td>\n",
       "      <td>5757.741581</td>\n",
       "    </tr>\n",
       "    <tr>\n",
       "      <th>6</th>\n",
       "      <td>sigma_whitenoise_co2</td>\n",
       "      <td>-1517.620485</td>\n",
       "      <td>13503.949174</td>\n",
       "      <td>16426.007512</td>\n",
       "      <td>4508.844068</td>\n",
       "    </tr>\n",
       "    <tr>\n",
       "      <th>53</th>\n",
       "      <td>vslel</td>\n",
       "      <td>-485.415617</td>\n",
       "      <td>13482.938200</td>\n",
       "      <td>16595.487414</td>\n",
       "      <td>4180.925481</td>\n",
       "    </tr>\n",
       "    <tr>\n",
       "      <th>25</th>\n",
       "      <td>CO2_diffusivity</td>\n",
       "      <td>-3176.942846</td>\n",
       "      <td>13411.268165</td>\n",
       "      <td>15792.704370</td>\n",
       "      <td>3404.172119</td>\n",
       "    </tr>\n",
       "  </tbody>\n",
       "</table>\n",
       "</div>"
      ],
      "text/plain": [
       "                       names            mu       mu_star         sigma  \\\n",
       "52                      dvbm  45530.850258  45530.850258   9786.053858   \n",
       "55                      wvel -30601.648281  30601.648281  11307.203043   \n",
       "36                anto_alpha   4250.335492  15034.941553  17653.871635   \n",
       "41              antarctic_nu   4571.472263  14157.421614  16994.644237   \n",
       "45  antarctic_runoff_height0   1117.783084  13827.252312  17153.600557   \n",
       "51                movefactor   8326.580867  13756.439303  14881.027897   \n",
       "23                       Q10  -7237.548027  13566.026466  16355.545854   \n",
       "6       sigma_whitenoise_co2  -1517.620485  13503.949174  16426.007512   \n",
       "53                     vslel   -485.415617  13482.938200  16595.487414   \n",
       "25           CO2_diffusivity  -3176.942846  13411.268165  15792.704370   \n",
       "\n",
       "    mu_star_conf  \n",
       "52   4622.422317  \n",
       "55   5119.242804  \n",
       "36   4495.662616  \n",
       "41   4193.648822  \n",
       "45   4675.154311  \n",
       "51   3622.394838  \n",
       "23   5757.741581  \n",
       "6    4508.844068  \n",
       "53   4180.925481  \n",
       "25   3404.172119  "
      ]
     },
     "execution_count": 29,
     "metadata": {},
     "output_type": "execute_result"
    }
   ],
   "source": [
    "dfSi[(5,85)].sort_values(by=\"mu_star\", ascending=False).iloc[:10]"
   ]
  },
  {
   "cell_type": "code",
   "execution_count": 67,
   "metadata": {},
   "outputs": [
    {
     "data": {
      "image/png": "[encoded data removed]",
      "text/plain": [
       "<Figure size 864x648 with 4 Axes>"
      ]
     },
     "metadata": {
      "needs_background": "light"
     },
     "output_type": "display_data"
    }
   ],
   "source": [
    "top = len(dfSi[(1,26)])\n",
    "\n",
    "fig, ax = plt.subplots(2,2,figsize=(12,9))\n",
    "for s in range(len(scenarios)):\n",
    "    scen = scenarios[s]\n",
    "    names  = list(dfSi[scen].sort_values(by=\"mu_star\", ascending=False).iloc[:top][\"names\"])\n",
    "    mustar = list(dfSi[scen].sort_values(by=\"mu_star\", ascending=False).iloc[:top][\"mu_star\"])\n",
    "    sigma  = list(dfSi[scen].sort_values(by=\"mu_star\", ascending=False).iloc[:top][\"sigma\"])\n",
    "    ax[int(s/2)][s%2].scatter(mustar,sigma)\n",
    "    ax[int(s/2)][s%2].set_xlabel(\"$\\\\mu^*$\", fontsize=14);\n",
    "    ax[int(s/2)][s%2].set_ylabel(\"$\\\\sigma$\", fontsize=14);"
   ]
  },
  {
   "cell_type": "code",
   "execution_count": null,
   "metadata": {},
   "outputs": [],
   "source": []
  },
  {
   "cell_type": "code",
   "execution_count": null,
   "metadata": {},
   "outputs": [],
   "source": []
  },
  {
   "cell_type": "code",
   "execution_count": null,
   "metadata": {},
   "outputs": [],
   "source": []
  }
 ],
 "metadata": {
  "kernelspec": {
   "display_name": "Python 3",
   "language": "python",
   "name": "python3"
  },
  "language_info": {
   "codemirror_mode": {
    "name": "ipython",
    "version": 3
   },
   "file_extension": ".py",
   "mimetype": "text/x-python",
   "name": "python",
   "nbconvert_exporter": "python",
   "pygments_lexer": "ipython3",
   "version": "3.7.3"
  }
 },
 "nbformat": 4,
 "nbformat_minor": 2
}
