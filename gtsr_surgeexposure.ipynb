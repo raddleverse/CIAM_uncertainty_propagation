{
 "cells": [
  {
   "cell_type": "code",
   "execution_count": 234,
   "metadata": {},
   "outputs": [],
   "source": [
    "import numpy as np\n",
    "import pandas as pd\n",
    "import scipy.stats as stats\n",
    "import rasterio\n",
    "import matplotlib.pyplot as plt\n",
    "from time import time"
   ]
  },
  {
   "cell_type": "markdown",
   "metadata": {},
   "source": [
    "<br>\n",
    "\n",
    "### Reading GTSR data\n",
    "\n",
    "From `https://www.geonode-gfdrrlab.org/layers` (accessed 26 April 2022)"
   ]
  },
  {
   "cell_type": "code",
   "execution_count": 76,
   "metadata": {},
   "outputs": [],
   "source": [
    "gtsr_dir = \"./gtsr_data/\"\n",
    "\n",
    "gtsr_rps = [2,5,10,25,50,100,250,500,1000]\n",
    "gtsr_filenames = [\"hazard__ss_muis_rp0002m.tif\", \"hazard__ss_muis_rp0005m.tif\",\n",
    "                  \"hazard__ss_muis_rp0010m.tif\", \"hazard__ss_muis_rp0025m.tif\",\n",
    "                  \"hazard__ss_muis_rp0050m.tif\", \"hazard__ss_muis_rp0100m.tif\",\n",
    "                  \"hazard__ss_muis_rp0250m.tif\", \"hazard__ss_muis_rp0500m.tif\",\n",
    "                  \"hazard__ss_muis_rp1000m.tif\"]\n",
    "src = rasterio.open(gtsr_dir+\"hazard__ss_muis_rp0002m.tif\")\n",
    "dat = np.zeros((src.shape[0],src.shape[1],len(gtsr_rps)))\n",
    "\n",
    "for r in range(len(gtsr_rps)):\n",
    "    src = rasterio.open(gtsr_dir+gtsr_filenames[r])\n",
    "    dat[:,:,r] = src.read(1)"
   ]
  },
  {
   "cell_type": "markdown",
   "metadata": {},
   "source": [
    "<br>\n",
    "\n",
    "### Read CIAM segment info"
   ]
  },
  {
   "cell_type": "code",
   "execution_count": 57,
   "metadata": {},
   "outputs": [],
   "source": [
    "ciamdir = \"/Users/aewsma/.julia/dev/MimiCIAM\"\n",
    "dfD = pd.read_csv(ciamdir+\"/data/input/surgeexposure.csv\")\n",
    "segnames = dfD[\"segments\"]\n",
    "segmap = pd.read_csv(ciamdir+\"/data/diva_segment_latlon.csv\")"
   ]
  },
  {
   "cell_type": "code",
   "execution_count": 282,
   "metadata": {},
   "outputs": [
    {
     "data": {
      "text/plain": [
       "True"
      ]
     },
     "execution_count": 282,
     "metadata": {},
     "output_type": "execute_result"
    }
   ],
   "source": [
    "all(segmap[\"segments\"] == dfD[\"segments\"])"
   ]
  },
  {
   "cell_type": "code",
   "execution_count": 461,
   "metadata": {},
   "outputs": [],
   "source": [
    "dfS = pd.read_excel(\"../DIVA_spreadsheet.xls\")"
   ]
  },
  {
   "cell_type": "code",
   "execution_count": 462,
   "metadata": {},
   "outputs": [
    {
     "data": {
      "text/html": [
       "<div>\n",
       "<style scoped>\n",
       "    .dataframe tbody tr th:only-of-type {\n",
       "        vertical-align: middle;\n",
       "    }\n",
       "\n",
       "    .dataframe tbody tr th {\n",
       "        vertical-align: top;\n",
       "    }\n",
       "\n",
       "    .dataframe thead th {\n",
       "        text-align: right;\n",
       "    }\n",
       "</style>\n",
       "<table border=\"1\" class=\"dataframe\">\n",
       "  <thead>\n",
       "    <tr style=\"text-align: right;\">\n",
       "      <th></th>\n",
       "      <th>SEGID</th>\n",
       "      <th>S1</th>\n",
       "      <th>S10</th>\n",
       "      <th>S100</th>\n",
       "      <th>S1000</th>\n",
       "      <th>BRF</th>\n",
       "      <th>SMAX</th>\n",
       "      <th>LONGI</th>\n",
       "      <th>LATI</th>\n",
       "      <th>SLOPECST</th>\n",
       "      <th>...</th>\n",
       "      <th>popadj</th>\n",
       "      <th>popadjin</th>\n",
       "      <th>ID_IV</th>\n",
       "      <th>sdikhgt</th>\n",
       "      <th>basinsid</th>\n",
       "      <th>test</th>\n",
       "      <th>CSVSN</th>\n",
       "      <th>popdn0</th>\n",
       "      <th>OID_</th>\n",
       "      <th>CSVSF</th>\n",
       "    </tr>\n",
       "  </thead>\n",
       "  <tbody>\n",
       "    <tr>\n",
       "      <th>0</th>\n",
       "      <td>5106</td>\n",
       "      <td>0.412</td>\n",
       "      <td>0.512</td>\n",
       "      <td>0.612</td>\n",
       "      <td>0.712</td>\n",
       "      <td>0.0</td>\n",
       "      <td>3.712</td>\n",
       "      <td>-122.645</td>\n",
       "      <td>75.918</td>\n",
       "      <td>0.605</td>\n",
       "      <td>...</td>\n",
       "      <td>1.0</td>\n",
       "      <td>1</td>\n",
       "      <td>5105</td>\n",
       "      <td>0.0</td>\n",
       "      <td>-999.999</td>\n",
       "      <td>-999.999</td>\n",
       "      <td>4</td>\n",
       "      <td>0.000252</td>\n",
       "      <td>5105</td>\n",
       "      <td>3.80</td>\n",
       "    </tr>\n",
       "    <tr>\n",
       "      <th>1</th>\n",
       "      <td>5115</td>\n",
       "      <td>0.514</td>\n",
       "      <td>0.655</td>\n",
       "      <td>0.803</td>\n",
       "      <td>0.956</td>\n",
       "      <td>0.0</td>\n",
       "      <td>3.956</td>\n",
       "      <td>-121.031</td>\n",
       "      <td>75.891</td>\n",
       "      <td>0.840</td>\n",
       "      <td>...</td>\n",
       "      <td>1.0</td>\n",
       "      <td>1</td>\n",
       "      <td>5114</td>\n",
       "      <td>0.0</td>\n",
       "      <td>-999.999</td>\n",
       "      <td>-999.999</td>\n",
       "      <td>4</td>\n",
       "      <td>0.000252</td>\n",
       "      <td>5114</td>\n",
       "      <td>3.80</td>\n",
       "    </tr>\n",
       "    <tr>\n",
       "      <th>2</th>\n",
       "      <td>5120</td>\n",
       "      <td>0.319</td>\n",
       "      <td>0.419</td>\n",
       "      <td>0.519</td>\n",
       "      <td>0.619</td>\n",
       "      <td>1.0</td>\n",
       "      <td>3.619</td>\n",
       "      <td>-116.799</td>\n",
       "      <td>77.534</td>\n",
       "      <td>0.409</td>\n",
       "      <td>...</td>\n",
       "      <td>1.0</td>\n",
       "      <td>1</td>\n",
       "      <td>5119</td>\n",
       "      <td>0.0</td>\n",
       "      <td>-999.999</td>\n",
       "      <td>-999.999</td>\n",
       "      <td>4</td>\n",
       "      <td>0.000252</td>\n",
       "      <td>5119</td>\n",
       "      <td>3.57</td>\n",
       "    </tr>\n",
       "    <tr>\n",
       "      <th>3</th>\n",
       "      <td>5132</td>\n",
       "      <td>0.630</td>\n",
       "      <td>0.758</td>\n",
       "      <td>0.891</td>\n",
       "      <td>1.027</td>\n",
       "      <td>1.0</td>\n",
       "      <td>4.027</td>\n",
       "      <td>-118.191</td>\n",
       "      <td>75.968</td>\n",
       "      <td>1.332</td>\n",
       "      <td>...</td>\n",
       "      <td>1.0</td>\n",
       "      <td>1</td>\n",
       "      <td>5131</td>\n",
       "      <td>0.0</td>\n",
       "      <td>-999.999</td>\n",
       "      <td>-999.999</td>\n",
       "      <td>4</td>\n",
       "      <td>0.000252</td>\n",
       "      <td>5131</td>\n",
       "      <td>3.83</td>\n",
       "    </tr>\n",
       "    <tr>\n",
       "      <th>4</th>\n",
       "      <td>5166</td>\n",
       "      <td>0.965</td>\n",
       "      <td>1.087</td>\n",
       "      <td>1.213</td>\n",
       "      <td>1.341</td>\n",
       "      <td>0.1</td>\n",
       "      <td>4.341</td>\n",
       "      <td>-115.022</td>\n",
       "      <td>74.963</td>\n",
       "      <td>1.795</td>\n",
       "      <td>...</td>\n",
       "      <td>1.0</td>\n",
       "      <td>1</td>\n",
       "      <td>5165</td>\n",
       "      <td>0.0</td>\n",
       "      <td>-999.999</td>\n",
       "      <td>-999.999</td>\n",
       "      <td>4</td>\n",
       "      <td>0.000000</td>\n",
       "      <td>5165</td>\n",
       "      <td>4.00</td>\n",
       "    </tr>\n",
       "  </tbody>\n",
       "</table>\n",
       "<p>5 rows × 122 columns</p>\n",
       "</div>"
      ],
      "text/plain": [
       "   SEGID     S1    S10   S100  S1000  BRF   SMAX    LONGI    LATI  SLOPECST  \\\n",
       "0   5106  0.412  0.512  0.612  0.712  0.0  3.712 -122.645  75.918     0.605   \n",
       "1   5115  0.514  0.655  0.803  0.956  0.0  3.956 -121.031  75.891     0.840   \n",
       "2   5120  0.319  0.419  0.519  0.619  1.0  3.619 -116.799  77.534     0.409   \n",
       "3   5132  0.630  0.758  0.891  1.027  1.0  4.027 -118.191  75.968     1.332   \n",
       "4   5166  0.965  1.087  1.213  1.341  0.1  4.341 -115.022  74.963     1.795   \n",
       "\n",
       "   ...  popadj  popadjin  ID_IV  sdikhgt  basinsid     test  CSVSN    popdn0  \\\n",
       "0  ...     1.0         1   5105      0.0  -999.999 -999.999      4  0.000252   \n",
       "1  ...     1.0         1   5114      0.0  -999.999 -999.999      4  0.000252   \n",
       "2  ...     1.0         1   5119      0.0  -999.999 -999.999      4  0.000252   \n",
       "3  ...     1.0         1   5131      0.0  -999.999 -999.999      4  0.000252   \n",
       "4  ...     1.0         1   5165      0.0  -999.999 -999.999      4  0.000000   \n",
       "\n",
       "   OID_  CSVSF  \n",
       "0  5105   3.80  \n",
       "1  5114   3.80  \n",
       "2  5119   3.57  \n",
       "3  5131   3.83  \n",
       "4  5165   4.00  \n",
       "\n",
       "[5 rows x 122 columns]"
      ]
     },
     "execution_count": 462,
     "metadata": {},
     "output_type": "execute_result"
    }
   ],
   "source": [
    "dfS.head()"
   ]
  },
  {
   "cell_type": "markdown",
   "metadata": {},
   "source": [
    "<br>\n",
    "\n",
    "### Get GTSR return levels for CIAM segments\n",
    "\n",
    "Take an ever-expanding square that stops once nonzeros are found within it (so, necessarily on the perimeter since it's expanding). \n",
    "\n",
    "Switching the order here so that we loop over the segments on the outside. Since we'll find the closest ones and then can fill up all of the levels for that segment.\n",
    "\n",
    "And apply the padding to the array of return levels right off the bat. Will need to offset the found i and j from the lat/lon lookup. 3000 was chosen for periodic padding since that finds the coast for all segments."
   ]
  },
  {
   "cell_type": "code",
   "execution_count": 241,
   "metadata": {},
   "outputs": [
    {
     "name": "stdout",
     "output_type": "stream",
     "text": [
      "(16744, 43200, 9)\n",
      "(22744, 49200, 9)\n"
     ]
    }
   ],
   "source": [
    "# just make a bigger dat array for padding\n",
    "\n",
    "maxdx = 3000\n",
    "\n",
    "datp = dat.copy()\n",
    "print(datp.shape)\n",
    "# pad along the spatial axes (first two), but not the return levels axis (axis=2)\n",
    "# - padding along axis 0 at the \"top\"\n",
    "padding = datp[-maxdx:,:,:]\n",
    "datp = np.concatenate((padding,datp), axis=0)\n",
    "# - padding along axis 0 at the \"bottom\"\n",
    "padding = datp[:maxdx,:,:]\n",
    "datp = np.concatenate((datp,padding), axis=0)\n",
    "# - padding along axis 1 at the \"front\"\n",
    "padding = datp[:,-maxdx:,:]\n",
    "datp = np.concatenate((padding,datp), axis=1)\n",
    "# - padding along axis 1 at the \"back\"\n",
    "padding = datp[:,:maxdx,:]\n",
    "datp = np.concatenate((datp,padding), axis=1)\n",
    "print(datp.shape)"
   ]
  },
  {
   "cell_type": "markdown",
   "metadata": {},
   "source": [
    "Quick testing:"
   ]
  },
  {
   "cell_type": "code",
   "execution_count": 357,
   "metadata": {},
   "outputs": [
    {
     "name": "stdout",
     "output_type": "stream",
     "text": [
      "0.595045789082845 minutes\n"
     ]
    }
   ],
   "source": [
    "tbeg = time()\n",
    "\n",
    "gtsr_levs = np.zeros((len(segnames),datp.shape[2]))\n",
    "\n",
    "#for s in range(len(segnames)):\n",
    "#for s in range(100):\n",
    "for s in [11425,11929]:\n",
    "\n",
    "    # get this segment's lat and lon\n",
    "    lat = float(segmap.loc[segmap[\"segments\"]==segnames[s],\"lati\"])\n",
    "    lon = float(segmap.loc[segmap[\"segments\"]==segnames[s],\"longi\"])\n",
    "    # find nonzero GTSR levels around this segment's centroid\n",
    "    i,j = src.index(lon,lat) # j goes with lon, i goes with lat; (i,j) indexes into `dat`, i=row, j=col\n",
    "    i += maxdx\n",
    "    j += maxdx\n",
    "    # first, find nonzero levs for highest return level\n",
    "    # (since some of the lower levels are 0, but higher ones are nonzero)\n",
    "    # then, use that maxdx for the other return levels\n",
    "    r = len(gtsr_rps)-1\n",
    "    levs = datp[i,j,r]\n",
    "    if levs==0:\n",
    "        # initialize for each segment\n",
    "        dx = 0\n",
    "        while (dx < maxdx) and (np.sum(levs!=0)==0):\n",
    "            dx += 1\n",
    "            levs = datp[i-dx:i+dx+1, j-dx:j+dx+1, r]\n",
    "        if dx >= maxdx and np.sum(levs!=0)==0:\n",
    "            print(\"s=\",s,\": search failed within maxdx=\",maxdx)\n",
    "        else:\n",
    "            idx = np.where(levs > 0)\n",
    "            for r in range(datp.shape[2]):\n",
    "                levs = datp[i-dx:i+dx+1, j-dx:j+dx+1, r]\n",
    "                gtsr_levs[s,r] = np.median([levs[x,y] for (x,y) in zip(idx[0],idx[1])])\n",
    "    else:\n",
    "        for r in range(datp.shape[2]):\n",
    "            gtsr_levs[s,r] = datp[i,j,r]\n",
    "                \n",
    "tend = time()\n",
    "print((tend-tbeg)/60,\"minutes\")"
   ]
  },
  {
   "cell_type": "markdown",
   "metadata": {},
   "source": [
    "Now do it for all segments:"
   ]
  },
  {
   "cell_type": "code",
   "execution_count": 414,
   "metadata": {},
   "outputs": [
    {
     "name": "stdout",
     "output_type": "stream",
     "text": [
      "73.41729611555735 minutes\n"
     ]
    }
   ],
   "source": [
    "tbeg = time()\n",
    "\n",
    "gtsr_levs = np.zeros((len(segnames),datp.shape[2]))\n",
    "\n",
    "for s in range(len(segnames)):\n",
    "\n",
    "    # get this segment's lat and lon\n",
    "    lat = float(segmap.loc[segmap[\"segments\"]==segnames[s],\"lati\"])\n",
    "    lon = float(segmap.loc[segmap[\"segments\"]==segnames[s],\"longi\"])\n",
    "    # find nonzero GTSR levels around this segment's centroid\n",
    "    i,j = src.index(lon,lat) # j goes with lon, i goes with lat; (i,j) indexes into `dat`, i=row, j=col\n",
    "    i += maxdx\n",
    "    j += maxdx\n",
    "    # first, find nonzero levs for highest return level\n",
    "    # (since some of the lower levels are 0, but higher ones are nonzero)\n",
    "    # then, use that maxdx for the other return levels\n",
    "    #r = len(gtsr_rps)-1\n",
    "    r = 0\n",
    "    levs = datp[i,j,r]\n",
    "    if levs==0:\n",
    "        # initialize for each segment\n",
    "        dx = 0\n",
    "        while (dx < maxdx) and (np.sum(levs!=0)==0):\n",
    "            dx += 1\n",
    "            levs = datp[i-dx:i+dx+1, j-dx:j+dx+1, r]\n",
    "        if dx >= maxdx and np.sum(levs!=0)==0:\n",
    "            print(\"s=\",s,\": search failed within maxdx=\",maxdx)\n",
    "        else:\n",
    "            idx = np.where(levs > 0)\n",
    "            for r in range(datp.shape[2]):\n",
    "                levs = datp[i-dx:i+dx+1, j-dx:j+dx+1, r]\n",
    "                gtsr_levs[s,r] = np.median([levs[x,y] for (x,y) in zip(idx[0],idx[1])])\n",
    "    else:\n",
    "        for r in range(datp.shape[2]):\n",
    "            gtsr_levs[s,r] = datp[i,j,r]\n",
    "                \n",
    "tend = time()\n",
    "print((tend-tbeg)/60,\"minutes\")"
   ]
  },
  {
   "cell_type": "markdown",
   "metadata": {},
   "source": [
    "Write output file"
   ]
  },
  {
   "cell_type": "code",
   "execution_count": 418,
   "metadata": {},
   "outputs": [],
   "source": [
    "dfG = pd.DataFrame({\"segments\" : segnames})\n",
    "for r in range(len(gtsr_rps)):\n",
    "    dfG[\"r\"+str(gtsr_rps[r])] = gtsr_levs[:,r]\n",
    "dfG.to_csv(\"dfG_gtsr.csv\",index=False)"
   ]
  },
  {
   "cell_type": "markdown",
   "metadata": {},
   "source": [
    "<br>\n",
    "\n",
    "### Compute Gumbel parameters\n",
    "\n",
    "For each data point, based on the GTSR return levels.\n",
    "\n",
    "Using the 10- and 1000-year return levels for the fits and computing 100-year return level from the fitted Gumbel parameters."
   ]
  },
  {
   "cell_type": "code",
   "execution_count": 362,
   "metadata": {},
   "outputs": [],
   "source": [
    "ciam_rps = [1,10,100,1000,10000]"
   ]
  },
  {
   "cell_type": "code",
   "execution_count": 363,
   "metadata": {},
   "outputs": [],
   "source": [
    "def fit_gumbel(xa,Fa,xb,Fb):\n",
    "    sigma = (xa-xb)/(np.log(-np.log(Fb)) - np.log(-np.log(Fa)))\n",
    "    mu = xa + sigma*np.log(-np.log(Fa))\n",
    "    return (mu,sigma)"
   ]
  },
  {
   "cell_type": "code",
   "execution_count": 419,
   "metadata": {},
   "outputs": [],
   "source": [
    "params_gumbel = np.zeros((len(segnames),2)) # columns are the mu and sigma parameters, rows are segments\n",
    "x100 = np.zeros(len(segnames))\n",
    "for s in range(len(segnames)):\n",
    "    x10, x1000 = dfG.iloc[s][[\"r10\",\"r1000\"]]\n",
    "    params_gumbel[s,:] = fit_gumbel(x10,0.9, x1000,0.999)\n",
    "    x100[s] = stats.gumbel_r.ppf(1-1/100, loc=params_gumbel[s,0], scale=params_gumbel[s,1])"
   ]
  },
  {
   "cell_type": "code",
   "execution_count": 497,
   "metadata": {},
   "outputs": [],
   "source": [
    "dfG_ciam = dfD.copy()"
   ]
  },
  {
   "cell_type": "code",
   "execution_count": 498,
   "metadata": {},
   "outputs": [],
   "source": [
    "dfG_ciam[\"s10\"] = dfG[\"r10\"]\n",
    "dfG_ciam[\"s100\"] = x100\n",
    "dfG_ciam[\"s1000\"] = dfG[\"r1000\"]\n",
    "dfG_ciam[\"smax\"] = dfS[\"SMAX\"]"
   ]
  },
  {
   "cell_type": "markdown",
   "metadata": {},
   "source": [
    "Yeah, this ends up not making much of a difference. At least it's using a Gumbel, which is nice."
   ]
  },
  {
   "cell_type": "code",
   "execution_count": 499,
   "metadata": {},
   "outputs": [
    {
     "data": {
      "text/plain": [
       "array([[1.        , 0.99999547],\n",
       "       [0.99999547, 1.        ]])"
      ]
     },
     "execution_count": 499,
     "metadata": {},
     "output_type": "execute_result"
    }
   ],
   "source": [
    "np.corrcoef(dfG.r100,dfG_ciam.s100)"
   ]
  },
  {
   "cell_type": "markdown",
   "metadata": {},
   "source": [
    "<br>\n",
    "\n",
    "### `s1` correction\n",
    "\n",
    "Can't get the \"1-year return level\", so apply a correction based on the difference between the GTSR 10-y return level and the DINAS-COAST level."
   ]
  },
  {
   "cell_type": "code",
   "execution_count": 500,
   "metadata": {},
   "outputs": [],
   "source": [
    "factor = dfG_ciam.s10/dfS.S100\n",
    "dfG_ciam[\"s1\"] = dfS.S1*factor"
   ]
  },
  {
   "cell_type": "code",
   "execution_count": 503,
   "metadata": {},
   "outputs": [
    {
     "data": {
      "text/html": [
       "<div>\n",
       "<style scoped>\n",
       "    .dataframe tbody tr th:only-of-type {\n",
       "        vertical-align: middle;\n",
       "    }\n",
       "\n",
       "    .dataframe tbody tr th {\n",
       "        vertical-align: top;\n",
       "    }\n",
       "\n",
       "    .dataframe thead th {\n",
       "        text-align: right;\n",
       "    }\n",
       "</style>\n",
       "<table border=\"1\" class=\"dataframe\">\n",
       "  <thead>\n",
       "    <tr style=\"text-align: right;\">\n",
       "      <th></th>\n",
       "      <th>segments</th>\n",
       "      <th>s1</th>\n",
       "      <th>s10</th>\n",
       "      <th>s100</th>\n",
       "      <th>s1000</th>\n",
       "      <th>smax</th>\n",
       "    </tr>\n",
       "  </thead>\n",
       "  <tbody>\n",
       "    <tr>\n",
       "      <th>0</th>\n",
       "      <td>Canada5106</td>\n",
       "      <td>0</td>\n",
       "      <td>0.238562</td>\n",
       "      <td>0.405074</td>\n",
       "      <td>0.568562</td>\n",
       "      <td>3.220562</td>\n",
       "    </tr>\n",
       "    <tr>\n",
       "      <th>1</th>\n",
       "      <td>Canada5115</td>\n",
       "      <td>0</td>\n",
       "      <td>0.262727</td>\n",
       "      <td>0.429239</td>\n",
       "      <td>0.592727</td>\n",
       "      <td>3.488727</td>\n",
       "    </tr>\n",
       "    <tr>\n",
       "      <th>2</th>\n",
       "      <td>Canada5120</td>\n",
       "      <td>0</td>\n",
       "      <td>0.281310</td>\n",
       "      <td>0.447822</td>\n",
       "      <td>0.611310</td>\n",
       "      <td>3.170310</td>\n",
       "    </tr>\n",
       "    <tr>\n",
       "      <th>3</th>\n",
       "      <td>Canada5132</td>\n",
       "      <td>0</td>\n",
       "      <td>0.213838</td>\n",
       "      <td>0.380350</td>\n",
       "      <td>0.543838</td>\n",
       "      <td>3.510838</td>\n",
       "    </tr>\n",
       "    <tr>\n",
       "      <th>4</th>\n",
       "      <td>Canada5166</td>\n",
       "      <td>0</td>\n",
       "      <td>0.149250</td>\n",
       "      <td>0.315762</td>\n",
       "      <td>0.479250</td>\n",
       "      <td>3.760250</td>\n",
       "    </tr>\n",
       "  </tbody>\n",
       "</table>\n",
       "</div>"
      ],
      "text/plain": [
       "     segments  s1       s10      s100     s1000      smax\n",
       "0  Canada5106   0  0.238562  0.405074  0.568562  3.220562\n",
       "1  Canada5115   0  0.262727  0.429239  0.592727  3.488727\n",
       "2  Canada5120   0  0.281310  0.447822  0.611310  3.170310\n",
       "3  Canada5132   0  0.213838  0.380350  0.543838  3.510838\n",
       "4  Canada5166   0  0.149250  0.315762  0.479250  3.760250"
      ]
     },
     "execution_count": 503,
     "metadata": {},
     "output_type": "execute_result"
    }
   ],
   "source": [
    "dfG_ciam.head()"
   ]
  },
  {
   "cell_type": "markdown",
   "metadata": {},
   "source": [
    "<br>\n",
    "\n",
    "### Nomalize relative to `s1`\n",
    "\n",
    "Expected CIAM inputs"
   ]
  },
  {
   "cell_type": "code",
   "execution_count": 502,
   "metadata": {},
   "outputs": [],
   "source": [
    "dfG_ciam.s10 = dfG_ciam.s10 - dfG_ciam.s1\n",
    "dfG_ciam.s100 = dfG_ciam.s100 - dfG_ciam.s1\n",
    "dfG_ciam.s1000 = dfG_ciam.s1000 - dfG_ciam.s1\n",
    "dfG_ciam.smax = dfG_ciam.smax - dfG_ciam.s1\n",
    "dfG_ciam.s1 = 0"
   ]
  },
  {
   "cell_type": "markdown",
   "metadata": {},
   "source": [
    "<br>\n",
    "\n",
    "### Write new forcing file"
   ]
  },
  {
   "cell_type": "code",
   "execution_count": 504,
   "metadata": {},
   "outputs": [],
   "source": [
    "dfG_ciam.to_csv(\"surgeexposure_gtsr.csv\", index=False)"
   ]
  },
  {
   "cell_type": "markdown",
   "metadata": {},
   "source": [
    "<br>\n",
    "\n",
    "---\n",
    "\n",
    "<br>\n",
    "\n",
    "# _Potentially useful code and notes to save_\n"
   ]
  },
  {
   "cell_type": "markdown",
   "metadata": {},
   "source": [
    "`src.transform * (i, j) = (x, y)`, where `(i, j)` are the row and column indices within the data array, and `(x, y)` are the longitude and latitude coordinates of that data point on the globe.\n",
    "\n",
    "`(0,0)` starts at lon = -180 deg E and lat = 83.6... deg N\n",
    "\n",
    "`(1,0)` is slightly further east at lon = -179.99 deg E and same lat\n",
    "\n",
    "first coordinate (lon) runs from -180 to 180, from indices 0 to 43200\n",
    "\n",
    "second coordinate (lat) runs from +83.6... deg N to -55.9... deg N, from indices 0 to 16744"
   ]
  },
  {
   "cell_type": "code",
   "execution_count": 212,
   "metadata": {},
   "outputs": [
    {
     "data": {
      "text/plain": [
       "(-179.9166666623205, 83.5416739394672)"
      ]
     },
     "execution_count": 212,
     "metadata": {},
     "output_type": "execute_result"
    }
   ],
   "source": [
    "src.transform * (10, 10)"
   ]
  },
  {
   "cell_type": "code",
   "execution_count": 48,
   "metadata": {},
   "outputs": [
    {
     "data": {
      "text/plain": [
       "(180.00001877546288, -55.90833333341696)"
      ]
     },
     "execution_count": 48,
     "metadata": {},
     "output_type": "execute_result"
    }
   ],
   "source": [
    "src.transform * (43200, 16744)"
   ]
  },
  {
   "cell_type": "markdown",
   "metadata": {},
   "source": [
    "NYC: 40.7128° N, 74.0060° W"
   ]
  },
  {
   "cell_type": "code",
   "execution_count": 51,
   "metadata": {},
   "outputs": [
    {
     "data": {
      "text/plain": [
       "(-74.00832780543722, 40.73333837350533)"
      ]
     },
     "execution_count": 51,
     "metadata": {},
     "output_type": "execute_result"
    }
   ],
   "source": [
    "src.transform * (int(43200*(-74.0060--180)/360), int(16744*(83.6-40.7128)/(83.6--55.9)))"
   ]
  },
  {
   "cell_type": "code",
   "execution_count": 52,
   "metadata": {},
   "outputs": [
    {
     "data": {
      "text/plain": [
       "(12719, 5147)"
      ]
     },
     "execution_count": 52,
     "metadata": {},
     "output_type": "execute_result"
    }
   ],
   "source": [
    "(int(43200*(-74.0060--180)/360), int(16744*(83.6-40.7128)/(83.6--55.9)))"
   ]
  },
  {
   "cell_type": "code",
   "execution_count": 113,
   "metadata": {
    "scrolled": true
   },
   "outputs": [
    {
     "data": {
      "text/plain": [
       "(-74.02499447297312, 40.66667170336173)"
      ]
     },
     "execution_count": 113,
     "metadata": {},
     "output_type": "execute_result"
    }
   ],
   "source": [
    "src.transform * (12717,5155)"
   ]
  },
  {
   "cell_type": "code",
   "execution_count": null,
   "metadata": {},
   "outputs": [],
   "source": []
  },
  {
   "cell_type": "code",
   "execution_count": 205,
   "metadata": {},
   "outputs": [
    {
     "data": {
      "text/plain": [
       "(924, 6882)"
      ]
     },
     "execution_count": 205,
     "metadata": {},
     "output_type": "execute_result"
    }
   ],
   "source": [
    "src.index(lon,lat) # j goes with lon, i goes with lat; (i,j) indexes into `dat`, i=row, j=col"
   ]
  },
  {
   "cell_type": "code",
   "execution_count": 208,
   "metadata": {},
   "outputs": [
    {
     "data": {
      "text/plain": [
       "(804, 7002)"
      ]
     },
     "execution_count": 208,
     "metadata": {},
     "output_type": "execute_result"
    }
   ],
   "source": [
    "src.index(lon+1,lat+1) # j goes with lon, i goes with lat; (i,j) indexes into `dat`, i=row, j=col"
   ]
  },
  {
   "cell_type": "code",
   "execution_count": 209,
   "metadata": {},
   "outputs": [
    {
     "data": {
      "text/plain": [
       "(75.918, -122.645)"
      ]
     },
     "execution_count": 209,
     "metadata": {},
     "output_type": "execute_result"
    }
   ],
   "source": [
    "lat, lon"
   ]
  },
  {
   "cell_type": "markdown",
   "metadata": {},
   "source": [
    "`(i,j = src.index(lon,lat)`\n",
    "\n",
    "As lat increases, `i` decreases. As lon increases, `j` decreases...\n",
    "\n",
    "`src.transform * (0, 0) = (-180.0, 83.625)`\n",
    "\n",
    "Indexing starts in the upper left of a map from -180 to 180 lon x -90 to 90 lat.\n",
    "\n",
    "`src.transform * (10, 0) = (-179.917, 83.625)`\n",
    "\n",
    "Then as first index increases, move from west to east\n",
    "\n",
    "`src.transform * (10, 10) = (-179.917, 83.542)`\n",
    "\n",
    "And as second index increases, move from north to south"
   ]
  },
  {
   "cell_type": "code",
   "execution_count": 8,
   "metadata": {},
   "outputs": [
    {
     "data": {
      "image/png": "[encoded data removed]",
      "text/plain": [
       "<Figure size 400x400 with 1 Axes>"
      ]
     },
     "metadata": {
      "needs_background": "light"
     },
     "output_type": "display_data"
    }
   ],
   "source": [
    "dx = 100\n",
    "plt.figure(figsize=(2,2), dpi=200)\n",
    "plt.imshow(dat100[5147-dx:5147+dx,12719-dx:12719+dx], cmap=\"pink\");"
   ]
  },
  {
   "cell_type": "markdown",
   "metadata": {},
   "source": [
    "## Computing the parameters of the Gumbel distribution for a particular point.\n",
    "\n",
    "Gumbel cdf:\n",
    "\n",
    "$$F(x) = e^{-e^{-\\dfrac{x-\\mu}{\\sigma}}}$$\n",
    "\n",
    "Have a bunch of return levels. e.g., If $x_{10}$ is the 10-year return level, then $F(x_{10}) = 0.9$.\n",
    "\n",
    "Solving for $\\mu$ gives:\n",
    "\n",
    "$$\\mu = x + \\sigma \\log{[-\\log{(F(x))}]}$$\n",
    "\n",
    "Plugging in two data points $x_a$ and $x_b$ (two different return levels) gives:\n",
    "\n",
    "$$\\mu = x_a + \\sigma \\log{[-\\log{(F(x_a))}]} = x_b + \\sigma \\log{[-\\log{(F(x_b))}]}$$\n",
    "\n",
    "Rearranging and solving for $\\sigma$ gives:\n",
    "\n",
    "$$\\sigma = \\dfrac{x_a - x_b}{\\log{[-\\log{(F(x_b))}]}-\\log{[-\\log{(F(x_a))}]}}$$\n",
    "\n",
    "Then we plug back into the above equation for $\\mu$ to solve for the location parameter."
   ]
  }
 ],
 "metadata": {
  "kernelspec": {
   "display_name": "Python 3",
   "language": "python",
   "name": "python3"
  },
  "language_info": {
   "codemirror_mode": {
    "name": "ipython",
    "version": 3
   },
   "file_extension": ".py",
   "mimetype": "text/x-python",
   "name": "python",
   "nbconvert_exporter": "python",
   "pygments_lexer": "ipython3",
   "version": "3.7.3"
  }
 },
 "nbformat": 4,
 "nbformat_minor": 5
}
