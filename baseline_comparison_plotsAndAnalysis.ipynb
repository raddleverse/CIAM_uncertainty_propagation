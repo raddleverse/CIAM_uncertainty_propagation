{
 "cells": [
  {
   "cell_type": "code",
   "execution_count": 175,
   "metadata": {},
   "outputs": [],
   "source": [
    "import numpy as np\n",
    "import pandas as pd\n",
    "import re\n",
    "import matplotlib.pyplot as plt\n",
    "%matplotlib inline"
   ]
  },
  {
   "cell_type": "code",
   "execution_count": 106,
   "metadata": {},
   "outputs": [],
   "source": [
    "dir_gams = \"~/codes/CIAM-Work/gams-outputs/gams-results\""
   ]
  },
  {
   "cell_type": "markdown",
   "metadata": {},
   "source": [
    "## RCP8.5 baseline results from Diaz 2016"
   ]
  },
  {
   "cell_type": "markdown",
   "metadata": {},
   "source": [
    "file names"
   ]
  },
  {
   "cell_type": "code",
   "execution_count": 154,
   "metadata": {},
   "outputs": [],
   "source": [
    "files_rcp85 = [\"rcp85p50ref\"+str(k)+\".csv\" for k in range(1,11)]"
   ]
  },
  {
   "cell_type": "markdown",
   "metadata": {},
   "source": [
    "read the files, place in a list of Pandas DataFrames"
   ]
  },
  {
   "cell_type": "code",
   "execution_count": 155,
   "metadata": {},
   "outputs": [],
   "source": [
    "dfG_all = []\n",
    "for file in files_rcp85:\n",
    "    dfG_all.append(pd.read_csv(dir_gams+\"/rcp85/\"+file))"
   ]
  },
  {
   "cell_type": "code",
   "execution_count": 156,
   "metadata": {},
   "outputs": [],
   "source": [
    "dfG1 = dfG_all[0]"
   ]
  },
  {
   "cell_type": "markdown",
   "metadata": {},
   "source": [
    "concatenate all into a master file. don't worry about the times being out of order; the calculations will specify the year and type of damages to be summed up later"
   ]
  },
  {
   "cell_type": "code",
   "execution_count": 157,
   "metadata": {},
   "outputs": [],
   "source": [
    "dfG = pd.concat(dfG_all)"
   ]
  },
  {
   "cell_type": "markdown",
   "metadata": {},
   "source": [
    "remove the list of DataFrames to save on some memory"
   ]
  },
  {
   "cell_type": "code",
   "execution_count": 158,
   "metadata": {},
   "outputs": [],
   "source": [
    "del dfG_all"
   ]
  },
  {
   "cell_type": "markdown",
   "metadata": {},
   "source": [
    "### fix the segment names with apostrophes in them"
   ]
  },
  {
   "cell_type": "code",
   "execution_count": 159,
   "metadata": {},
   "outputs": [],
   "source": [
    "for seg in dfG.segments.unique():\n",
    "    if '\\'' in seg:\n",
    "        new_name = seg.replace('\\'', '') \n",
    "        dfG.loc[(dfG.segments==seg), \"segments\"] = new_name"
   ]
  },
  {
   "cell_type": "markdown",
   "metadata": {},
   "source": [
    "Gather up Diaz 2016 results into a DataFrame"
   ]
  },
  {
   "cell_type": "code",
   "execution_count": 129,
   "metadata": {},
   "outputs": [],
   "source": [
    "NoAdaptCost, OptimalCost, FloodNoAdapt, WetlandNoAdapt, RelocateNoAdapt, StormCapitalNoAdapt, StormPopNoAdapt, WetlandRetreat, WetlandProtect = [], [], [], [], [], [], [], [], []\n",
    "Construct10, ProtectCost10, StormPopProtect10, StormCapitalProtect10 = [], [], [], []\n",
    "Construct10000, ProtectCost10000, StormPopProtect10000, StormCapitalProtect10000 = [], [], [], []\n",
    "RetreatCost10, StormPopRetreat10, StormCapitalRetreat10, RelocateRetreat10 = [], [], [], []\n",
    "RetreatCost10000, StormPopRetreat10000, StormCapitalRetreat10000, RelocateRetreat10000 = [], [], [], []\n",
    "for t in range(1,11):\n",
    "    NoAdaptCost.append(dfG.loc[(dfG[\"time\"]==t) & (dfG[\"variable\"]==\"NoAdaptCost\"), \"value\"].sum())\n",
    "    OptimalCost.append(dfG.loc[(dfG[\"time\"]==t) & (dfG[\"variable\"]==\"OptimalFixedCost\"), \"value\"].sum())\n",
    "    FloodNoAdapt.append(dfG.loc[(dfG[\"time\"]==t) & (dfG[\"variable\"]==\"FloodNoAdapt\"), \"value\"].sum())\n",
    "    WetlandNoAdapt.append(dfG.loc[(dfG[\"time\"]==t) & (dfG[\"variable\"]==\"WetlandNoAdapt\"), \"value\"].sum())\n",
    "    RelocateNoAdapt.append(dfG.loc[(dfG[\"time\"]==t) & (dfG[\"variable\"]==\"RelocateNoAdapt\"), \"value\"].sum())\n",
    "    StormCapitalNoAdapt.append(dfG.loc[(dfG[\"time\"]==t) & (dfG[\"variable\"]==\"StormCapitalNoAdapt\"), \"value\"].sum())\n",
    "    StormPopNoAdapt.append(dfG.loc[(dfG[\"time\"]==t) & (dfG[\"variable\"]==\"StormPopNoAdapt\"), \"value\"].sum())\n",
    "    WetlandRetreat.append(dfG.loc[(dfG[\"time\"]==t) & (dfG[\"variable\"]==\"WetlandRetreat\"), \"value\"].sum())\n",
    "    WetlandProtect.append(dfG.loc[(dfG[\"time\"]==t) & (dfG[\"variable\"]==\"WetlandProtect\"), \"value\"].sum())\n",
    "    Construct10.append(dfG.loc[(dfG[\"time\"]==t) & (dfG[\"level\"]==10) & (dfG[\"variable\"]==\"ConstructOptimalFixed\"), \"value\"].sum())\n",
    "    ProtectCost10.append(dfG.loc[(dfG[\"time\"]==t) & (dfG[\"level\"]==10) & (dfG[\"variable\"]==\"ProtectCost\"), \"value\"].sum())\n",
    "    StormPopProtect10.append(dfG.loc[(dfG[\"time\"]==t) & (dfG[\"level\"]==10) & (dfG[\"variable\"]==\"StormPopProtect\"), \"value\"].sum())\n",
    "    StormCapitalProtect10.append(dfG.loc[(dfG[\"time\"]==t) & (dfG[\"level\"]==10) & (dfG[\"variable\"]==\"StormCapitalProtect\"), \"value\"].sum())\n",
    "    RetreatCost10.append(dfG.loc[(dfG[\"time\"]==t) & (dfG[\"level\"]==10) & (dfG[\"variable\"]==\"RetreatCost\"), \"value\"].sum())\n",
    "    StormPopRetreat10.append(dfG.loc[(dfG[\"time\"]==t) & (dfG[\"level\"]==10) & (dfG[\"variable\"]==\"StormPopRetreat\"), \"value\"].sum())\n",
    "    StormCapitalRetreat10.append(dfG.loc[(dfG[\"time\"]==t) & (dfG[\"level\"]==10) & (dfG[\"variable\"]==\"StormCapitalRetreat\"), \"value\"].sum())\n",
    "    RelocateRetreat10.append(dfG.loc[(dfG[\"time\"]==t) & (dfG[\"level\"]==10) & (dfG[\"variable\"]==\"RelocateRetreat\"), \"value\"].sum())\n",
    "    Construct10000.append(dfG.loc[(dfG[\"time\"]==t) & (dfG[\"level\"]==10000) & (dfG[\"variable\"]==\"ConstructOptimalFixed\"), \"value\"].sum())\n",
    "    ProtectCost10000.append(dfG.loc[(dfG[\"time\"]==t) & (dfG[\"level\"]==10000) & (dfG[\"variable\"]==\"ProtectCost\"), \"value\"].sum())\n",
    "    StormPopProtect10000.append(dfG.loc[(dfG[\"time\"]==t) & (dfG[\"level\"]==10000) & (dfG[\"variable\"]==\"StormPopProtect\"), \"value\"].sum())\n",
    "    StormCapitalProtect10000.append(dfG.loc[(dfG[\"time\"]==t) & (dfG[\"level\"]==10000) & (dfG[\"level\"]==10000) & (dfG[\"variable\"]==\"StormCapitalProtect\"), \"value\"].sum())\n",
    "    RetreatCost10000.append(dfG.loc[(dfG[\"time\"]==t) & (dfG[\"level\"]==10000) & (dfG[\"variable\"]==\"RetreatCost\"), \"value\"].sum())\n",
    "    StormPopRetreat10000.append(dfG.loc[(dfG[\"time\"]==t) & (dfG[\"level\"]==10000) & (dfG[\"variable\"]==\"StormPopRetreat\"), \"value\"].sum())\n",
    "    StormCapitalRetreat10000.append(dfG.loc[(dfG[\"time\"]==t) & (dfG[\"level\"]==10000) & (dfG[\"variable\"]==\"StormCapitalRetreat\"), \"value\"].sum())\n",
    "    RelocateRetreat10000.append(dfG.loc[(dfG[\"time\"]==t) & (dfG[\"level\"]==10000) & (dfG[\"variable\"]==\"RelocateRetreat\"), \"value\"].sum())\n",
    "\n",
    "dfDiaz = pd.DataFrame()\n",
    "dfDiaz[\"time\"] = list(range(2010,2110,10))\n",
    "dfDiaz[\"NoAdapt\"] = NoAdaptCost\n",
    "dfDiaz[\"Optimal\"] = OptimalCost\n",
    "dfDiaz[\"FloodNoAdapt\"] = FloodNoAdapt\n",
    "dfDiaz[\"WetlandNoAdapt\"] = WetlandNoAdapt\n",
    "dfDiaz[\"RelocateNoAdapt\"] = RelocateNoAdapt\n",
    "dfDiaz[\"StormCapitalNoAdapt\"] = StormCapitalNoAdapt\n",
    "dfDiaz[\"StormPopNoAdapt\"] = StormPopNoAdapt\n",
    "dfDiaz[\"WetlandProtect\"] = WetlandProtect\n",
    "dfDiaz[\"Construct\"] = Construct\n",
    "dfDiaz[\"WetlandRetreat\"] = WetlandRetreat\n",
    "dfDiaz[\"ProtectCost10\"] = ProtectCost10\n",
    "dfDiaz[\"StormPopProtect10\"] = StormPopProtect10\n",
    "dfDiaz[\"StormCapitalProtect10\"] = StormCapitalProtect10\n",
    "dfDiaz[\"RetreatCost10\"] = RetreatCost10\n",
    "dfDiaz[\"StormPopRetreat10\"] = StormPopRetreat10\n",
    "dfDiaz[\"StormCapitalRetreat10\"] = StormCapitalRetreat10\n",
    "dfDiaz[\"RelocateRetreat10\"] = RelocateRetreat10\n",
    "dfDiaz[\"ProtectCost10000\"] = ProtectCost10000\n",
    "dfDiaz[\"StormPopProtect10000\"] = StormPopProtect10000\n",
    "dfDiaz[\"StormCapitalProtect10000\"] = StormCapitalProtect10000\n",
    "dfDiaz[\"RetreatCost10000\"] = RetreatCost10000\n",
    "dfDiaz[\"StormPopRetreat10000\"] = StormPopRetreat10000\n",
    "dfDiaz[\"StormCapitalRetreat10000\"] = StormCapitalRetreat10000\n",
    "dfDiaz[\"RelocateRetreat10000\"] = RelocateRetreat10000"
   ]
  },
  {
   "cell_type": "markdown",
   "metadata": {},
   "source": [
    "Matches the paper well (Fig 2, right column), except in the last year when things jump up just a bit too much. Paper reports \\\\$2.2T in the NoAdapt case and \\\\$270B in the Optimal adaptation case."
   ]
  },
  {
   "cell_type": "code",
   "execution_count": 114,
   "metadata": {},
   "outputs": [
    {
     "name": "stdout",
     "output_type": "stream",
     "text": [
      "   time  NoAdapt  Optimal\n",
      "0  2010   119.17    29.27\n",
      "1  2020   189.34    33.03\n",
      "2  2030   304.23    39.72\n",
      "3  2040   484.77    52.75\n",
      "4  2050   787.10   115.54\n",
      "5  2060  1217.03   132.09\n",
      "6  2070  1566.37   148.21\n",
      "7  2080  1878.13   163.73\n",
      "8  2090  2043.67   178.02\n",
      "9  2100  2251.46   282.07\n"
     ]
    }
   ],
   "source": [
    "print(np.round(dfDiaz[[\"time\",\"NoAdapt\",\"Optimal\"]],2))"
   ]
  },
  {
   "cell_type": "markdown",
   "metadata": {},
   "source": [
    "## New results"
   ]
  },
  {
   "cell_type": "code",
   "execution_count": 747,
   "metadata": {},
   "outputs": [],
   "source": [
    "dfC = pd.read_csv(\"./output/ctrl+noConstrFix_global_85p50ssp0fixed.csv\")\n",
    "dfN = pd.read_csv(\"./output/ctrl+noConstrFix_seg_85p50ssp0fixed.csv\")\n",
    "dfO = pd.read_csv(\"./output/ctrl+noConstrFix_seg_85p50ssp0fixed_optimal.csv\") # optimal actions for each segment"
   ]
  },
  {
   "cell_type": "code",
   "execution_count": 748,
   "metadata": {},
   "outputs": [],
   "source": [
    "dfC1 = dfC.copy() # copies so that the new, shorter-foresight model version can be compared to old perfect foresight version\n",
    "dfN1 = dfN.copy()\n",
    "dfO1 = dfO.copy()"
   ]
  },
  {
   "cell_type": "markdown",
   "metadata": {},
   "source": [
    "## NPV foresight correction\n",
    "\n",
    "This correction accounts for the fact that the new version of CIAM considers NPV over the current adaptation period (40-50 years generally), whereas the previous GAMS version assumes NPV is known across the entire model time horizon (2000-2100, for example)."
   ]
  },
  {
   "cell_type": "markdown",
   "metadata": {},
   "source": [
    "#### discount factor \n",
    "\n",
    "Matches output from a run model in Julia `m[:slrcost, :discountfactor]`\n",
    "\n",
    "`v.discountfactor[TimestepIndex(i)] = 1/(1 + p.discountrate)^(p.tstep * (i-1))`"
   ]
  },
  {
   "cell_type": "code",
   "execution_count": 617,
   "metadata": {},
   "outputs": [
    {
     "name": "stdout",
     "output_type": "stream",
     "text": [
      "[1.00000000e+00 6.75564169e-01 4.56386946e-01 3.08318668e-01\n",
      " 2.08289045e-01 1.40712615e-01 9.50604010e-02 6.42194008e-02\n",
      " 4.33843261e-02 2.93088962e-02 1.98000401e-02 1.33761976e-02\n",
      " 9.03647984e-03 6.10472199e-03 4.12413144e-03 2.78611543e-03\n",
      " 1.88219975e-03 1.27154671e-03 8.59011398e-04 5.80317321e-04]\n"
     ]
    }
   ],
   "source": [
    "drate = 0.04\n",
    "tstep = 10\n",
    "discountfactor = 1/(1+drate)**(tstep*np.arange(0,20,1))\n",
    "print(discountfactor)"
   ]
  },
  {
   "cell_type": "markdown",
   "metadata": {},
   "source": [
    "#### segments"
   ]
  },
  {
   "cell_type": "code",
   "execution_count": 618,
   "metadata": {},
   "outputs": [],
   "source": [
    "segments_G, segments_N = {}, {}\n",
    "for t in range(1,21):\n",
    "    segments_G[t] = list(dfG.loc[(dfG.time==t), \"segments\"].unique())\n",
    "    segments_N[t] = list(dfN.loc[(dfN.time==t), \"segments\"].unique())\n",
    "segments_G[\"all\"] = list(dfG.segments.unique())\n",
    "segments_N[\"all\"] = list(dfN.segments.unique())"
   ]
  },
  {
   "cell_type": "markdown",
   "metadata": {},
   "source": [
    "Need to do the first time step separately. it is special because in the \"fixed\" mode a la original (GAMS) CIAM, this is where the adaptation strategy is determined. This strategy (including level) will be followed throughout the time horizon."
   ]
  },
  {
   "cell_type": "code",
   "execution_count": 658,
   "metadata": {},
   "outputs": [],
   "source": [
    "tol= 0.0001\n",
    "levs = {\"RetreatCost\" : [1,10,100,1000,10000], \"ProtectCost\" : [10,100,1000,10000], \"NoAdaptCost\" : [0]}\n",
    "options = []\n",
    "for var in [\"RetreatCost\",\"ProtectCost\"]:\n",
    "    for lev in levs[var]:\n",
    "            options.append(var+str(lev))\n",
    "options.append(\"NoAdaptCost0\")"
   ]
  },
  {
   "cell_type": "markdown",
   "metadata": {},
   "source": [
    "Figure out for which segments the optimal costs are different (due to the different time horizon for decision-making)."
   ]
  },
  {
   "cell_type": "code",
   "execution_count": 660,
   "metadata": {},
   "outputs": [],
   "source": [
    "bad_segs_1, bad_segs_3, bad_segs_5, bad_segs_10, bad_segs_20 = [],[],[],[],[]\n",
    "#for seg in list(set.intersection(set(segments_G[t]),set(segments_N[t]))):\n",
    "t=1\n",
    "dfGO = dfG.loc[(dfG.variable==\"OptimalFixedCost\") & (dfG.time==t)]\n",
    "dfNO = dfN.loc[(dfN.variable==\"OptimalCost\") & (dfN.time==t)]\n",
    "for seg in dfGO.loc[(dfGO.time==t), \"segments\"].unique():\n",
    "    D = float(dfGO.loc[(dfGO.segments==seg), \"value\"])\n",
    "    N = float(dfNO.loc[(dfNO.segments==seg), \"value\"])\n",
    "    if np.abs(D-N) > tol:\n",
    "        bad_segs_1.append(seg)\n",
    "t=3\n",
    "dfGO = dfG.loc[(dfG.variable==\"OptimalFixedCost\") & (dfG.time==t)]\n",
    "dfNO = dfN.loc[(dfN.variable==\"OptimalCost\") & (dfN.time==t)]\n",
    "for seg in dfGO.loc[(dfGO.time==t), \"segments\"].unique():\n",
    "    D = float(dfGO.loc[(dfGO.segments==seg), \"value\"])\n",
    "    N = float(dfNO.loc[(dfNO.segments==seg), \"value\"])\n",
    "    if np.abs(D-N) > tol:\n",
    "        bad_segs_3.append(seg)\n",
    "t=5\n",
    "dfGO = dfG.loc[(dfG.variable==\"OptimalFixedCost\") & (dfG.time==t)]\n",
    "dfNO = dfN.loc[(dfN.variable==\"OptimalCost\") & (dfN.time==t)]\n",
    "for seg in dfGO.loc[(dfGO.time==t), \"segments\"].unique():\n",
    "    D = float(dfGO.loc[(dfGO.segments==seg), \"value\"])\n",
    "    N = float(dfNO.loc[(dfNO.segments==seg), \"value\"])\n",
    "    if np.abs(D-N) > tol:\n",
    "        bad_segs_5.append(seg)"
   ]
  },
  {
   "cell_type": "code",
   "execution_count": null,
   "metadata": {},
   "outputs": [],
   "source": [
    "t=10\n",
    "dfGO = dfG.loc[(dfG.variable==\"OptimalFixedCost\") & (dfG.time==t)]\n",
    "dfNO = dfN.loc[(dfN.variable==\"OptimalCost\") & (dfN.time==t)]\n",
    "for seg in dfGO.loc[(dfGO.time==t), \"segments\"].unique():\n",
    "    D = float(dfGO.loc[(dfGO.segments==seg), \"value\"])\n",
    "    N = float(dfNO.loc[(dfNO.segments==seg), \"value\"])\n",
    "    if np.abs(D-N) > tol:\n",
    "        bad_segs_10.append(seg)\n",
    "t=20\n",
    "dfGO = dfG.loc[(dfG.variable==\"OptimalFixedCost\") & (dfG.time==t)]\n",
    "dfNO = dfN.loc[(dfN.variable==\"OptimalCost\") & (dfN.time==t)]\n",
    "for seg in dfGO.loc[(dfGO.time==t), \"segments\"].unique():\n",
    "    D = float(dfGO.loc[(dfGO.segments==seg), \"value\"])\n",
    "    N = float(dfNO.loc[(dfNO.segments==seg), \"value\"])\n",
    "    if np.abs(D-N) > tol:\n",
    "        bad_segs_20.append(seg)"
   ]
  },
  {
   "cell_type": "code",
   "execution_count": 661,
   "metadata": {},
   "outputs": [
    {
     "name": "stdout",
     "output_type": "stream",
     "text": [
      "0 33 410 0 33\n"
     ]
    }
   ],
   "source": [
    "print(len(bad_segs_1),len(bad_segs_3),len(bad_segs_5), \\\n",
    "      len(set.intersection(set(bad_segs_1),set(bad_segs_3))), \\\n",
    "      len(set.intersection(set(bad_segs_3),set(bad_segs_5))))"
   ]
  },
  {
   "cell_type": "code",
   "execution_count": 642,
   "metadata": {},
   "outputs": [],
   "source": [
    "dfC = pd.read_csv(\"dfC.csv\")\n",
    "dfN = pd.read_csv(\"dfN.csv\")\n",
    "dfO = pd.read_csv(\"dfO.csv\")"
   ]
  },
  {
   "cell_type": "code",
   "execution_count": 611,
   "metadata": {},
   "outputs": [],
   "source": [
    "cols_noadapt = [\"FloodNoAdapt\",\"RelocateNoAdapt\",\"StormCapitalNoAdapt\",\"WetlandNoAdapt\",\"StormPopNoAdapt\",\"NoAdaptCost\",\"OptimalCost\",\"OptimalFixedCost\"]\n",
    "cols_retreat = [\"RetreatCost\",\"OptimalCost\",\"OptimalFixedCost\"]"
   ]
  },
  {
   "cell_type": "code",
   "execution_count": 664,
   "metadata": {},
   "outputs": [],
   "source": [
    "seg = bad_segs_3[0]"
   ]
  },
  {
   "cell_type": "code",
   "execution_count": null,
   "metadata": {},
   "outputs": [],
   "source": []
  },
  {
   "cell_type": "code",
   "execution_count": 665,
   "metadata": {},
   "outputs": [
    {
     "data": {
      "text/html": [
       "<div>\n",
       "<style scoped>\n",
       "    .dataframe tbody tr th:only-of-type {\n",
       "        vertical-align: middle;\n",
       "    }\n",
       "\n",
       "    .dataframe tbody tr th {\n",
       "        vertical-align: top;\n",
       "    }\n",
       "\n",
       "    .dataframe thead th {\n",
       "        text-align: right;\n",
       "    }\n",
       "</style>\n",
       "<table border=\"1\" class=\"dataframe\">\n",
       "  <thead>\n",
       "    <tr style=\"text-align: right;\">\n",
       "      <th></th>\n",
       "      <th>Unnamed: 0</th>\n",
       "      <th>time</th>\n",
       "      <th>regions</th>\n",
       "      <th>segments</th>\n",
       "      <th>variable</th>\n",
       "      <th>level</th>\n",
       "      <th>OptimalCost</th>\n",
       "    </tr>\n",
       "  </thead>\n",
       "  <tbody>\n",
       "    <tr>\n",
       "      <th>5597</th>\n",
       "      <td>5597</td>\n",
       "      <td>1</td>\n",
       "      <td>ITA</td>\n",
       "      <td>Italy410</td>\n",
       "      <td>RetreatCost</td>\n",
       "      <td>10.0</td>\n",
       "      <td>0.000175</td>\n",
       "    </tr>\n",
       "  </tbody>\n",
       "</table>\n",
       "</div>"
      ],
      "text/plain": [
       "      Unnamed: 0  time regions  segments     variable  level  OptimalCost\n",
       "5597        5597     1     ITA  Italy410  RetreatCost   10.0     0.000175"
      ]
     },
     "execution_count": 665,
     "metadata": {},
     "output_type": "execute_result"
    }
   ],
   "source": [
    "dfOsub.loc[(dfOsub.segments==seg)].head(1)"
   ]
  },
  {
   "cell_type": "code",
   "execution_count": 666,
   "metadata": {
    "collapsed": true,
    "jupyter": {
     "outputs_hidden": true
    }
   },
   "outputs": [
    {
     "data": {
      "text/html": [
       "<div>\n",
       "<style scoped>\n",
       "    .dataframe tbody tr th:only-of-type {\n",
       "        vertical-align: middle;\n",
       "    }\n",
       "\n",
       "    .dataframe tbody tr th {\n",
       "        vertical-align: top;\n",
       "    }\n",
       "\n",
       "    .dataframe thead th {\n",
       "        text-align: right;\n",
       "    }\n",
       "</style>\n",
       "<table border=\"1\" class=\"dataframe\">\n",
       "  <thead>\n",
       "    <tr style=\"text-align: right;\">\n",
       "      <th></th>\n",
       "      <th>time</th>\n",
       "      <th>segments</th>\n",
       "      <th>level</th>\n",
       "      <th>variable</th>\n",
       "      <th>value</th>\n",
       "    </tr>\n",
       "  </thead>\n",
       "  <tbody>\n",
       "    <tr>\n",
       "      <th>24331</th>\n",
       "      <td>3</td>\n",
       "      <td>Italy410</td>\n",
       "      <td>NaN</td>\n",
       "      <td>WetlandRetreat</td>\n",
       "      <td>2.140000e-05</td>\n",
       "    </tr>\n",
       "    <tr>\n",
       "      <th>24332</th>\n",
       "      <td>3</td>\n",
       "      <td>Italy410</td>\n",
       "      <td>1.0</td>\n",
       "      <td>FloodRetreat</td>\n",
       "      <td>4.710000e-05</td>\n",
       "    </tr>\n",
       "    <tr>\n",
       "      <th>24333</th>\n",
       "      <td>3</td>\n",
       "      <td>Italy410</td>\n",
       "      <td>1.0</td>\n",
       "      <td>RelocateRetreat</td>\n",
       "      <td>2.530000e-05</td>\n",
       "    </tr>\n",
       "    <tr>\n",
       "      <th>24334</th>\n",
       "      <td>3</td>\n",
       "      <td>Italy410</td>\n",
       "      <td>1.0</td>\n",
       "      <td>StormCapitalRetreat</td>\n",
       "      <td>1.548150e-04</td>\n",
       "    </tr>\n",
       "    <tr>\n",
       "      <th>24335</th>\n",
       "      <td>3</td>\n",
       "      <td>Italy410</td>\n",
       "      <td>1.0</td>\n",
       "      <td>StormPopRetreat</td>\n",
       "      <td>1.371690e-04</td>\n",
       "    </tr>\n",
       "    <tr>\n",
       "      <th>24336</th>\n",
       "      <td>3</td>\n",
       "      <td>Italy410</td>\n",
       "      <td>1.0</td>\n",
       "      <td>RetreatCost</td>\n",
       "      <td>3.858110e-04</td>\n",
       "    </tr>\n",
       "    <tr>\n",
       "      <th>125449</th>\n",
       "      <td>3</td>\n",
       "      <td>Italy410</td>\n",
       "      <td>10.0</td>\n",
       "      <td>FloodRetreat</td>\n",
       "      <td>1.333250e-04</td>\n",
       "    </tr>\n",
       "    <tr>\n",
       "      <th>125450</th>\n",
       "      <td>3</td>\n",
       "      <td>Italy410</td>\n",
       "      <td>10.0</td>\n",
       "      <td>RelocateRetreat</td>\n",
       "      <td>4.010000e-05</td>\n",
       "    </tr>\n",
       "    <tr>\n",
       "      <th>125451</th>\n",
       "      <td>3</td>\n",
       "      <td>Italy410</td>\n",
       "      <td>10.0</td>\n",
       "      <td>StormCapitalRetreat</td>\n",
       "      <td>2.510000e-07</td>\n",
       "    </tr>\n",
       "    <tr>\n",
       "      <th>125452</th>\n",
       "      <td>3</td>\n",
       "      <td>Italy410</td>\n",
       "      <td>10.0</td>\n",
       "      <td>StormPopRetreat</td>\n",
       "      <td>2.220000e-07</td>\n",
       "    </tr>\n",
       "    <tr>\n",
       "      <th>125453</th>\n",
       "      <td>3</td>\n",
       "      <td>Italy410</td>\n",
       "      <td>10.0</td>\n",
       "      <td>RetreatCost</td>\n",
       "      <td>1.952950e-04</td>\n",
       "    </tr>\n",
       "    <tr>\n",
       "      <th>224369</th>\n",
       "      <td>3</td>\n",
       "      <td>Italy410</td>\n",
       "      <td>100.0</td>\n",
       "      <td>FloodRetreat</td>\n",
       "      <td>1.175194e-03</td>\n",
       "    </tr>\n",
       "    <tr>\n",
       "      <th>224370</th>\n",
       "      <td>3</td>\n",
       "      <td>Italy410</td>\n",
       "      <td>100.0</td>\n",
       "      <td>RelocateRetreat</td>\n",
       "      <td>3.793960e-04</td>\n",
       "    </tr>\n",
       "    <tr>\n",
       "      <th>224371</th>\n",
       "      <td>3</td>\n",
       "      <td>Italy410</td>\n",
       "      <td>100.0</td>\n",
       "      <td>StormCapitalRetreat</td>\n",
       "      <td>1.350000e-10</td>\n",
       "    </tr>\n",
       "    <tr>\n",
       "      <th>224372</th>\n",
       "      <td>3</td>\n",
       "      <td>Italy410</td>\n",
       "      <td>100.0</td>\n",
       "      <td>StormPopRetreat</td>\n",
       "      <td>1.200000e-10</td>\n",
       "    </tr>\n",
       "    <tr>\n",
       "      <th>224373</th>\n",
       "      <td>3</td>\n",
       "      <td>Italy410</td>\n",
       "      <td>100.0</td>\n",
       "      <td>RetreatCost</td>\n",
       "      <td>1.576029e-03</td>\n",
       "    </tr>\n",
       "    <tr>\n",
       "      <th>323380</th>\n",
       "      <td>3</td>\n",
       "      <td>Italy410</td>\n",
       "      <td>1000.0</td>\n",
       "      <td>FloodRetreat</td>\n",
       "      <td>2.294477e-03</td>\n",
       "    </tr>\n",
       "    <tr>\n",
       "      <th>323381</th>\n",
       "      <td>3</td>\n",
       "      <td>Italy410</td>\n",
       "      <td>1000.0</td>\n",
       "      <td>RelocateRetreat</td>\n",
       "      <td>3.793960e-04</td>\n",
       "    </tr>\n",
       "    <tr>\n",
       "      <th>323382</th>\n",
       "      <td>3</td>\n",
       "      <td>Italy410</td>\n",
       "      <td>1000.0</td>\n",
       "      <td>StormCapitalRetreat</td>\n",
       "      <td>4.160000e-14</td>\n",
       "    </tr>\n",
       "    <tr>\n",
       "      <th>323383</th>\n",
       "      <td>3</td>\n",
       "      <td>Italy410</td>\n",
       "      <td>1000.0</td>\n",
       "      <td>StormPopRetreat</td>\n",
       "      <td>3.690000e-14</td>\n",
       "    </tr>\n",
       "    <tr>\n",
       "      <th>323384</th>\n",
       "      <td>3</td>\n",
       "      <td>Italy410</td>\n",
       "      <td>1000.0</td>\n",
       "      <td>RetreatCost</td>\n",
       "      <td>2.695312e-03</td>\n",
       "    </tr>\n",
       "    <tr>\n",
       "      <th>422335</th>\n",
       "      <td>3</td>\n",
       "      <td>Italy410</td>\n",
       "      <td>10000.0</td>\n",
       "      <td>FloodRetreat</td>\n",
       "      <td>3.219966e-02</td>\n",
       "    </tr>\n",
       "    <tr>\n",
       "      <th>422336</th>\n",
       "      <td>3</td>\n",
       "      <td>Italy410</td>\n",
       "      <td>10000.0</td>\n",
       "      <td>RelocateRetreat</td>\n",
       "      <td>6.024100e-04</td>\n",
       "    </tr>\n",
       "    <tr>\n",
       "      <th>422337</th>\n",
       "      <td>3</td>\n",
       "      <td>Italy410</td>\n",
       "      <td>10000.0</td>\n",
       "      <td>StormCapitalRetreat</td>\n",
       "      <td>1.820000e-44</td>\n",
       "    </tr>\n",
       "    <tr>\n",
       "      <th>422338</th>\n",
       "      <td>3</td>\n",
       "      <td>Italy410</td>\n",
       "      <td>10000.0</td>\n",
       "      <td>StormPopRetreat</td>\n",
       "      <td>1.610000e-44</td>\n",
       "    </tr>\n",
       "    <tr>\n",
       "      <th>422339</th>\n",
       "      <td>3</td>\n",
       "      <td>Italy410</td>\n",
       "      <td>10000.0</td>\n",
       "      <td>RetreatCost</td>\n",
       "      <td>3.282351e-02</td>\n",
       "    </tr>\n",
       "    <tr>\n",
       "      <th>517920</th>\n",
       "      <td>3</td>\n",
       "      <td>Italy410</td>\n",
       "      <td>NaN</td>\n",
       "      <td>WetlandProtect</td>\n",
       "      <td>7.763450e-04</td>\n",
       "    </tr>\n",
       "    <tr>\n",
       "      <th>517921</th>\n",
       "      <td>3</td>\n",
       "      <td>Italy410</td>\n",
       "      <td>10.0</td>\n",
       "      <td>Construct</td>\n",
       "      <td>1.668873e-03</td>\n",
       "    </tr>\n",
       "    <tr>\n",
       "      <th>517922</th>\n",
       "      <td>3</td>\n",
       "      <td>Italy410</td>\n",
       "      <td>10.0</td>\n",
       "      <td>StormCapitalProtect</td>\n",
       "      <td>2.044390e-04</td>\n",
       "    </tr>\n",
       "    <tr>\n",
       "      <th>517923</th>\n",
       "      <td>3</td>\n",
       "      <td>Italy410</td>\n",
       "      <td>10.0</td>\n",
       "      <td>StormPopProtect</td>\n",
       "      <td>1.811370e-04</td>\n",
       "    </tr>\n",
       "    <tr>\n",
       "      <th>517924</th>\n",
       "      <td>3</td>\n",
       "      <td>Italy410</td>\n",
       "      <td>10.0</td>\n",
       "      <td>ProtectCost</td>\n",
       "      <td>2.830794e-03</td>\n",
       "    </tr>\n",
       "    <tr>\n",
       "      <th>602140</th>\n",
       "      <td>3</td>\n",
       "      <td>Italy410</td>\n",
       "      <td>NaN</td>\n",
       "      <td>WetlandProtect</td>\n",
       "      <td>7.763450e-04</td>\n",
       "    </tr>\n",
       "    <tr>\n",
       "      <th>602141</th>\n",
       "      <td>3</td>\n",
       "      <td>Italy410</td>\n",
       "      <td>100.0</td>\n",
       "      <td>Construct</td>\n",
       "      <td>3.203745e-03</td>\n",
       "    </tr>\n",
       "    <tr>\n",
       "      <th>602142</th>\n",
       "      <td>3</td>\n",
       "      <td>Italy410</td>\n",
       "      <td>100.0</td>\n",
       "      <td>StormCapitalProtect</td>\n",
       "      <td>8.390000e-08</td>\n",
       "    </tr>\n",
       "    <tr>\n",
       "      <th>602143</th>\n",
       "      <td>3</td>\n",
       "      <td>Italy410</td>\n",
       "      <td>100.0</td>\n",
       "      <td>StormPopProtect</td>\n",
       "      <td>7.440000e-08</td>\n",
       "    </tr>\n",
       "    <tr>\n",
       "      <th>602144</th>\n",
       "      <td>3</td>\n",
       "      <td>Italy410</td>\n",
       "      <td>100.0</td>\n",
       "      <td>ProtectCost</td>\n",
       "      <td>3.980248e-03</td>\n",
       "    </tr>\n",
       "    <tr>\n",
       "      <th>683718</th>\n",
       "      <td>3</td>\n",
       "      <td>Italy410</td>\n",
       "      <td>1000.0</td>\n",
       "      <td>Construct</td>\n",
       "      <td>4.342997e-03</td>\n",
       "    </tr>\n",
       "    <tr>\n",
       "      <th>683719</th>\n",
       "      <td>3</td>\n",
       "      <td>Italy410</td>\n",
       "      <td>1000.0</td>\n",
       "      <td>StormCapitalProtect</td>\n",
       "      <td>2.260000e-10</td>\n",
       "    </tr>\n",
       "    <tr>\n",
       "      <th>683720</th>\n",
       "      <td>3</td>\n",
       "      <td>Italy410</td>\n",
       "      <td>1000.0</td>\n",
       "      <td>StormPopProtect</td>\n",
       "      <td>2.000000e-10</td>\n",
       "    </tr>\n",
       "    <tr>\n",
       "      <th>683721</th>\n",
       "      <td>3</td>\n",
       "      <td>Italy410</td>\n",
       "      <td>1000.0</td>\n",
       "      <td>ProtectCost</td>\n",
       "      <td>5.119342e-03</td>\n",
       "    </tr>\n",
       "    <tr>\n",
       "      <th>763318</th>\n",
       "      <td>3</td>\n",
       "      <td>Italy410</td>\n",
       "      <td>10000.0</td>\n",
       "      <td>Construct</td>\n",
       "      <td>1.419244e-02</td>\n",
       "    </tr>\n",
       "    <tr>\n",
       "      <th>763319</th>\n",
       "      <td>3</td>\n",
       "      <td>Italy410</td>\n",
       "      <td>10000.0</td>\n",
       "      <td>StormCapitalProtect</td>\n",
       "      <td>1.360000e-32</td>\n",
       "    </tr>\n",
       "    <tr>\n",
       "      <th>763320</th>\n",
       "      <td>3</td>\n",
       "      <td>Italy410</td>\n",
       "      <td>10000.0</td>\n",
       "      <td>StormPopProtect</td>\n",
       "      <td>1.210000e-32</td>\n",
       "    </tr>\n",
       "    <tr>\n",
       "      <th>763321</th>\n",
       "      <td>3</td>\n",
       "      <td>Italy410</td>\n",
       "      <td>10000.0</td>\n",
       "      <td>ProtectCost</td>\n",
       "      <td>1.496878e-02</td>\n",
       "    </tr>\n",
       "    <tr>\n",
       "      <th>848719</th>\n",
       "      <td>3</td>\n",
       "      <td>Italy410</td>\n",
       "      <td>NaN</td>\n",
       "      <td>WetlandNoAdapt</td>\n",
       "      <td>2.140000e-05</td>\n",
       "    </tr>\n",
       "    <tr>\n",
       "      <th>848720</th>\n",
       "      <td>3</td>\n",
       "      <td>Italy410</td>\n",
       "      <td>NaN</td>\n",
       "      <td>FloodNoAdapt</td>\n",
       "      <td>1.138590e-04</td>\n",
       "    </tr>\n",
       "    <tr>\n",
       "      <th>848721</th>\n",
       "      <td>3</td>\n",
       "      <td>Italy410</td>\n",
       "      <td>NaN</td>\n",
       "      <td>RelocateNoAdapt</td>\n",
       "      <td>1.696070e-04</td>\n",
       "    </tr>\n",
       "    <tr>\n",
       "      <th>848722</th>\n",
       "      <td>3</td>\n",
       "      <td>Italy410</td>\n",
       "      <td>NaN</td>\n",
       "      <td>StormCapitalNoAdapt</td>\n",
       "      <td>3.880000e-05</td>\n",
       "    </tr>\n",
       "    <tr>\n",
       "      <th>848723</th>\n",
       "      <td>3</td>\n",
       "      <td>Italy410</td>\n",
       "      <td>NaN</td>\n",
       "      <td>StormPopNoAdapt</td>\n",
       "      <td>3.430000e-05</td>\n",
       "    </tr>\n",
       "    <tr>\n",
       "      <th>848724</th>\n",
       "      <td>3</td>\n",
       "      <td>Italy410</td>\n",
       "      <td>NaN</td>\n",
       "      <td>NoAdaptCost</td>\n",
       "      <td>3.780230e-04</td>\n",
       "    </tr>\n",
       "    <tr>\n",
       "      <th>950359</th>\n",
       "      <td>3</td>\n",
       "      <td>Italy410</td>\n",
       "      <td>NaN</td>\n",
       "      <td>WetlandOptimalFixed</td>\n",
       "      <td>2.140000e-05</td>\n",
       "    </tr>\n",
       "    <tr>\n",
       "      <th>950360</th>\n",
       "      <td>3</td>\n",
       "      <td>Italy410</td>\n",
       "      <td>NaN</td>\n",
       "      <td>FloodOptimalFixed</td>\n",
       "      <td>4.710000e-05</td>\n",
       "    </tr>\n",
       "    <tr>\n",
       "      <th>950361</th>\n",
       "      <td>3</td>\n",
       "      <td>Italy410</td>\n",
       "      <td>NaN</td>\n",
       "      <td>RelocateOptimalFixed</td>\n",
       "      <td>2.530000e-05</td>\n",
       "    </tr>\n",
       "    <tr>\n",
       "      <th>950362</th>\n",
       "      <td>3</td>\n",
       "      <td>Italy410</td>\n",
       "      <td>NaN</td>\n",
       "      <td>StormCapitalOptimalFixed</td>\n",
       "      <td>1.548150e-04</td>\n",
       "    </tr>\n",
       "    <tr>\n",
       "      <th>950363</th>\n",
       "      <td>3</td>\n",
       "      <td>Italy410</td>\n",
       "      <td>NaN</td>\n",
       "      <td>StormPopOptimalFixed</td>\n",
       "      <td>1.371690e-04</td>\n",
       "    </tr>\n",
       "    <tr>\n",
       "      <th>950364</th>\n",
       "      <td>3</td>\n",
       "      <td>Italy410</td>\n",
       "      <td>NaN</td>\n",
       "      <td>OptimalFixedCost</td>\n",
       "      <td>3.858110e-04</td>\n",
       "    </tr>\n",
       "  </tbody>\n",
       "</table>\n",
       "</div>"
      ],
      "text/plain": [
       "        time  segments    level                  variable         value\n",
       "24331      3  Italy410      NaN            WetlandRetreat  2.140000e-05\n",
       "24332      3  Italy410      1.0              FloodRetreat  4.710000e-05\n",
       "24333      3  Italy410      1.0           RelocateRetreat  2.530000e-05\n",
       "24334      3  Italy410      1.0       StormCapitalRetreat  1.548150e-04\n",
       "24335      3  Italy410      1.0           StormPopRetreat  1.371690e-04\n",
       "24336      3  Italy410      1.0               RetreatCost  3.858110e-04\n",
       "125449     3  Italy410     10.0              FloodRetreat  1.333250e-04\n",
       "125450     3  Italy410     10.0           RelocateRetreat  4.010000e-05\n",
       "125451     3  Italy410     10.0       StormCapitalRetreat  2.510000e-07\n",
       "125452     3  Italy410     10.0           StormPopRetreat  2.220000e-07\n",
       "125453     3  Italy410     10.0               RetreatCost  1.952950e-04\n",
       "224369     3  Italy410    100.0              FloodRetreat  1.175194e-03\n",
       "224370     3  Italy410    100.0           RelocateRetreat  3.793960e-04\n",
       "224371     3  Italy410    100.0       StormCapitalRetreat  1.350000e-10\n",
       "224372     3  Italy410    100.0           StormPopRetreat  1.200000e-10\n",
       "224373     3  Italy410    100.0               RetreatCost  1.576029e-03\n",
       "323380     3  Italy410   1000.0              FloodRetreat  2.294477e-03\n",
       "323381     3  Italy410   1000.0           RelocateRetreat  3.793960e-04\n",
       "323382     3  Italy410   1000.0       StormCapitalRetreat  4.160000e-14\n",
       "323383     3  Italy410   1000.0           StormPopRetreat  3.690000e-14\n",
       "323384     3  Italy410   1000.0               RetreatCost  2.695312e-03\n",
       "422335     3  Italy410  10000.0              FloodRetreat  3.219966e-02\n",
       "422336     3  Italy410  10000.0           RelocateRetreat  6.024100e-04\n",
       "422337     3  Italy410  10000.0       StormCapitalRetreat  1.820000e-44\n",
       "422338     3  Italy410  10000.0           StormPopRetreat  1.610000e-44\n",
       "422339     3  Italy410  10000.0               RetreatCost  3.282351e-02\n",
       "517920     3  Italy410      NaN            WetlandProtect  7.763450e-04\n",
       "517921     3  Italy410     10.0                 Construct  1.668873e-03\n",
       "517922     3  Italy410     10.0       StormCapitalProtect  2.044390e-04\n",
       "517923     3  Italy410     10.0           StormPopProtect  1.811370e-04\n",
       "517924     3  Italy410     10.0               ProtectCost  2.830794e-03\n",
       "602140     3  Italy410      NaN            WetlandProtect  7.763450e-04\n",
       "602141     3  Italy410    100.0                 Construct  3.203745e-03\n",
       "602142     3  Italy410    100.0       StormCapitalProtect  8.390000e-08\n",
       "602143     3  Italy410    100.0           StormPopProtect  7.440000e-08\n",
       "602144     3  Italy410    100.0               ProtectCost  3.980248e-03\n",
       "683718     3  Italy410   1000.0                 Construct  4.342997e-03\n",
       "683719     3  Italy410   1000.0       StormCapitalProtect  2.260000e-10\n",
       "683720     3  Italy410   1000.0           StormPopProtect  2.000000e-10\n",
       "683721     3  Italy410   1000.0               ProtectCost  5.119342e-03\n",
       "763318     3  Italy410  10000.0                 Construct  1.419244e-02\n",
       "763319     3  Italy410  10000.0       StormCapitalProtect  1.360000e-32\n",
       "763320     3  Italy410  10000.0           StormPopProtect  1.210000e-32\n",
       "763321     3  Italy410  10000.0               ProtectCost  1.496878e-02\n",
       "848719     3  Italy410      NaN            WetlandNoAdapt  2.140000e-05\n",
       "848720     3  Italy410      NaN              FloodNoAdapt  1.138590e-04\n",
       "848721     3  Italy410      NaN           RelocateNoAdapt  1.696070e-04\n",
       "848722     3  Italy410      NaN       StormCapitalNoAdapt  3.880000e-05\n",
       "848723     3  Italy410      NaN           StormPopNoAdapt  3.430000e-05\n",
       "848724     3  Italy410      NaN               NoAdaptCost  3.780230e-04\n",
       "950359     3  Italy410      NaN       WetlandOptimalFixed  2.140000e-05\n",
       "950360     3  Italy410      NaN         FloodOptimalFixed  4.710000e-05\n",
       "950361     3  Italy410      NaN      RelocateOptimalFixed  2.530000e-05\n",
       "950362     3  Italy410      NaN  StormCapitalOptimalFixed  1.548150e-04\n",
       "950363     3  Italy410      NaN      StormPopOptimalFixed  1.371690e-04\n",
       "950364     3  Italy410      NaN          OptimalFixedCost  3.858110e-04"
      ]
     },
     "execution_count": 666,
     "metadata": {},
     "output_type": "execute_result"
    }
   ],
   "source": [
    "dfGsub.loc[(dfGsub.segments==seg) & (dfGsub.time==3)]"
   ]
  },
  {
   "cell_type": "markdown",
   "metadata": {},
   "source": [
    "Subset down to just the segments we need to correct, to speed things up quite a bit.\n",
    "\n",
    "t=10 has the largest share of bad segs"
   ]
  },
  {
   "cell_type": "code",
   "execution_count": 702,
   "metadata": {},
   "outputs": [],
   "source": [
    "dfNsub = dfN.loc[(dfN.segments.isin(bad_segs_3))]\n",
    "dfOsub = dfO.loc[(dfO.segments.isin(bad_segs_3))]\n",
    "dfGsub = dfG.loc[(dfG.segments.isin(bad_segs_3))]"
   ]
  },
  {
   "cell_type": "markdown",
   "metadata": {},
   "source": [
    "Get the GAMS costs for these segments"
   ]
  },
  {
   "cell_type": "code",
   "execution_count": 684,
   "metadata": {},
   "outputs": [
    {
     "name": "stdout",
     "output_type": "stream",
     "text": [
      "3 Mismatched segments GAMS total optimal cost: 0.04402715100000001\n"
     ]
    }
   ],
   "source": [
    "t = 3\n",
    "gams_actions = []\n",
    "gams_costs = []\n",
    "for seg in bad_segs_3:\n",
    "    gams_opt_cost = float(dfGsub.loc[(dfGsub.segments==seg) & (dfGsub.time==t) & \n",
    "                                     (dfGsub.variable==\"OptimalFixedCost\"), \"value\"])\n",
    "    gams_costs.append(gams_opt_cost)\n",
    "print(t,\"Mismatched segments GAMS total optimal cost:\",np.sum(gams_costs))"
   ]
  },
  {
   "cell_type": "code",
   "execution_count": 685,
   "metadata": {},
   "outputs": [
    {
     "data": {
      "text/plain": [
       "0.000385811"
      ]
     },
     "execution_count": 685,
     "metadata": {},
     "output_type": "execute_result"
    }
   ],
   "source": [
    "gams_costs[0]"
   ]
  },
  {
   "cell_type": "code",
   "execution_count": 687,
   "metadata": {},
   "outputs": [
    {
     "data": {
      "text/html": [
       "<div>\n",
       "<style scoped>\n",
       "    .dataframe tbody tr th:only-of-type {\n",
       "        vertical-align: middle;\n",
       "    }\n",
       "\n",
       "    .dataframe tbody tr th {\n",
       "        vertical-align: top;\n",
       "    }\n",
       "\n",
       "    .dataframe thead th {\n",
       "        text-align: right;\n",
       "    }\n",
       "</style>\n",
       "<table border=\"1\" class=\"dataframe\">\n",
       "  <thead>\n",
       "    <tr style=\"text-align: right;\">\n",
       "      <th></th>\n",
       "      <th>time</th>\n",
       "      <th>segments</th>\n",
       "      <th>level</th>\n",
       "      <th>variable</th>\n",
       "      <th>value</th>\n",
       "    </tr>\n",
       "  </thead>\n",
       "  <tbody>\n",
       "    <tr>\n",
       "      <th>24336</th>\n",
       "      <td>3</td>\n",
       "      <td>Italy410</td>\n",
       "      <td>1.0</td>\n",
       "      <td>RetreatCost</td>\n",
       "      <td>0.000386</td>\n",
       "    </tr>\n",
       "    <tr>\n",
       "      <th>950364</th>\n",
       "      <td>3</td>\n",
       "      <td>Italy410</td>\n",
       "      <td>NaN</td>\n",
       "      <td>OptimalFixedCost</td>\n",
       "      <td>0.000386</td>\n",
       "    </tr>\n",
       "  </tbody>\n",
       "</table>\n",
       "</div>"
      ],
      "text/plain": [
       "        time  segments  level          variable     value\n",
       "24336      3  Italy410    1.0       RetreatCost  0.000386\n",
       "950364     3  Italy410    NaN  OptimalFixedCost  0.000386"
      ]
     },
     "execution_count": 687,
     "metadata": {},
     "output_type": "execute_result"
    }
   ],
   "source": [
    "dfG85.loc[(dfG85.segments==bad_segs_3[0]) & (dfG85.time==3) & (dfG85.value==gams_costs[0])]"
   ]
  },
  {
   "cell_type": "markdown",
   "metadata": {},
   "source": [
    "#### get optimal actions for each of the model versions, for each segment"
   ]
  },
  {
   "cell_type": "code",
   "execution_count": 751,
   "metadata": {},
   "outputs": [],
   "source": [
    "actions_G = {}\n",
    "dfGsub = dfG.loc[(dfG.time==1) & (dfG.variable.isin([\"OptimalFixedCost\",\"NoAdaptCost\",\"ProtectCost\",\"RetreatCost\"]))]\n",
    "for seg in dfGsub.loc[(dfGsub.time==1)&(dfGsub.variable==\"OptimalFixedCost\"), \"segments\"].unique():\n",
    "    cost = float(dfGsub.loc[(dfGsub.time==1) & (dfGsub.segments==seg) & (dfGsub.variable==\"OptimalFixedCost\"), \"value\"])\n",
    "    level_action = dfGsub.loc[(dfGsub.time==1) & (dfGsub.segments==seg) & \n",
    "                              (dfGsub.value==cost) & (dfGsub.variable!=\"OptimalFixedCost\"),[\"level\",\"variable\"]]\n",
    "    if level_action[\"variable\"].iloc[0]==\"NoAdaptCost\":\n",
    "        actions_G[seg] = level_action[\"variable\"].iloc[0]+\"0\"\n",
    "    else:\n",
    "        actions_G[seg] = level_action[\"variable\"].iloc[0]+str(int(level_action[\"level\"].iloc[0]))"
   ]
  },
  {
   "cell_type": "code",
   "execution_count": 752,
   "metadata": {},
   "outputs": [],
   "source": [
    "actions_N = {}\n",
    "dfNsub = dfN.loc[(dfN.time==1) & (dfN.variable.isin([\"OptimalCost\",\"NoAdaptCost\",\"ProtectCost\",\"RetreatCost\"]))]\n",
    "for seg in dfNsub.loc[(dfNsub.time==1)&(dfNsub.variable==\"OptimalCost\"), \"segments\"].unique():\n",
    "    cost = float(dfNsub.loc[(dfNsub.time==1) & (dfNsub.segments==seg) & (dfNsub.variable==\"OptimalCost\"), \"value\"])\n",
    "    level_action = dfNsub.loc[(dfNsub.time==1) & (dfNsub.segments==seg) & \n",
    "                              (dfNsub.value==cost) & (dfNsub.variable!=\"OptimalCost\"),[\"level\",\"variable\"]]\n",
    "    if level_action[\"variable\"].iloc[0]==\"NoAdaptCost\":\n",
    "        actions_N[seg] = level_action[\"variable\"].iloc[0]+\"0\"\n",
    "    else:\n",
    "        actions_N[seg] = level_action[\"variable\"].iloc[0]+str(int(level_action[\"level\"].iloc[0]))"
   ]
  },
  {
   "cell_type": "markdown",
   "metadata": {},
   "source": [
    "#### find which segments have a mismatch"
   ]
  },
  {
   "cell_type": "code",
   "execution_count": 753,
   "metadata": {},
   "outputs": [],
   "source": [
    "mismatches = {}\n",
    "for seg in actions_G.keys():\n",
    "    if actions_G[seg]!=actions_N[seg]:\n",
    "        mismatches[seg] = (actions_G[seg],actions_N[seg])"
   ]
  },
  {
   "cell_type": "markdown",
   "metadata": {},
   "source": [
    "Compute the NPV using the full time horizon for decision-making (entire simulation period), instead of the new version's shorter time horizon (40-50 years)."
   ]
  },
  {
   "cell_type": "code",
   "execution_count": 299,
   "metadata": {},
   "outputs": [],
   "source": [
    "import time"
   ]
  },
  {
   "cell_type": "code",
   "execution_count": 756,
   "metadata": {},
   "outputs": [
    {
     "name": "stdout",
     "output_type": "stream",
     "text": [
      "1542.6444862524668\n"
     ]
    }
   ],
   "source": [
    "tbeg = time.time()\n",
    "\n",
    "new_costs, new_NPV = [0]*len(mismatches), [0]*len(mismatches)\n",
    "new_choices = [0]*len(mismatches)\n",
    "old_costs = [0]*len(mismatches)\n",
    "\n",
    "# dict keys don't have fixed order, so save as a list\n",
    "mismatch_segments = list(mismatches.keys())\n",
    "\n",
    "# subset to only segments we need\n",
    "dfNsub = dfN.loc[(dfN.segments.isin(mismatch_segments))]\n",
    "dfOsub = dfO.loc[(dfO.segments.isin(mismatch_segments))]\n",
    "dfGsub = dfG.loc[(dfG.segments.isin(mismatch_segments))]\n",
    "\n",
    "for seg in mismatch_segments:\n",
    "    s = mismatch_segments.index(seg)\n",
    "\n",
    "    t=1 # needs to be reset each segment\n",
    "    option_costs = []\n",
    "    for var in [\"RetreatCost\",\"ProtectCost\",\"NoAdaptCost\"]:\n",
    "        for lev in levs[var]:\n",
    "            if var != \"NoAdaptCost\":\n",
    "                NPV = dfNsub.loc[(dfNsub.variable==var) & (dfNsub.segments==seg) & \n",
    "                                 (dfNsub.level==lev), \"value\"]*discountfactor\n",
    "            else:\n",
    "                NPV = dfNsub.loc[(dfNsub.variable==var) & (dfNsub.segments==seg),\"value\"]*discountfactor\n",
    "            option_costs.append(np.sum(NPV))\n",
    "    new_NPV[s] = min(option_costs)\n",
    "    new_choices[s] = options[option_costs.index(new_NPV[s])]\n",
    "    # get the new optimal costs in this time step\n",
    "    var = new_choices[s][:7]+\"Cost\"  # RetreatCost, ProtectCost, NoAdaptCost\n",
    "    lev = int(re.findall(r'\\d+', new_choices[s])[0])\n",
    "    if var != \"NoAdaptCost\":\n",
    "        new_costs[s] = float(dfNsub.loc[(dfNsub.segments==seg) & (dfNsub.time==t) & \n",
    "                                        (dfNsub.variable==var) & (dfNsub.level==lev), \"value\"])\n",
    "    else:\n",
    "        new_costs[s] = float(dfNsub.loc[(dfNsub.segments==seg) & (dfNsub.time==t) & \n",
    "                                        (dfNsub.variable==var), \"value\"])\n",
    "    old_costs[s] = float(dfOsub.loc[(dfOsub.segments==seg) & (dfOsub.time==t), \"OptimalCost\"])\n",
    "\n",
    "    # correct the results dataframes to match the GAMS version's perfect foresight\n",
    "    dfO.loc[(dfO.segments==seg),\"variable\"] = var  # these are assuming fixed mode\n",
    "    dfO.loc[(dfO.segments==seg),\"level\"] = lev\n",
    "    dfO.loc[(dfO.segments==seg) & (dfO.time==t),\"OptimalCost\"] = new_costs[s]\n",
    "    dfN.loc[(dfN.segments==seg) & (dfN.time==t) & (dfN.variable==\"OptimalCost\"), \"value\"] = new_costs[s]\n",
    "    dfC.loc[(dfC.time==t) & (dfC.variable==\"OptimalCost\"), \"value\"] = dfC.loc[(dfC.time==t) & (dfC.variable==\"OptimalCost\"), \"value\"] - \\\n",
    "                                                                      old_costs[s] + new_costs[s]\n",
    "    # In subsequent years, the choice and level stay the same. So, just need to correct things in dfO, dfN, and dfC. \n",
    "    # Retain the other versions of these dataframes from above to compare how the perfect foresight leads to an overestimation of costs.\n",
    "    for t in dfC.time.unique()[1:]:\n",
    "        if var!=\"NoAdaptCost\":\n",
    "            optcost = float(dfNsub.loc[(dfNsub.segments==seg) & (dfNsub.time==t) & \n",
    "                                       (dfNsub.variable==var) & (dfNsub.level==lev), \"value\"])\n",
    "        else:\n",
    "            optcost = float(dfNsub.loc[(dfNsub.segments==seg) & (dfNsub.time==t) & \n",
    "                                       (dfNsub.variable==var), \"value\"])\n",
    "        old_optcost = float(dfNsub.loc[(dfNsub.segments==seg) & (dfNsub.time==t) & (dfNsub.variable==\"OptimalCost\"), \"value\"])\n",
    "        dfN.loc[(dfN.segments==seg) & (dfN.time==t) & (dfN.variable==\"OptimalCost\"), \"value\"] = optcost\n",
    "        dfO.loc[(dfO.segments==seg) & (dfO.time==t), \"OptimalCost\"] = optcost\n",
    "        dfC.loc[(dfC.time==t) & (dfC.variable==\"OptimalCost\"), \"value\"] += optcost - old_optcost\n",
    "        \n",
    "tend = time.time()\n",
    "print((tend-tbeg)/60)"
   ]
  },
  {
   "cell_type": "code",
   "execution_count": 710,
   "metadata": {},
   "outputs": [],
   "source": []
  },
  {
   "cell_type": "markdown",
   "metadata": {},
   "source": [
    "**timing estimate**\n",
    "\n",
    "1.91 minutes for 4 segments"
   ]
  },
  {
   "cell_type": "code",
   "execution_count": 307,
   "metadata": {},
   "outputs": [
    {
     "name": "stdout",
     "output_type": "stream",
     "text": [
      "5.418203134884437\n"
     ]
    }
   ],
   "source": [
    "seconds_per_segment = (tend-tbeg)/4\n",
    "minutes_for_all = seconds_per_segment*len(bad_segs)/60\n",
    "hours_for_all = minutes_for_all/60\n",
    "print(hours_for_all)"
   ]
  },
  {
   "cell_type": "code",
   "execution_count": 755,
   "metadata": {},
   "outputs": [
    {
     "name": "stdout",
     "output_type": "stream",
     "text": [
      "0.22450597809420694\n"
     ]
    }
   ],
   "source": [
    "#seconds_per_segment = (tend-tbeg)/len(bad_segs_3)\n",
    "minutes_for_all = seconds_per_segment*len(bad_segs_3)/60\n",
    "hours_for_all = minutes_for_all/60\n",
    "print(hours_for_all)"
   ]
  },
  {
   "cell_type": "code",
   "execution_count": 551,
   "metadata": {},
   "outputs": [
    {
     "name": "stdout",
     "output_type": "stream",
     "text": [
      "5.1061485591861935\n"
     ]
    }
   ],
   "source": [
    "seconds_per_segment = (tend-tbeg)/len(bad_segs)\n",
    "minutes_for_all = seconds_per_segment*len(bad_segs)/60\n",
    "hours_for_all = minutes_for_all/60\n",
    "print(hours_for_all)"
   ]
  },
  {
   "cell_type": "code",
   "execution_count": 758,
   "metadata": {},
   "outputs": [],
   "source": [
    "dfC.to_csv(\"dfC.csv\")\n",
    "dfN.to_csv(\"dfN.csv\")\n",
    "dfO.to_csv(\"dfO.csv\")"
   ]
  },
  {
   "cell_type": "markdown",
   "metadata": {},
   "source": [
    "Define a function to compare the old results (Diaz 2016) to the new ones (this work), with the baseline model configuration. The baseline configuration should match the forcings/inputs for the Diaz 2016 results."
   ]
  },
  {
   "cell_type": "code",
   "execution_count": 119,
   "metadata": {},
   "outputs": [],
   "source": [
    "def compare(dfD, dfN, var, lev=False, times=list(range(1,11)), verbose=True):\n",
    "    varD = var\n",
    "    names = {\"OptimalCost\" : \"OptimalFixedCost\"}#, \"Construct\" : \"ConstructOptimalFixed\"}\n",
    "    if var in names.keys():\n",
    "        varD = names[var]\n",
    "    if lev:\n",
    "        D = [dfD.loc[(dfD.variable==varD) & (dfD.level==lev) & (dfD.time==t), \"value\"].sum() for t in times]\n",
    "        N = list(dfN.loc[(dfN.variable==var) & (dfN.level==lev) & (dfN.time>=times[0]) & (dfN.time<=np.max(times)), \"value\"])\n",
    "    else:\n",
    "        D = [dfD.loc[(dfD.variable==varD) & (dfD.time==t), \"value\"].sum() for t in times]\n",
    "        N = list(dfN.loc[(dfN.variable==var) & (dfN.time>=times[0]) & (dfN.time<=np.max(times)), \"value\"])\n",
    "    if verbose:\n",
    "        print(\"time | Diaz | New\")\n",
    "        for t in range(len(times)):\n",
    "            print(times[t], np.round(D[t],3), np.round(N[t],3))\n",
    "    return [N[t]-D[t] for t in range(len(times))]"
   ]
  },
  {
   "cell_type": "markdown",
   "metadata": {},
   "source": [
    "Checking NoAdaptCost..."
   ]
  },
  {
   "cell_type": "code",
   "execution_count": 759,
   "metadata": {},
   "outputs": [
    {
     "name": "stdout",
     "output_type": "stream",
     "text": [
      "time | Diaz | New\n",
      "1 119.166 119.166\n",
      "2 189.336 189.336\n",
      "3 304.226 304.226\n",
      "4 484.775 484.775\n",
      "5 787.095 787.095\n",
      "6 1217.032 1217.038\n",
      "7 1566.374 1566.376\n",
      "8 1878.132 1878.142\n",
      "9 2043.672 2043.716\n",
      "10 2251.458 2251.467\n",
      "11 2635.751 2635.751\n"
     ]
    }
   ],
   "source": [
    "x = compare(dfG, dfC, var=\"NoAdaptCost\", lev=False, times=list(range(1,12)), verbose=True)"
   ]
  },
  {
   "cell_type": "markdown",
   "metadata": {},
   "source": [
    "Checking OptimalCost..."
   ]
  },
  {
   "cell_type": "code",
   "execution_count": 760,
   "metadata": {},
   "outputs": [
    {
     "name": "stdout",
     "output_type": "stream",
     "text": [
      "time | Diaz | New\n",
      "1 29.274 29.274\n",
      "2 33.032 33.032\n",
      "3 39.718 39.718\n",
      "4 52.752 52.752\n",
      "5 115.535 115.536\n",
      "6 132.086 132.087\n",
      "7 148.209 148.21\n",
      "8 163.731 163.732\n",
      "9 178.017 178.018\n",
      "10 282.067 282.078\n",
      "11 303.188 303.195\n",
      "12 317.413 317.418\n",
      "13 334.457 334.459\n",
      "14 361.867 361.871\n",
      "15 472.01 472.037\n",
      "16 487.168 487.182\n",
      "17 504.866 504.872\n",
      "18 535.896 535.904\n",
      "19 617.441 617.456\n"
     ]
    }
   ],
   "source": [
    "x = compare(dfG, dfC, var=\"OptimalCost\", lev=False, times=list(range(1,20)), verbose=True)"
   ]
  },
  {
   "cell_type": "markdown",
   "metadata": {},
   "source": [
    "Check RetreatCost..."
   ]
  },
  {
   "cell_type": "code",
   "execution_count": 761,
   "metadata": {},
   "outputs": [
    {
     "name": "stdout",
     "output_type": "stream",
     "text": [
      "time | Diaz | New\n",
      "1 123.019 123.019\n",
      "2 173.769 173.769\n",
      "3 277.287 277.287\n",
      "4 496.142 496.142\n",
      "5 279.418 279.418\n",
      "6 327.637 327.637\n",
      "7 407.305 407.305\n",
      "8 549.06 549.06\n",
      "9 847.47 847.47\n",
      "10 577.476 577.476\n",
      "11 624.229 624.229\n"
     ]
    }
   ],
   "source": [
    "x = compare(dfG, dfC, var=\"RetreatCost\", lev=10, times=list(range(1,12)), verbose=True)"
   ]
  },
  {
   "cell_type": "markdown",
   "metadata": {},
   "source": [
    "Check ProtectCost..."
   ]
  },
  {
   "cell_type": "code",
   "execution_count": 762,
   "metadata": {},
   "outputs": [
    {
     "name": "stdout",
     "output_type": "stream",
     "text": [
      "time | Diaz | New\n",
      "1 831.335 831.335\n",
      "2 1333.589 1333.589\n",
      "3 2411.871 2411.871\n",
      "4 4775.877 4775.877\n",
      "5 1339.202 1339.202\n",
      "6 2118.873 2118.873\n",
      "7 3735.674 3735.674\n",
      "8 7285.422 7285.422\n",
      "9 15344.465 15344.465\n",
      "10 2325.17 2325.17\n",
      "11 3528.217 3528.217\n"
     ]
    }
   ],
   "source": [
    "x = compare(dfG, dfC, var=\"ProtectCost\", lev=10, times=list(range(1,12)), verbose=True)"
   ]
  },
  {
   "cell_type": "markdown",
   "metadata": {},
   "source": [
    "Check Construct costs..."
   ]
  },
  {
   "cell_type": "code",
   "execution_count": 763,
   "metadata": {},
   "outputs": [
    {
     "name": "stdout",
     "output_type": "stream",
     "text": [
      "time | Diaz | New\n",
      "1 265.345 265.345\n",
      "2 265.345 265.345\n",
      "3 265.345 265.345\n",
      "4 265.345 265.345\n",
      "5 407.159 407.159\n",
      "6 407.159 407.159\n",
      "7 407.159 407.159\n",
      "8 407.159 407.159\n",
      "9 407.159 407.159\n",
      "10 642.599 642.599\n",
      "11 642.599 642.599\n"
     ]
    }
   ],
   "source": [
    "x = compare(dfG, dfC, var=\"Construct\", lev=100, times=list(range(1,12)), verbose=True)"
   ]
  },
  {
   "cell_type": "markdown",
   "metadata": {},
   "source": [
    "## Format new results into DataFrames for plotting and comparisons\n",
    "\n",
    "### Results with perfect foresight, matching GAMS results (Diaz 2016)"
   ]
  },
  {
   "cell_type": "code",
   "execution_count": 765,
   "metadata": {},
   "outputs": [],
   "source": [
    "dfNew0 = pd.DataFrame()\n",
    "dfNew0[\"time\"] = dfDiaz.time\n",
    "dfNew0[\"NoAdapt\"] = list(dfC.loc[(dfC.variable==\"NoAdaptCost\") & (dfC.time <= 10), \"value\"])\n",
    "dfNew0[\"Optimal\"] = list(dfC.loc[(dfC.variable==\"OptimalCost\") & (dfC.time <= 10), \"value\"])\n",
    "dfNew0[\"FloodNoAdapt\"] = list(dfC.loc[(dfC.variable==\"FloodNoAdapt\") & (dfC.time <= 10), \"value\"])\n",
    "dfNew0[\"WetlandNoAdapt\"] = list(dfC.loc[(dfC.variable==\"WetlandNoAdapt\") & (dfC.time <= 10), \"value\"])\n",
    "dfNew0[\"RelocateNoAdapt\"] = list(dfC.loc[(dfC.variable==\"RelocateNoAdapt\") & (dfC.time <= 10), \"value\"])\n",
    "dfNew0[\"StormCapitalNoAdapt\"] = list(dfC.loc[(dfC.variable==\"StormCapitalNoAdapt\") & (dfC.time <= 10), \"value\"])\n",
    "dfNew0[\"StormPopNoAdapt\"] = list(dfC.loc[(dfC.variable==\"StormPopNoAdapt\") & (dfC.time <= 10), \"value\"])\n",
    "dfNew0[\"ProtectCost10\"] = list(dfC.loc[(dfC.variable==\"ProtectCost\") & (dfC.level==10) & (dfC.time <= 10), \"value\"])\n",
    "dfNew0[\"ProtectCost100\"] = list(dfC.loc[(dfC.variable==\"ProtectCost\") & (dfC.level==100) & (dfC.time <= 10), \"value\"])\n",
    "dfNew0[\"ProtectCost1000\"] = list(dfC.loc[(dfC.variable==\"ProtectCost\") & (dfC.level==1000) & (dfC.time <= 10), \"value\"])\n",
    "dfNew0[\"ProtectCost10000\"] = list(dfC.loc[(dfC.variable==\"ProtectCost\") & (dfC.level==10000) & (dfC.time <= 10), \"value\"])\n",
    "dfNew0[\"RetreatCost1\"] = list(dfC.loc[(dfC.variable==\"RetreatCost\") & (dfC.level==1) & (dfC.time <= 10), \"value\"])\n",
    "dfNew0[\"RetreatCost10\"] = list(dfC.loc[(dfC.variable==\"RetreatCost\") & (dfC.level==10) & (dfC.time <= 10), \"value\"])\n",
    "dfNew0[\"RetreatCost100\"] = list(dfC.loc[(dfC.variable==\"RetreatCost\") & (dfC.level==100) & (dfC.time <= 10), \"value\"])\n",
    "dfNew0[\"RetreatCost1000\"] = list(dfC.loc[(dfC.variable==\"RetreatCost\") & (dfC.level==1000) & (dfC.time <= 10), \"value\"])\n",
    "dfNew0[\"RetreatCost10000\"] = list(dfC.loc[(dfC.variable==\"RetreatCost\") & (dfC.level==10000) & (dfC.time <= 10), \"value\"])"
   ]
  },
  {
   "cell_type": "markdown",
   "metadata": {},
   "source": [
    "### Results with limited (adaptation period) foresight"
   ]
  },
  {
   "cell_type": "code",
   "execution_count": 764,
   "metadata": {},
   "outputs": [],
   "source": [
    "dfNew1 = pd.DataFrame()\n",
    "dfNew1[\"time\"] = dfDiaz.time\n",
    "dfNew1[\"NoAdapt\"] = list(dfC1.loc[(dfC1.variable==\"NoAdaptCost\") & (dfC1.time <= 10), \"value\"])\n",
    "dfNew1[\"Optimal\"] = list(dfC1.loc[(dfC1.variable==\"OptimalCost\") & (dfC1.time <= 10), \"value\"])\n",
    "dfNew1[\"FloodNoAdapt\"] = list(dfC1.loc[(dfC1.variable==\"FloodNoAdapt\") & (dfC1.time <= 10), \"value\"])\n",
    "dfNew1[\"WetlandNoAdapt\"] = list(dfC1.loc[(dfC1.variable==\"WetlandNoAdapt\") & (dfC1.time <= 10), \"value\"])\n",
    "dfNew1[\"RelocateNoAdapt\"] = list(dfC1.loc[(dfC1.variable==\"RelocateNoAdapt\") & (dfC1.time <= 10), \"value\"])\n",
    "dfNew1[\"StormCapitalNoAdapt\"] = list(dfC1.loc[(dfC1.variable==\"StormCapitalNoAdapt\") & (dfC1.time <= 10), \"value\"])\n",
    "dfNew1[\"StormPopNoAdapt\"] = list(dfC1.loc[(dfC1.variable==\"StormPopNoAdapt\") & (dfC1.time <= 10), \"value\"])\n",
    "dfNew1[\"ProtectCost10\"] = list(dfC1.loc[(dfC1.variable==\"ProtectCost\") & (dfC1.level==10) & (dfC1.time <= 10), \"value\"])\n",
    "dfNew1[\"ProtectCost100\"] = list(dfC1.loc[(dfC1.variable==\"ProtectCost\") & (dfC1.level==100) & (dfC1.time <= 10), \"value\"])\n",
    "dfNew1[\"ProtectCost1000\"] = list(dfC1.loc[(dfC1.variable==\"ProtectCost\") & (dfC1.level==1000) & (dfC1.time <= 10), \"value\"])\n",
    "dfNew1[\"ProtectCost10000\"] = list(dfC1.loc[(dfC1.variable==\"ProtectCost\") & (dfC1.level==10000) & (dfC1.time <= 10), \"value\"])\n",
    "dfNew1[\"RetreatCost1\"] = list(dfC1.loc[(dfC1.variable==\"RetreatCost\") & (dfC1.level==1) & (dfC1.time <= 10), \"value\"])\n",
    "dfNew1[\"RetreatCost10\"] = list(dfC1.loc[(dfC1.variable==\"RetreatCost\") & (dfC1.level==10) & (dfC1.time <= 10), \"value\"])\n",
    "dfNew1[\"RetreatCost100\"] = list(dfC1.loc[(dfC1.variable==\"RetreatCost\") & (dfC1.level==100) & (dfC1.time <= 10), \"value\"])\n",
    "dfNew1[\"RetreatCost1000\"] = list(dfC1.loc[(dfC1.variable==\"RetreatCost\") & (dfC1.level==1000) & (dfC1.time <= 10), \"value\"])\n",
    "dfNew1[\"RetreatCost10000\"] = list(dfC1.loc[(dfC1.variable==\"RetreatCost\") & (dfC1.level==10000) & (dfC1.time <= 10), \"value\"])"
   ]
  },
  {
   "cell_type": "markdown",
   "metadata": {},
   "source": [
    "### Figure: total no-adaptation and optimal costs over time - just matching old version (GAMS, Diaz 2016)"
   ]
  },
  {
   "cell_type": "code",
   "execution_count": 766,
   "metadata": {},
   "outputs": [
    {
     "data": {
      "image/png": "[encoded data removed]",
      "text/plain": [
       "<Figure size 576x720 with 2 Axes>"
      ]
     },
     "metadata": {
      "needs_background": "light"
     },
     "output_type": "display_data"
    }
   ],
   "source": [
    "sep = 1.8\n",
    "fig,ax = plt.subplots(nrows=2, ncols=1, figsize=(8,10))\n",
    "ax[0].bar(x=dfDiaz.time-sep, height=dfDiaz.NoAdapt, width=3, color=\"steelblue\", label=\"Diaz (2016)\")\n",
    "ax[0].bar(x=dfNew0.time+sep, height=dfNew0.NoAdapt, width=3, color=\"darkorange\", label=\"This work\")\n",
    "ax[0].grid(); ax[0].set_axisbelow(True)\n",
    "yticks = [0,500,1000,1500,2000]; ax[0].set_yticks(yticks); ax[0].set_yticklabels(yticks, fontsize=12)\n",
    "ax[0].set_xticks(range(2010,2110,10)); ax[0].set_xticklabels([\"\",2020,\"\",2040,\"\",2060,\"\",2080,\"\",2100], fontsize=12)\n",
    "ax[0].set_xlabel(\"Year\", fontsize=12); ax[0].set_ylabel(\"Annual No-Adapt Cost\\n(billion 2010$US)\", fontsize=12)\n",
    "ax[0].legend(fontsize=12)\n",
    "ax[1].bar(x=dfDiaz.time-sep, height=dfDiaz.Optimal, width=3, color=\"steelblue\", label=\"Diaz (2016)\")\n",
    "ax[1].bar(x=dfNew0.time+sep, height=dfNew0.Optimal, width=3, color=\"darkorange\", label=\"This work\")\n",
    "ax[1].grid(); ax[1].set_axisbelow(True)\n",
    "yticks = [0,50,100,150,200,250,300]; ax[1].set_yticks(yticks); ax[1].set_yticklabels(yticks, fontsize=12)\n",
    "ax[1].set_xticks(range(2010,2110,10)); ax[1].set_xticklabels([\"\",2020,\"\",2040,\"\",2060,\"\",2080,\"\",2100], fontsize=12)\n",
    "ax[1].set_xlabel(\"Year\", fontsize=12); ax[1].set_ylabel(\"Annual Least-Cost\\n(billion 2010$US)\", fontsize=12);\n",
    "fig.savefig(\"baseline_comparison_rcp85.pdf\", bbox_inches='tight');"
   ]
  },
  {
   "cell_type": "markdown",
   "metadata": {},
   "source": [
    "### Figure: total no-adaptation and optimal costs over time - version of figure with perfect foresight (matching GAMS version) and limited foresight"
   ]
  },
  {
   "cell_type": "markdown",
   "metadata": {},
   "source": [
    "#### total costs only"
   ]
  },
  {
   "cell_type": "code",
   "execution_count": 767,
   "metadata": {},
   "outputs": [
    {
     "data": {
      "image/png": "[encoded data removed]",
      "text/plain": [
       "<Figure size 576x720 with 2 Axes>"
      ]
     },
     "metadata": {
      "needs_background": "light"
     },
     "output_type": "display_data"
    }
   ],
   "source": [
    "sep = 2.5\n",
    "wid = 2.2\n",
    "\n",
    "fig,ax = plt.subplots(nrows=2, ncols=1, figsize=(8,10))\n",
    "ax[0].bar(x=dfDiaz.time-sep, height=dfDiaz.NoAdapt, width=wid, color=\"steelblue\", label=\"Diaz (2016)\")\n",
    "ax[0].bar(x=dfNew0.time, height=dfNew0.NoAdapt, width=wid, color=\"darkorange\", label=\"This work, perfect foresight\")\n",
    "ax[0].bar(x=dfNew1.time+sep, height=dfNew1.NoAdapt, width=wid, color=\"firebrick\", label=\"This work, limited foresight\")\n",
    "ax[0].grid(); ax[0].set_axisbelow(True); ax[0].set_xlim([2005,2105])\n",
    "yticks = [0,500,1000,1500,2000]; ax[0].set_yticks(yticks); ax[0].set_yticklabels(yticks, fontsize=12)\n",
    "ax[0].set_xticks(range(2010,2110,10)); ax[0].set_xticklabels([\"\",2020,\"\",2040,\"\",2060,\"\",2080,\"\",2100], fontsize=12)\n",
    "ax[0].set_xlabel(\"Year\", fontsize=12); ax[0].set_ylabel(\"Annual No-Adapt Cost\\n(billion 2010$US)\", fontsize=12)\n",
    "ax[0].legend(fontsize=12)\n",
    "ax[1].bar(x=dfDiaz.time-sep, height=dfDiaz.Optimal, width=wid, color=\"steelblue\", label=\"Diaz (2016)\")\n",
    "ax[1].bar(x=dfNew0.time, height=dfNew0.Optimal, width=wid, color=\"darkorange\", label=\"This work\")\n",
    "ax[1].bar(x=dfNew1.time+sep, height=dfNew1.Optimal, width=wid, color=\"firebrick\", label=\"This work, limited foresight\")\n",
    "ax[1].grid(); ax[1].set_axisbelow(True); ax[0].set_xlim([2005,2105])\n",
    "yticks = [0,50,100,150,200,250,300]; ax[1].set_yticks(yticks); ax[1].set_yticklabels(yticks, fontsize=12)\n",
    "ax[1].set_xticks(range(2010,2110,10)); ax[1].set_xticklabels([\"\",2020,\"\",2040,\"\",2060,\"\",2080,\"\",2100], fontsize=12)\n",
    "ax[1].set_xlabel(\"Year\", fontsize=12); ax[1].set_ylabel(\"Annual Least-Cost\\n(billion 2010$US)\", fontsize=12);\n",
    "fig.savefig(\"baseline_comparison_rcp85.pdf\", bbox_inches='tight');"
   ]
  },
  {
   "cell_type": "markdown",
   "metadata": {},
   "source": [
    "#### with cost breakdown"
   ]
  },
  {
   "cell_type": "markdown",
   "metadata": {},
   "source": [
    "#### get optimal actions/costs for this work\n",
    "\n",
    "Is this a little bit off because in the no-adapt cases, not adding the RelocateNoAdapt to the retreat costs?"
   ]
  },
  {
   "cell_type": "code",
   "execution_count": 768,
   "metadata": {},
   "outputs": [],
   "source": [
    "retreat_costs_N0, retreat_costs_N1 = [0]*20, [0]*20\n",
    "protect_costs_N0, protect_costs_N1 = [0]*20, [0]*20\n",
    "inundation_costs_N0, inundation_costs_N1 = [0]*20, [0]*20\n",
    "wetland_costs_N0, wetland_costs_N1 = [0]*20, [0]*20\n",
    "flood_costs_N0, flood_costs_N1 = [0]*20, [0]*20\n",
    "\n",
    "segs_noadapt0 = dfO.loc[(dfO.variable==\"NoAdaptCost\") & (dfO.time==1), \"segments\"]\n",
    "segs_noadapt1 = dfO1.loc[(dfO1.variable==\"NoAdaptCost\") & (dfO1.time==1), \"segments\"]\n",
    "\n",
    "for t in range(1,21):\n",
    "    retreat_costs_N0[t-1] = dfO.loc[(dfO.variable==\"RetreatCost\") & (dfO.time==t), \"OptimalCost\"].sum()\n",
    "    retreat_costs_N1[t-1] = dfO1.loc[(dfO1.variable==\"RetreatCost\") & (dfO1.time==t), \"OptimalCost\"].sum()\n",
    "    protect_costs_N0[t-1] = dfO.loc[(dfO.variable==\"ProtectCost\") & (dfO.time==t), \"OptimalCost\"].sum()\n",
    "    protect_costs_N1[t-1] = dfO1.loc[(dfO1.variable==\"ProtectCost\") & (dfO1.time==t), \"OptimalCost\"].sum()\n",
    "    inundation_costs_N0[t-1] = dfN.loc[(dfN.variable==\"FloodNoAdapt\") & (dfN.time==t) & (dfN.segments.isin(segs_noadapt0)), \"value\"].sum()\n",
    "    inundation_costs_N1[t-1] = dfN1.loc[(dfN1.variable==\"FloodNoAdapt\") & (dfN1.time==t) & (dfN1.segments.isin(segs_noadapt1)), \"value\"].sum()\n",
    "    wetland_costs_N0[t-1] = dfN.loc[(dfN.variable==\"WetlandNoAdapt\") & (dfN.time==t) & (dfN.segments.isin(segs_noadapt0)), \"value\"].sum()\n",
    "    wetland_costs_N1[t-1] = dfN1.loc[(dfN1.variable==\"WetlandNoAdapt\") & (dfN1.time==t) & (dfN1.segments.isin(segs_noadapt1)), \"value\"].sum()\n",
    "    flood_costs_N0[t-1] = dfN.loc[((dfN.variable==\"StormCapitalNoAdapt\") | (dfN.variable==\"StormPopNoAdapt\")) & (dfN.time==t) & (dfN.segments.isin(segs_noadapt0)), \"value\"].sum()\n",
    "    flood_costs_N1[t-1] = dfN1.loc[((dfN1.variable==\"StormCapitalNoAdapt\") | (dfN1.variable==\"StormPopNoAdapt\")) & (dfN1.time==t) & (dfN1.segments.isin(segs_noadapt1)), \"value\"].sum()\n",
    "    retreat_costs_N0[t-1] += dfN.loc[(dfN.variable==\"RelocateNoAdapt\") & (dfN.time==t) & (dfN.segments.isin(segs_noadapt0)), \"value\"].sum()\n",
    "    retreat_costs_N1[t-1] += dfN1.loc[(dfN1.variable==\"RelocateNoAdapt\") & (dfN1.time==t) & (dfN1.segments.isin(segs_noadapt1)), \"value\"].sum()"
   ]
  },
  {
   "cell_type": "code",
   "execution_count": 769,
   "metadata": {},
   "outputs": [],
   "source": [
    "dfNew0[\"RetreatOptimal\"] = retreat_costs_N0[:len(dfNew0)]\n",
    "dfNew0[\"ProtectOptimal\"] = protect_costs_N0[:len(dfNew0)]\n",
    "dfNew0[\"InundationOptimal\"] = inundation_costs_N0[:len(dfNew0)]\n",
    "dfNew0[\"WetlandOptimal\"] = wetland_costs_N0[:len(dfNew0)]\n",
    "dfNew0[\"FloodOptimal\"] = flood_costs_N0[:len(dfNew0)]\n",
    "\n",
    "dfNew1[\"RetreatOptimal\"] = retreat_costs_N1[:len(dfNew1)]\n",
    "dfNew1[\"ProtectOptimal\"] = protect_costs_N1[:len(dfNew1)]\n",
    "dfNew1[\"InundationOptimal\"] = inundation_costs_N1[:len(dfNew1)]\n",
    "dfNew1[\"WetlandOptimal\"] = wetland_costs_N1[:len(dfNew1)]\n",
    "dfNew1[\"FloodOptimal\"] = flood_costs_N1[:len(dfNew1)]"
   ]
  },
  {
   "cell_type": "markdown",
   "metadata": {},
   "source": [
    "#### get optimal actions/costs for Diaz (2016)"
   ]
  },
  {
   "cell_type": "code",
   "execution_count": 541,
   "metadata": {},
   "outputs": [],
   "source": [
    "columns_we_want = [\"WetlandOptimalFixed\", \"RelocateOptimalFixed\", \"StormCapitalOptimalFixed\", \n",
    "                   \"StormPopOptimalFixed\", \"ConstructOptimalFixed\", \"FloodOptimalFixed\"]\n",
    "dfGsub = dfG.loc[(dfG.variable.isin(columns_we_want))]\n",
    "flood_G, wetland_G, inundation_G, retreat_G, protect_G = [0]*20, [0]*20, [0]*20, [0]*20, [0]*20\n",
    "for t in range(1,21):\n",
    "    retreat_G[t-1] = dfGsub.loc[(dfGsub.time==t) & (dfGsub.variable==\"RelocateOptimalFixed\"), \"value\"].sum()\n",
    "    protect_G[t-1] = dfGsub.loc[(dfGsub.time==t) & (dfGsub.variable==\"ConstructOptimalFixed\"), \"value\"].sum()\n",
    "    inundation_G[t-1] = dfGsub.loc[(dfGsub.time==t) & (dfGsub.variable==\"FloodOptimalFixed\"), \"value\"].sum()\n",
    "    wetland_G[t-1] = dfGsub.loc[(dfGsub.time==t) & (dfGsub.variable==\"WetlandOptimalFixed\"), \"value\"].sum()\n",
    "    flood_G[t-1] = dfGsub.loc[(dfGsub.time==t) & ((dfGsub.variable==\"StormCapitalOptimalFixed\")|(dfGsub.variable==\"StormPopOptimalFixed\")), \"value\"].sum()"
   ]
  },
  {
   "cell_type": "code",
   "execution_count": 542,
   "metadata": {},
   "outputs": [],
   "source": [
    "dfDiaz[\"RetreatOptimal\"] = retreat_G[:10]\n",
    "dfDiaz[\"ProtectOptimal\"] = protect_G[:10]\n",
    "dfDiaz[\"InundationOptimal\"] = inundation_G[:10]\n",
    "dfDiaz[\"WetlandOptimal\"] = wetland_G[:10]\n",
    "dfDiaz[\"FloodOptimal\"] = flood_G[:10]"
   ]
  },
  {
   "cell_type": "markdown",
   "metadata": {},
   "source": [
    "A little funky with how the variables are named, but what Diaz (2016) refers to in Figure 2 as \"flood\" damages is the losses to property and lives from storms (`StormCapital` and `StormPop`), which \"inundation\" is the actual flooded area (`Flood`)."
   ]
  },
  {
   "cell_type": "code",
   "execution_count": 770,
   "metadata": {},
   "outputs": [
    {
     "data": {
      "image/png": "[encoded data removed]",
      "text/plain": [
       "<Figure size 576x792 with 2 Axes>"
      ]
     },
     "metadata": {
      "needs_background": "light"
     },
     "output_type": "display_data"
    }
   ],
   "source": [
    "sep = 2.8\n",
    "wid = 2.3\n",
    "cost_cols = {\"protect\" : \"gray\", \"retreat\" : \"coral\", \"inundation\" : \"skyblue\", \"wetland\" : \"mediumseagreen\", \"flood\" : \"gold\"}\n",
    "\n",
    "fig,ax = plt.subplots(nrows=2, ncols=1, figsize=(8,11))\n",
    "# PANEL A: NO ADAPTATION COSTS\n",
    "# set up for the legend\n",
    "ax[0].bar(x=dfDiaz.time-sep, height=1, width=.5, color=\"white\", edgecolor=\"black\", label=\"Diaz (2016)\")\n",
    "ax[0].bar(x=dfNew0.time, height=1, width=.5, color=\"white\", hatch=\"x\", edgecolor=\"black\", label=\"This work, perfect foresight\")\n",
    "ax[0].bar(x=dfNew1.time, height=1, width=.5, color=\"white\", hatch=\".\", edgecolor=\"black\", label=\"This work, limited foresight\")\n",
    "# Diaz (2016) results\n",
    "ax[0].bar(x=dfDiaz.time-sep, height=1, width=.5, color=cost_cols[\"protect\"], label=\"protect\")\n",
    "ax[0].bar(x=dfDiaz.time-sep, height=dfDiaz.RelocateNoAdapt, width=wid, color=cost_cols[\"retreat\"], label=\"retreat\")\n",
    "ax[0].bar(x=dfDiaz.time-sep, height=dfDiaz.FloodNoAdapt, bottom=dfDiaz.RelocateNoAdapt, width=wid, color=cost_cols[\"inundation\"], label=\"inundation\")\n",
    "ax[0].bar(x=dfDiaz.time-sep, height=dfDiaz.WetlandNoAdapt, bottom=dfDiaz.RelocateNoAdapt+dfDiaz.FloodNoAdapt, width=wid, color=cost_cols[\"wetland\"], label=\"wetland\")\n",
    "ax[0].bar(x=dfDiaz.time-sep, height=dfDiaz.StormCapitalNoAdapt+dfDiaz.StormPopNoAdapt, bottom=dfDiaz.RelocateNoAdapt+dfDiaz.FloodNoAdapt+dfDiaz.WetlandNoAdapt, width=wid, color=cost_cols[\"flood\"], label=\"flood\")\n",
    "# This work, perfect foresight (match Diaz 2016)\n",
    "ax[0].bar(x=dfNew0.time, height=dfNew0.RelocateNoAdapt, width=wid, color=cost_cols[\"retreat\"], hatch=\"x\")\n",
    "ax[0].bar(x=dfNew0.time, height=dfNew0.FloodNoAdapt,bottom=dfNew0.RelocateNoAdapt,\n",
    "          width=wid, color=cost_cols[\"inundation\"], hatch=\"x\")\n",
    "ax[0].bar(x=dfNew0.time, height=dfNew0.WetlandNoAdapt, bottom=dfNew0.FloodNoAdapt+dfNew0.RelocateNoAdapt,\n",
    "          width=wid, color=cost_cols[\"wetland\"], hatch=\"x\")\n",
    "ax[0].bar(x=dfNew0.time, height=dfNew0.StormCapitalNoAdapt+dfNew0.StormPopNoAdapt, bottom=dfNew0.RelocateNoAdapt+dfNew0.FloodNoAdapt+dfNew0.WetlandNoAdapt,\n",
    "          width=wid, color=cost_cols[\"flood\"], hatch=\"x\")\n",
    "# This work, limited foresight\n",
    "ax[0].bar(x=dfNew1.time+sep, height=dfNew1.RelocateNoAdapt, width=wid, color=cost_cols[\"retreat\"], hatch=\".\")\n",
    "ax[0].bar(x=dfNew1.time+sep, height=dfNew1.FloodNoAdapt,bottom=dfNew1.RelocateNoAdapt,\n",
    "          width=wid, color=cost_cols[\"inundation\"], hatch=\".\")\n",
    "ax[0].bar(x=dfNew1.time+sep, height=dfNew1.WetlandNoAdapt, bottom=dfNew1.FloodNoAdapt+dfNew1.RelocateNoAdapt,\n",
    "          width=wid, color=cost_cols[\"wetland\"], hatch=\".\")\n",
    "ax[0].bar(x=dfNew1.time+sep, height=dfNew1.StormCapitalNoAdapt+dfNew1.StormPopNoAdapt, bottom=dfNew1.RelocateNoAdapt+dfNew1.FloodNoAdapt+dfNew1.WetlandNoAdapt,\n",
    "          width=wid, color=cost_cols[\"flood\"], hatch=\".\")\n",
    "# other plot configuration options\n",
    "ax[0].grid(); ax[0].set_axisbelow(True); ax[0].set_xlim([2005,2105])\n",
    "yticks = [0,500,1000,1500,2000]; ax[0].set_yticks(yticks); ax[0].set_yticklabels(yticks, fontsize=12)\n",
    "ax[0].set_xticks(range(2010,2110,10)); ax[0].set_xticklabels([\"\",2020,\"\",2040,\"\",2060,\"\",2080,\"\",2100], fontsize=12)\n",
    "ax[0].set_xlabel(\"Year\", fontsize=12); ax[0].set_ylabel(\"Annual No-Adapt Cost\\n(billion 2010$US)\", fontsize=12)\n",
    "ax[0].legend(fontsize=12)\n",
    "\n",
    "# PANEL B: OPTIMAL COSTS\n",
    "# Diaz (2016) results\n",
    "ax[1].bar(x=dfDiaz.time-sep, height=dfDiaz.ProtectOptimal, width=wid, color=cost_cols[\"protect\"])\n",
    "ax[1].bar(x=dfDiaz.time-sep, height=dfDiaz.RetreatOptimal, bottom=dfDiaz.ProtectOptimal, width=wid, color=cost_cols[\"retreat\"])\n",
    "ax[1].bar(x=dfDiaz.time-sep, height=dfDiaz.InundationOptimal, bottom=dfDiaz.ProtectOptimal+dfDiaz.RetreatOptimal, width=wid, color=cost_cols[\"inundation\"])\n",
    "ax[1].bar(x=dfDiaz.time-sep, height=dfDiaz.WetlandOptimal, bottom=dfDiaz.ProtectOptimal+dfDiaz.RetreatOptimal+dfDiaz.InundationOptimal, width=wid, color=cost_cols[\"wetland\"])\n",
    "ax[1].bar(x=dfDiaz.time-sep, height=dfDiaz.FloodOptimal, bottom=dfDiaz.ProtectOptimal+dfDiaz.RetreatOptimal+dfDiaz.InundationOptimal+dfDiaz.WetlandOptimal, width=wid, color=cost_cols[\"flood\"])\n",
    "# This work, perfect foresight (match Diaz 2016)\n",
    "ax[1].bar(x=dfNew0.time, height=dfNew0.ProtectOptimal, width=wid, color=cost_cols[\"protect\"], hatch=\"x\")\n",
    "ax[1].bar(x=dfNew0.time, height=dfNew0.RetreatOptimal, bottom=dfNew0.ProtectOptimal, width=wid, color=cost_cols[\"retreat\"], hatch=\"x\")\n",
    "ax[1].bar(x=dfNew0.time, height=dfNew0.InundationOptimal,bottom=dfNew0.ProtectOptimal+dfNew0.RetreatOptimal, width=wid, color=cost_cols[\"inundation\"], hatch=\"x\")\n",
    "ax[1].bar(x=dfNew0.time, height=dfNew0.WetlandOptimal, bottom=dfNew0.ProtectOptimal+dfNew0.RetreatOptimal+dfNew0.InundationOptimal, width=wid, color=cost_cols[\"wetland\"], hatch=\"x\")\n",
    "ax[1].bar(x=dfNew0.time, height=dfNew0.FloodOptimal, bottom=dfNew0.ProtectOptimal+dfNew0.RetreatOptimal+dfNew0.InundationOptimal+dfNew0.WetlandOptimal, width=wid, color=cost_cols[\"flood\"], hatch=\"x\")\n",
    "# This work, limited foresight\n",
    "ax[1].bar(x=dfNew1.time+sep, height=dfNew1.ProtectOptimal, width=wid, color=cost_cols[\"protect\"], hatch=\".\")\n",
    "ax[1].bar(x=dfNew1.time+sep, height=dfNew1.RetreatOptimal, bottom=dfNew1.ProtectOptimal, width=wid, color=cost_cols[\"retreat\"], hatch=\".\")\n",
    "ax[1].bar(x=dfNew1.time+sep, height=dfNew1.InundationOptimal,bottom=dfNew1.ProtectOptimal+dfNew1.RetreatOptimal, width=wid, color=cost_cols[\"inundation\"], hatch=\".\")\n",
    "ax[1].bar(x=dfNew1.time+sep, height=dfNew1.WetlandOptimal, bottom=dfNew1.ProtectOptimal+dfNew1.RetreatOptimal+dfNew1.InundationOptimal, width=wid, color=cost_cols[\"wetland\"], hatch=\".\")\n",
    "ax[1].bar(x=dfNew1.time+sep, height=dfNew1.FloodOptimal, bottom=dfNew1.ProtectOptimal+dfNew1.RetreatOptimal+dfNew1.InundationOptimal+dfNew1.WetlandOptimal, width=wid, color=cost_cols[\"flood\"], hatch=\".\")\n",
    "\n",
    "# other plot configuration options\n",
    "ax[1].grid(); ax[1].set_axisbelow(True); ax[0].set_xlim([2005,2105])\n",
    "yticks = [0,50,100,150,200,250,300]; ax[1].set_yticks(yticks); ax[1].set_yticklabels(yticks, fontsize=12)\n",
    "ax[1].set_xticks(range(2010,2110,10)); ax[1].set_xticklabels([\"\",2020,\"\",2040,\"\",2060,\"\",2080,\"\",2100], fontsize=12)\n",
    "ax[1].set_xlabel(\"Year\", fontsize=12); ax[1].set_ylabel(\"Annual Least-Cost\\n(billion 2010$US)\", fontsize=12);\n",
    "fig.savefig(\"baseline_comparison_rcp85.pdf\", bbox_inches='tight');"
   ]
  },
  {
   "cell_type": "markdown",
   "metadata": {},
   "source": [
    "# HERE NOW "
   ]
  },
  {
   "cell_type": "markdown",
   "metadata": {},
   "source": [
    "## baseline+updated SLR\n",
    "\n",
    "## baseline+updated GDP/POP via SSP5 (and 2, for SOM)\n",
    "\n",
    "## baseline+updated SLR+updated GPD/POP via SSP5 (and 2, for SOM)\n"
   ]
  },
  {
   "cell_type": "code",
   "execution_count": null,
   "metadata": {},
   "outputs": [],
   "source": []
  },
  {
   "cell_type": "code",
   "execution_count": null,
   "metadata": {},
   "outputs": [],
   "source": []
  },
  {
   "cell_type": "code",
   "execution_count": null,
   "metadata": {},
   "outputs": [],
   "source": []
  },
  {
   "cell_type": "code",
   "execution_count": null,
   "metadata": {},
   "outputs": [],
   "source": []
  },
  {
   "cell_type": "markdown",
   "metadata": {},
   "source": [
    "<br>\n",
    "\n",
    "# potentially useful leftover code down here\n",
    "\n",
    "<br>"
   ]
  },
  {
   "cell_type": "code",
   "execution_count": 68,
   "metadata": {},
   "outputs": [
    {
     "name": "stdout",
     "output_type": "stream",
     "text": [
      "      NoAdapt     Optimal  ProtectCost10  ProtectCost10000  RetreatCost10  \\\n",
      "0  119.165655   27.608270     825.021255       1536.302152     123.018517   \n",
      "1  189.336419   31.593465    1327.241902       1562.200092     173.768731   \n",
      "2  304.225874   38.638103    2405.524340       1588.882051     277.287446   \n",
      "3  484.774691   52.064445    4769.533069       1616.968968     496.142072   \n",
      "4  787.095427  124.300290    1324.867938       1983.323531     279.417833   \n",
      "\n",
      "   RetreatCost10000  \n",
      "0        181.409252  \n",
      "1        184.886392  \n",
      "2        189.913469  \n",
      "3        197.066968  \n",
      "4        446.842933  \n",
      "      NoAdapt     Optimal  ProtectCost10  ProtectCost10000  RetreatCost10  \\\n",
      "0  119.165659   29.273827     831.334827       1509.112733     123.018521   \n",
      "1  189.336408   33.032347    1333.588598       1535.010673     173.768736   \n",
      "2  304.225858   39.717721    2411.871069       1561.692632     277.287449   \n",
      "3  484.774707   52.751554    4775.877290       1589.779549     496.142077   \n",
      "4  787.095398  115.535228    1339.201791       1960.480021     279.417834   \n",
      "\n",
      "   RetreatCost10000  \n",
      "0        181.409253  \n",
      "1        184.886392  \n",
      "2        189.913470  \n",
      "3        197.066969  \n",
      "4        446.842935  \n"
     ]
    }
   ],
   "source": [
    "cols = [\"NoAdapt\",\"Optimal\",\"ProtectCost10\", \"ProtectCost10000\", \"RetreatCost10\", \"RetreatCost10000\"]\n",
    "print(dfNew[cols].head())\n",
    "print(dfDiaz[cols].head())"
   ]
  },
  {
   "cell_type": "code",
   "execution_count": null,
   "metadata": {},
   "outputs": [],
   "source": []
  }
 ],
 "metadata": {
  "kernelspec": {
   "display_name": "Python 3",
   "language": "python",
   "name": "python3"
  },
  "language_info": {
   "codemirror_mode": {
    "name": "ipython",
    "version": 3
   },
   "file_extension": ".py",
   "mimetype": "text/x-python",
   "name": "python",
   "nbconvert_exporter": "python",
   "pygments_lexer": "ipython3",
   "version": "3.7.3"
  }
 },
 "nbformat": 4,
 "nbformat_minor": 4
}
