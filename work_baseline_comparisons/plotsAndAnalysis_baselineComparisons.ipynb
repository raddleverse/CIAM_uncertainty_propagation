{
 "cells": [
  {
   "cell_type": "code",
   "execution_count": 1,
   "metadata": {},
   "outputs": [],
   "source": [
    "import numpy as np\n",
    "import pandas as pd\n",
    "import re, os\n",
    "import time\n",
    "import matplotlib.pyplot as plt\n",
    "%matplotlib inline"
   ]
  },
  {
   "cell_type": "markdown",
   "metadata": {},
   "source": [
    "Colorblind-friendly palette"
   ]
  },
  {
   "cell_type": "code",
   "execution_count": 72,
   "metadata": {},
   "outputs": [],
   "source": [
    "plt.style.use('tableau-colorblind10')"
   ]
  },
  {
   "cell_type": "markdown",
   "metadata": {},
   "source": [
    "Set `projdir` on your system, then everything else is defined relative to that. `pwd` will just give the directory that this Jupyter notebook is housed in."
   ]
  },
  {
   "cell_type": "code",
   "execution_count": 2,
   "metadata": {},
   "outputs": [],
   "source": [
    "projdir = os.getcwd()\n",
    "plotdir = projdir + \"/../ciam-code/figures\""
   ]
  },
  {
   "cell_type": "markdown",
   "metadata": {},
   "source": [
    "set up local directories where the results files are"
   ]
  },
  {
   "cell_type": "code",
   "execution_count": 3,
   "metadata": {},
   "outputs": [],
   "source": [
    "#dir_gams = \"/Users/lisarennels/JuliaProjects/CIAMPaper/local-data/gams-outputs/gams-results\"\n",
    "#dir_julia = \"/Users/lisarennels/JuliaProjects/CIAMPaper/CIAM_uncertainty_propagation/ciam-code/output/baseline_comparisons\"\n",
    "dir_gams = \"/Users/aewsma/codes/CIAM_uncertainty_propagation/ciam-code/output/originalCIAM_gams_outputs/gams-results\"\n",
    "dir_julia = \"/Users/aewsma/codes/CIAM_uncertainty_propagation/ciam-code/output/baseline_comparisons\""
   ]
  },
  {
   "cell_type": "markdown",
   "metadata": {},
   "source": [
    "## RCP8.5 baseline results from Diaz 2016"
   ]
  },
  {
   "cell_type": "markdown",
   "metadata": {},
   "source": [
    "file names"
   ]
  },
  {
   "cell_type": "code",
   "execution_count": 8,
   "metadata": {},
   "outputs": [],
   "source": [
    "files_rcp85 = [\"rcp85p50ref\"+str(k)+\".csv\" for k in range(1,11)]"
   ]
  },
  {
   "cell_type": "markdown",
   "metadata": {},
   "source": [
    "read the files, place in a list of Pandas DataFrames"
   ]
  },
  {
   "cell_type": "code",
   "execution_count": 9,
   "metadata": {},
   "outputs": [],
   "source": [
    "dfG_all = []\n",
    "for file in files_rcp85:\n",
    "    dfG_all.append(pd.read_csv(dir_gams+\"/rcp85/\"+file))"
   ]
  },
  {
   "cell_type": "markdown",
   "metadata": {},
   "source": [
    "concatenate all into a master file. don't worry about the times being out of order; the calculations will specify the year and type of damages to be summed up later"
   ]
  },
  {
   "cell_type": "code",
   "execution_count": 10,
   "metadata": {},
   "outputs": [],
   "source": [
    "dfG = pd.concat(dfG_all)"
   ]
  },
  {
   "cell_type": "markdown",
   "metadata": {},
   "source": [
    "remove the list of DataFrames to save on some memory"
   ]
  },
  {
   "cell_type": "code",
   "execution_count": 11,
   "metadata": {},
   "outputs": [],
   "source": [
    "del dfG_all"
   ]
  },
  {
   "cell_type": "markdown",
   "metadata": {},
   "source": [
    "fix the segment names with apostrophes in them"
   ]
  },
  {
   "cell_type": "code",
   "execution_count": 12,
   "metadata": {},
   "outputs": [],
   "source": [
    "for seg in dfG.segments.unique():\n",
    "    if '\\'' in seg:\n",
    "        new_name = seg.replace('\\'', '') \n",
    "        dfG.loc[(dfG.segments==seg), \"segments\"] = new_name"
   ]
  },
  {
   "cell_type": "markdown",
   "metadata": {},
   "source": [
    "Gather up Diaz 2016 results into a DataFrame"
   ]
  },
  {
   "cell_type": "code",
   "execution_count": 13,
   "metadata": {},
   "outputs": [],
   "source": [
    "NoAdaptCost, OptimalCost, FloodNoAdapt, WetlandNoAdapt, RelocateNoAdapt, StormCapitalNoAdapt, StormPopNoAdapt, WetlandRetreat, WetlandProtect = [], [], [], [], [], [], [], [], []\n",
    "Construct10, ProtectCost10, StormPopProtect10, StormCapitalProtect10 = [], [], [], []\n",
    "Construct10000, ProtectCost10000, StormPopProtect10000, StormCapitalProtect10000 = [], [], [], []\n",
    "RetreatCost10, StormPopRetreat10, StormCapitalRetreat10, RelocateRetreat10 = [], [], [], []\n",
    "RetreatCost10000, StormPopRetreat10000, StormCapitalRetreat10000, RelocateRetreat10000 = [], [], [], []\n",
    "for t in range(1,11):\n",
    "    NoAdaptCost.append(dfG.loc[(dfG[\"time\"]==t) & (dfG[\"variable\"]==\"NoAdaptCost\"), \"value\"].sum())\n",
    "    OptimalCost.append(dfG.loc[(dfG[\"time\"]==t) & (dfG[\"variable\"]==\"OptimalFixedCost\"), \"value\"].sum())\n",
    "    FloodNoAdapt.append(dfG.loc[(dfG[\"time\"]==t) & (dfG[\"variable\"]==\"FloodNoAdapt\"), \"value\"].sum())\n",
    "    WetlandNoAdapt.append(dfG.loc[(dfG[\"time\"]==t) & (dfG[\"variable\"]==\"WetlandNoAdapt\"), \"value\"].sum())\n",
    "    RelocateNoAdapt.append(dfG.loc[(dfG[\"time\"]==t) & (dfG[\"variable\"]==\"RelocateNoAdapt\"), \"value\"].sum())\n",
    "    StormCapitalNoAdapt.append(dfG.loc[(dfG[\"time\"]==t) & (dfG[\"variable\"]==\"StormCapitalNoAdapt\"), \"value\"].sum())\n",
    "    StormPopNoAdapt.append(dfG.loc[(dfG[\"time\"]==t) & (dfG[\"variable\"]==\"StormPopNoAdapt\"), \"value\"].sum())\n",
    "    WetlandRetreat.append(dfG.loc[(dfG[\"time\"]==t) & (dfG[\"variable\"]==\"WetlandRetreat\"), \"value\"].sum())\n",
    "    WetlandProtect.append(dfG.loc[(dfG[\"time\"]==t) & (dfG[\"variable\"]==\"WetlandProtect\"), \"value\"].sum())\n",
    "    Construct10.append(dfG.loc[(dfG[\"time\"]==t) & (dfG[\"level\"]==10) & (dfG[\"variable\"]==\"ConstructOptimalFixed\"), \"value\"].sum())\n",
    "    ProtectCost10.append(dfG.loc[(dfG[\"time\"]==t) & (dfG[\"level\"]==10) & (dfG[\"variable\"]==\"ProtectCost\"), \"value\"].sum())\n",
    "    StormPopProtect10.append(dfG.loc[(dfG[\"time\"]==t) & (dfG[\"level\"]==10) & (dfG[\"variable\"]==\"StormPopProtect\"), \"value\"].sum())\n",
    "    StormCapitalProtect10.append(dfG.loc[(dfG[\"time\"]==t) & (dfG[\"level\"]==10) & (dfG[\"variable\"]==\"StormCapitalProtect\"), \"value\"].sum())\n",
    "    RetreatCost10.append(dfG.loc[(dfG[\"time\"]==t) & (dfG[\"level\"]==10) & (dfG[\"variable\"]==\"RetreatCost\"), \"value\"].sum())\n",
    "    StormPopRetreat10.append(dfG.loc[(dfG[\"time\"]==t) & (dfG[\"level\"]==10) & (dfG[\"variable\"]==\"StormPopRetreat\"), \"value\"].sum())\n",
    "    StormCapitalRetreat10.append(dfG.loc[(dfG[\"time\"]==t) & (dfG[\"level\"]==10) & (dfG[\"variable\"]==\"StormCapitalRetreat\"), \"value\"].sum())\n",
    "    RelocateRetreat10.append(dfG.loc[(dfG[\"time\"]==t) & (dfG[\"level\"]==10) & (dfG[\"variable\"]==\"RelocateRetreat\"), \"value\"].sum())\n",
    "    Construct10000.append(dfG.loc[(dfG[\"time\"]==t) & (dfG[\"level\"]==10000) & (dfG[\"variable\"]==\"ConstructOptimalFixed\"), \"value\"].sum())\n",
    "    ProtectCost10000.append(dfG.loc[(dfG[\"time\"]==t) & (dfG[\"level\"]==10000) & (dfG[\"variable\"]==\"ProtectCost\"), \"value\"].sum())\n",
    "    StormPopProtect10000.append(dfG.loc[(dfG[\"time\"]==t) & (dfG[\"level\"]==10000) & (dfG[\"variable\"]==\"StormPopProtect\"), \"value\"].sum())\n",
    "    StormCapitalProtect10000.append(dfG.loc[(dfG[\"time\"]==t) & (dfG[\"level\"]==10000) & (dfG[\"level\"]==10000) & (dfG[\"variable\"]==\"StormCapitalProtect\"), \"value\"].sum())\n",
    "    RetreatCost10000.append(dfG.loc[(dfG[\"time\"]==t) & (dfG[\"level\"]==10000) & (dfG[\"variable\"]==\"RetreatCost\"), \"value\"].sum())\n",
    "    StormPopRetreat10000.append(dfG.loc[(dfG[\"time\"]==t) & (dfG[\"level\"]==10000) & (dfG[\"variable\"]==\"StormPopRetreat\"), \"value\"].sum())\n",
    "    StormCapitalRetreat10000.append(dfG.loc[(dfG[\"time\"]==t) & (dfG[\"level\"]==10000) & (dfG[\"variable\"]==\"StormCapitalRetreat\"), \"value\"].sum())\n",
    "    RelocateRetreat10000.append(dfG.loc[(dfG[\"time\"]==t) & (dfG[\"level\"]==10000) & (dfG[\"variable\"]==\"RelocateRetreat\"), \"value\"].sum())\n",
    "\n",
    "dfDiaz = pd.DataFrame()\n",
    "dfDiaz[\"time\"] = list(range(2010,2110,10))\n",
    "dfDiaz[\"NoAdapt\"] = NoAdaptCost\n",
    "dfDiaz[\"Optimal\"] = OptimalCost\n",
    "dfDiaz[\"FloodNoAdapt\"] = FloodNoAdapt\n",
    "dfDiaz[\"WetlandNoAdapt\"] = WetlandNoAdapt\n",
    "dfDiaz[\"RelocateNoAdapt\"] = RelocateNoAdapt\n",
    "dfDiaz[\"StormCapitalNoAdapt\"] = StormCapitalNoAdapt\n",
    "dfDiaz[\"StormPopNoAdapt\"] = StormPopNoAdapt\n",
    "dfDiaz[\"WetlandProtect\"] = WetlandProtect\n",
    "dfDiaz[\"WetlandRetreat\"] = WetlandRetreat\n",
    "dfDiaz[\"ProtectCost10\"] = ProtectCost10\n",
    "dfDiaz[\"StormPopProtect10\"] = StormPopProtect10\n",
    "dfDiaz[\"StormCapitalProtect10\"] = StormCapitalProtect10\n",
    "dfDiaz[\"RetreatCost10\"] = RetreatCost10\n",
    "dfDiaz[\"StormPopRetreat10\"] = StormPopRetreat10\n",
    "dfDiaz[\"StormCapitalRetreat10\"] = StormCapitalRetreat10\n",
    "dfDiaz[\"RelocateRetreat10\"] = RelocateRetreat10\n",
    "dfDiaz[\"ProtectCost10000\"] = ProtectCost10000\n",
    "dfDiaz[\"StormPopProtect10000\"] = StormPopProtect10000\n",
    "dfDiaz[\"StormCapitalProtect10000\"] = StormCapitalProtect10000\n",
    "dfDiaz[\"RetreatCost10000\"] = RetreatCost10000\n",
    "dfDiaz[\"StormPopRetreat10000\"] = StormPopRetreat10000\n",
    "dfDiaz[\"StormCapitalRetreat10000\"] = StormCapitalRetreat10000\n",
    "dfDiaz[\"RelocateRetreat10000\"] = RelocateRetreat10000"
   ]
  },
  {
   "cell_type": "markdown",
   "metadata": {},
   "source": [
    "Matches the paper well (Fig 2, right column), except in the last year when things jump up just a bit too much. Paper reports \\\\$2.2T in the NoAdapt case and \\\\$270B in the Optimal adaptation case."
   ]
  },
  {
   "cell_type": "code",
   "execution_count": 14,
   "metadata": {},
   "outputs": [
    {
     "name": "stdout",
     "output_type": "stream",
     "text": [
      "   time  NoAdapt  Optimal\n",
      "0  2010   119.17    29.27\n",
      "1  2020   189.34    33.03\n",
      "2  2030   304.23    39.72\n",
      "3  2040   484.77    52.75\n",
      "4  2050   787.10   115.54\n",
      "5  2060  1217.03   132.09\n",
      "6  2070  1566.37   148.21\n",
      "7  2080  1878.13   163.73\n",
      "8  2090  2043.67   178.02\n",
      "9  2100  2251.46   282.07\n"
     ]
    }
   ],
   "source": [
    "print(np.round(dfDiaz[[\"time\",\"NoAdapt\",\"Optimal\"]],2))"
   ]
  },
  {
   "cell_type": "markdown",
   "metadata": {},
   "source": [
    "## New results"
   ]
  },
  {
   "cell_type": "code",
   "execution_count": 4,
   "metadata": {},
   "outputs": [],
   "source": [
    "dfC = pd.read_csv(dir_julia + \"/ctrl+noConstrFix_global_85p50ssp0fixed.csv\")\n",
    "dfN = pd.read_csv(dir_julia + \"/ctrl+noConstrFix_seg_85p50ssp0fixed.csv\")\n",
    "dfO = pd.read_csv(dir_julia + \"/ctrl+noConstrFix_seg_85p50ssp0fixed_optimal.csv\") # optimal actions for each segment"
   ]
  },
  {
   "cell_type": "markdown",
   "metadata": {},
   "source": [
    "or, grab results that this notebook previously saved (you'll see this below), but make a copy of these MimiCIAM baseline results"
   ]
  },
  {
   "cell_type": "markdown",
   "metadata": {},
   "source": [
    "Make some copies so that the new, limited-foresight model version can be compared to old perfect foresight version"
   ]
  },
  {
   "cell_type": "code",
   "execution_count": 5,
   "metadata": {},
   "outputs": [],
   "source": [
    "dfC1 = dfC.copy()\n",
    "dfN1 = dfN.copy()\n",
    "dfO1 = dfO.copy()"
   ]
  },
  {
   "cell_type": "markdown",
   "metadata": {},
   "source": [
    "If you read from previously processed results, you can skip ahead to \"Time for some actual comparisons!\" below.\n",
    "\n",
    "If you obtained this code from Zenodo, you should have the files `dfC.csv`, `dfN.csv`, and `dfO.csv` in the same directory as this Jupyter notebook. Those are from the simulations presented in the study associated with this code repository."
   ]
  },
  {
   "cell_type": "code",
   "execution_count": 6,
   "metadata": {},
   "outputs": [
    {
     "name": "stdout",
     "output_type": "stream",
     "text": [
      "Successfully read previously processed results files. Skip ahead to `Time for some actual comparisons!`\n"
     ]
    }
   ],
   "source": [
    "if os.path.isfile(\"dfC.csv\") and os.path.isfile(\"dfN.csv\") and os.path.isfile(\"dfO.csv\"):\n",
    "    dfC = pd.read_csv(\"dfC.csv\")\n",
    "    dfN = pd.read_csv(\"dfN.csv\")\n",
    "    dfO = pd.read_csv(\"dfO.csv\")\n",
    "    print(\"Successfully read previously processed results files. Skip ahead to `Time for some actual comparisons!`\")\n",
    "else:\n",
    "    print(\"Missing some/all processed results files. \\nNeed to run the time-consuming processing below in order to validate against GAMS CIAM implementation.\")"
   ]
  },
  {
   "cell_type": "markdown",
   "metadata": {},
   "source": [
    "## NPV foresight correction\n",
    "\n",
    "This correction accounts for the fact that the new version of CIAM considers NPV over the current adaptation period (40-50 years generally), whereas the previous GAMS version assumes NPV is known across the entire model time horizon (2000-2100, for example)."
   ]
  },
  {
   "cell_type": "markdown",
   "metadata": {},
   "source": [
    "#### discount factor \n",
    "\n",
    "Matches output from a run model in Julia `m[:slrcost, :discountfactor]`\n",
    "\n",
    "`v.discountfactor[TimestepIndex(i)] = 1/(1 + p.discountrate)^(p.tstep * (i-1))`"
   ]
  },
  {
   "cell_type": "code",
   "execution_count": 12,
   "metadata": {},
   "outputs": [
    {
     "name": "stdout",
     "output_type": "stream",
     "text": [
      "[1.00000000e+00 6.75564169e-01 4.56386946e-01 3.08318668e-01\n",
      " 2.08289045e-01 1.40712615e-01 9.50604010e-02 6.42194008e-02\n",
      " 4.33843261e-02 2.93088962e-02 1.98000401e-02 1.33761976e-02\n",
      " 9.03647984e-03 6.10472199e-03 4.12413144e-03 2.78611543e-03\n",
      " 1.88219975e-03 1.27154671e-03 8.59011398e-04 5.80317321e-04]\n"
     ]
    }
   ],
   "source": [
    "drate = 0.04\n",
    "tstep = 10\n",
    "discountfactor = 1/(1+drate)**(tstep*np.arange(0,20,1))\n",
    "print(discountfactor)"
   ]
  },
  {
   "cell_type": "markdown",
   "metadata": {},
   "source": [
    "#### segments"
   ]
  },
  {
   "cell_type": "code",
   "execution_count": 13,
   "metadata": {},
   "outputs": [],
   "source": [
    "segments_G, segments_N = {}, {}\n",
    "for t in range(1,21):\n",
    "    segments_G[t] = list(dfG.loc[(dfG.time==t), \"segments\"].unique())\n",
    "    segments_N[t] = list(dfN.loc[(dfN.time==t), \"segments\"].unique())\n",
    "segments_G[\"all\"] = list(dfG.segments.unique())\n",
    "segments_N[\"all\"] = list(dfN.segments.unique())"
   ]
  },
  {
   "cell_type": "markdown",
   "metadata": {},
   "source": [
    "Need to do the first time step separately. it is special because in the \"fixed\" mode a la original (GAMS) CIAM, this is where the adaptation strategy is determined. This strategy (including level) will be followed throughout the time horizon."
   ]
  },
  {
   "cell_type": "code",
   "execution_count": 14,
   "metadata": {},
   "outputs": [],
   "source": [
    "tol= 0.0001\n",
    "levs = {\"RetreatCost\" : [1,10,100,1000,10000], \"ProtectCost\" : [10,100,1000,10000], \"NoAdaptCost\" : [0]}\n",
    "options = []\n",
    "for var in [\"RetreatCost\",\"ProtectCost\"]:\n",
    "    for lev in levs[var]:\n",
    "            options.append(var+str(lev))\n",
    "options.append(\"NoAdaptCost0\")"
   ]
  },
  {
   "cell_type": "markdown",
   "metadata": {},
   "source": [
    "### find which segments have a mismatch; otherwise, this fix won't do anything since there's no change to the segment\n",
    "\n",
    "This takes a while. On a fairly standard desktop workstation (a 2018 Mac Mini with 3.2 Ghz 6-core i7 processor and 64 GB RAM), took me about 12 minutes. But, it is much faster to just find the mismatched segments first and then compute the corrected NPV and perfect foresight decisions below for only those segments, as opposed to looping over all of the segments later."
   ]
  },
  {
   "cell_type": "code",
   "execution_count": 19,
   "metadata": {
    "scrolled": true
   },
   "outputs": [
    {
     "name": "stdout",
     "output_type": "stream",
     "text": [
      "Took  12.27  minutes to complete\n"
     ]
    }
   ],
   "source": [
    "tbeg = time.time()\n",
    "\n",
    "actions_G = {}\n",
    "dfGsub = dfG.loc[(dfG.time==1) & (dfG.variable.isin([\"OptimalFixedCost\",\"NoAdaptCost\",\"ProtectCost\",\"RetreatCost\"]))]\n",
    "for seg in dfGsub.loc[(dfGsub.time==1)&(dfGsub.variable==\"OptimalFixedCost\"), \"segments\"].unique():\n",
    "    cost = float(dfGsub.loc[(dfGsub.time==1) & (dfGsub.segments==seg) & (dfGsub.variable==\"OptimalFixedCost\"), \"value\"])\n",
    "    level_action = dfGsub.loc[(dfGsub.time==1) & (dfGsub.segments==seg) & \n",
    "                              (dfGsub.value==cost) & (dfGsub.variable!=\"OptimalFixedCost\"),[\"level\",\"variable\"]]\n",
    "    if level_action[\"variable\"].iloc[0]==\"NoAdaptCost\":\n",
    "        actions_G[seg] = level_action[\"variable\"].iloc[0]+\"0\"\n",
    "    else:\n",
    "        actions_G[seg] = level_action[\"variable\"].iloc[0]+str(int(level_action[\"level\"].iloc[0]))\n",
    "        \n",
    "actions_N = {}\n",
    "dfNsub = dfN.loc[(dfN.time==1) & (dfN.variable.isin([\"OptimalCost\",\"NoAdaptCost\",\"ProtectCost\",\"RetreatCost\"]))]\n",
    "for seg in dfNsub.loc[(dfNsub.time==1)&(dfNsub.variable==\"OptimalCost\"), \"segments\"].unique():\n",
    "    cost = float(dfNsub.loc[(dfNsub.time==1) & (dfNsub.segments==seg) & (dfNsub.variable==\"OptimalCost\"), \"value\"])\n",
    "    level_action = dfNsub.loc[(dfNsub.time==1) & (dfNsub.segments==seg) & \n",
    "                              (dfNsub.value==cost) & (dfNsub.variable!=\"OptimalCost\"),[\"level\",\"variable\"]]\n",
    "    if level_action[\"variable\"].iloc[0]==\"NoAdaptCost\":\n",
    "        actions_N[seg] = level_action[\"variable\"].iloc[0]+\"0\"\n",
    "    else:\n",
    "        actions_N[seg] = level_action[\"variable\"].iloc[0]+str(int(level_action[\"level\"].iloc[0]))\n",
    "        \n",
    "mismatches = {}\n",
    "for seg in actions_G.keys():\n",
    "    if actions_G[seg]!=actions_N[seg]:\n",
    "        mismatches[seg] = (actions_G[seg],actions_N[seg])\n",
    "\n",
    "tend = time.time()\n",
    "print(\"Took \",np.round((tend-tbeg)/60,2),\" minutes to complete\")"
   ]
  },
  {
   "cell_type": "markdown",
   "metadata": {},
   "source": [
    "Compute the NPV using the full time horizon for decision-making (entire simulation period), instead of the new version's shorter time horizon (40-50 years).\n",
    "\n",
    "**Warning:** This takes a long time. On the 2018 Mac Mini mentioned above, this took about 30 hours! Probably can and should be parallelized."
   ]
  },
  {
   "cell_type": "code",
   "execution_count": 20,
   "metadata": {},
   "outputs": [
    {
     "name": "stdout",
     "output_type": "stream",
     "text": [
      "Took  1828.86  minutes to complete\n"
     ]
    }
   ],
   "source": [
    "tbeg = time.time()\n",
    "\n",
    "new_costs, new_NPV = [0]*len(mismatches), [0]*len(mismatches)\n",
    "new_choices = [0]*len(mismatches)\n",
    "old_costs = [0]*len(mismatches)\n",
    "\n",
    "# dict keys don't have fixed order, so save as a list\n",
    "mismatch_segments = list(mismatches.keys())\n",
    "\n",
    "# subset to only segments we need\n",
    "dfNsub = dfN.loc[(dfN.segments.isin(mismatch_segments))]\n",
    "dfOsub = dfO.loc[(dfO.segments.isin(mismatch_segments))]\n",
    "dfGsub = dfG.loc[(dfG.segments.isin(mismatch_segments))]\n",
    "\n",
    "for seg in mismatch_segments:\n",
    "    s = mismatch_segments.index(seg)\n",
    "\n",
    "    t=1 # needs to be reset each segment\n",
    "    option_costs = []\n",
    "    for var in [\"RetreatCost\",\"ProtectCost\",\"NoAdaptCost\"]:\n",
    "        for lev in levs[var]:\n",
    "            if var != \"NoAdaptCost\":\n",
    "                NPV = dfNsub.loc[(dfNsub.variable==var) & (dfNsub.segments==seg) & \n",
    "                                 (dfNsub.level==lev), \"value\"]*discountfactor\n",
    "            else:\n",
    "                NPV = dfNsub.loc[(dfNsub.variable==var) & (dfNsub.segments==seg),\"value\"]*discountfactor\n",
    "            option_costs.append(np.sum(NPV))\n",
    "    new_NPV[s] = min(option_costs)\n",
    "    new_choices[s] = options[option_costs.index(new_NPV[s])]\n",
    "    # get the new optimal costs in this time step\n",
    "    var = new_choices[s][:7]+\"Cost\"  # RetreatCost, ProtectCost, NoAdaptCost\n",
    "    lev = int(re.findall(r'\\d+', new_choices[s])[0])\n",
    "    if var != \"NoAdaptCost\":\n",
    "        new_costs[s] = float(dfNsub.loc[(dfNsub.segments==seg) & (dfNsub.time==t) & \n",
    "                                        (dfNsub.variable==var) & (dfNsub.level==lev), \"value\"])\n",
    "    else:\n",
    "        new_costs[s] = float(dfNsub.loc[(dfNsub.segments==seg) & (dfNsub.time==t) & \n",
    "                                        (dfNsub.variable==var), \"value\"])\n",
    "    old_costs[s] = float(dfOsub.loc[(dfOsub.segments==seg) & (dfOsub.time==t), \"OptimalCost\"])\n",
    "\n",
    "    # correct the results dataframes to match the GAMS version's perfect foresight\n",
    "    dfO.loc[(dfO.segments==seg),\"variable\"] = var  # these are assuming fixed mode\n",
    "    dfO.loc[(dfO.segments==seg),\"level\"] = lev\n",
    "    dfO.loc[(dfO.segments==seg) & (dfO.time==t),\"OptimalCost\"] = new_costs[s]\n",
    "    dfN.loc[(dfN.segments==seg) & (dfN.time==t) & (dfN.variable==\"OptimalCost\"), \"value\"] = new_costs[s]\n",
    "    dfC.loc[(dfC.time==t) & (dfC.variable==\"OptimalCost\"), \"value\"] = dfC.loc[(dfC.time==t) & (dfC.variable==\"OptimalCost\"), \"value\"] - \\\n",
    "                                                                      old_costs[s] + new_costs[s]\n",
    "    # In subsequent years, the choice and level stay the same. So, just need to correct things in dfO, dfN, and dfC. \n",
    "    # Retain the other versions of these dataframes from above to compare how the perfect foresight leads to an overestimation of costs.\n",
    "    for t in dfC.time.unique()[1:]:\n",
    "        if var!=\"NoAdaptCost\":\n",
    "            optcost = float(dfNsub.loc[(dfNsub.segments==seg) & (dfNsub.time==t) & \n",
    "                                       (dfNsub.variable==var) & (dfNsub.level==lev), \"value\"])\n",
    "        else:\n",
    "            optcost = float(dfNsub.loc[(dfNsub.segments==seg) & (dfNsub.time==t) & \n",
    "                                       (dfNsub.variable==var), \"value\"])\n",
    "        old_optcost = float(dfNsub.loc[(dfNsub.segments==seg) & (dfNsub.time==t) & (dfNsub.variable==\"OptimalCost\"), \"value\"])\n",
    "        dfN.loc[(dfN.segments==seg) & (dfN.time==t) & (dfN.variable==\"OptimalCost\"), \"value\"] = optcost\n",
    "        dfO.loc[(dfO.segments==seg) & (dfO.time==t), \"OptimalCost\"] = optcost\n",
    "        dfC.loc[(dfC.time==t) & (dfC.variable==\"OptimalCost\"), \"value\"] += optcost - old_optcost\n",
    "        \n",
    "tend = time.time()\n",
    "print(\"Took \",np.round((tend-tbeg)/60,2),\" minutes to complete\")"
   ]
  },
  {
   "cell_type": "markdown",
   "metadata": {},
   "source": [
    "Save the cleaned DataFrames that reflect the perfect foresight."
   ]
  },
  {
   "cell_type": "code",
   "execution_count": 21,
   "metadata": {},
   "outputs": [],
   "source": [
    "dfC.to_csv(\"dfC.csv\")\n",
    "dfN.to_csv(\"dfN.csv\")\n",
    "dfO.to_csv(\"dfO.csv\")"
   ]
  },
  {
   "cell_type": "markdown",
   "metadata": {},
   "source": [
    "# Time for some actual comparisons!\n",
    "\n",
    "Define a function to process a pair of results DataFrames (need optimal costs/actions one, the total costs one, and the subcosts one) into the form needed to make the bar chart decomposition of costs (below). Assumes `fixed=true`"
   ]
  },
  {
   "cell_type": "code",
   "execution_count": 15,
   "metadata": {},
   "outputs": [],
   "source": [
    "def process_costs_df(dfC, dfO, dfN, tmax=False):\n",
    "    # set up\n",
    "    ntime = len(dfO.time.unique())\n",
    "    levs = {\"RetreatCost\" : [1,10,100,1000,10000], \"ProtectCost\" : [10,100,1000,10000], \"NoAdaptCost\" : [0]}\n",
    "    \n",
    "    # figure out which segments pursue which adaptation options, and at what levels of protection\n",
    "    actions = {}\n",
    "    for choice in levs.keys():\n",
    "        for lev in levs[choice]:\n",
    "            if lev > 0:\n",
    "                actions[choice+str(lev)] = list(dfO.loc[(dfO.time==1)&(dfO.variable==choice)&(dfO.level==lev),\"segments\"])\n",
    "            else:\n",
    "                actions[choice+str(lev)] = list(dfO.loc[(dfO.time==1)&(dfO.variable==choice),\"segments\"])\n",
    "    retreat_segs, protect_segs = [], []\n",
    "    for lev in levs[\"RetreatCost\"]:\n",
    "        retreat_segs += actions[\"RetreatCost\"+str(lev)]\n",
    "    for lev in levs[\"ProtectCost\"]:\n",
    "        protect_segs += actions[\"ProtectCost\"+str(lev)]\n",
    "        \n",
    "    # tally up costs associated with each action\n",
    "    retreat_costs_N = [0]*ntime\n",
    "    protect_costs_N = [0]*ntime\n",
    "    inundation_costs_N = [0]*ntime\n",
    "    wetland_costs_N = [0]*ntime\n",
    "    flood_costs_N = [0]*ntime\n",
    "    \n",
    "    for t in range(1,ntime+1):\n",
    "        dfNsub = dfN.loc[(dfN.time==t)] # subset to speed the loop up\n",
    "        # retreat\n",
    "        for lev in levs[\"RetreatCost\"]:\n",
    "            pname = \"RetreatCost\"+str(lev)\n",
    "            retreat_costs_N[t-1] += dfNsub.loc[(dfNsub.segments.isin(actions[pname])) & (dfNsub.variable==\"RelocateRetreat\") & (dfNsub.level==lev), \"value\"].sum()\n",
    "        retreat_costs_N[t-1] += dfNsub.loc[(dfNsub.segments.isin(actions[\"NoAdaptCost0\"])) & (dfNsub.variable==\"RelocateNoAdapt\"), \"value\"].sum()\n",
    "        # protect\n",
    "        for lev in levs[\"ProtectCost\"]:\n",
    "            pname = \"ProtectCost\"+str(lev)\n",
    "            protect_costs_N[t-1] += dfNsub.loc[(dfNsub.segments.isin(actions[pname])) & (dfNsub.variable==\"Construct\") & (dfNsub.level==lev), \"value\"].sum()\n",
    "        # inundation (Flood)\n",
    "        for lev in levs[\"RetreatCost\"]:\n",
    "            pname = \"RetreatCost\"+str(lev)\n",
    "            inundation_costs_N[t-1] += dfNsub.loc[(dfNsub.segments.isin(actions[pname])) & (dfNsub.variable==\"FloodRetreat\") & (dfNsub.level==lev), \"value\"].sum()\n",
    "        inundation_costs_N[t-1] += dfNsub.loc[(dfNsub.segments.isin(actions[\"NoAdaptCost0\"])) & (dfNsub.variable==\"FloodNoAdapt\"), \"value\"].sum()\n",
    "        # wetland\n",
    "        for lev in levs[\"RetreatCost\"]:\n",
    "            pname = \"RetreatCost\"+str(lev)\n",
    "            wetland_costs_N[t-1] += dfNsub.loc[(dfNsub.segments.isin(actions[pname])) & (dfNsub.variable==\"WetlandRetreat\"), \"value\"].sum()\n",
    "        for lev in levs[\"ProtectCost\"]:\n",
    "            pname = \"ProtectCost\"+str(lev)\n",
    "            wetland_costs_N[t-1] += dfNsub.loc[(dfNsub.segments.isin(actions[pname])) & (dfNsub.variable==\"WetlandProtect\"), \"value\"].sum()\n",
    "        wetland_costs_N[t-1] += dfNsub.loc[(dfNsub.segments.isin(actions[\"NoAdaptCost0\"])) & (dfNsub.variable==\"WetlandNoAdapt\"), \"value\"].sum()\n",
    "        # flooding (Storm)\n",
    "        for lev in levs[\"RetreatCost\"]:\n",
    "            pname = \"RetreatCost\"+str(lev)\n",
    "            flood_costs_N[t-1] += dfNsub.loc[(dfNsub.segments.isin(actions[pname])) & (dfNsub.level==lev) & (dfNsub.variable.isin([\"StormCapitalRetreat\",\"StormPopRetreat\"])), \"value\"].sum()\n",
    "        for lev in levs[\"ProtectCost\"]:\n",
    "            pname = \"ProtectCost\"+str(lev)\n",
    "            flood_costs_N[t-1] += dfNsub.loc[(dfNsub.segments.isin(actions[pname])) & (dfNsub.level==lev) & (dfNsub.variable.isin([\"StormCapitalProtect\",\"StormPopProtect\"])), \"value\"].sum()\n",
    "        flood_costs_N[t-1] += dfNsub.loc[(dfNsub.segments.isin(actions[\"NoAdaptCost0\"])) & (dfNsub.variable.isin([\"StormCapitalNoAdapt\",\"StormPopNoAdapt\"])), \"value\"].sum()\n",
    "\n",
    "    if not tmax:\n",
    "        tmax = ntime\n",
    "        \n",
    "    dfNew = pd.DataFrame()\n",
    "    dfNew[\"time\"] = list(range(1,ntime+1))\n",
    "    dfNew[\"NoAdapt\"] = list(dfC.loc[(dfC.variable==\"NoAdaptCost\"), \"value\"])\n",
    "    dfNew[\"Optimal\"] = list(dfC.loc[(dfC.variable==\"OptimalCost\"), \"value\"])\n",
    "    dfNew[\"FloodNoAdapt\"] = list(dfC.loc[(dfC.variable==\"FloodNoAdapt\"), \"value\"])\n",
    "    dfNew[\"WetlandNoAdapt\"] = list(dfC.loc[(dfC.variable==\"WetlandNoAdapt\"), \"value\"])\n",
    "    dfNew[\"RelocateNoAdapt\"] = list(dfC.loc[(dfC.variable==\"RelocateNoAdapt\"), \"value\"])\n",
    "    dfNew[\"StormCapitalNoAdapt\"] = list(dfC.loc[(dfC.variable==\"StormCapitalNoAdapt\"), \"value\"])\n",
    "    dfNew[\"StormPopNoAdapt\"] = list(dfC.loc[(dfC.variable==\"StormPopNoAdapt\"), \"value\"])\n",
    "    dfNew[\"RetreatOptimal\"] = retreat_costs_N\n",
    "    dfNew[\"ProtectOptimal\"] = protect_costs_N\n",
    "    dfNew[\"InundationOptimal\"] = inundation_costs_N\n",
    "    dfNew[\"WetlandOptimal\"] = wetland_costs_N\n",
    "    dfNew[\"FloodOptimal\"] = flood_costs_N\n",
    "    dfNew = dfNew.loc[(dfNew.time <= tmax)]\n",
    "    \n",
    "    return dfNew"
   ]
  },
  {
   "cell_type": "code",
   "execution_count": 16,
   "metadata": {},
   "outputs": [],
   "source": [
    "# baseline result - matching to GAMS CIAM, both with perfect foresight\n",
    "dfNew0 = process_costs_df(dfC=dfC, dfO=dfO, dfN=dfN, tmax=10)\n",
    "dfNew0[\"year\"] = dfNew0[\"time\"]*10 + 2000\n",
    "\n",
    "# limited foresight result - only difference relative to GAMS CIAM is limited foresigh1\n",
    "dfNew1 = process_costs_df(dfC=dfC1, dfO=dfO1, dfN=dfN1, tmax=10)\n",
    "dfNew1[\"year\"] = dfNew1[\"time\"]*10 + 2000"
   ]
  },
  {
   "cell_type": "markdown",
   "metadata": {},
   "source": [
    "Define a function to compare the old results (Diaz 2016) to the new ones (this work), with the baseline model configuration. The baseline configuration should match the forcings/inputs for the Diaz 2016 results."
   ]
  },
  {
   "cell_type": "code",
   "execution_count": 17,
   "metadata": {},
   "outputs": [],
   "source": [
    "def compare(dfD, dfN, var, lev=False, times=list(range(1,11)), verbose=True):\n",
    "    varD = var\n",
    "    names = {\"OptimalCost\" : \"OptimalFixedCost\"}#, \"Construct\" : \"ConstructOptimalFixed\"}\n",
    "    if var in names.keys():\n",
    "        varD = names[var]\n",
    "    if lev:\n",
    "        D = [dfD.loc[(dfD.variable==varD) & (dfD.level==lev) & (dfD.time==t), \"value\"].sum() for t in times]\n",
    "        N = list(dfN.loc[(dfN.variable==var) & (dfN.level==lev) & (dfN.time>=times[0]) & (dfN.time<=np.max(times)), \"value\"])\n",
    "    else:\n",
    "        D = [dfD.loc[(dfD.variable==varD) & (dfD.time==t), \"value\"].sum() for t in times]\n",
    "        N = list(dfN.loc[(dfN.variable==var) & (dfN.time>=times[0]) & (dfN.time<=np.max(times)), \"value\"])\n",
    "    if verbose:\n",
    "        print(\"time | Diaz | New\")\n",
    "        for t in range(len(times)):\n",
    "            print(times[t], np.round(D[t],3), np.round(N[t],3))\n",
    "    return [N[t]-D[t] for t in range(len(times))]"
   ]
  },
  {
   "cell_type": "markdown",
   "metadata": {},
   "source": [
    "Checking NoAdaptCost..."
   ]
  },
  {
   "cell_type": "code",
   "execution_count": 18,
   "metadata": {},
   "outputs": [
    {
     "name": "stdout",
     "output_type": "stream",
     "text": [
      "time | Diaz | New\n",
      "1 119.166 119.166\n",
      "2 189.336 189.336\n",
      "3 304.226 304.226\n",
      "4 484.775 484.775\n",
      "5 787.095 787.095\n",
      "6 1217.032 1217.038\n",
      "7 1566.374 1566.376\n",
      "8 1878.132 1878.142\n",
      "9 2043.672 2043.716\n",
      "10 2251.458 2251.467\n",
      "11 2635.751 2635.751\n"
     ]
    }
   ],
   "source": [
    "x = compare(dfG, dfC, var=\"NoAdaptCost\", lev=False, times=list(range(1,12)), verbose=True)"
   ]
  },
  {
   "cell_type": "markdown",
   "metadata": {},
   "source": [
    "Checking OptimalCost..."
   ]
  },
  {
   "cell_type": "code",
   "execution_count": 19,
   "metadata": {},
   "outputs": [
    {
     "name": "stdout",
     "output_type": "stream",
     "text": [
      "time | Diaz | New\n",
      "1 29.274 29.274\n",
      "2 33.032 33.032\n",
      "3 39.718 39.718\n",
      "4 52.752 52.752\n",
      "5 115.535 115.536\n",
      "6 132.086 132.087\n",
      "7 148.209 148.21\n",
      "8 163.731 163.732\n",
      "9 178.017 178.018\n",
      "10 282.067 282.078\n",
      "11 303.188 303.195\n"
     ]
    }
   ],
   "source": [
    "x = compare(dfG, dfC, var=\"OptimalCost\", lev=False, times=list(range(1,12)), verbose=True)"
   ]
  },
  {
   "cell_type": "markdown",
   "metadata": {},
   "source": [
    "Check RetreatCost..."
   ]
  },
  {
   "cell_type": "code",
   "execution_count": 20,
   "metadata": {},
   "outputs": [
    {
     "name": "stdout",
     "output_type": "stream",
     "text": [
      "time | Diaz | New\n",
      "1 123.019 123.019\n",
      "2 173.769 173.769\n",
      "3 277.287 277.287\n",
      "4 496.142 496.142\n",
      "5 279.418 279.418\n",
      "6 327.637 327.637\n",
      "7 407.305 407.305\n",
      "8 549.06 549.06\n",
      "9 847.47 847.47\n",
      "10 577.476 577.476\n",
      "11 624.229 624.229\n"
     ]
    }
   ],
   "source": [
    "x = compare(dfG, dfC, var=\"RetreatCost\", lev=10, times=list(range(1,12)), verbose=True)"
   ]
  },
  {
   "cell_type": "markdown",
   "metadata": {},
   "source": [
    "Check ProtectCost..."
   ]
  },
  {
   "cell_type": "code",
   "execution_count": 21,
   "metadata": {},
   "outputs": [
    {
     "name": "stdout",
     "output_type": "stream",
     "text": [
      "time | Diaz | New\n",
      "1 831.335 831.335\n",
      "2 1333.589 1333.589\n",
      "3 2411.871 2411.871\n",
      "4 4775.877 4775.877\n",
      "5 1339.202 1339.202\n",
      "6 2118.873 2118.873\n",
      "7 3735.674 3735.674\n",
      "8 7285.422 7285.422\n",
      "9 15344.465 15344.465\n",
      "10 2325.17 2325.17\n",
      "11 3528.217 3528.217\n"
     ]
    }
   ],
   "source": [
    "x = compare(dfG, dfC, var=\"ProtectCost\", lev=10, times=list(range(1,12)), verbose=True)"
   ]
  },
  {
   "cell_type": "markdown",
   "metadata": {},
   "source": [
    "Check Construct costs..."
   ]
  },
  {
   "cell_type": "code",
   "execution_count": 22,
   "metadata": {},
   "outputs": [
    {
     "name": "stdout",
     "output_type": "stream",
     "text": [
      "time | Diaz | New\n",
      "1 265.345 265.345\n",
      "2 265.345 265.345\n",
      "3 265.345 265.345\n",
      "4 265.345 265.345\n",
      "5 407.159 407.159\n",
      "6 407.159 407.159\n",
      "7 407.159 407.159\n",
      "8 407.159 407.159\n",
      "9 407.159 407.159\n",
      "10 642.599 642.599\n",
      "11 642.599 642.599\n"
     ]
    }
   ],
   "source": [
    "x = compare(dfG, dfC, var=\"Construct\", lev=100, times=list(range(1,12)), verbose=True)"
   ]
  },
  {
   "cell_type": "markdown",
   "metadata": {},
   "source": [
    "## Figure: total no-adaptation and optimal costs over time - just matching old version (GAMS, Diaz 2016)"
   ]
  },
  {
   "cell_type": "code",
   "execution_count": 73,
   "metadata": {},
   "outputs": [
    {
     "data": {
      "image/png": "[encoded data removed]",
      "text/plain": [
       "<Figure size 576x720 with 2 Axes>"
      ]
     },
     "metadata": {
      "needs_background": "light"
     },
     "output_type": "display_data"
    }
   ],
   "source": [
    "sep = 1.8\n",
    "fig,ax = plt.subplots(nrows=2, ncols=1, figsize=(8,10))\n",
    "ax[0].bar(x=dfDiaz.time-sep, height=dfDiaz.NoAdapt, width=3, color=\"C0\", label=\"Diaz (2016)\")\n",
    "ax[0].bar(x=dfNew0.year+sep, height=dfNew0.NoAdapt, width=3, color=\"C1\", label=\"This work\")\n",
    "ax[0].grid(); ax[0].set_axisbelow(True)\n",
    "yticks = [0,500,1000,1500,2000]; ax[0].set_yticks(yticks); ax[0].set_yticklabels(yticks, fontsize=12)\n",
    "ax[0].set_xticks(range(2010,2110,10)); ax[0].set_xticklabels([\"\",2020,\"\",2040,\"\",2060,\"\",2080,\"\",2100], fontsize=12)\n",
    "ax[0].set_xlabel(\"Year\", fontsize=12); ax[0].set_ylabel(\"Annual No-Adapt Cost\\n(billion 2010$US)\", fontsize=12)\n",
    "ax[0].legend(fontsize=12)\n",
    "ax[1].bar(x=dfDiaz.time-sep, height=dfDiaz.Optimal, width=3, color=\"steelblue\", label=\"Diaz (2016)\")\n",
    "ax[1].bar(x=dfNew0.year+sep, height=dfNew0.Optimal, width=3, color=\"darkorange\", label=\"This work\")\n",
    "ax[1].grid(); ax[1].set_axisbelow(True)\n",
    "yticks = [0,50,100,150,200,250,300]; ax[1].set_yticks(yticks); ax[1].set_yticklabels(yticks, fontsize=12)\n",
    "ax[1].set_xticks(range(2010,2110,10)); ax[1].set_xticklabels([\"\",2020,\"\",2040,\"\",2060,\"\",2080,\"\",2100], fontsize=12)\n",
    "ax[1].set_xlabel(\"Year\", fontsize=12); ax[1].set_ylabel(\"Annual Least-Cost\\n(billion 2010$US)\", fontsize=12);\n",
    "#fig.savefig(plotdir+\"/baseline_comparison_rcp85.pdf\", bbox_inches='tight');"
   ]
  },
  {
   "cell_type": "markdown",
   "metadata": {},
   "source": [
    "## Figure: total no-adaptation and optimal costs over time - version of figure with perfect foresight (matching GAMS version) and limited foresight"
   ]
  },
  {
   "cell_type": "markdown",
   "metadata": {},
   "source": [
    "#### total costs only"
   ]
  },
  {
   "cell_type": "code",
   "execution_count": 75,
   "metadata": {},
   "outputs": [
    {
     "data": {
      "image/png": "[encoded data removed]",
      "text/plain": [
       "<Figure size 576x720 with 2 Axes>"
      ]
     },
     "metadata": {
      "needs_background": "light"
     },
     "output_type": "display_data"
    }
   ],
   "source": [
    "sep = 2.5\n",
    "wid = 2.2\n",
    "\n",
    "fig,ax = plt.subplots(nrows=2, ncols=1, figsize=(8,10))\n",
    "ax[0].bar(x=dfDiaz.time-sep, height=dfDiaz.NoAdapt, width=wid, color=\"C0\", label=\"Diaz (2016)\")\n",
    "ax[0].bar(x=dfNew0.year, height=dfNew0.NoAdapt, width=wid, color=\"C1\", label=\"This work, perfect foresight\")\n",
    "ax[0].bar(x=dfNew1.year+sep, height=dfNew1.NoAdapt, width=wid, color=\"C2\", label=\"This work, limited foresight\")\n",
    "ax[0].grid(); ax[0].set_axisbelow(True); ax[0].set_xlim([2005,2105])\n",
    "yticks = [0,500,1000,1500,2000]; ax[0].set_yticks(yticks); ax[0].set_yticklabels(yticks, fontsize=12)\n",
    "ax[0].set_xticks(range(2010,2110,10)); ax[0].set_xticklabels([\"\",2020,\"\",2040,\"\",2060,\"\",2080,\"\",2100], fontsize=12)\n",
    "ax[0].set_xlabel(\"Year\", fontsize=12); ax[0].set_ylabel(\"Annual No-Adapt Cost\\n(billion 2010$US)\", fontsize=12)\n",
    "ax[0].legend(fontsize=12)\n",
    "ax[1].bar(x=dfDiaz.time-sep, height=dfDiaz.Optimal, width=wid, color=\"C0\", label=\"Diaz (2016)\")\n",
    "ax[1].bar(x=dfNew0.year, height=dfNew0.Optimal, width=wid, color=\"C1\", label=\"This work\")\n",
    "ax[1].bar(x=dfNew1.year+sep, height=dfNew1.Optimal, width=wid, color=\"C2\", label=\"This work, limited foresight\")\n",
    "ax[1].grid(); ax[1].set_axisbelow(True); ax[0].set_xlim([2005,2105])\n",
    "yticks = [0,50,100,150,200,250,300]; ax[1].set_yticks(yticks); ax[1].set_yticklabels(yticks, fontsize=12)\n",
    "ax[1].set_xticks(range(2010,2110,10)); ax[1].set_xticklabels([\"\",2020,\"\",2040,\"\",2060,\"\",2080,\"\",2100], fontsize=12)\n",
    "ax[1].set_xlabel(\"Year\", fontsize=12); ax[1].set_ylabel(\"Annual Least-Cost\\n(billion 2010$US)\", fontsize=12);\n",
    "#fig.savefig(plotdir+\"/baseline_comparison_rcp85.pdf\", bbox_inches='tight');"
   ]
  },
  {
   "cell_type": "markdown",
   "metadata": {},
   "source": [
    "## with cost breakdown"
   ]
  },
  {
   "cell_type": "markdown",
   "metadata": {},
   "source": [
    "#### get optimal actions/costs for this work\n",
    "\n",
    "Get which segments adapt which which options and to which levels. Avoid doing any loops over segments, because that will be very slow."
   ]
  },
  {
   "cell_type": "code",
   "execution_count": 25,
   "metadata": {},
   "outputs": [],
   "source": [
    "levs = {\"RetreatCost\" : [1,10,100,1000,10000], \"ProtectCost\" : [10,100,1000,10000], \"NoAdaptCost\" : [0]}\n",
    "actions0, actions1 = {}, {}\n",
    "\n",
    "actions0[\"retreat1\"] = list(dfO.loc[(dfO.time==1)&(dfO.variable==\"RetreatCost\")&(dfO.level==1),\"segments\"])\n",
    "actions0[\"retreat10\"] = list(dfO.loc[(dfO.time==1)&(dfO.variable==\"RetreatCost\")&(dfO.level==10),\"segments\"])\n",
    "actions0[\"retreat100\"] = list(dfO.loc[(dfO.time==1)&(dfO.variable==\"RetreatCost\")&(dfO.level==100),\"segments\"])\n",
    "actions0[\"retreat1000\"] = list(dfO.loc[(dfO.time==1)&(dfO.variable==\"RetreatCost\")&(dfO.level==1000),\"segments\"])\n",
    "actions0[\"retreat10000\"] = list(dfO.loc[(dfO.time==1)&(dfO.variable==\"RetreatCost\")&(dfO.level==10000),\"segments\"])\n",
    "actions0[\"protect10\"] = list(dfO.loc[(dfO.time==1)&(dfO.variable==\"ProtectCost\")&(dfO.level==10),\"segments\"])\n",
    "actions0[\"protect100\"] = list(dfO.loc[(dfO.time==1)&(dfO.variable==\"ProtectCost\")&(dfO.level==100),\"segments\"])\n",
    "actions0[\"protect1000\"] = list(dfO.loc[(dfO.time==1)&(dfO.variable==\"ProtectCost\")&(dfO.level==1000),\"segments\"])\n",
    "actions0[\"protect10000\"] = list(dfO.loc[(dfO.time==1)&(dfO.variable==\"ProtectCost\")&(dfO.level==10000),\"segments\"])\n",
    "actions0[\"noadapt\"] = list(dfO.loc[(dfO.time==1)&(dfO.variable==\"NoAdaptCost\"),\"segments\"])\n",
    "\n",
    "actions1[\"retreat1\"] = list(dfO1.loc[(dfO1.time==1)&(dfO1.variable==\"RetreatCost\")&(dfO1.level==1),\"segments\"])\n",
    "actions1[\"retreat10\"] = list(dfO1.loc[(dfO1.time==1)&(dfO1.variable==\"RetreatCost\")&(dfO1.level==10),\"segments\"])\n",
    "actions1[\"retreat100\"] = list(dfO1.loc[(dfO1.time==1)&(dfO1.variable==\"RetreatCost\")&(dfO1.level==100),\"segments\"])\n",
    "actions1[\"retreat1000\"] = list(dfO1.loc[(dfO1.time==1)&(dfO1.variable==\"RetreatCost\")&(dfO1.level==1000),\"segments\"])\n",
    "actions1[\"retreat10000\"] = list(dfO1.loc[(dfO1.time==1)&(dfO1.variable==\"RetreatCost\")&(dfO1.level==10000),\"segments\"])\n",
    "actions1[\"protect10\"] = list(dfO1.loc[(dfO1.time==1)&(dfO1.variable==\"ProtectCost\")&(dfO1.level==10),\"segments\"])\n",
    "actions1[\"protect100\"] = list(dfO1.loc[(dfO1.time==1)&(dfO1.variable==\"ProtectCost\")&(dfO1.level==100),\"segments\"])\n",
    "actions1[\"protect1000\"] = list(dfO1.loc[(dfO1.time==1)&(dfO1.variable==\"ProtectCost\")&(dfO1.level==1000),\"segments\"])\n",
    "actions1[\"protect10000\"] = list(dfO1.loc[(dfO1.time==1)&(dfO1.variable==\"ProtectCost\")&(dfO1.level==10000),\"segments\"])\n",
    "actions1[\"noadapt\"] = list(dfO1.loc[(dfO1.time==1)&(dfO1.variable==\"NoAdaptCost\"),\"segments\"])"
   ]
  },
  {
   "cell_type": "code",
   "execution_count": 26,
   "metadata": {},
   "outputs": [],
   "source": [
    "retreat_segs0 = actions0[\"retreat1\"]+actions0[\"retreat10\"]+actions0[\"retreat100\"]+actions0[\"retreat1000\"]+actions0[\"retreat10000\"]\n",
    "protect_segs0 = actions0[\"protect10\"]+actions0[\"protect100\"]+actions0[\"protect1000\"]+actions0[\"protect10000\"]\n",
    "retreat_segs1 = actions1[\"retreat1\"]+actions1[\"retreat10\"]+actions1[\"retreat100\"]+actions1[\"retreat1000\"]+actions1[\"retreat10000\"]\n",
    "protect_segs1 = actions1[\"protect10\"]+actions1[\"protect100\"]+actions1[\"protect1000\"]+actions1[\"protect10000\"]"
   ]
  },
  {
   "cell_type": "markdown",
   "metadata": {},
   "source": [
    "#### get optimal actions/costs for Diaz (2016)"
   ]
  },
  {
   "cell_type": "code",
   "execution_count": 27,
   "metadata": {},
   "outputs": [],
   "source": [
    "columns_we_want = [\"WetlandOptimalFixed\", \"RelocateOptimalFixed\", \"StormCapitalOptimalFixed\", \n",
    "                   \"StormPopOptimalFixed\", \"ConstructOptimalFixed\", \"FloodOptimalFixed\"]\n",
    "dfGsub = dfG.loc[(dfG.variable.isin(columns_we_want))]\n",
    "flood_G, wetland_G, inundation_G, retreat_G, protect_G = [0]*20, [0]*20, [0]*20, [0]*20, [0]*20\n",
    "for t in range(1,21):\n",
    "    retreat_G[t-1] = dfGsub.loc[(dfGsub.time==t) & (dfGsub.variable==\"RelocateOptimalFixed\"), \"value\"].sum()\n",
    "    protect_G[t-1] = dfGsub.loc[(dfGsub.time==t) & (dfGsub.variable==\"ConstructOptimalFixed\"), \"value\"].sum()\n",
    "    inundation_G[t-1] = dfGsub.loc[(dfGsub.time==t) & (dfGsub.variable==\"FloodOptimalFixed\"), \"value\"].sum()\n",
    "    wetland_G[t-1] = dfGsub.loc[(dfGsub.time==t) & (dfGsub.variable==\"WetlandOptimalFixed\"), \"value\"].sum()\n",
    "    flood_G[t-1] = dfGsub.loc[(dfGsub.time==t) & ((dfGsub.variable==\"StormCapitalOptimalFixed\")|(dfGsub.variable==\"StormPopOptimalFixed\")), \"value\"].sum()"
   ]
  },
  {
   "cell_type": "code",
   "execution_count": 28,
   "metadata": {},
   "outputs": [],
   "source": [
    "dfDiaz[\"RetreatOptimal\"] = retreat_G[:10]\n",
    "dfDiaz[\"ProtectOptimal\"] = protect_G[:10]\n",
    "dfDiaz[\"InundationOptimal\"] = inundation_G[:10]\n",
    "dfDiaz[\"WetlandOptimal\"] = wetland_G[:10]\n",
    "dfDiaz[\"FloodOptimal\"] = flood_G[:10]"
   ]
  },
  {
   "cell_type": "markdown",
   "metadata": {},
   "source": [
    "A little funky with how the variables are named, but what Diaz (2016) refers to in Figure 2 as \"flood\" damages is the losses to property and lives from storms (`StormCapital` and `StormPop`), which \"inundation\" is the actual flooded area (`Flood`)."
   ]
  },
  {
   "cell_type": "code",
   "execution_count": 84,
   "metadata": {},
   "outputs": [
    {
     "data": {
      "image/png": "[encoded data removed]",
      "text/plain": [
       "<Figure size 576x792 with 2 Axes>"
      ]
     },
     "metadata": {
      "needs_background": "light"
     },
     "output_type": "display_data"
    }
   ],
   "source": [
    "sep = 2.8\n",
    "wid = 2.3\n",
    "cost_cols = {\"protect\" : \"C2\", \"retreat\" : \"C1\", \"inundation\" : \"C0\", \"wetland\" : \"C7\", \"flood\" : \"C8\"}\n",
    "hat = [1*'.', 1*'/', 1*'x']\n",
    "panels = [\"a.\",\"b.\",\"c.\",\"d.\",\"e.\",\"f.\",\"g.\",\"h.\"]\n",
    "\n",
    "fig,ax = plt.subplots(nrows=2, ncols=1, figsize=(8,11))\n",
    "# PANEL A: NO ADAPTATION COSTS\n",
    "pan = 0\n",
    "# set up for the legend\n",
    "ax[0].bar(x=dfDiaz.time-sep, height=1, width=.5, color=\"white\", edgecolor=\"black\", label=\"Original CIAM\")\n",
    "ax[0].bar(x=dfNew0.year, height=1, width=.5, color=\"white\", hatch=2*hat[2], edgecolor=\"black\", label=\"MimiCIAM, perfect foresight\")\n",
    "ax[0].bar(x=dfNew1.year, height=1, width=.5, color=\"white\", hatch=2*hat[0], edgecolor=\"black\", label=\"MimiCIAM, limited foresight\")\n",
    "# Diaz (2016) results\n",
    "ax[0].bar(x=dfDiaz.time-sep, height=1, width=.5, color=cost_cols[\"protect\"], label=\"protect\")\n",
    "ax[0].bar(x=dfDiaz.time-sep, height=dfDiaz.RelocateNoAdapt, width=wid, color=cost_cols[\"retreat\"], label=\"retreat\")\n",
    "ax[0].bar(x=dfDiaz.time-sep, height=dfDiaz.FloodNoAdapt, bottom=dfDiaz.RelocateNoAdapt, width=wid, color=cost_cols[\"inundation\"], label=\"inundation\")\n",
    "ax[0].bar(x=dfDiaz.time-sep, height=dfDiaz.WetlandNoAdapt, bottom=dfDiaz.RelocateNoAdapt+dfDiaz.FloodNoAdapt, width=wid, color=cost_cols[\"wetland\"], label=\"wetland\")\n",
    "ax[0].bar(x=dfDiaz.time-sep, height=dfDiaz.StormCapitalNoAdapt+dfDiaz.StormPopNoAdapt, bottom=dfDiaz.RelocateNoAdapt+dfDiaz.FloodNoAdapt+dfDiaz.WetlandNoAdapt, width=wid, color=cost_cols[\"flood\"], label=\"flood\")\n",
    "# This work, perfect foresight (match Diaz 2016)\n",
    "ax[0].bar(x=dfNew0.year, height=dfNew0.RelocateNoAdapt, width=wid, color=cost_cols[\"retreat\"], hatch=hat[2])\n",
    "ax[0].bar(x=dfNew0.year, height=dfNew0.FloodNoAdapt,bottom=dfNew0.RelocateNoAdapt,\n",
    "          width=wid, color=cost_cols[\"inundation\"], hatch=hat[2])\n",
    "ax[0].bar(x=dfNew0.year, height=dfNew0.WetlandNoAdapt, bottom=dfNew0.FloodNoAdapt+dfNew0.RelocateNoAdapt,\n",
    "          width=wid, color=cost_cols[\"wetland\"], hatch=hat[2])\n",
    "ax[0].bar(x=dfNew0.year, height=dfNew0.StormCapitalNoAdapt+dfNew0.StormPopNoAdapt, bottom=dfNew0.RelocateNoAdapt+dfNew0.FloodNoAdapt+dfNew0.WetlandNoAdapt,\n",
    "          width=wid, color=cost_cols[\"flood\"], hatch=hat[2])\n",
    "# This work, limited foresight\n",
    "ax[0].bar(x=dfNew1.year+sep, height=dfNew1.RelocateNoAdapt, width=wid, color=cost_cols[\"retreat\"], hatch=hat[0])\n",
    "ax[0].bar(x=dfNew1.year+sep, height=dfNew1.FloodNoAdapt,bottom=dfNew1.RelocateNoAdapt,\n",
    "          width=wid, color=cost_cols[\"inundation\"], hatch=hat[0])\n",
    "ax[0].bar(x=dfNew1.year+sep, height=dfNew1.WetlandNoAdapt, bottom=dfNew1.FloodNoAdapt+dfNew1.RelocateNoAdapt,\n",
    "          width=wid, color=cost_cols[\"wetland\"], hatch=hat[0])\n",
    "ax[0].bar(x=dfNew1.year+sep, height=dfNew1.StormCapitalNoAdapt+dfNew1.StormPopNoAdapt, bottom=dfNew1.RelocateNoAdapt+dfNew1.FloodNoAdapt+dfNew1.WetlandNoAdapt,\n",
    "          width=wid, color=cost_cols[\"flood\"], hatch=hat[0])\n",
    "# other plot configuration options\n",
    "ax[0].grid(); ax[0].set_axisbelow(True); ax[0].set_xlim([2005,2105])\n",
    "yticks = [0,500,1000,1500,2000]; ax[0].set_yticks(yticks); ax[0].set_yticklabels(yticks, fontsize=12)\n",
    "ax[0].set_xticks(range(2010,2110,10)); ax[0].set_xticklabels([\"\",2020,\"\",2040,\"\",2060,\"\",2080,\"\",2100], fontsize=12)\n",
    "ax[0].set_xlabel(\"Year\", fontsize=12); ax[0].set_ylabel(\"Annual No-Adapt Cost\\n(billion 2010$US)\", fontsize=12)\n",
    "ax[0].legend(fontsize=12)\n",
    "ylims = ax[0].get_ylim(); top = ylims[1]*1.02; ax[0].text(2005,top, panels[pan], fontsize=12);\n",
    "\n",
    "# PANEL B: OPTIMAL COSTS\n",
    "pan += 1\n",
    "# Diaz (2016) results\n",
    "ax[1].bar(x=dfDiaz.time-sep, height=dfDiaz.ProtectOptimal, width=wid, color=cost_cols[\"protect\"])\n",
    "ax[1].bar(x=dfDiaz.time-sep, height=dfDiaz.RetreatOptimal, bottom=dfDiaz.ProtectOptimal, width=wid, color=cost_cols[\"retreat\"])\n",
    "ax[1].bar(x=dfDiaz.time-sep, height=dfDiaz.InundationOptimal, bottom=dfDiaz.ProtectOptimal+dfDiaz.RetreatOptimal, width=wid, color=cost_cols[\"inundation\"])\n",
    "ax[1].bar(x=dfDiaz.time-sep, height=dfDiaz.WetlandOptimal, bottom=dfDiaz.ProtectOptimal+dfDiaz.RetreatOptimal+dfDiaz.InundationOptimal, width=wid, color=cost_cols[\"wetland\"])\n",
    "ax[1].bar(x=dfDiaz.time-sep, height=dfDiaz.FloodOptimal, bottom=dfDiaz.ProtectOptimal+dfDiaz.RetreatOptimal+dfDiaz.InundationOptimal+dfDiaz.WetlandOptimal, width=wid, color=cost_cols[\"flood\"])\n",
    "# This work, perfect foresight (match Diaz 2016)\n",
    "ax[1].bar(x=dfNew0.year, height=dfNew0.ProtectOptimal, width=wid, color=cost_cols[\"protect\"], hatch=hat[2])\n",
    "ax[1].bar(x=dfNew0.year, height=dfNew0.RetreatOptimal, bottom=dfNew0.ProtectOptimal, width=wid, color=cost_cols[\"retreat\"], hatch=hat[2])\n",
    "ax[1].bar(x=dfNew0.year, height=dfNew0.InundationOptimal,bottom=dfNew0.ProtectOptimal+dfNew0.RetreatOptimal, width=wid, color=cost_cols[\"inundation\"], hatch=hat[2])\n",
    "ax[1].bar(x=dfNew0.year, height=dfNew0.WetlandOptimal, bottom=dfNew0.ProtectOptimal+dfNew0.RetreatOptimal+dfNew0.InundationOptimal, width=wid, color=cost_cols[\"wetland\"], hatch=hat[2])\n",
    "ax[1].bar(x=dfNew0.year, height=dfNew0.FloodOptimal, bottom=dfNew0.ProtectOptimal+dfNew0.RetreatOptimal+dfNew0.InundationOptimal+dfNew0.WetlandOptimal, width=wid, color=cost_cols[\"flood\"], hatch=hat[2])\n",
    "# This work, limited foresight\n",
    "ax[1].bar(x=dfNew1.year+sep, height=dfNew1.ProtectOptimal, width=wid, color=cost_cols[\"protect\"], hatch=hat[0])\n",
    "ax[1].bar(x=dfNew1.year+sep, height=dfNew1.RetreatOptimal, bottom=dfNew1.ProtectOptimal, width=wid, color=cost_cols[\"retreat\"], hatch=hat[0])\n",
    "ax[1].bar(x=dfNew1.year+sep, height=dfNew1.InundationOptimal,bottom=dfNew1.ProtectOptimal+dfNew1.RetreatOptimal, width=wid, color=cost_cols[\"inundation\"], hatch=hat[0])\n",
    "ax[1].bar(x=dfNew1.year+sep, height=dfNew1.WetlandOptimal, bottom=dfNew1.ProtectOptimal+dfNew1.RetreatOptimal+dfNew1.InundationOptimal, width=wid, color=cost_cols[\"wetland\"], hatch=hat[0])\n",
    "ax[1].bar(x=dfNew1.year+sep, height=dfNew1.FloodOptimal, bottom=dfNew1.ProtectOptimal+dfNew1.RetreatOptimal+dfNew1.InundationOptimal+dfNew1.WetlandOptimal, width=wid, color=cost_cols[\"flood\"], hatch=hat[0])\n",
    "\n",
    "# other plot configuration options\n",
    "ax[1].grid(); ax[1].set_axisbelow(True); ax[1].set_xlim([2005,2105])\n",
    "yticks = [0,50,100,150,200,250,300]; ax[1].set_yticks(yticks); ax[1].set_yticklabels(yticks, fontsize=12)\n",
    "ax[1].set_xticks(range(2010,2110,10)); ax[1].set_xticklabels([\"\",2020,\"\",2040,\"\",2060,\"\",2080,\"\",2100], fontsize=12)\n",
    "ax[1].set_xlabel(\"Year\", fontsize=12); ax[1].set_ylabel(\"Annual Least-Cost\\n(billion 2010$US)\", fontsize=12)\n",
    "ylims = ax[1].get_ylim(); top = ylims[1]*1.02; ax[1].text(2005,top, panels[pan], fontsize=12);\n",
    "fig.savefig(plotdir+\"/baseline_comparison_breakdown_rcp85.pdf\", bbox_inches='tight');\n"
   ]
  },
  {
   "cell_type": "markdown",
   "metadata": {},
   "source": [
    "### Write an output CSV file with the plotted data"
   ]
  },
  {
   "cell_type": "code",
   "execution_count": 85,
   "metadata": {},
   "outputs": [],
   "source": [
    "dfOut = pd.DataFrame(data={\"year\" : dfNew0.year,\n",
    "                            \"flood-noadapt-Diaz\" : dfDiaz.StormCapitalNoAdapt+dfDiaz.StormPopNoAdapt,\n",
    "                            \"wetland-noadapt-Diaz\" : dfDiaz.WetlandNoAdapt,\n",
    "                            \"inundation-noadapt-Diaz\" : dfDiaz.FloodNoAdapt,\n",
    "                            \"retreat-noadapt-Diaz\" : dfDiaz.RelocateNoAdapt,\n",
    "                            \"protect-noadapt-Diaz\" : [0]*len(dfDiaz.RelocateNoAdapt),\n",
    "                            \"flood-noadapt-MimiCIAM-perfectForesight\" : dfNew0.StormCapitalNoAdapt+dfNew0.StormPopNoAdapt,\n",
    "                            \"wetland-noadapt-MimiCIAM-perfectForesight\" : dfNew0.WetlandNoAdapt,\n",
    "                            \"inundation-noadapt-MimiCIAM-perfectForesight\" : dfNew0.FloodNoAdapt,\n",
    "                            \"retreat-noadapt-MimiCIAM-perfectForesight\" : dfNew0.RelocateNoAdapt,\n",
    "                            \"protect-noadapt-MimiCIAM-perfectForesight\" : [0]*len(dfNew0.RelocateNoAdapt),\n",
    "                            \"flood-noadapt-MimiCIAM-limitedForesight\" : dfNew1.StormCapitalNoAdapt+dfNew1.StormPopNoAdapt,\n",
    "                            \"wetland-noadapt-MimiCIAM-limitedForesight\" : dfNew1.WetlandNoAdapt,\n",
    "                            \"inundation-noadapt-MimiCIAM-limitedForesight\" : dfNew1.FloodNoAdapt,\n",
    "                            \"retreat-noadapt-MimiCIAM-limitedForesight\" : dfNew1.RelocateNoAdapt,\n",
    "                            \"protect-noadapt-MimiCIAM-limitedForesight\" : [0]*len(dfNew1.RelocateNoAdapt),\n",
    "                            \"flood-leastcost-Diaz\" : dfDiaz.FloodOptimal, \n",
    "                            \"wetland-leastcost-Diaz\" : dfDiaz.WetlandOptimal,\n",
    "                            \"inundation-leastcost-Diaz\" : dfDiaz.FloodOptimal,\n",
    "                            \"retreat-leastcost-Diaz\" : dfDiaz.RetreatOptimal,\n",
    "                            \"protect-leastcost-Diaz\" : dfDiaz.ProtectOptimal,\n",
    "                            \"flood-leastcost-MimiCIAM-perfectForesight\" : dfNew0.FloodOptimal,\n",
    "                            \"wetland-leastcost-MimiCIAM-perfectForesight\" : dfNew0.WetlandOptimal,\n",
    "                            \"inundation-leastcost-MimiCIAM-perfectForesight\" : dfNew0.FloodOptimal,\n",
    "                            \"retreat-leastcost-MimiCIAM-perfectForesight\" : dfNew0.RetreatOptimal,\n",
    "                            \"protect-leastcost-MimiCIAM-perfectForesight\" : dfNew0.ProtectOptimal,\n",
    "                            \"flood-leastcost-MimiCIAM-limitedForesight\" : dfNew1.FloodOptimal,\n",
    "                            \"wetland-leastcost-MimiCIAM-limitedForesight\" : dfNew1.WetlandOptimal,\n",
    "                            \"inundation-leastcost-MimiCIAM-limitedForesight\" : dfNew1.FloodOptimal,\n",
    "                            \"retreat-leastcost-MimiCIAM-limitedForesight\" : dfNew1.RetreatOptimal,\n",
    "                            \"protect-leastcost-MimiCIAM-limitedForesight\" : dfNew1.ProtectOptimal})\n",
    "filename_out = dir_julia + \"/FigureData_baseline_comparisons.csv\"\n",
    "dfOut.to_csv(filename_out, index=False)"
   ]
  },
  {
   "cell_type": "markdown",
   "metadata": {},
   "source": [
    "## baseline\n",
    "\n",
    "construct fix, limited foresight"
   ]
  },
  {
   "cell_type": "code",
   "execution_count": 87,
   "metadata": {},
   "outputs": [],
   "source": [
    "dfO = pd.read_csv(dir_julia + \"/ctrl_seg_85p50ssp0fixed_optimal.csv\")\n",
    "dfN = pd.read_csv(dir_julia + \"/ctrl_seg_85p50ssp0fixed.csv\")\n",
    "dfC = pd.read_csv(dir_julia + \"/ctrl_global_85p50ssp0fixed.csv\")\n",
    "df_ctrl = process_costs_df(dfC=dfC, dfO=dfO, dfN=dfN, tmax=10)"
   ]
  },
  {
   "cell_type": "markdown",
   "metadata": {},
   "source": [
    "## baseline+updated SLR\n",
    "\n",
    "construct fix, limited foresight, BRICK RCP8.5"
   ]
  },
  {
   "cell_type": "code",
   "execution_count": 88,
   "metadata": {},
   "outputs": [],
   "source": [
    "dfO = pd.read_csv(dir_julia + \"/ctrl+BRICKLSL85_seg_85p50ssp0fixed_optimal.csv\")\n",
    "dfN = pd.read_csv(dir_julia + \"/ctrl+BRICKLSL85_seg_85p50ssp0fixed.csv\")\n",
    "dfC = pd.read_csv(dir_julia + \"/ctrl+BRICKLSL85_global_85p50ssp0fixed.csv\")\n",
    "df_BRICK85 = process_costs_df(dfC=dfC, dfO=dfO, dfN=dfN, tmax=10)"
   ]
  },
  {
   "cell_type": "markdown",
   "metadata": {},
   "source": [
    "## baseline+updated GDP/population via SSP5"
   ]
  },
  {
   "cell_type": "code",
   "execution_count": 89,
   "metadata": {},
   "outputs": [],
   "source": [
    "dfO = pd.read_csv(dir_julia + \"/ctrl+SSP5_seg_85p50ssp5fixed_optimal.csv\")\n",
    "dfN = pd.read_csv(dir_julia + \"/ctrl+SSP5_seg_85p50ssp5fixed.csv\")\n",
    "dfC = pd.read_csv(dir_julia + \"/ctrl+SSP5_global_85p50ssp5fixed.csv\")\n",
    "df_SSP5 = process_costs_df(dfC=dfC, dfO=dfO, dfN=dfN, tmax=10)"
   ]
  },
  {
   "cell_type": "markdown",
   "metadata": {},
   "source": [
    "## baseline+updated SLR+updated GPD/population via SSP5"
   ]
  },
  {
   "cell_type": "code",
   "execution_count": 90,
   "metadata": {},
   "outputs": [],
   "source": [
    "dfO = pd.read_csv(dir_julia + \"/ctrl+SSP5+BRICKLSL85_seg_85p50ssp5fixed_optimal.csv\")\n",
    "dfN = pd.read_csv(dir_julia + \"/ctrl+SSP5+BRICKLSL85_seg_85p50ssp5fixed.csv\")\n",
    "dfC = pd.read_csv(dir_julia + \"/ctrl+SSP5+BRICKLSL85_global_85p50ssp5fixed.csv\")\n",
    "df_SSP5_BRICK85 = process_costs_df(dfC=dfC, dfO=dfO, dfN=dfN, tmax=10)"
   ]
  },
  {
   "cell_type": "code",
   "execution_count": 91,
   "metadata": {},
   "outputs": [
    {
     "data": {
      "image/png": "[encoded data removed]",
      "text/plain": [
       "<Figure size 576x792 with 2 Axes>"
      ]
     },
     "metadata": {
      "needs_background": "light"
     },
     "output_type": "display_data"
    }
   ],
   "source": [
    "sep = 2\n",
    "wid = 3.1\n",
    "cost_cols = {\"protect\" : \"C2\", \"retreat\" : \"C1\", \"inundation\" : \"C0\", \"wetland\" : \"C7\", \"flood\" : \"C8\"}\n",
    "times_plot = list(range(2010,2110,10))\n",
    "idx_plot = [1,3,5,7,9]\n",
    "times_plot = np.array([times_plot[k] for k in idx_plot])\n",
    "hat = [1*'.', 1*'/', 1*'x']\n",
    "panels = [\"a.\",\"b.\",\"c.\",\"d.\",\"e.\",\"f.\",\"g.\",\"h.\"]\n",
    "\n",
    "fig,ax = plt.subplots(nrows=2, ncols=1, figsize=(8,11))\n",
    "# PANEL A: NO ADAPTATION COSTS\n",
    "pan = 0\n",
    "# set up for the legend\n",
    "ax[0].bar(x=times_plot[0], height=1, width=.5, color=\"white\", edgecolor=\"black\", label=\"MimiCIAM baseline\")\n",
    "ax[0].bar(x=times_plot[0], height=1, width=.5, color=\"white\", hatch=2*hat[0], edgecolor=\"black\", label=\"MimiCIAM, SSP5\")\n",
    "ax[0].bar(x=times_plot[0], height=1, width=.5, color=\"white\", hatch=2*hat[1], edgecolor=\"black\", label=\"MimiCIAM, BRICK RCP8.5\")\n",
    "ax[0].bar(x=times_plot[0], height=1, width=.5, color=\"white\", hatch=2*hat[2], edgecolor=\"black\", label=\"MimiCIAM, SSP5, BRICK RCP8.5\")\n",
    "# ctrl\n",
    "ax[0].bar(x=times_plot-3*sep, height=1, width=.5, color=cost_cols[\"protect\"], label=\"protect\")\n",
    "ax[0].bar(x=times_plot-3*sep, height=df_ctrl.RelocateNoAdapt[idx_plot], width=wid, color=cost_cols[\"retreat\"], label=\"retreat\")\n",
    "ax[0].bar(x=times_plot-3*sep, height=df_ctrl.FloodNoAdapt[idx_plot], bottom=np.array(df_ctrl.RelocateNoAdapt[idx_plot]), width=wid, color=cost_cols[\"inundation\"], label=\"inundation\")\n",
    "ax[0].bar(x=times_plot-3*sep, height=df_ctrl.WetlandNoAdapt[idx_plot], bottom=np.array(df_ctrl.RelocateNoAdapt[idx_plot]+df_ctrl.FloodNoAdapt[idx_plot]), width=wid, color=cost_cols[\"wetland\"], label=\"wetland\")\n",
    "ax[0].bar(x=times_plot-3*sep, height=df_ctrl.StormCapitalNoAdapt[idx_plot]+df_ctrl.StormPopNoAdapt[idx_plot], bottom=np.array(df_ctrl.RelocateNoAdapt[idx_plot]+df_ctrl.FloodNoAdapt[idx_plot]+df_ctrl.WetlandNoAdapt[idx_plot]), width=wid, color=cost_cols[\"flood\"], label=\"flood\")\n",
    "# SSP5 pop & GDP\n",
    "ax[0].bar(x=times_plot-sep, height=1, width=.5, color=cost_cols[\"protect\"], hatch=hat[0])\n",
    "ax[0].bar(x=times_plot-sep, height=df_SSP5.RelocateNoAdapt[idx_plot], width=wid, color=cost_cols[\"retreat\"], hatch=hat[0])\n",
    "ax[0].bar(x=times_plot-sep, height=df_SSP5.FloodNoAdapt[idx_plot], bottom=np.array(df_SSP5.RelocateNoAdapt[idx_plot]), width=wid, color=cost_cols[\"inundation\"], hatch=hat[0])\n",
    "ax[0].bar(x=times_plot-sep, height=df_SSP5.WetlandNoAdapt[idx_plot], bottom=np.array(df_SSP5.RelocateNoAdapt[idx_plot]+df_SSP5.FloodNoAdapt[idx_plot]), width=wid, color=cost_cols[\"wetland\"], hatch=hat[0])\n",
    "ax[0].bar(x=times_plot-sep, height=df_SSP5.StormCapitalNoAdapt[idx_plot]+df_SSP5.StormPopNoAdapt[idx_plot], bottom=np.array(df_SSP5.RelocateNoAdapt[idx_plot]+df_SSP5.FloodNoAdapt[idx_plot]+df_SSP5.WetlandNoAdapt[idx_plot]), width=wid, color=cost_cols[\"flood\"], hatch=hat[0])\n",
    "# BRICK SLR RCP8.5\n",
    "ax[0].bar(x=times_plot+sep, height=1, width=.5, color=cost_cols[\"protect\"], hatch=hat[1])\n",
    "ax[0].bar(x=times_plot+sep, height=df_BRICK85.RelocateNoAdapt[idx_plot], width=wid, color=cost_cols[\"retreat\"], hatch=hat[1])\n",
    "ax[0].bar(x=times_plot+sep, height=df_BRICK85.FloodNoAdapt[idx_plot], bottom=np.array(df_BRICK85.RelocateNoAdapt[idx_plot]), width=wid, color=cost_cols[\"inundation\"], hatch=hat[1])\n",
    "ax[0].bar(x=times_plot+sep, height=df_BRICK85.WetlandNoAdapt[idx_plot], bottom=np.array(df_BRICK85.RelocateNoAdapt[idx_plot]+df_BRICK85.FloodNoAdapt[idx_plot]), width=wid, color=cost_cols[\"wetland\"], hatch=hat[1])\n",
    "ax[0].bar(x=times_plot+sep, height=df_BRICK85.StormCapitalNoAdapt[idx_plot]+df_BRICK85.StormPopNoAdapt[idx_plot], bottom=np.array(df_BRICK85.RelocateNoAdapt[idx_plot]+df_BRICK85.FloodNoAdapt[idx_plot]+df_BRICK85.WetlandNoAdapt[idx_plot]), width=wid, color=cost_cols[\"flood\"], hatch=hat[1])\n",
    "# BRICK SLR RCP8.5 & SSP5 pop/GDP\n",
    "ax[0].bar(x=times_plot+3*sep, height=1, width=.5, color=cost_cols[\"protect\"], hatch=hat[2])\n",
    "ax[0].bar(x=times_plot+3*sep, height=df_SSP5_BRICK85.RelocateNoAdapt[idx_plot], width=wid, color=cost_cols[\"retreat\"], hatch=hat[2])\n",
    "ax[0].bar(x=times_plot+3*sep, height=df_SSP5_BRICK85.FloodNoAdapt[idx_plot], bottom=np.array(df_SSP5_BRICK85.RelocateNoAdapt[idx_plot]), width=wid, color=cost_cols[\"inundation\"], hatch=hat[2])\n",
    "ax[0].bar(x=times_plot+3*sep, height=df_SSP5_BRICK85.WetlandNoAdapt[idx_plot], bottom=np.array(df_SSP5_BRICK85.RelocateNoAdapt[idx_plot]+df_SSP5_BRICK85.FloodNoAdapt[idx_plot]), width=wid, color=cost_cols[\"wetland\"], hatch=hat[2])\n",
    "ax[0].bar(x=times_plot+3*sep, height=df_SSP5_BRICK85.StormCapitalNoAdapt[idx_plot]+df_SSP5_BRICK85.StormPopNoAdapt[idx_plot], bottom=np.array(df_SSP5_BRICK85.RelocateNoAdapt[idx_plot]+df_SSP5_BRICK85.FloodNoAdapt[idx_plot]+df_SSP5_BRICK85.WetlandNoAdapt[idx_plot]), width=wid, color=cost_cols[\"flood\"], hatch=hat[2])\n",
    "# other plot configuration options\n",
    "ax[0].grid(); ax[0].set_axisbelow(True); ax[0].set_xlim([2010,2110]); ax[0].set_ylim([0,8100])\n",
    "yticks = list(range(0,8100,1000)); ax[0].set_yticks(yticks); ax[0].set_yticklabels(yticks, fontsize=12)\n",
    "ax[0].set_xticks(range(2010,2110,10)); ax[0].set_xticklabels([\"\",2020,\"\",2040,\"\",2060,\"\",2080,\"\",2100], fontsize=12)\n",
    "ax[0].set_xlabel(\"Year\", fontsize=12); ax[0].set_ylabel(\"Annual No-Adapt Cost\\n(billion 2010$US)\", fontsize=12)\n",
    "ax[0].legend(fontsize=12)\n",
    "ylims = ax[0].get_ylim(); top = ylims[1]*1.02; ax[0].text(2010,top, panels[pan], fontsize=12);\n",
    "\n",
    "# PANEL B: OPTIMAL COSTS\n",
    "pan += 1\n",
    "# ctrl\n",
    "ax[1].bar(x=times_plot-3*sep, height=df_ctrl.ProtectOptimal[idx_plot], width=wid, color=cost_cols[\"protect\"], label=\"protect\")\n",
    "ax[1].bar(x=times_plot-3*sep, height=df_ctrl.RetreatOptimal[idx_plot], bottom=np.array(df_ctrl.ProtectOptimal[idx_plot]), width=wid, color=cost_cols[\"retreat\"], label=\"retreat\")\n",
    "ax[1].bar(x=times_plot-3*sep, height=df_ctrl.InundationOptimal[idx_plot], bottom=np.array(df_ctrl.ProtectOptimal[idx_plot]+df_ctrl.RetreatOptimal[idx_plot]), width=wid, color=cost_cols[\"inundation\"], label=\"inundation\")\n",
    "ax[1].bar(x=times_plot-3*sep, height=df_ctrl.WetlandOptimal[idx_plot], bottom=np.array(df_ctrl.ProtectOptimal[idx_plot]+df_ctrl.RetreatOptimal[idx_plot]+df_ctrl.InundationOptimal[idx_plot]), width=wid, color=cost_cols[\"wetland\"], label=\"wetland\")\n",
    "ax[1].bar(x=times_plot-3*sep, height=df_ctrl.FloodOptimal[idx_plot], bottom=np.array(df_ctrl.ProtectOptimal[idx_plot]+df_ctrl.RetreatOptimal[idx_plot]+df_ctrl.InundationOptimal[idx_plot]+df_ctrl.WetlandOptimal[idx_plot]), width=wid, color=cost_cols[\"flood\"], label=\"flood\")\n",
    "# SSP5 pop & GDP\n",
    "ax[1].bar(x=times_plot-sep, height=df_SSP5.ProtectOptimal[idx_plot], width=wid, color=cost_cols[\"protect\"], hatch=hat[0])\n",
    "ax[1].bar(x=times_plot-sep, height=df_SSP5.RetreatOptimal[idx_plot], bottom=np.array(df_SSP5.ProtectOptimal[idx_plot]), width=wid, color=cost_cols[\"retreat\"], hatch=hat[0])\n",
    "ax[1].bar(x=times_plot-sep, height=df_SSP5.InundationOptimal[idx_plot], bottom=np.array(df_SSP5.ProtectOptimal[idx_plot]+df_SSP5.RetreatOptimal[idx_plot]), width=wid, color=cost_cols[\"inundation\"], hatch=hat[0])\n",
    "ax[1].bar(x=times_plot-sep, height=df_SSP5.WetlandOptimal[idx_plot], bottom=np.array(df_SSP5.ProtectOptimal[idx_plot]+df_SSP5.RetreatOptimal[idx_plot]+df_SSP5.InundationOptimal[idx_plot]), width=wid, color=cost_cols[\"wetland\"], hatch=hat[0])\n",
    "ax[1].bar(x=times_plot-sep, height=df_SSP5.FloodOptimal[idx_plot], bottom=np.array(df_SSP5.ProtectOptimal[idx_plot]+df_SSP5.RetreatOptimal[idx_plot]+df_SSP5.InundationOptimal[idx_plot]+df_SSP5.WetlandOptimal[idx_plot]), width=wid, color=cost_cols[\"flood\"], hatch=hat[0])\n",
    "# BRICK SLR RCP8.5\n",
    "ax[1].bar(x=times_plot+sep, height=df_BRICK85.ProtectOptimal[idx_plot], width=wid, color=cost_cols[\"protect\"], hatch=hat[1])\n",
    "ax[1].bar(x=times_plot+sep, height=df_BRICK85.RetreatOptimal[idx_plot], bottom=np.array(df_BRICK85.ProtectOptimal[idx_plot]), width=wid, color=cost_cols[\"retreat\"], hatch=hat[1])\n",
    "ax[1].bar(x=times_plot+sep, height=df_BRICK85.InundationOptimal[idx_plot], bottom=np.array(df_BRICK85.ProtectOptimal[idx_plot]+df_BRICK85.RetreatOptimal[idx_plot]), width=wid, color=cost_cols[\"inundation\"], hatch=hat[1])\n",
    "ax[1].bar(x=times_plot+sep, height=df_BRICK85.WetlandOptimal[idx_plot], bottom=np.array(df_BRICK85.ProtectOptimal[idx_plot]+df_BRICK85.RetreatOptimal[idx_plot]+df_BRICK85.InundationOptimal[idx_plot]), width=wid, color=cost_cols[\"wetland\"], hatch=hat[1])\n",
    "ax[1].bar(x=times_plot+sep, height=df_BRICK85.FloodOptimal[idx_plot], bottom=np.array(df_BRICK85.ProtectOptimal[idx_plot]+df_BRICK85.RetreatOptimal[idx_plot]+df_BRICK85.InundationOptimal[idx_plot]+df_BRICK85.WetlandOptimal[idx_plot]), width=wid, color=cost_cols[\"flood\"], hatch=hat[1])\n",
    "# BRICK SLR RCP8.5 & SSP5 pop/GDP\n",
    "ax[1].bar(x=times_plot+3*sep, height=df_SSP5_BRICK85.ProtectOptimal[idx_plot], width=wid, color=cost_cols[\"protect\"], hatch=hat[2])\n",
    "ax[1].bar(x=times_plot+3*sep, height=df_SSP5_BRICK85.RetreatOptimal[idx_plot], bottom=np.array(df_SSP5_BRICK85.ProtectOptimal[idx_plot]), width=wid, color=cost_cols[\"retreat\"], hatch=hat[2])\n",
    "ax[1].bar(x=times_plot+3*sep, height=df_SSP5_BRICK85.InundationOptimal[idx_plot], bottom=np.array(df_SSP5_BRICK85.ProtectOptimal[idx_plot]+df_SSP5_BRICK85.RetreatOptimal[idx_plot]), width=wid, color=cost_cols[\"inundation\"], hatch=hat[2])\n",
    "ax[1].bar(x=times_plot+3*sep, height=df_SSP5_BRICK85.WetlandOptimal[idx_plot], bottom=np.array(df_SSP5_BRICK85.ProtectOptimal[idx_plot]+df_SSP5_BRICK85.RetreatOptimal[idx_plot]+df_SSP5_BRICK85.InundationOptimal[idx_plot]), width=wid, color=cost_cols[\"wetland\"], hatch=hat[2])\n",
    "ax[1].bar(x=times_plot+3*sep, height=df_SSP5_BRICK85.FloodOptimal[idx_plot], bottom=np.array(df_SSP5_BRICK85.ProtectOptimal[idx_plot]+df_SSP5_BRICK85.RetreatOptimal[idx_plot]+df_SSP5_BRICK85.InundationOptimal[idx_plot]+df_SSP5_BRICK85.WetlandOptimal[idx_plot]), width=wid, color=cost_cols[\"flood\"], hatch=hat[2]) \n",
    "# other plot configuration options\n",
    "ax[1].grid(); ax[1].set_axisbelow(True); ax[1].set_xlim([2010,2110])\n",
    "yticks = list(range(0,1200,100)); ax[1].set_yticks(yticks); ax[1].set_yticklabels(yticks, fontsize=12)\n",
    "ax[1].set_xticks(range(2010,2110,10)); ax[1].set_xticklabels([\"\",2020,\"\",2040,\"\",2060,\"\",2080,\"\",2100], fontsize=12)\n",
    "ax[1].set_xlabel(\"Year\", fontsize=12); ax[1].set_ylabel(\"Annual Least-Cost\\n(billion 2010$US)\", fontsize=12)\n",
    "ylims = ax[1].get_ylim(); top = ylims[1]*1.02; ax[1].text(2010,top, panels[pan], fontsize=12);\n",
    "fig.savefig(plotdir+\"/updates_comparison_rcp85.pdf\", bbox_inches='tight')"
   ]
  },
  {
   "cell_type": "markdown",
   "metadata": {},
   "source": [
    "### Write an output CSV file with the plotted data"
   ]
  },
  {
   "cell_type": "code",
   "execution_count": 92,
   "metadata": {},
   "outputs": [],
   "source": [
    "dfOut = pd.DataFrame(data={\"year\" : dfNew0.year,\n",
    "                            \"flood-noadapt-MimiCIAM-ctrl\" : df_ctrl.StormCapitalNoAdapt+df_ctrl.StormPopNoAdapt,\n",
    "                            \"wetland-noadapt-MimiCIAM-ctrl\" : df_ctrl.WetlandNoAdapt,\n",
    "                            \"inundation-noadapt-MimiCIAM-ctrl\" : df_ctrl.FloodNoAdapt,\n",
    "                            \"retreat-noadapt-MimiCIAM-ctrl\" : df_ctrl.RelocateNoAdapt,\n",
    "                            \"protect-noadapt-MimiCIAM-ctrl\" : [0]*len(df_ctrl.RelocateNoAdapt),\n",
    "                            \"flood-noadapt-MimiCIAM-SSP5\" : df_SSP5.StormCapitalNoAdapt+df_SSP5.StormPopNoAdapt,\n",
    "                            \"wetland-noadapt-MimiCIAM-SSP5\" : df_SSP5.WetlandNoAdapt,\n",
    "                            \"inundation-noadapt-MimiCIAM-SSP5\" : df_SSP5.FloodNoAdapt,\n",
    "                            \"retreat-noadapt-MimiCIAM-SSP5\" : df_SSP5.RelocateNoAdapt,\n",
    "                            \"protect-noadapt-MimiCIAM-SSP5\" : [0]*len(df_SSP5.RelocateNoAdapt),\n",
    "                            \"flood-noadapt-MimiCIAM-BRICKRCP85\" : df_BRICK85.StormCapitalNoAdapt+df_BRICK85.StormPopNoAdapt,\n",
    "                            \"wetland-noadapt-MimiCIAM-BRICKRCP85\" : df_BRICK85.WetlandNoAdapt,\n",
    "                            \"inundation-noadapt-MimiCIAM-BRICKRCP85\" : df_BRICK85.FloodNoAdapt,\n",
    "                            \"retreat-noadapt-MimiCIAM-BRICKRCP85\" : df_BRICK85.RelocateNoAdapt,\n",
    "                            \"protect-noadapt-MimiCIAM-BRICKRCP85\" : [0]*len(df_BRICK85.RelocateNoAdapt),\n",
    "                            \"flood-noadapt-MimiCIAM-SSP5-BRICKRCP85\" : df_SSP5_BRICK85.StormCapitalNoAdapt+df_SSP5_BRICK85.StormPopNoAdapt,\n",
    "                            \"wetland-noadapt-MimiCIAM-SSP5-BRICKRCP85\" : df_SSP5_BRICK85.WetlandNoAdapt,\n",
    "                            \"inundation-noadapt-MimiCIAM-SSP5-BRICKRCP85\" : df_SSP5_BRICK85.FloodNoAdapt,\n",
    "                            \"retreat-noadapt-MimiCIAM-SSP5-BRICKRCP85\" : df_SSP5_BRICK85.RelocateNoAdapt,\n",
    "                            \"protect-noadapt-MimiCIAM-SSP5-BRICKRCP85\" : [0]*len(df_SSP5_BRICK85.RelocateNoAdapt),\n",
    "                            \"flood-leastcost-MimiCIAM-ctrl\" : df_ctrl.FloodOptimal,\n",
    "                            \"wetland-leastcost-MimiCIAM-ctrl\" : df_ctrl.WetlandOptimal,\n",
    "                            \"inundation-leastcost-MimiCIAM-ctrl\" : df_ctrl.FloodOptimal,\n",
    "                            \"retreat-leastcost-MimiCIAM-ctrl\" : df_ctrl.RetreatOptimal,\n",
    "                            \"protect-leastcost-MimiCIAM-ctrl\" : df_ctrl.ProtectOptimal,\n",
    "                            \"flood-leastcost-MimiCIAM-SSP5\" : df_SSP5.FloodOptimal,\n",
    "                            \"wetland-leastcost-MimiCIAM-SSP5\" : df_SSP5.WetlandOptimal,\n",
    "                            \"inundation-leastcost-MimiCIAM-SSP5\" : df_SSP5.FloodOptimal,\n",
    "                            \"retreat-leastcost-MimiCIAM-SSP5\" : df_SSP5.RetreatOptimal,\n",
    "                            \"protect-leastcost-MimiCIAM-SSP5\" : df_SSP5.ProtectOptimal,\n",
    "                            \"flood-leastcost-MimiCIAM-BRICKRCP85\" : df_BRICK85.FloodOptimal,\n",
    "                            \"wetland-leastcost-MimiCIAM-BRICKRCP85\" : df_BRICK85.WetlandOptimal,\n",
    "                            \"inundation-leastcost-MimiCIAM-BRICKRCP85\" : df_BRICK85.FloodOptimal,\n",
    "                            \"retreat-leastcost-MimiCIAM-BRICKRCP85\" : df_BRICK85.RetreatOptimal,\n",
    "                            \"protect-leastcost-MimiCIAM-BRICKRCP85\" : df_BRICK85.ProtectOptimal,\n",
    "                            \"flood-leastcost-MimiCIAM-SSP5-BRICKRCP85\" : df_SSP5_BRICK85.FloodOptimal,\n",
    "                            \"wetland-leastcost-MimiCIAM-SSP5-BRICKRCP85\" : df_SSP5_BRICK85.WetlandOptimal,\n",
    "                            \"inundation-leastcost-MimiCIAM-SSP5-BRICKRCP85\" : df_SSP5_BRICK85.FloodOptimal,\n",
    "                            \"retreat-leastcost-MimiCIAM-SSP5-BRICKRCP85\" : df_SSP5_BRICK85.RetreatOptimal,\n",
    "                            \"protect-leastcost-MimiCIAM-SSP5-BRICKRCP85\" : df_SSP5_BRICK85.ProtectOptimal})\n",
    "filename_out = dir_julia + \"/FigureData_updates_comparisons_SSP5-RCP85.csv\"\n",
    "dfOut.to_csv(filename_out, index=False)"
   ]
  },
  {
   "cell_type": "markdown",
   "metadata": {},
   "source": [
    "# Figure: comparison of damages and breakdown across SSPs with the new standard model version"
   ]
  },
  {
   "cell_type": "markdown",
   "metadata": {},
   "source": [
    "## baseline+updated SLR+updated GPD/population via SSP1-26, SSP2-45, SSP4-60, SSP5-85"
   ]
  },
  {
   "cell_type": "code",
   "execution_count": 93,
   "metadata": {},
   "outputs": [],
   "source": [
    "scenarios = [(1,26),(2,45),(4,60),(5,85)]\n",
    "surgeoption = 0"
   ]
  },
  {
   "cell_type": "code",
   "execution_count": 94,
   "metadata": {},
   "outputs": [],
   "source": [
    "dfOs = {scen : None for scen in scenarios}\n",
    "dfNs = {scen : None for scen in scenarios}\n",
    "dfCs = {scen : None for scen in scenarios}\n",
    "dfs  = {scen : None for scen in scenarios}\n",
    "\n",
    "for scen in scenarios:\n",
    "    ssp,rcp = scen\n",
    "    dfOs[scen] = pd.read_csv(dir_julia + \"/ctrl+SSP\"+str(ssp)+\"+BRICKLSL\"+str(rcp)+\"+surge\"+str(surgeoption)+\"_seg_85p50ssp\"+str(ssp)+\"fixed_optimal.csv\")\n",
    "    dfNs[scen] = pd.read_csv(dir_julia + \"/ctrl+SSP\"+str(ssp)+\"+BRICKLSL\"+str(rcp)+\"+surge\"+str(surgeoption)+\"_seg_85p50ssp\"+str(ssp)+\"fixed.csv\")\n",
    "    dfCs[scen] = pd.read_csv(dir_julia + \"/ctrl+SSP\"+str(ssp)+\"+BRICKLSL\"+str(rcp)+\"+surge\"+str(surgeoption)+\"_global_85p50ssp\"+str(ssp)+\"fixed.csv\")\n",
    "    dfs[scen]  = process_costs_df(dfC=dfCs[scen], dfO=dfOs[scen], dfN=dfNs[scen], tmax=10)\n"
   ]
  },
  {
   "cell_type": "code",
   "execution_count": 96,
   "metadata": {
    "scrolled": false
   },
   "outputs": [
    {
     "data": {
      "image/png": "[encoded data removed]",
      "text/plain": [
       "<Figure size 576x792 with 2 Axes>"
      ]
     },
     "metadata": {
      "needs_background": "light"
     },
     "output_type": "display_data"
    }
   ],
   "source": [
    "sep = 2\n",
    "wid = 3.1\n",
    "cost_cols = {\"protect\" : \"C2\", \"retreat\" : \"C1\", \"inundation\" : \"C0\", \"wetland\" : \"C7\", \"flood\" : \"C8\"}\n",
    "times_plot = list(range(2010,2110,10))\n",
    "idx_plot = [1,3,5,7,9]\n",
    "times_plot = np.array([times_plot[k] for k in idx_plot])\n",
    "hat = [1*'.', 1*'/', 1*'x']\n",
    "panels = [\"a.\",\"b.\",\"c.\",\"d.\",\"e.\",\"f.\",\"g.\",\"h.\"]\n",
    "\n",
    "fig,ax = plt.subplots(nrows=2, ncols=1, figsize=(8,11))\n",
    "# PANEL A: NO ADAPTATION COSTS\n",
    "pan = 0\n",
    "# set up for the legend\n",
    "ax[0].bar(x=times_plot[0], height=1, width=.5, color=\"white\", edgecolor=\"black\", label=\"SSP1-2.6\")\n",
    "ax[0].bar(x=times_plot[0], height=1, width=.5, color=\"white\", hatch=2*hat[0], edgecolor=\"black\", label=\"SSP2-4.5\")\n",
    "ax[0].bar(x=times_plot[0], height=1, width=.5, color=\"white\", hatch=2*hat[1], edgecolor=\"black\", label=\"SSP4-6.0\")\n",
    "ax[0].bar(x=times_plot[0], height=1, width=.5, color=\"white\", hatch=2*hat[2], edgecolor=\"black\", label=\"SSP5-8.5\")\n",
    "# SSP1-RCP2.6\n",
    "scen = (1,26)\n",
    "ax[0].bar(x=times_plot-3*sep, height=1, width=.5, color=cost_cols[\"protect\"], label=\"protect\")\n",
    "ax[0].bar(x=times_plot-3*sep, height=dfs[scen].RelocateNoAdapt[idx_plot], width=wid, color=cost_cols[\"retreat\"], label=\"retreat\")\n",
    "ax[0].bar(x=times_plot-3*sep, height=dfs[scen].FloodNoAdapt[idx_plot], bottom=np.array(dfs[scen].RelocateNoAdapt[idx_plot]), width=wid, color=cost_cols[\"inundation\"], label=\"inundation\")\n",
    "ax[0].bar(x=times_plot-3*sep, height=dfs[scen].WetlandNoAdapt[idx_plot], bottom=np.array(dfs[scen].RelocateNoAdapt[idx_plot]+dfs[scen].FloodNoAdapt[idx_plot]), width=wid, color=cost_cols[\"wetland\"], label=\"wetland\")\n",
    "ax[0].bar(x=times_plot-3*sep, height=dfs[scen].StormCapitalNoAdapt[idx_plot]+dfs[scen].StormPopNoAdapt[idx_plot], bottom=np.array(dfs[scen].RelocateNoAdapt[idx_plot]+dfs[scen].FloodNoAdapt[idx_plot]+dfs[scen].WetlandNoAdapt[idx_plot]), width=wid, color=cost_cols[\"flood\"], label=\"flood\")\n",
    "# SSP2-RCP4.5\n",
    "scen = (2,45)\n",
    "ax[0].bar(x=times_plot-sep, height=1, width=.5, color=cost_cols[\"protect\"], hatch=hat[0])\n",
    "ax[0].bar(x=times_plot-sep, height=dfs[scen].RelocateNoAdapt[idx_plot], width=wid, color=cost_cols[\"retreat\"], hatch=hat[0])\n",
    "ax[0].bar(x=times_plot-sep, height=dfs[scen].FloodNoAdapt[idx_plot], bottom=np.array(dfs[scen].RelocateNoAdapt[idx_plot]), width=wid, color=cost_cols[\"inundation\"], hatch=hat[0])\n",
    "ax[0].bar(x=times_plot-sep, height=dfs[scen].WetlandNoAdapt[idx_plot], bottom=np.array(dfs[scen].RelocateNoAdapt[idx_plot]+dfs[scen].FloodNoAdapt[idx_plot]), width=wid, color=cost_cols[\"wetland\"], hatch=hat[0])\n",
    "ax[0].bar(x=times_plot-sep, height=dfs[scen].StormCapitalNoAdapt[idx_plot]+dfs[scen].StormPopNoAdapt[idx_plot], bottom=np.array(dfs[scen].RelocateNoAdapt[idx_plot]+dfs[scen].FloodNoAdapt[idx_plot]+dfs[scen].WetlandNoAdapt[idx_plot]), width=wid, color=cost_cols[\"flood\"], hatch=hat[0])\n",
    "# SSP4-RCP6.0\n",
    "scen = (4,60)\n",
    "ax[0].bar(x=times_plot+sep, height=1, width=.5, color=cost_cols[\"protect\"], hatch=hat[1])\n",
    "ax[0].bar(x=times_plot+sep, height=dfs[scen].RelocateNoAdapt[idx_plot], width=wid, color=cost_cols[\"retreat\"], hatch=hat[1])\n",
    "ax[0].bar(x=times_plot+sep, height=dfs[scen].FloodNoAdapt[idx_plot], bottom=np.array(dfs[scen].RelocateNoAdapt[idx_plot]), width=wid, color=cost_cols[\"inundation\"], hatch=hat[1])\n",
    "ax[0].bar(x=times_plot+sep, height=dfs[scen].WetlandNoAdapt[idx_plot], bottom=np.array(dfs[scen].RelocateNoAdapt[idx_plot]+dfs[scen].FloodNoAdapt[idx_plot]), width=wid, color=cost_cols[\"wetland\"], hatch=hat[1])\n",
    "ax[0].bar(x=times_plot+sep, height=dfs[scen].StormCapitalNoAdapt[idx_plot]+dfs[scen].StormPopNoAdapt[idx_plot], bottom=np.array(dfs[scen].RelocateNoAdapt[idx_plot]+dfs[scen].FloodNoAdapt[idx_plot]+dfs[scen].WetlandNoAdapt[idx_plot]), width=wid, color=cost_cols[\"flood\"], hatch=hat[1])\n",
    "# SSP5-RCP8.5\n",
    "scen = (5,85)\n",
    "ax[0].bar(x=times_plot+3*sep, height=1, width=.5, color=cost_cols[\"protect\"], hatch=hat[2])\n",
    "ax[0].bar(x=times_plot+3*sep, height=dfs[scen].RelocateNoAdapt[idx_plot], width=wid, color=cost_cols[\"retreat\"], hatch=hat[2])\n",
    "ax[0].bar(x=times_plot+3*sep, height=dfs[scen].FloodNoAdapt[idx_plot], bottom=np.array(dfs[scen].RelocateNoAdapt[idx_plot]), width=wid, color=cost_cols[\"inundation\"], hatch=hat[2])\n",
    "ax[0].bar(x=times_plot+3*sep, height=dfs[scen].WetlandNoAdapt[idx_plot], bottom=np.array(dfs[scen].RelocateNoAdapt[idx_plot]+dfs[scen].FloodNoAdapt[idx_plot]), width=wid, color=cost_cols[\"wetland\"], hatch=hat[2])\n",
    "ax[0].bar(x=times_plot+3*sep, height=dfs[scen].StormCapitalNoAdapt[idx_plot]+dfs[scen].StormPopNoAdapt[idx_plot], bottom=np.array(dfs[scen].RelocateNoAdapt[idx_plot]+dfs[scen].FloodNoAdapt[idx_plot]+dfs[scen].WetlandNoAdapt[idx_plot]), width=wid, color=cost_cols[\"flood\"], hatch=hat[2])\n",
    "# other plot configuration options\n",
    "ax[0].grid(); ax[0].set_axisbelow(True); ax[0].set_xlim([2010,2110]); ax[0].set_ylim([0,8100])\n",
    "yticks = list(range(0,8100,1000)); ax[0].set_yticks(yticks); ax[0].set_yticklabels(yticks, fontsize=12)\n",
    "ax[0].set_xticks(range(2010,2110,10)); ax[0].set_xticklabels([\"\",2020,\"\",2040,\"\",2060,\"\",2080,\"\",2100], fontsize=12)\n",
    "ax[0].set_xlabel(\"Year\", fontsize=12); ax[0].set_ylabel(\"Annual No-Adapt Cost\\n(billion 2010$US)\", fontsize=12)\n",
    "ax[0].legend(fontsize=12)\n",
    "ylims = ax[0].get_ylim(); top = ylims[1]*1.02; ax[0].text(2010,top, panels[pan], fontsize=12);\n",
    "\n",
    "# PANEL B: OPTIMAL COSTS\n",
    "pan += 1\n",
    "# SSP1-RCP2.6\n",
    "scen = (1,26)\n",
    "ax[1].bar(x=times_plot-3*sep, height=dfs[scen].ProtectOptimal[idx_plot], width=wid, color=cost_cols[\"protect\"], label=\"protect\")\n",
    "ax[1].bar(x=times_plot-3*sep, height=dfs[scen].RetreatOptimal[idx_plot], bottom=np.array(dfs[scen].ProtectOptimal[idx_plot]), width=wid, color=cost_cols[\"retreat\"], label=\"retreat\")\n",
    "ax[1].bar(x=times_plot-3*sep, height=dfs[scen].InundationOptimal[idx_plot], bottom=np.array(dfs[scen].ProtectOptimal[idx_plot]+dfs[scen].RetreatOptimal[idx_plot]), width=wid, color=cost_cols[\"inundation\"], label=\"inundation\")\n",
    "ax[1].bar(x=times_plot-3*sep, height=dfs[scen].WetlandOptimal[idx_plot], bottom=np.array(dfs[scen].ProtectOptimal[idx_plot]+dfs[scen].RetreatOptimal[idx_plot]+dfs[scen].InundationOptimal[idx_plot]), width=wid, color=cost_cols[\"wetland\"], label=\"wetland\")\n",
    "ax[1].bar(x=times_plot-3*sep, height=dfs[scen].FloodOptimal[idx_plot], bottom=np.array(dfs[scen].ProtectOptimal[idx_plot]+dfs[scen].RetreatOptimal[idx_plot]+dfs[scen].InundationOptimal[idx_plot]+dfs[scen].WetlandOptimal[idx_plot]), width=wid, color=cost_cols[\"flood\"], label=\"flood\")\n",
    "# SSP2-RCP4.5\n",
    "scen = (2,45)\n",
    "ax[1].bar(x=times_plot-sep, height=dfs[scen].ProtectOptimal[idx_plot], width=wid, color=cost_cols[\"protect\"], hatch=hat[0])\n",
    "ax[1].bar(x=times_plot-sep, height=dfs[scen].RetreatOptimal[idx_plot], bottom=np.array(dfs[scen].ProtectOptimal[idx_plot]), width=wid, color=cost_cols[\"retreat\"], hatch=hat[0])\n",
    "ax[1].bar(x=times_plot-sep, height=dfs[scen].InundationOptimal[idx_plot], bottom=np.array(dfs[scen].ProtectOptimal[idx_plot]+dfs[scen].RetreatOptimal[idx_plot]), width=wid, color=cost_cols[\"inundation\"], hatch=hat[0])\n",
    "ax[1].bar(x=times_plot-sep, height=dfs[scen].WetlandOptimal[idx_plot], bottom=np.array(dfs[scen].ProtectOptimal[idx_plot]+dfs[scen].RetreatOptimal[idx_plot]+dfs[scen].InundationOptimal[idx_plot]), width=wid, color=cost_cols[\"wetland\"], hatch=hat[0])\n",
    "ax[1].bar(x=times_plot-sep, height=dfs[scen].FloodOptimal[idx_plot], bottom=np.array(dfs[scen].ProtectOptimal[idx_plot]+dfs[scen].RetreatOptimal[idx_plot]+dfs[scen].InundationOptimal[idx_plot]+dfs[scen].WetlandOptimal[idx_plot]), width=wid, color=cost_cols[\"flood\"], hatch=hat[0])\n",
    "# SSP4-RCP6.0\n",
    "scen = (4,60)\n",
    "ax[1].bar(x=times_plot+sep, height=dfs[scen].ProtectOptimal[idx_plot], width=wid, color=cost_cols[\"protect\"], hatch=hat[1])\n",
    "ax[1].bar(x=times_plot+sep, height=dfs[scen].RetreatOptimal[idx_plot], bottom=np.array(dfs[scen].ProtectOptimal[idx_plot]), width=wid, color=cost_cols[\"retreat\"], hatch=hat[1])\n",
    "ax[1].bar(x=times_plot+sep, height=dfs[scen].InundationOptimal[idx_plot], bottom=np.array(dfs[scen].ProtectOptimal[idx_plot]+dfs[scen].RetreatOptimal[idx_plot]), width=wid, color=cost_cols[\"inundation\"], hatch=hat[1])\n",
    "ax[1].bar(x=times_plot+sep, height=dfs[scen].WetlandOptimal[idx_plot], bottom=np.array(dfs[scen].ProtectOptimal[idx_plot]+dfs[scen].RetreatOptimal[idx_plot]+dfs[scen].InundationOptimal[idx_plot]), width=wid, color=cost_cols[\"wetland\"], hatch=hat[1])\n",
    "ax[1].bar(x=times_plot+sep, height=dfs[scen].FloodOptimal[idx_plot], bottom=np.array(dfs[scen].ProtectOptimal[idx_plot]+dfs[scen].RetreatOptimal[idx_plot]+dfs[scen].InundationOptimal[idx_plot]+dfs[scen].WetlandOptimal[idx_plot]), width=wid, color=cost_cols[\"flood\"], hatch=hat[1])\n",
    "# SSP5-RCP8.5\n",
    "scen = (5,85)\n",
    "ax[1].bar(x=times_plot+3*sep, height=dfs[scen].ProtectOptimal[idx_plot], width=wid, color=cost_cols[\"protect\"], hatch=hat[2])\n",
    "ax[1].bar(x=times_plot+3*sep, height=dfs[scen].RetreatOptimal[idx_plot], bottom=np.array(dfs[scen].ProtectOptimal[idx_plot]), width=wid, color=cost_cols[\"retreat\"], hatch=hat[2])\n",
    "ax[1].bar(x=times_plot+3*sep, height=dfs[scen].InundationOptimal[idx_plot], bottom=np.array(dfs[scen].ProtectOptimal[idx_plot]+dfs[scen].RetreatOptimal[idx_plot]), width=wid, color=cost_cols[\"inundation\"], hatch=hat[2])\n",
    "ax[1].bar(x=times_plot+3*sep, height=dfs[scen].WetlandOptimal[idx_plot], bottom=np.array(dfs[scen].ProtectOptimal[idx_plot]+dfs[scen].RetreatOptimal[idx_plot]+dfs[scen].InundationOptimal[idx_plot]), width=wid, color=cost_cols[\"wetland\"], hatch=hat[2])\n",
    "ax[1].bar(x=times_plot+3*sep, height=dfs[scen].FloodOptimal[idx_plot], bottom=np.array(dfs[scen].ProtectOptimal[idx_plot]+dfs[scen].RetreatOptimal[idx_plot]+dfs[scen].InundationOptimal[idx_plot]+dfs[scen].WetlandOptimal[idx_plot]), width=wid, color=cost_cols[\"flood\"], hatch=hat[2]) \n",
    "# other plot configuration options\n",
    "ax[1].grid(); ax[1].set_axisbelow(True); ax[1].set_xlim([2010,2110])\n",
    "yticks = list(range(0,1200,100)); ax[1].set_yticks(yticks); ax[1].set_yticklabels(yticks, fontsize=12)\n",
    "ax[1].set_xticks(range(2010,2110,10)); ax[1].set_xticklabels([\"\",2020,\"\",2040,\"\",2060,\"\",2080,\"\",2100], fontsize=12)\n",
    "ax[1].set_xlabel(\"Year\", fontsize=12); ax[1].set_ylabel(\"Annual Least-Cost\\n(billion 2010$US)\", fontsize=12)\n",
    "ylims = ax[1].get_ylim(); top = ylims[1]*1.02; ax[1].text(2010,top, panels[pan], fontsize=12);\n",
    "fig.savefig(plotdir+\"/baseline_comparison_ssprcp.pdf\", bbox_inches='tight')\n"
   ]
  },
  {
   "cell_type": "markdown",
   "metadata": {},
   "source": [
    "### Write an output CSV file with the plotted data"
   ]
  },
  {
   "cell_type": "code",
   "execution_count": 97,
   "metadata": {},
   "outputs": [],
   "source": [
    "dfOut = pd.DataFrame(data={\"year\" : dfNew0.year,\n",
    "                            \"flood-noadapt-SSP1-RCP26\" : dfs[(1,26)].StormCapitalNoAdapt+dfs[(1,26)].StormPopNoAdapt,\n",
    "                            \"wetland-noadapt-SSP1-RCP26\" : dfs[(1,26)].WetlandNoAdapt,\n",
    "                            \"inundation-noadapt-SSP1-RCP26\" : dfs[(1,26)].FloodNoAdapt,\n",
    "                            \"retreat-noadapt-SSP1-RCP26\" : dfs[(1,26)].RelocateNoAdapt,\n",
    "                            \"protect-noadapt-SSP1-RCP26\" : [0]*len(dfs[(1,26)].RelocateNoAdapt),\n",
    "                            \"flood-noadapt-SSP2-RCP45\" : dfs[(2,45)].StormCapitalNoAdapt+dfs[(2,45)].StormPopNoAdapt,\n",
    "                            \"wetland-noadapt-SSP2-RCP45\" : dfs[(2,45)].WetlandNoAdapt,\n",
    "                            \"inundation-noadapt-SSP2-RCP45\" : dfs[(2,45)].FloodNoAdapt,\n",
    "                            \"retreat-noadapt-SSP2-RCP45\" : dfs[(2,45)].RelocateNoAdapt,\n",
    "                            \"protect-noadapt-SSP2-RCP45\" : [0]*len(dfs[(2,45)].RelocateNoAdapt),\n",
    "                            \"flood-noadapt-SSP4-RCP60\" : dfs[(4,60)].StormCapitalNoAdapt+dfs[(4,60)].StormPopNoAdapt,\n",
    "                            \"wetland-noadapt-SSP4-RCP60\" : dfs[(4,60)].WetlandNoAdapt,\n",
    "                            \"inundation-noadapt-SSP4-RCP60\" : dfs[(4,60)].FloodNoAdapt,\n",
    "                            \"retreat-noadapt-SSP4-RCP60\" : dfs[(4,60)].RelocateNoAdapt,\n",
    "                            \"protect-noadapt-SSP4-RCP60\" : [0]*len(dfs[(4,60)].RelocateNoAdapt),\n",
    "                            \"flood-noadapt-SSP5-RCP85\" : dfs[(5,85)].StormCapitalNoAdapt+dfs[(5,85)].StormPopNoAdapt,\n",
    "                            \"wetland-noadapt-SSP5-RCP85\" : dfs[(5,85)].WetlandNoAdapt,\n",
    "                            \"inundation-noadapt-SSP5-RCP85\" : dfs[(5,85)].FloodNoAdapt,\n",
    "                            \"retreat-noadapt-SSP5-RCP85\" : dfs[(5,85)].RelocateNoAdapt,\n",
    "                            \"protect-noadapt-SSP5-RCP85\" : [0]*len(dfs[(5,85)].RelocateNoAdapt),\n",
    "                            \"flood-leastcost-SSP1-RCP26\" : dfs[(1,26)].FloodOptimal,\n",
    "                            \"wetland-leastcost-SSP1-RCP26\" : dfs[(1,26)].WetlandOptimal,\n",
    "                            \"inundation-leastcost-SSP1-RCP26\" : dfs[(1,26)].FloodOptimal,\n",
    "                            \"retreat-leastcost-SSP1-RCP26\" : dfs[(1,26)].RetreatOptimal,\n",
    "                            \"protect-leastcost-SSP1-RCP26\" : dfs[(1,26)].ProtectOptimal,\n",
    "                            \"flood-leastcost-SSP2-RCP45\" : dfs[(2,45)].FloodOptimal,\n",
    "                            \"wetland-leastcost-SSP2-RCP45\" : dfs[(2,45)].WetlandOptimal,\n",
    "                            \"inundation-leastcost-SSP2-RCP45\" : dfs[(2,45)].FloodOptimal,\n",
    "                            \"retreat-leastcost-SSP2-RCP45\" : dfs[(2,45)].RetreatOptimal,\n",
    "                            \"protect-leastcost-SSP2-RCP45\" : dfs[(2,45)].ProtectOptimal,\n",
    "                            \"flood-leastcost-SSP4-RCP60\" : dfs[(4,60)].FloodOptimal,\n",
    "                            \"wetland-leastcost-SSP4-RCP60\" : dfs[(4,60)].WetlandOptimal,\n",
    "                            \"inundation-leastcost-SSP4-RCP60\" : dfs[(4,60)].FloodOptimal,\n",
    "                            \"retreat-leastcost-SSP4-RCP60\" : dfs[(4,60)].RetreatOptimal,\n",
    "                            \"protect-leastcost-SSP4-RCP60\" : dfs[(4,60)].ProtectOptimal,\n",
    "                            \"flood-leastcost-SSP5-RCP85\" : dfs[(5,85)].FloodOptimal,\n",
    "                            \"wetland-leastcost-SSP5-RCP85\" : dfs[(5,85)].WetlandOptimal,\n",
    "                            \"inundation-leastcost-SSP5-RCP85\" : dfs[(5,85)].FloodOptimal,\n",
    "                            \"retreat-leastcost-SSP5-RCP85\" : dfs[(5,85)].RetreatOptimal,\n",
    "                            \"protect-leastcost-SSP5-RCP85\" : dfs[(5,85)].ProtectOptimal})\n",
    "filename_out = dir_julia + \"/FigureData_baseline_comparison_ssprcp.csv\"\n",
    "dfOut.to_csv(filename_out, index=False)"
   ]
  },
  {
   "cell_type": "markdown",
   "metadata": {},
   "source": [
    "### Supplemental experiment: surgeoption=1"
   ]
  },
  {
   "cell_type": "code",
   "execution_count": 46,
   "metadata": {},
   "outputs": [],
   "source": [
    "scenarios = [(1,26),(2,45),(4,60),(5,85)]\n",
    "surgeoption = 1"
   ]
  },
  {
   "cell_type": "code",
   "execution_count": 47,
   "metadata": {},
   "outputs": [],
   "source": [
    "dfOs = {scen : None for scen in scenarios}\n",
    "dfNs = {scen : None for scen in scenarios}\n",
    "dfCs = {scen : None for scen in scenarios}\n",
    "dfs  = {scen : None for scen in scenarios}\n",
    "\n",
    "for scen in scenarios:\n",
    "    ssp,rcp = scen\n",
    "    dfOs[scen] = pd.read_csv(dir_julia + \"/ctrl+SSP\"+str(ssp)+\"+BRICKLSL\"+str(rcp)+\"+surge\"+str(surgeoption)+\"_seg_85p50ssp\"+str(ssp)+\"fixed_optimal.csv\")\n",
    "    dfNs[scen] = pd.read_csv(dir_julia + \"/ctrl+SSP\"+str(ssp)+\"+BRICKLSL\"+str(rcp)+\"+surge\"+str(surgeoption)+\"_seg_85p50ssp\"+str(ssp)+\"fixed.csv\")\n",
    "    dfCs[scen] = pd.read_csv(dir_julia + \"/ctrl+SSP\"+str(ssp)+\"+BRICKLSL\"+str(rcp)+\"+surge\"+str(surgeoption)+\"_global_85p50ssp\"+str(ssp)+\"fixed.csv\")\n",
    "    dfs[scen]  = process_costs_df(dfC=dfCs[scen], dfO=dfOs[scen], dfN=dfNs[scen], tmax=10)\n"
   ]
  },
  {
   "cell_type": "code",
   "execution_count": 41,
   "metadata": {
    "scrolled": false
   },
   "outputs": [
    {
     "data": {
      "image/png": "[encoded data removed]",
      "text/plain": [
       "<Figure size 576x792 with 2 Axes>"
      ]
     },
     "metadata": {
      "needs_background": "light"
     },
     "output_type": "display_data"
    }
   ],
   "source": [
    "sep = 2\n",
    "wid = 3.1\n",
    "cost_cols = {\"protect\" : \"C2\", \"retreat\" : \"C1\", \"inundation\" : \"C0\", \"wetland\" : \"C7\", \"flood\" : \"C8\"}\n",
    "times_plot = list(range(2010,2110,10))\n",
    "idx_plot = [1,3,5,7,9]\n",
    "times_plot = np.array([times_plot[k] for k in idx_plot])\n",
    "hat = [1*'.', 1*'/', 1*'x']\n",
    "panels = [\"a.\",\"b.\",\"c.\",\"d.\",\"e.\",\"f.\",\"g.\",\"h.\"]\n",
    "\n",
    "fig,ax = plt.subplots(nrows=2, ncols=1, figsize=(8,11))\n",
    "# PANEL A: NO ADAPTATION COSTS\n",
    "pan = 0\n",
    "# set up for the legend\n",
    "ax[0].bar(x=times_plot[0], height=1, width=.5, color=\"white\", edgecolor=\"black\", label=\"SSP1-2.6\")\n",
    "ax[0].bar(x=times_plot[0], height=1, width=.5, color=\"white\", hatch=2*hat[0], edgecolor=\"black\", label=\"SSP2-4.5\")\n",
    "ax[0].bar(x=times_plot[0], height=1, width=.5, color=\"white\", hatch=2*hat[1], edgecolor=\"black\", label=\"SSP4-6.0\")\n",
    "ax[0].bar(x=times_plot[0], height=1, width=.5, color=\"white\", hatch=2*hat[2], edgecolor=\"black\", label=\"SSP5-8.5\")\n",
    "# SSP1-RCP2.6\n",
    "scen = (1,26)\n",
    "ax[0].bar(x=times_plot-3*sep, height=1, width=.5, color=cost_cols[\"protect\"], label=\"protect\")\n",
    "ax[0].bar(x=times_plot-3*sep, height=dfs[scen].RelocateNoAdapt[idx_plot], width=wid, color=cost_cols[\"retreat\"], label=\"retreat\")\n",
    "ax[0].bar(x=times_plot-3*sep, height=dfs[scen].FloodNoAdapt[idx_plot], bottom=np.array(dfs[scen].RelocateNoAdapt[idx_plot]), width=wid, color=cost_cols[\"inundation\"], label=\"inundation\")\n",
    "ax[0].bar(x=times_plot-3*sep, height=dfs[scen].WetlandNoAdapt[idx_plot], bottom=np.array(dfs[scen].RelocateNoAdapt[idx_plot]+dfs[scen].FloodNoAdapt[idx_plot]), width=wid, color=cost_cols[\"wetland\"], label=\"wetland\")\n",
    "ax[0].bar(x=times_plot-3*sep, height=dfs[scen].StormCapitalNoAdapt[idx_plot]+dfs[scen].StormPopNoAdapt[idx_plot], bottom=np.array(dfs[scen].RelocateNoAdapt[idx_plot]+dfs[scen].FloodNoAdapt[idx_plot]+dfs[scen].WetlandNoAdapt[idx_plot]), width=wid, color=cost_cols[\"flood\"], label=\"flood\")\n",
    "# SSP2-RCP4.5\n",
    "scen = (2,45)\n",
    "ax[0].bar(x=times_plot-sep, height=1, width=.5, color=cost_cols[\"protect\"], hatch=hat[0])\n",
    "ax[0].bar(x=times_plot-sep, height=dfs[scen].RelocateNoAdapt[idx_plot], width=wid, color=cost_cols[\"retreat\"], hatch=hat[0])\n",
    "ax[0].bar(x=times_plot-sep, height=dfs[scen].FloodNoAdapt[idx_plot], bottom=np.array(dfs[scen].RelocateNoAdapt[idx_plot]), width=wid, color=cost_cols[\"inundation\"], hatch=hat[0])\n",
    "ax[0].bar(x=times_plot-sep, height=dfs[scen].WetlandNoAdapt[idx_plot], bottom=np.array(dfs[scen].RelocateNoAdapt[idx_plot]+dfs[scen].FloodNoAdapt[idx_plot]), width=wid, color=cost_cols[\"wetland\"], hatch=hat[0])\n",
    "ax[0].bar(x=times_plot-sep, height=dfs[scen].StormCapitalNoAdapt[idx_plot]+dfs[scen].StormPopNoAdapt[idx_plot], bottom=np.array(dfs[scen].RelocateNoAdapt[idx_plot]+dfs[scen].FloodNoAdapt[idx_plot]+dfs[scen].WetlandNoAdapt[idx_plot]), width=wid, color=cost_cols[\"flood\"], hatch=hat[0])\n",
    "# SSP4-RCP6.0\n",
    "scen = (4,60)\n",
    "ax[0].bar(x=times_plot+sep, height=1, width=.5, color=cost_cols[\"protect\"], hatch=hat[1])\n",
    "ax[0].bar(x=times_plot+sep, height=dfs[scen].RelocateNoAdapt[idx_plot], width=wid, color=cost_cols[\"retreat\"], hatch=hat[1])\n",
    "ax[0].bar(x=times_plot+sep, height=dfs[scen].FloodNoAdapt[idx_plot], bottom=np.array(dfs[scen].RelocateNoAdapt[idx_plot]), width=wid, color=cost_cols[\"inundation\"], hatch=hat[1])\n",
    "ax[0].bar(x=times_plot+sep, height=dfs[scen].WetlandNoAdapt[idx_plot], bottom=np.array(dfs[scen].RelocateNoAdapt[idx_plot]+dfs[scen].FloodNoAdapt[idx_plot]), width=wid, color=cost_cols[\"wetland\"], hatch=hat[1])\n",
    "ax[0].bar(x=times_plot+sep, height=dfs[scen].StormCapitalNoAdapt[idx_plot]+dfs[scen].StormPopNoAdapt[idx_plot], bottom=np.array(dfs[scen].RelocateNoAdapt[idx_plot]+dfs[scen].FloodNoAdapt[idx_plot]+dfs[scen].WetlandNoAdapt[idx_plot]), width=wid, color=cost_cols[\"flood\"], hatch=hat[1])\n",
    "# SSP5-RCP8.5\n",
    "scen = (5,85)\n",
    "ax[0].bar(x=times_plot+3*sep, height=1, width=.5, color=cost_cols[\"protect\"], hatch=hat[2])\n",
    "ax[0].bar(x=times_plot+3*sep, height=dfs[scen].RelocateNoAdapt[idx_plot], width=wid, color=cost_cols[\"retreat\"], hatch=hat[2])\n",
    "ax[0].bar(x=times_plot+3*sep, height=dfs[scen].FloodNoAdapt[idx_plot], bottom=np.array(dfs[scen].RelocateNoAdapt[idx_plot]), width=wid, color=cost_cols[\"inundation\"], hatch=hat[2])\n",
    "ax[0].bar(x=times_plot+3*sep, height=dfs[scen].WetlandNoAdapt[idx_plot], bottom=np.array(dfs[scen].RelocateNoAdapt[idx_plot]+dfs[scen].FloodNoAdapt[idx_plot]), width=wid, color=cost_cols[\"wetland\"], hatch=hat[2])\n",
    "ax[0].bar(x=times_plot+3*sep, height=dfs[scen].StormCapitalNoAdapt[idx_plot]+dfs[scen].StormPopNoAdapt[idx_plot], bottom=np.array(dfs[scen].RelocateNoAdapt[idx_plot]+dfs[scen].FloodNoAdapt[idx_plot]+dfs[scen].WetlandNoAdapt[idx_plot]), width=wid, color=cost_cols[\"flood\"], hatch=hat[2])\n",
    "# other plot configuration options\n",
    "ax[0].grid(); ax[0].set_axisbelow(True); ax[0].set_xlim([2010,2110]); ax[0].set_ylim([0,8100])\n",
    "yticks = list(range(0,8100,1000)); ax[0].set_yticks(yticks); ax[0].set_yticklabels(yticks, fontsize=12)\n",
    "ax[0].set_xticks(range(2010,2110,10)); ax[0].set_xticklabels([\"\",2020,\"\",2040,\"\",2060,\"\",2080,\"\",2100], fontsize=12)\n",
    "ax[0].set_xlabel(\"Year\", fontsize=12); ax[0].set_ylabel(\"Annual No-Adapt Cost\\n(billion 2010$US)\", fontsize=12)\n",
    "ax[0].legend(fontsize=12)\n",
    "ylims = ax[0].get_ylim(); top = ylims[1]*1.02; ax[0].text(2010,top, panels[pan], fontsize=12);\n",
    "\n",
    "# PANEL B: OPTIMAL COSTS\n",
    "pan += 1\n",
    "# SSP1-RCP2.6\n",
    "scen = (1,26)\n",
    "ax[1].bar(x=times_plot-3*sep, height=dfs[scen].ProtectOptimal[idx_plot], width=wid, color=cost_cols[\"protect\"], label=\"protect\")\n",
    "ax[1].bar(x=times_plot-3*sep, height=dfs[scen].RetreatOptimal[idx_plot], bottom=np.array(dfs[scen].ProtectOptimal[idx_plot]), width=wid, color=cost_cols[\"retreat\"], label=\"retreat\")\n",
    "ax[1].bar(x=times_plot-3*sep, height=dfs[scen].InundationOptimal[idx_plot], bottom=np.array(dfs[scen].ProtectOptimal[idx_plot]+dfs[scen].RetreatOptimal[idx_plot]), width=wid, color=cost_cols[\"inundation\"], label=\"inundation\")\n",
    "ax[1].bar(x=times_plot-3*sep, height=dfs[scen].WetlandOptimal[idx_plot], bottom=np.array(dfs[scen].ProtectOptimal[idx_plot]+dfs[scen].RetreatOptimal[idx_plot]+dfs[scen].InundationOptimal[idx_plot]), width=wid, color=cost_cols[\"wetland\"], label=\"wetland\")\n",
    "ax[1].bar(x=times_plot-3*sep, height=dfs[scen].FloodOptimal[idx_plot], bottom=np.array(dfs[scen].ProtectOptimal[idx_plot]+dfs[scen].RetreatOptimal[idx_plot]+dfs[scen].InundationOptimal[idx_plot]+dfs[scen].WetlandOptimal[idx_plot]), width=wid, color=cost_cols[\"flood\"], label=\"flood\")\n",
    "# SSP2-RCP4.5\n",
    "scen = (2,45)\n",
    "ax[1].bar(x=times_plot-sep, height=dfs[scen].ProtectOptimal[idx_plot], width=wid, color=cost_cols[\"protect\"], hatch=hat[0])\n",
    "ax[1].bar(x=times_plot-sep, height=dfs[scen].RetreatOptimal[idx_plot], bottom=np.array(dfs[scen].ProtectOptimal[idx_plot]), width=wid, color=cost_cols[\"retreat\"], hatch=hat[0])\n",
    "ax[1].bar(x=times_plot-sep, height=dfs[scen].InundationOptimal[idx_plot], bottom=np.array(dfs[scen].ProtectOptimal[idx_plot]+dfs[scen].RetreatOptimal[idx_plot]), width=wid, color=cost_cols[\"inundation\"], hatch=hat[0])\n",
    "ax[1].bar(x=times_plot-sep, height=dfs[scen].WetlandOptimal[idx_plot], bottom=np.array(dfs[scen].ProtectOptimal[idx_plot]+dfs[scen].RetreatOptimal[idx_plot]+dfs[scen].InundationOptimal[idx_plot]), width=wid, color=cost_cols[\"wetland\"], hatch=hat[0])\n",
    "ax[1].bar(x=times_plot-sep, height=dfs[scen].FloodOptimal[idx_plot], bottom=np.array(dfs[scen].ProtectOptimal[idx_plot]+dfs[scen].RetreatOptimal[idx_plot]+dfs[scen].InundationOptimal[idx_plot]+dfs[scen].WetlandOptimal[idx_plot]), width=wid, color=cost_cols[\"flood\"], hatch=hat[0])\n",
    "# SSP4-RCP6.0\n",
    "scen = (4,60)\n",
    "ax[1].bar(x=times_plot+sep, height=dfs[scen].ProtectOptimal[idx_plot], width=wid, color=cost_cols[\"protect\"], hatch=hat[1])\n",
    "ax[1].bar(x=times_plot+sep, height=dfs[scen].RetreatOptimal[idx_plot], bottom=np.array(dfs[scen].ProtectOptimal[idx_plot]), width=wid, color=cost_cols[\"retreat\"], hatch=hat[1])\n",
    "ax[1].bar(x=times_plot+sep, height=dfs[scen].InundationOptimal[idx_plot], bottom=np.array(dfs[scen].ProtectOptimal[idx_plot]+dfs[scen].RetreatOptimal[idx_plot]), width=wid, color=cost_cols[\"inundation\"], hatch=hat[1])\n",
    "ax[1].bar(x=times_plot+sep, height=dfs[scen].WetlandOptimal[idx_plot], bottom=np.array(dfs[scen].ProtectOptimal[idx_plot]+dfs[scen].RetreatOptimal[idx_plot]+dfs[scen].InundationOptimal[idx_plot]), width=wid, color=cost_cols[\"wetland\"], hatch=hat[1])\n",
    "ax[1].bar(x=times_plot+sep, height=dfs[scen].FloodOptimal[idx_plot], bottom=np.array(dfs[scen].ProtectOptimal[idx_plot]+dfs[scen].RetreatOptimal[idx_plot]+dfs[scen].InundationOptimal[idx_plot]+dfs[scen].WetlandOptimal[idx_plot]), width=wid, color=cost_cols[\"flood\"], hatch=hat[1])\n",
    "# SSP5-RCP8.5\n",
    "scen = (5,85)\n",
    "ax[1].bar(x=times_plot+3*sep, height=dfs[scen].ProtectOptimal[idx_plot], width=wid, color=cost_cols[\"protect\"], hatch=hat[2])\n",
    "ax[1].bar(x=times_plot+3*sep, height=dfs[scen].RetreatOptimal[idx_plot], bottom=np.array(dfs[scen].ProtectOptimal[idx_plot]), width=wid, color=cost_cols[\"retreat\"], hatch=hat[2])\n",
    "ax[1].bar(x=times_plot+3*sep, height=dfs[scen].InundationOptimal[idx_plot], bottom=np.array(dfs[scen].ProtectOptimal[idx_plot]+dfs[scen].RetreatOptimal[idx_plot]), width=wid, color=cost_cols[\"inundation\"], hatch=hat[2])\n",
    "ax[1].bar(x=times_plot+3*sep, height=dfs[scen].WetlandOptimal[idx_plot], bottom=np.array(dfs[scen].ProtectOptimal[idx_plot]+dfs[scen].RetreatOptimal[idx_plot]+dfs[scen].InundationOptimal[idx_plot]), width=wid, color=cost_cols[\"wetland\"], hatch=hat[2])\n",
    "ax[1].bar(x=times_plot+3*sep, height=dfs[scen].FloodOptimal[idx_plot], bottom=np.array(dfs[scen].ProtectOptimal[idx_plot]+dfs[scen].RetreatOptimal[idx_plot]+dfs[scen].InundationOptimal[idx_plot]+dfs[scen].WetlandOptimal[idx_plot]), width=wid, color=cost_cols[\"flood\"], hatch=hat[2]) \n",
    "# other plot configuration options\n",
    "ax[1].grid(); ax[1].set_axisbelow(True); ax[1].set_xlim([2010,2110])\n",
    "yticks = list(range(0,1200,100)); ax[1].set_yticks(yticks); ax[1].set_yticklabels(yticks, fontsize=12)\n",
    "ax[1].set_xticks(range(2010,2110,10)); ax[1].set_xticklabels([\"\",2020,\"\",2040,\"\",2060,\"\",2080,\"\",2100], fontsize=12)\n",
    "ax[1].set_xlabel(\"Year\", fontsize=12); ax[1].set_ylabel(\"Annual Least-Cost\\n(billion 2010$US)\", fontsize=12)\n",
    "ylims = ax[1].get_ylim(); top = ylims[1]*1.02; ax[1].text(2010,top, panels[pan], fontsize=12);\n",
    "fig.savefig(plotdir+\"/baseline_comparison_ssprcp_surge1.pdf\", bbox_inches='tight')\n"
   ]
  },
  {
   "cell_type": "code",
   "execution_count": 48,
   "metadata": {},
   "outputs": [],
   "source": [
    "dfOut = pd.DataFrame(data={\"year\" : dfNew0.year,\n",
    "                            \"flood-noadapt-SSP1-RCP26\" : dfs[(1,26)].StormCapitalNoAdapt+dfs[(1,26)].StormPopNoAdapt,\n",
    "                            \"wetland-noadapt-SSP1-RCP26\" : dfs[(1,26)].WetlandNoAdapt,\n",
    "                            \"inundation-noadapt-SSP1-RCP26\" : dfs[(1,26)].FloodNoAdapt,\n",
    "                            \"retreat-noadapt-SSP1-RCP26\" : dfs[(1,26)].RelocateNoAdapt,\n",
    "                            \"protect-noadapt-SSP1-RCP26\" : [0]*len(dfs[(1,26)].RelocateNoAdapt),\n",
    "                            \"flood-noadapt-SSP2-RCP45\" : dfs[(2,45)].StormCapitalNoAdapt+dfs[(2,45)].StormPopNoAdapt,\n",
    "                            \"wetland-noadapt-SSP2-RCP45\" : dfs[(2,45)].WetlandNoAdapt,\n",
    "                            \"inundation-noadapt-SSP2-RCP45\" : dfs[(2,45)].FloodNoAdapt,\n",
    "                            \"retreat-noadapt-SSP2-RCP45\" : dfs[(2,45)].RelocateNoAdapt,\n",
    "                            \"protect-noadapt-SSP2-RCP45\" : [0]*len(dfs[(2,45)].RelocateNoAdapt),\n",
    "                            \"flood-noadapt-SSP4-RCP60\" : dfs[(4,60)].StormCapitalNoAdapt+dfs[(4,60)].StormPopNoAdapt,\n",
    "                            \"wetland-noadapt-SSP4-RCP60\" : dfs[(4,60)].WetlandNoAdapt,\n",
    "                            \"inundation-noadapt-SSP4-RCP60\" : dfs[(4,60)].FloodNoAdapt,\n",
    "                            \"retreat-noadapt-SSP4-RCP60\" : dfs[(4,60)].RelocateNoAdapt,\n",
    "                            \"protect-noadapt-SSP4-RCP60\" : [0]*len(dfs[(4,60)].RelocateNoAdapt),\n",
    "                            \"flood-noadapt-SSP5-RCP85\" : dfs[(5,85)].StormCapitalNoAdapt+dfs[(5,85)].StormPopNoAdapt,\n",
    "                            \"wetland-noadapt-SSP5-RCP85\" : dfs[(5,85)].WetlandNoAdapt,\n",
    "                            \"inundation-noadapt-SSP5-RCP85\" : dfs[(5,85)].FloodNoAdapt,\n",
    "                            \"retreat-noadapt-SSP5-RCP85\" : dfs[(5,85)].RelocateNoAdapt,\n",
    "                            \"protect-noadapt-SSP5-RCP85\" : [0]*len(dfs[(5,85)].RelocateNoAdapt),\n",
    "                            \"flood-leastcost-SSP1-RCP26\" : dfs[(1,26)].FloodOptimal,\n",
    "                            \"wetland-leastcost-SSP1-RCP26\" : dfs[(1,26)].WetlandOptimal,\n",
    "                            \"inundation-leastcost-SSP1-RCP26\" : dfs[(1,26)].FloodOptimal,\n",
    "                            \"retreat-leastcost-SSP1-RCP26\" : dfs[(1,26)].RetreatOptimal,\n",
    "                            \"protect-leastcost-SSP1-RCP26\" : dfs[(1,26)].ProtectOptimal,\n",
    "                            \"flood-leastcost-SSP2-RCP45\" : dfs[(2,45)].FloodOptimal,\n",
    "                            \"wetland-leastcost-SSP2-RCP45\" : dfs[(2,45)].WetlandOptimal,\n",
    "                            \"inundation-leastcost-SSP2-RCP45\" : dfs[(2,45)].FloodOptimal,\n",
    "                            \"retreat-leastcost-SSP2-RCP45\" : dfs[(2,45)].RetreatOptimal,\n",
    "                            \"protect-leastcost-SSP2-RCP45\" : dfs[(2,45)].ProtectOptimal,\n",
    "                            \"flood-leastcost-SSP4-RCP60\" : dfs[(4,60)].FloodOptimal,\n",
    "                            \"wetland-leastcost-SSP4-RCP60\" : dfs[(4,60)].WetlandOptimal,\n",
    "                            \"inundation-leastcost-SSP4-RCP60\" : dfs[(4,60)].FloodOptimal,\n",
    "                            \"retreat-leastcost-SSP4-RCP60\" : dfs[(4,60)].RetreatOptimal,\n",
    "                            \"protect-leastcost-SSP4-RCP60\" : dfs[(4,60)].ProtectOptimal,\n",
    "                            \"flood-leastcost-SSP5-RCP85\" : dfs[(5,85)].FloodOptimal,\n",
    "                            \"wetland-leastcost-SSP5-RCP85\" : dfs[(5,85)].WetlandOptimal,\n",
    "                            \"inundation-leastcost-SSP5-RCP85\" : dfs[(5,85)].FloodOptimal,\n",
    "                            \"retreat-leastcost-SSP5-RCP85\" : dfs[(5,85)].RetreatOptimal,\n",
    "                            \"protect-leastcost-SSP5-RCP85\" : dfs[(5,85)].ProtectOptimal})\n",
    "filename_out = dir_julia + \"/FigureData_baseline_comparison_ssprcp_surge1.csv\"\n",
    "dfOut.to_csv(filename_out, index=False)"
   ]
  },
  {
   "cell_type": "markdown",
   "metadata": {},
   "source": [
    "### Supplemental experiment: surgeoption=2"
   ]
  },
  {
   "cell_type": "code",
   "execution_count": 49,
   "metadata": {},
   "outputs": [],
   "source": [
    "scenarios = [(1,26),(2,45),(4,60),(5,85)]\n",
    "surgeoption = 2"
   ]
  },
  {
   "cell_type": "code",
   "execution_count": 50,
   "metadata": {},
   "outputs": [],
   "source": [
    "dfOs = {scen : None for scen in scenarios}\n",
    "dfNs = {scen : None for scen in scenarios}\n",
    "dfCs = {scen : None for scen in scenarios}\n",
    "dfs  = {scen : None for scen in scenarios}\n",
    "\n",
    "for scen in scenarios:\n",
    "    ssp,rcp = scen\n",
    "    dfOs[scen] = pd.read_csv(dir_julia + \"/ctrl+SSP\"+str(ssp)+\"+BRICKLSL\"+str(rcp)+\"+surge\"+str(surgeoption)+\"_seg_85p50ssp\"+str(ssp)+\"fixed_optimal.csv\")\n",
    "    dfNs[scen] = pd.read_csv(dir_julia + \"/ctrl+SSP\"+str(ssp)+\"+BRICKLSL\"+str(rcp)+\"+surge\"+str(surgeoption)+\"_seg_85p50ssp\"+str(ssp)+\"fixed.csv\")\n",
    "    dfCs[scen] = pd.read_csv(dir_julia + \"/ctrl+SSP\"+str(ssp)+\"+BRICKLSL\"+str(rcp)+\"+surge\"+str(surgeoption)+\"_global_85p50ssp\"+str(ssp)+\"fixed.csv\")\n",
    "    dfs[scen]  = process_costs_df(dfC=dfCs[scen], dfO=dfOs[scen], dfN=dfNs[scen], tmax=10)\n"
   ]
  },
  {
   "cell_type": "code",
   "execution_count": 44,
   "metadata": {
    "scrolled": false
   },
   "outputs": [
    {
     "data": {
      "image/png": "[encoded data removed]",
      "text/plain": [
       "<Figure size 576x792 with 2 Axes>"
      ]
     },
     "metadata": {
      "needs_background": "light"
     },
     "output_type": "display_data"
    }
   ],
   "source": [
    "sep = 2\n",
    "wid = 3.1\n",
    "cost_cols = {\"protect\" : \"C2\", \"retreat\" : \"C1\", \"inundation\" : \"C0\", \"wetland\" : \"C7\", \"flood\" : \"C8\"}\n",
    "times_plot = list(range(2010,2110,10))\n",
    "idx_plot = [1,3,5,7,9]\n",
    "times_plot = np.array([times_plot[k] for k in idx_plot])\n",
    "hat = [1*'.', 1*'/', 1*'x']\n",
    "panels = [\"a.\",\"b.\",\"c.\",\"d.\",\"e.\",\"f.\",\"g.\",\"h.\"]\n",
    "\n",
    "fig,ax = plt.subplots(nrows=2, ncols=1, figsize=(8,11))\n",
    "# PANEL A: NO ADAPTATION COSTS\n",
    "pan = 0\n",
    "# set up for the legend\n",
    "ax[0].bar(x=times_plot[0], height=1, width=.5, color=\"white\", edgecolor=\"black\", label=\"SSP1-2.6\")\n",
    "ax[0].bar(x=times_plot[0], height=1, width=.5, color=\"white\", hatch=2*hat[0], edgecolor=\"black\", label=\"SSP2-4.5\")\n",
    "ax[0].bar(x=times_plot[0], height=1, width=.5, color=\"white\", hatch=2*hat[1], edgecolor=\"black\", label=\"SSP4-6.0\")\n",
    "ax[0].bar(x=times_plot[0], height=1, width=.5, color=\"white\", hatch=2*hat[2], edgecolor=\"black\", label=\"SSP5-8.5\")\n",
    "# SSP1-RCP2.6\n",
    "scen = (1,26)\n",
    "ax[0].bar(x=times_plot-3*sep, height=1, width=.5, color=cost_cols[\"protect\"], label=\"protect\")\n",
    "ax[0].bar(x=times_plot-3*sep, height=dfs[scen].RelocateNoAdapt[idx_plot], width=wid, color=cost_cols[\"retreat\"], label=\"retreat\")\n",
    "ax[0].bar(x=times_plot-3*sep, height=dfs[scen].FloodNoAdapt[idx_plot], bottom=np.array(dfs[scen].RelocateNoAdapt[idx_plot]), width=wid, color=cost_cols[\"inundation\"], label=\"inundation\")\n",
    "ax[0].bar(x=times_plot-3*sep, height=dfs[scen].WetlandNoAdapt[idx_plot], bottom=np.array(dfs[scen].RelocateNoAdapt[idx_plot]+dfs[scen].FloodNoAdapt[idx_plot]), width=wid, color=cost_cols[\"wetland\"], label=\"wetland\")\n",
    "ax[0].bar(x=times_plot-3*sep, height=dfs[scen].StormCapitalNoAdapt[idx_plot]+dfs[scen].StormPopNoAdapt[idx_plot], bottom=np.array(dfs[scen].RelocateNoAdapt[idx_plot]+dfs[scen].FloodNoAdapt[idx_plot]+dfs[scen].WetlandNoAdapt[idx_plot]), width=wid, color=cost_cols[\"flood\"], label=\"flood\")\n",
    "# SSP2-RCP4.5\n",
    "scen = (2,45)\n",
    "ax[0].bar(x=times_plot-sep, height=1, width=.5, color=cost_cols[\"protect\"], hatch=hat[0])\n",
    "ax[0].bar(x=times_plot-sep, height=dfs[scen].RelocateNoAdapt[idx_plot], width=wid, color=cost_cols[\"retreat\"], hatch=hat[0])\n",
    "ax[0].bar(x=times_plot-sep, height=dfs[scen].FloodNoAdapt[idx_plot], bottom=np.array(dfs[scen].RelocateNoAdapt[idx_plot]), width=wid, color=cost_cols[\"inundation\"], hatch=hat[0])\n",
    "ax[0].bar(x=times_plot-sep, height=dfs[scen].WetlandNoAdapt[idx_plot], bottom=np.array(dfs[scen].RelocateNoAdapt[idx_plot]+dfs[scen].FloodNoAdapt[idx_plot]), width=wid, color=cost_cols[\"wetland\"], hatch=hat[0])\n",
    "ax[0].bar(x=times_plot-sep, height=dfs[scen].StormCapitalNoAdapt[idx_plot]+dfs[scen].StormPopNoAdapt[idx_plot], bottom=np.array(dfs[scen].RelocateNoAdapt[idx_plot]+dfs[scen].FloodNoAdapt[idx_plot]+dfs[scen].WetlandNoAdapt[idx_plot]), width=wid, color=cost_cols[\"flood\"], hatch=hat[0])\n",
    "# SSP4-RCP6.0\n",
    "scen = (4,60)\n",
    "ax[0].bar(x=times_plot+sep, height=1, width=.5, color=cost_cols[\"protect\"], hatch=hat[1])\n",
    "ax[0].bar(x=times_plot+sep, height=dfs[scen].RelocateNoAdapt[idx_plot], width=wid, color=cost_cols[\"retreat\"], hatch=hat[1])\n",
    "ax[0].bar(x=times_plot+sep, height=dfs[scen].FloodNoAdapt[idx_plot], bottom=np.array(dfs[scen].RelocateNoAdapt[idx_plot]), width=wid, color=cost_cols[\"inundation\"], hatch=hat[1])\n",
    "ax[0].bar(x=times_plot+sep, height=dfs[scen].WetlandNoAdapt[idx_plot], bottom=np.array(dfs[scen].RelocateNoAdapt[idx_plot]+dfs[scen].FloodNoAdapt[idx_plot]), width=wid, color=cost_cols[\"wetland\"], hatch=hat[1])\n",
    "ax[0].bar(x=times_plot+sep, height=dfs[scen].StormCapitalNoAdapt[idx_plot]+dfs[scen].StormPopNoAdapt[idx_plot], bottom=np.array(dfs[scen].RelocateNoAdapt[idx_plot]+dfs[scen].FloodNoAdapt[idx_plot]+dfs[scen].WetlandNoAdapt[idx_plot]), width=wid, color=cost_cols[\"flood\"], hatch=hat[1])\n",
    "# SSP5-RCP8.5\n",
    "scen = (5,85)\n",
    "ax[0].bar(x=times_plot+3*sep, height=1, width=.5, color=cost_cols[\"protect\"], hatch=hat[2])\n",
    "ax[0].bar(x=times_plot+3*sep, height=dfs[scen].RelocateNoAdapt[idx_plot], width=wid, color=cost_cols[\"retreat\"], hatch=hat[2])\n",
    "ax[0].bar(x=times_plot+3*sep, height=dfs[scen].FloodNoAdapt[idx_plot], bottom=np.array(dfs[scen].RelocateNoAdapt[idx_plot]), width=wid, color=cost_cols[\"inundation\"], hatch=hat[2])\n",
    "ax[0].bar(x=times_plot+3*sep, height=dfs[scen].WetlandNoAdapt[idx_plot], bottom=np.array(dfs[scen].RelocateNoAdapt[idx_plot]+dfs[scen].FloodNoAdapt[idx_plot]), width=wid, color=cost_cols[\"wetland\"], hatch=hat[2])\n",
    "ax[0].bar(x=times_plot+3*sep, height=dfs[scen].StormCapitalNoAdapt[idx_plot]+dfs[scen].StormPopNoAdapt[idx_plot], bottom=np.array(dfs[scen].RelocateNoAdapt[idx_plot]+dfs[scen].FloodNoAdapt[idx_plot]+dfs[scen].WetlandNoAdapt[idx_plot]), width=wid, color=cost_cols[\"flood\"], hatch=hat[2])\n",
    "# other plot configuration options\n",
    "ax[0].grid(); ax[0].set_axisbelow(True); ax[0].set_xlim([2010,2110]); ax[0].set_ylim([0,8100])\n",
    "yticks = list(range(0,8100,1000)); ax[0].set_yticks(yticks); ax[0].set_yticklabels(yticks, fontsize=12)\n",
    "ax[0].set_xticks(range(2010,2110,10)); ax[0].set_xticklabels([\"\",2020,\"\",2040,\"\",2060,\"\",2080,\"\",2100], fontsize=12)\n",
    "ax[0].set_xlabel(\"Year\", fontsize=12); ax[0].set_ylabel(\"Annual No-Adapt Cost\\n(billion 2010$US)\", fontsize=12)\n",
    "ax[0].legend(fontsize=12)\n",
    "ylims = ax[0].get_ylim(); top = ylims[1]*1.02; ax[0].text(2010,top, panels[pan], fontsize=12);\n",
    "\n",
    "# PANEL B: OPTIMAL COSTS\n",
    "pan += 1\n",
    "# SSP1-RCP2.6\n",
    "scen = (1,26)\n",
    "ax[1].bar(x=times_plot-3*sep, height=dfs[scen].ProtectOptimal[idx_plot], width=wid, color=cost_cols[\"protect\"], label=\"protect\")\n",
    "ax[1].bar(x=times_plot-3*sep, height=dfs[scen].RetreatOptimal[idx_plot], bottom=np.array(dfs[scen].ProtectOptimal[idx_plot]), width=wid, color=cost_cols[\"retreat\"], label=\"retreat\")\n",
    "ax[1].bar(x=times_plot-3*sep, height=dfs[scen].InundationOptimal[idx_plot], bottom=np.array(dfs[scen].ProtectOptimal[idx_plot]+dfs[scen].RetreatOptimal[idx_plot]), width=wid, color=cost_cols[\"inundation\"], label=\"inundation\")\n",
    "ax[1].bar(x=times_plot-3*sep, height=dfs[scen].WetlandOptimal[idx_plot], bottom=np.array(dfs[scen].ProtectOptimal[idx_plot]+dfs[scen].RetreatOptimal[idx_plot]+dfs[scen].InundationOptimal[idx_plot]), width=wid, color=cost_cols[\"wetland\"], label=\"wetland\")\n",
    "ax[1].bar(x=times_plot-3*sep, height=dfs[scen].FloodOptimal[idx_plot], bottom=np.array(dfs[scen].ProtectOptimal[idx_plot]+dfs[scen].RetreatOptimal[idx_plot]+dfs[scen].InundationOptimal[idx_plot]+dfs[scen].WetlandOptimal[idx_plot]), width=wid, color=cost_cols[\"flood\"], label=\"flood\")\n",
    "# SSP2-RCP4.5\n",
    "scen = (2,45)\n",
    "ax[1].bar(x=times_plot-sep, height=dfs[scen].ProtectOptimal[idx_plot], width=wid, color=cost_cols[\"protect\"], hatch=hat[0])\n",
    "ax[1].bar(x=times_plot-sep, height=dfs[scen].RetreatOptimal[idx_plot], bottom=np.array(dfs[scen].ProtectOptimal[idx_plot]), width=wid, color=cost_cols[\"retreat\"], hatch=hat[0])\n",
    "ax[1].bar(x=times_plot-sep, height=dfs[scen].InundationOptimal[idx_plot], bottom=np.array(dfs[scen].ProtectOptimal[idx_plot]+dfs[scen].RetreatOptimal[idx_plot]), width=wid, color=cost_cols[\"inundation\"], hatch=hat[0])\n",
    "ax[1].bar(x=times_plot-sep, height=dfs[scen].WetlandOptimal[idx_plot], bottom=np.array(dfs[scen].ProtectOptimal[idx_plot]+dfs[scen].RetreatOptimal[idx_plot]+dfs[scen].InundationOptimal[idx_plot]), width=wid, color=cost_cols[\"wetland\"], hatch=hat[0])\n",
    "ax[1].bar(x=times_plot-sep, height=dfs[scen].FloodOptimal[idx_plot], bottom=np.array(dfs[scen].ProtectOptimal[idx_plot]+dfs[scen].RetreatOptimal[idx_plot]+dfs[scen].InundationOptimal[idx_plot]+dfs[scen].WetlandOptimal[idx_plot]), width=wid, color=cost_cols[\"flood\"], hatch=hat[0])\n",
    "# SSP4-RCP6.0\n",
    "scen = (4,60)\n",
    "ax[1].bar(x=times_plot+sep, height=dfs[scen].ProtectOptimal[idx_plot], width=wid, color=cost_cols[\"protect\"], hatch=hat[1])\n",
    "ax[1].bar(x=times_plot+sep, height=dfs[scen].RetreatOptimal[idx_plot], bottom=np.array(dfs[scen].ProtectOptimal[idx_plot]), width=wid, color=cost_cols[\"retreat\"], hatch=hat[1])\n",
    "ax[1].bar(x=times_plot+sep, height=dfs[scen].InundationOptimal[idx_plot], bottom=np.array(dfs[scen].ProtectOptimal[idx_plot]+dfs[scen].RetreatOptimal[idx_plot]), width=wid, color=cost_cols[\"inundation\"], hatch=hat[1])\n",
    "ax[1].bar(x=times_plot+sep, height=dfs[scen].WetlandOptimal[idx_plot], bottom=np.array(dfs[scen].ProtectOptimal[idx_plot]+dfs[scen].RetreatOptimal[idx_plot]+dfs[scen].InundationOptimal[idx_plot]), width=wid, color=cost_cols[\"wetland\"], hatch=hat[1])\n",
    "ax[1].bar(x=times_plot+sep, height=dfs[scen].FloodOptimal[idx_plot], bottom=np.array(dfs[scen].ProtectOptimal[idx_plot]+dfs[scen].RetreatOptimal[idx_plot]+dfs[scen].InundationOptimal[idx_plot]+dfs[scen].WetlandOptimal[idx_plot]), width=wid, color=cost_cols[\"flood\"], hatch=hat[1])\n",
    "# SSP5-RCP8.5\n",
    "scen = (5,85)\n",
    "ax[1].bar(x=times_plot+3*sep, height=dfs[scen].ProtectOptimal[idx_plot], width=wid, color=cost_cols[\"protect\"], hatch=hat[2])\n",
    "ax[1].bar(x=times_plot+3*sep, height=dfs[scen].RetreatOptimal[idx_plot], bottom=np.array(dfs[scen].ProtectOptimal[idx_plot]), width=wid, color=cost_cols[\"retreat\"], hatch=hat[2])\n",
    "ax[1].bar(x=times_plot+3*sep, height=dfs[scen].InundationOptimal[idx_plot], bottom=np.array(dfs[scen].ProtectOptimal[idx_plot]+dfs[scen].RetreatOptimal[idx_plot]), width=wid, color=cost_cols[\"inundation\"], hatch=hat[2])\n",
    "ax[1].bar(x=times_plot+3*sep, height=dfs[scen].WetlandOptimal[idx_plot], bottom=np.array(dfs[scen].ProtectOptimal[idx_plot]+dfs[scen].RetreatOptimal[idx_plot]+dfs[scen].InundationOptimal[idx_plot]), width=wid, color=cost_cols[\"wetland\"], hatch=hat[2])\n",
    "ax[1].bar(x=times_plot+3*sep, height=dfs[scen].FloodOptimal[idx_plot], bottom=np.array(dfs[scen].ProtectOptimal[idx_plot]+dfs[scen].RetreatOptimal[idx_plot]+dfs[scen].InundationOptimal[idx_plot]+dfs[scen].WetlandOptimal[idx_plot]), width=wid, color=cost_cols[\"flood\"], hatch=hat[2]) \n",
    "# other plot configuration options\n",
    "ax[1].grid(); ax[1].set_axisbelow(True); ax[1].set_xlim([2010,2110])\n",
    "yticks = list(range(0,1200,100)); ax[1].set_yticks(yticks); ax[1].set_yticklabels(yticks, fontsize=12)\n",
    "ax[1].set_xticks(range(2010,2110,10)); ax[1].set_xticklabels([\"\",2020,\"\",2040,\"\",2060,\"\",2080,\"\",2100], fontsize=12)\n",
    "ax[1].set_xlabel(\"Year\", fontsize=12); ax[1].set_ylabel(\"Annual Least-Cost\\n(billion 2010$US)\", fontsize=12)\n",
    "ylims = ax[1].get_ylim(); top = ylims[1]*1.02; ax[1].text(2010,top, panels[pan], fontsize=12);\n",
    "fig.savefig(plotdir+\"/baseline_comparison_ssprcp_surge2.pdf\", bbox_inches='tight')\n"
   ]
  },
  {
   "cell_type": "code",
   "execution_count": 51,
   "metadata": {},
   "outputs": [],
   "source": [
    "dfOut = pd.DataFrame(data={\"year\" : dfNew0.year,\n",
    "                            \"flood-noadapt-SSP1-RCP26\" : dfs[(1,26)].StormCapitalNoAdapt+dfs[(1,26)].StormPopNoAdapt,\n",
    "                            \"wetland-noadapt-SSP1-RCP26\" : dfs[(1,26)].WetlandNoAdapt,\n",
    "                            \"inundation-noadapt-SSP1-RCP26\" : dfs[(1,26)].FloodNoAdapt,\n",
    "                            \"retreat-noadapt-SSP1-RCP26\" : dfs[(1,26)].RelocateNoAdapt,\n",
    "                            \"protect-noadapt-SSP1-RCP26\" : [0]*len(dfs[(1,26)].RelocateNoAdapt),\n",
    "                            \"flood-noadapt-SSP2-RCP45\" : dfs[(2,45)].StormCapitalNoAdapt+dfs[(2,45)].StormPopNoAdapt,\n",
    "                            \"wetland-noadapt-SSP2-RCP45\" : dfs[(2,45)].WetlandNoAdapt,\n",
    "                            \"inundation-noadapt-SSP2-RCP45\" : dfs[(2,45)].FloodNoAdapt,\n",
    "                            \"retreat-noadapt-SSP2-RCP45\" : dfs[(2,45)].RelocateNoAdapt,\n",
    "                            \"protect-noadapt-SSP2-RCP45\" : [0]*len(dfs[(2,45)].RelocateNoAdapt),\n",
    "                            \"flood-noadapt-SSP4-RCP60\" : dfs[(4,60)].StormCapitalNoAdapt+dfs[(4,60)].StormPopNoAdapt,\n",
    "                            \"wetland-noadapt-SSP4-RCP60\" : dfs[(4,60)].WetlandNoAdapt,\n",
    "                            \"inundation-noadapt-SSP4-RCP60\" : dfs[(4,60)].FloodNoAdapt,\n",
    "                            \"retreat-noadapt-SSP4-RCP60\" : dfs[(4,60)].RelocateNoAdapt,\n",
    "                            \"protect-noadapt-SSP4-RCP60\" : [0]*len(dfs[(4,60)].RelocateNoAdapt),\n",
    "                            \"flood-noadapt-SSP5-RCP85\" : dfs[(5,85)].StormCapitalNoAdapt+dfs[(5,85)].StormPopNoAdapt,\n",
    "                            \"wetland-noadapt-SSP5-RCP85\" : dfs[(5,85)].WetlandNoAdapt,\n",
    "                            \"inundation-noadapt-SSP5-RCP85\" : dfs[(5,85)].FloodNoAdapt,\n",
    "                            \"retreat-noadapt-SSP5-RCP85\" : dfs[(5,85)].RelocateNoAdapt,\n",
    "                            \"protect-noadapt-SSP5-RCP85\" : [0]*len(dfs[(5,85)].RelocateNoAdapt),\n",
    "                            \"flood-leastcost-SSP1-RCP26\" : dfs[(1,26)].FloodOptimal,\n",
    "                            \"wetland-leastcost-SSP1-RCP26\" : dfs[(1,26)].WetlandOptimal,\n",
    "                            \"inundation-leastcost-SSP1-RCP26\" : dfs[(1,26)].FloodOptimal,\n",
    "                            \"retreat-leastcost-SSP1-RCP26\" : dfs[(1,26)].RetreatOptimal,\n",
    "                            \"protect-leastcost-SSP1-RCP26\" : dfs[(1,26)].ProtectOptimal,\n",
    "                            \"flood-leastcost-SSP2-RCP45\" : dfs[(2,45)].FloodOptimal,\n",
    "                            \"wetland-leastcost-SSP2-RCP45\" : dfs[(2,45)].WetlandOptimal,\n",
    "                            \"inundation-leastcost-SSP2-RCP45\" : dfs[(2,45)].FloodOptimal,\n",
    "                            \"retreat-leastcost-SSP2-RCP45\" : dfs[(2,45)].RetreatOptimal,\n",
    "                            \"protect-leastcost-SSP2-RCP45\" : dfs[(2,45)].ProtectOptimal,\n",
    "                            \"flood-leastcost-SSP4-RCP60\" : dfs[(4,60)].FloodOptimal,\n",
    "                            \"wetland-leastcost-SSP4-RCP60\" : dfs[(4,60)].WetlandOptimal,\n",
    "                            \"inundation-leastcost-SSP4-RCP60\" : dfs[(4,60)].FloodOptimal,\n",
    "                            \"retreat-leastcost-SSP4-RCP60\" : dfs[(4,60)].RetreatOptimal,\n",
    "                            \"protect-leastcost-SSP4-RCP60\" : dfs[(4,60)].ProtectOptimal,\n",
    "                            \"flood-leastcost-SSP5-RCP85\" : dfs[(5,85)].FloodOptimal,\n",
    "                            \"wetland-leastcost-SSP5-RCP85\" : dfs[(5,85)].WetlandOptimal,\n",
    "                            \"inundation-leastcost-SSP5-RCP85\" : dfs[(5,85)].FloodOptimal,\n",
    "                            \"retreat-leastcost-SSP5-RCP85\" : dfs[(5,85)].RetreatOptimal,\n",
    "                            \"protect-leastcost-SSP5-RCP85\" : dfs[(5,85)].ProtectOptimal})\n",
    "filename_out = dir_julia + \"/FigureData_baseline_comparison_ssprcp_surge2.csv\"\n",
    "dfOut.to_csv(filename_out, index=False)"
   ]
  },
  {
   "cell_type": "code",
   "execution_count": null,
   "metadata": {},
   "outputs": [],
   "source": []
  },
  {
   "cell_type": "code",
   "execution_count": null,
   "metadata": {},
   "outputs": [],
   "source": []
  },
  {
   "cell_type": "markdown",
   "metadata": {},
   "source": [
    "<br>\n",
    "\n",
    "# Useful numbers for the paper\n",
    "\n",
    "Get the new MimiCIAM baseline simulations back, for comparisons against one another and the original CIAM simulations"
   ]
  },
  {
   "cell_type": "code",
   "execution_count": 52,
   "metadata": {},
   "outputs": [],
   "source": [
    "scenarios = [(1,26),(2,45),(4,60),(5,85)]\n",
    "surgeoption = 0"
   ]
  },
  {
   "cell_type": "code",
   "execution_count": 53,
   "metadata": {},
   "outputs": [],
   "source": [
    "dfOs = {scen : None for scen in scenarios}\n",
    "dfNs = {scen : None for scen in scenarios}\n",
    "dfCs = {scen : None for scen in scenarios}\n",
    "dfs  = {scen : None for scen in scenarios}\n",
    "\n",
    "for scen in scenarios:\n",
    "    ssp,rcp = scen\n",
    "    dfOs[scen] = pd.read_csv(dir_julia + \"/ctrl+SSP\"+str(ssp)+\"+BRICKLSL\"+str(rcp)+\"+surge\"+str(surgeoption)+\"_seg_85p50ssp\"+str(ssp)+\"fixed_optimal.csv\")\n",
    "    dfNs[scen] = pd.read_csv(dir_julia + \"/ctrl+SSP\"+str(ssp)+\"+BRICKLSL\"+str(rcp)+\"+surge\"+str(surgeoption)+\"_seg_85p50ssp\"+str(ssp)+\"fixed.csv\")\n",
    "    dfCs[scen] = pd.read_csv(dir_julia + \"/ctrl+SSP\"+str(ssp)+\"+BRICKLSL\"+str(rcp)+\"+surge\"+str(surgeoption)+\"_global_85p50ssp\"+str(ssp)+\"fixed.csv\")\n",
    "    dfs[scen]  = process_costs_df(dfC=dfCs[scen], dfO=dfOs[scen], dfN=dfNs[scen], tmax=10)\n"
   ]
  },
  {
   "cell_type": "markdown",
   "metadata": {},
   "source": [
    "## Raw numbers\n",
    "\n",
    "### Least-cost adaptation cases"
   ]
  },
  {
   "cell_type": "markdown",
   "metadata": {},
   "source": [
    "Control/baseline, least-cost:"
   ]
  },
  {
   "cell_type": "code",
   "execution_count": 54,
   "metadata": {},
   "outputs": [
    {
     "data": {
      "text/html": [
       "<div>\n",
       "<style scoped>\n",
       "    .dataframe tbody tr th:only-of-type {\n",
       "        vertical-align: middle;\n",
       "    }\n",
       "\n",
       "    .dataframe tbody tr th {\n",
       "        vertical-align: top;\n",
       "    }\n",
       "\n",
       "    .dataframe thead th {\n",
       "        text-align: right;\n",
       "    }\n",
       "</style>\n",
       "<table border=\"1\" class=\"dataframe\">\n",
       "  <thead>\n",
       "    <tr style=\"text-align: right;\">\n",
       "      <th></th>\n",
       "      <th>FloodOptimal</th>\n",
       "      <th>WetlandOptimal</th>\n",
       "      <th>InundationOptimal</th>\n",
       "      <th>RetreatOptimal</th>\n",
       "      <th>ProtectOptimal</th>\n",
       "      <th>Total</th>\n",
       "    </tr>\n",
       "  </thead>\n",
       "  <tbody>\n",
       "    <tr>\n",
       "      <th>1</th>\n",
       "      <td>0.53</td>\n",
       "      <td>6.72</td>\n",
       "      <td>14.43</td>\n",
       "      <td>4.17</td>\n",
       "      <td>5.75</td>\n",
       "      <td>31.59</td>\n",
       "    </tr>\n",
       "    <tr>\n",
       "      <th>3</th>\n",
       "      <td>5.27</td>\n",
       "      <td>18.32</td>\n",
       "      <td>18.14</td>\n",
       "      <td>4.59</td>\n",
       "      <td>5.75</td>\n",
       "      <td>52.06</td>\n",
       "    </tr>\n",
       "    <tr>\n",
       "      <th>5</th>\n",
       "      <td>1.29</td>\n",
       "      <td>43.40</td>\n",
       "      <td>67.84</td>\n",
       "      <td>17.31</td>\n",
       "      <td>13.46</td>\n",
       "      <td>143.30</td>\n",
       "    </tr>\n",
       "    <tr>\n",
       "      <th>7</th>\n",
       "      <td>6.04</td>\n",
       "      <td>68.36</td>\n",
       "      <td>74.77</td>\n",
       "      <td>18.10</td>\n",
       "      <td>13.46</td>\n",
       "      <td>180.72</td>\n",
       "    </tr>\n",
       "    <tr>\n",
       "      <th>9</th>\n",
       "      <td>12.62</td>\n",
       "      <td>78.50</td>\n",
       "      <td>170.10</td>\n",
       "      <td>37.40</td>\n",
       "      <td>27.02</td>\n",
       "      <td>325.64</td>\n",
       "    </tr>\n",
       "  </tbody>\n",
       "</table>\n",
       "</div>"
      ],
      "text/plain": [
       "   FloodOptimal  WetlandOptimal  InundationOptimal  RetreatOptimal  \\\n",
       "1          0.53            6.72              14.43            4.17   \n",
       "3          5.27           18.32              18.14            4.59   \n",
       "5          1.29           43.40              67.84           17.31   \n",
       "7          6.04           68.36              74.77           18.10   \n",
       "9         12.62           78.50             170.10           37.40   \n",
       "\n",
       "   ProtectOptimal   Total  \n",
       "1            5.75   31.59  \n",
       "3            5.75   52.06  \n",
       "5           13.46  143.30  \n",
       "7           13.46  180.72  \n",
       "9           27.02  325.64  "
      ]
     },
     "execution_count": 54,
     "metadata": {},
     "output_type": "execute_result"
    }
   ],
   "source": [
    "df_ctrl[\"Total\"] = np.sum(df_ctrl[[\"FloodOptimal\",\"WetlandOptimal\",\"InundationOptimal\",\"RetreatOptimal\",\"ProtectOptimal\"]],axis=1)\n",
    "np.round(df_ctrl[[\"FloodOptimal\",\"WetlandOptimal\",\"InundationOptimal\",\"RetreatOptimal\",\"ProtectOptimal\",\"Total\"]].iloc[idx_plot],2)"
   ]
  },
  {
   "cell_type": "markdown",
   "metadata": {},
   "source": [
    "Each SSP-RCP combo, least-cost:"
   ]
  },
  {
   "cell_type": "code",
   "execution_count": 60,
   "metadata": {},
   "outputs": [],
   "source": [
    "for scen in scenarios:\n",
    "    dfs[scen][\"Total\"] = np.sum(dfs[scen][[\"FloodOptimal\",\"WetlandOptimal\",\"InundationOptimal\",\"RetreatOptimal\",\"ProtectOptimal\"]],axis=1)"
   ]
  },
  {
   "cell_type": "code",
   "execution_count": 62,
   "metadata": {},
   "outputs": [
    {
     "name": "stdout",
     "output_type": "stream",
     "text": [
      "(1, 26)\n"
     ]
    },
    {
     "data": {
      "text/html": [
       "<div>\n",
       "<style scoped>\n",
       "    .dataframe tbody tr th:only-of-type {\n",
       "        vertical-align: middle;\n",
       "    }\n",
       "\n",
       "    .dataframe tbody tr th {\n",
       "        vertical-align: top;\n",
       "    }\n",
       "\n",
       "    .dataframe thead th {\n",
       "        text-align: right;\n",
       "    }\n",
       "</style>\n",
       "<table border=\"1\" class=\"dataframe\">\n",
       "  <thead>\n",
       "    <tr style=\"text-align: right;\">\n",
       "      <th></th>\n",
       "      <th>FloodOptimal</th>\n",
       "      <th>WetlandOptimal</th>\n",
       "      <th>InundationOptimal</th>\n",
       "      <th>RetreatOptimal</th>\n",
       "      <th>ProtectOptimal</th>\n",
       "      <th>Total</th>\n",
       "    </tr>\n",
       "  </thead>\n",
       "  <tbody>\n",
       "    <tr>\n",
       "      <th>1</th>\n",
       "      <td>1.00</td>\n",
       "      <td>2.79</td>\n",
       "      <td>16.46</td>\n",
       "      <td>4.11</td>\n",
       "      <td>4.95</td>\n",
       "      <td>29.32</td>\n",
       "    </tr>\n",
       "    <tr>\n",
       "      <th>3</th>\n",
       "      <td>5.88</td>\n",
       "      <td>9.38</td>\n",
       "      <td>19.22</td>\n",
       "      <td>4.45</td>\n",
       "      <td>4.95</td>\n",
       "      <td>43.88</td>\n",
       "    </tr>\n",
       "    <tr>\n",
       "      <th>5</th>\n",
       "      <td>2.22</td>\n",
       "      <td>15.40</td>\n",
       "      <td>70.47</td>\n",
       "      <td>13.47</td>\n",
       "      <td>10.60</td>\n",
       "      <td>112.16</td>\n",
       "    </tr>\n",
       "    <tr>\n",
       "      <th>7</th>\n",
       "      <td>7.98</td>\n",
       "      <td>12.05</td>\n",
       "      <td>73.88</td>\n",
       "      <td>13.40</td>\n",
       "      <td>10.60</td>\n",
       "      <td>117.91</td>\n",
       "    </tr>\n",
       "    <tr>\n",
       "      <th>9</th>\n",
       "      <td>4.71</td>\n",
       "      <td>15.96</td>\n",
       "      <td>131.64</td>\n",
       "      <td>15.48</td>\n",
       "      <td>15.84</td>\n",
       "      <td>183.62</td>\n",
       "    </tr>\n",
       "  </tbody>\n",
       "</table>\n",
       "</div>"
      ],
      "text/plain": [
       "   FloodOptimal  WetlandOptimal  InundationOptimal  RetreatOptimal  \\\n",
       "1          1.00            2.79              16.46            4.11   \n",
       "3          5.88            9.38              19.22            4.45   \n",
       "5          2.22           15.40              70.47           13.47   \n",
       "7          7.98           12.05              73.88           13.40   \n",
       "9          4.71           15.96             131.64           15.48   \n",
       "\n",
       "   ProtectOptimal   Total  \n",
       "1            4.95   29.32  \n",
       "3            4.95   43.88  \n",
       "5           10.60  112.16  \n",
       "7           10.60  117.91  \n",
       "9           15.84  183.62  "
      ]
     },
     "execution_count": 62,
     "metadata": {},
     "output_type": "execute_result"
    }
   ],
   "source": [
    "scen = (1,26); print(scen)\n",
    "np.round(dfs[scen][[\"FloodOptimal\",\"WetlandOptimal\",\"InundationOptimal\",\"RetreatOptimal\",\"ProtectOptimal\",\"Total\"]].iloc[idx_plot],2)"
   ]
  },
  {
   "cell_type": "code",
   "execution_count": 63,
   "metadata": {},
   "outputs": [
    {
     "name": "stdout",
     "output_type": "stream",
     "text": [
      "(2, 45)\n"
     ]
    },
    {
     "data": {
      "text/html": [
       "<div>\n",
       "<style scoped>\n",
       "    .dataframe tbody tr th:only-of-type {\n",
       "        vertical-align: middle;\n",
       "    }\n",
       "\n",
       "    .dataframe tbody tr th {\n",
       "        vertical-align: top;\n",
       "    }\n",
       "\n",
       "    .dataframe thead th {\n",
       "        text-align: right;\n",
       "    }\n",
       "</style>\n",
       "<table border=\"1\" class=\"dataframe\">\n",
       "  <thead>\n",
       "    <tr style=\"text-align: right;\">\n",
       "      <th></th>\n",
       "      <th>FloodOptimal</th>\n",
       "      <th>WetlandOptimal</th>\n",
       "      <th>InundationOptimal</th>\n",
       "      <th>RetreatOptimal</th>\n",
       "      <th>ProtectOptimal</th>\n",
       "      <th>Total</th>\n",
       "    </tr>\n",
       "  </thead>\n",
       "  <tbody>\n",
       "    <tr>\n",
       "      <th>1</th>\n",
       "      <td>1.05</td>\n",
       "      <td>1.89</td>\n",
       "      <td>15.14</td>\n",
       "      <td>4.00</td>\n",
       "      <td>4.52</td>\n",
       "      <td>26.61</td>\n",
       "    </tr>\n",
       "    <tr>\n",
       "      <th>3</th>\n",
       "      <td>6.40</td>\n",
       "      <td>5.72</td>\n",
       "      <td>18.03</td>\n",
       "      <td>4.35</td>\n",
       "      <td>4.52</td>\n",
       "      <td>39.02</td>\n",
       "    </tr>\n",
       "    <tr>\n",
       "      <th>5</th>\n",
       "      <td>1.71</td>\n",
       "      <td>10.70</td>\n",
       "      <td>78.89</td>\n",
       "      <td>21.17</td>\n",
       "      <td>11.26</td>\n",
       "      <td>123.74</td>\n",
       "    </tr>\n",
       "    <tr>\n",
       "      <th>7</th>\n",
       "      <td>4.38</td>\n",
       "      <td>30.05</td>\n",
       "      <td>84.37</td>\n",
       "      <td>22.31</td>\n",
       "      <td>11.26</td>\n",
       "      <td>152.37</td>\n",
       "    </tr>\n",
       "    <tr>\n",
       "      <th>9</th>\n",
       "      <td>14.85</td>\n",
       "      <td>104.80</td>\n",
       "      <td>236.12</td>\n",
       "      <td>79.04</td>\n",
       "      <td>29.15</td>\n",
       "      <td>463.96</td>\n",
       "    </tr>\n",
       "  </tbody>\n",
       "</table>\n",
       "</div>"
      ],
      "text/plain": [
       "   FloodOptimal  WetlandOptimal  InundationOptimal  RetreatOptimal  \\\n",
       "1          1.05            1.89              15.14            4.00   \n",
       "3          6.40            5.72              18.03            4.35   \n",
       "5          1.71           10.70              78.89           21.17   \n",
       "7          4.38           30.05              84.37           22.31   \n",
       "9         14.85          104.80             236.12           79.04   \n",
       "\n",
       "   ProtectOptimal   Total  \n",
       "1            4.52   26.61  \n",
       "3            4.52   39.02  \n",
       "5           11.26  123.74  \n",
       "7           11.26  152.37  \n",
       "9           29.15  463.96  "
      ]
     },
     "execution_count": 63,
     "metadata": {},
     "output_type": "execute_result"
    }
   ],
   "source": [
    "scen = (2,45); print(scen)\n",
    "np.round(dfs[scen][[\"FloodOptimal\",\"WetlandOptimal\",\"InundationOptimal\",\"RetreatOptimal\",\"ProtectOptimal\",\"Total\"]].iloc[idx_plot],2)"
   ]
  },
  {
   "cell_type": "code",
   "execution_count": 64,
   "metadata": {},
   "outputs": [
    {
     "name": "stdout",
     "output_type": "stream",
     "text": [
      "(4, 60)\n"
     ]
    },
    {
     "data": {
      "text/html": [
       "<div>\n",
       "<style scoped>\n",
       "    .dataframe tbody tr th:only-of-type {\n",
       "        vertical-align: middle;\n",
       "    }\n",
       "\n",
       "    .dataframe tbody tr th {\n",
       "        vertical-align: top;\n",
       "    }\n",
       "\n",
       "    .dataframe thead th {\n",
       "        text-align: right;\n",
       "    }\n",
       "</style>\n",
       "<table border=\"1\" class=\"dataframe\">\n",
       "  <thead>\n",
       "    <tr style=\"text-align: right;\">\n",
       "      <th></th>\n",
       "      <th>FloodOptimal</th>\n",
       "      <th>WetlandOptimal</th>\n",
       "      <th>InundationOptimal</th>\n",
       "      <th>RetreatOptimal</th>\n",
       "      <th>ProtectOptimal</th>\n",
       "      <th>Total</th>\n",
       "    </tr>\n",
       "  </thead>\n",
       "  <tbody>\n",
       "    <tr>\n",
       "      <th>1</th>\n",
       "      <td>1.07</td>\n",
       "      <td>2.39</td>\n",
       "      <td>15.28</td>\n",
       "      <td>4.21</td>\n",
       "      <td>4.83</td>\n",
       "      <td>27.78</td>\n",
       "    </tr>\n",
       "    <tr>\n",
       "      <th>3</th>\n",
       "      <td>5.65</td>\n",
       "      <td>9.43</td>\n",
       "      <td>18.33</td>\n",
       "      <td>4.73</td>\n",
       "      <td>4.83</td>\n",
       "      <td>42.96</td>\n",
       "    </tr>\n",
       "    <tr>\n",
       "      <th>5</th>\n",
       "      <td>1.49</td>\n",
       "      <td>23.21</td>\n",
       "      <td>82.90</td>\n",
       "      <td>25.02</td>\n",
       "      <td>13.73</td>\n",
       "      <td>146.35</td>\n",
       "    </tr>\n",
       "    <tr>\n",
       "      <th>7</th>\n",
       "      <td>5.48</td>\n",
       "      <td>63.52</td>\n",
       "      <td>89.91</td>\n",
       "      <td>26.46</td>\n",
       "      <td>13.73</td>\n",
       "      <td>199.09</td>\n",
       "    </tr>\n",
       "    <tr>\n",
       "      <th>9</th>\n",
       "      <td>26.77</td>\n",
       "      <td>95.48</td>\n",
       "      <td>206.69</td>\n",
       "      <td>61.08</td>\n",
       "      <td>35.59</td>\n",
       "      <td>425.63</td>\n",
       "    </tr>\n",
       "  </tbody>\n",
       "</table>\n",
       "</div>"
      ],
      "text/plain": [
       "   FloodOptimal  WetlandOptimal  InundationOptimal  RetreatOptimal  \\\n",
       "1          1.07            2.39              15.28            4.21   \n",
       "3          5.65            9.43              18.33            4.73   \n",
       "5          1.49           23.21              82.90           25.02   \n",
       "7          5.48           63.52              89.91           26.46   \n",
       "9         26.77           95.48             206.69           61.08   \n",
       "\n",
       "   ProtectOptimal   Total  \n",
       "1            4.83   27.78  \n",
       "3            4.83   42.96  \n",
       "5           13.73  146.35  \n",
       "7           13.73  199.09  \n",
       "9           35.59  425.63  "
      ]
     },
     "execution_count": 64,
     "metadata": {},
     "output_type": "execute_result"
    }
   ],
   "source": [
    "scen = (4,60); print(scen)\n",
    "np.round(dfs[scen][[\"FloodOptimal\",\"WetlandOptimal\",\"InundationOptimal\",\"RetreatOptimal\",\"ProtectOptimal\",\"Total\"]].iloc[idx_plot],2)"
   ]
  },
  {
   "cell_type": "code",
   "execution_count": 65,
   "metadata": {},
   "outputs": [
    {
     "name": "stdout",
     "output_type": "stream",
     "text": [
      "(5, 85)\n"
     ]
    },
    {
     "data": {
      "text/html": [
       "<div>\n",
       "<style scoped>\n",
       "    .dataframe tbody tr th:only-of-type {\n",
       "        vertical-align: middle;\n",
       "    }\n",
       "\n",
       "    .dataframe tbody tr th {\n",
       "        vertical-align: top;\n",
       "    }\n",
       "\n",
       "    .dataframe thead th {\n",
       "        text-align: right;\n",
       "    }\n",
       "</style>\n",
       "<table border=\"1\" class=\"dataframe\">\n",
       "  <thead>\n",
       "    <tr style=\"text-align: right;\">\n",
       "      <th></th>\n",
       "      <th>FloodOptimal</th>\n",
       "      <th>WetlandOptimal</th>\n",
       "      <th>InundationOptimal</th>\n",
       "      <th>RetreatOptimal</th>\n",
       "      <th>ProtectOptimal</th>\n",
       "      <th>Total</th>\n",
       "    </tr>\n",
       "  </thead>\n",
       "  <tbody>\n",
       "    <tr>\n",
       "      <th>1</th>\n",
       "      <td>0.28</td>\n",
       "      <td>9.11</td>\n",
       "      <td>25.83</td>\n",
       "      <td>7.47</td>\n",
       "      <td>9.73</td>\n",
       "      <td>52.41</td>\n",
       "    </tr>\n",
       "    <tr>\n",
       "      <th>3</th>\n",
       "      <td>5.66</td>\n",
       "      <td>53.60</td>\n",
       "      <td>36.09</td>\n",
       "      <td>8.53</td>\n",
       "      <td>9.73</td>\n",
       "      <td>113.61</td>\n",
       "    </tr>\n",
       "    <tr>\n",
       "      <th>5</th>\n",
       "      <td>5.90</td>\n",
       "      <td>107.46</td>\n",
       "      <td>177.34</td>\n",
       "      <td>51.21</td>\n",
       "      <td>44.23</td>\n",
       "      <td>386.14</td>\n",
       "    </tr>\n",
       "    <tr>\n",
       "      <th>7</th>\n",
       "      <td>4.57</td>\n",
       "      <td>165.36</td>\n",
       "      <td>198.27</td>\n",
       "      <td>54.19</td>\n",
       "      <td>44.23</td>\n",
       "      <td>466.62</td>\n",
       "    </tr>\n",
       "    <tr>\n",
       "      <th>9</th>\n",
       "      <td>16.51</td>\n",
       "      <td>229.08</td>\n",
       "      <td>476.81</td>\n",
       "      <td>164.33</td>\n",
       "      <td>135.20</td>\n",
       "      <td>1021.93</td>\n",
       "    </tr>\n",
       "  </tbody>\n",
       "</table>\n",
       "</div>"
      ],
      "text/plain": [
       "   FloodOptimal  WetlandOptimal  InundationOptimal  RetreatOptimal  \\\n",
       "1          0.28            9.11              25.83            7.47   \n",
       "3          5.66           53.60              36.09            8.53   \n",
       "5          5.90          107.46             177.34           51.21   \n",
       "7          4.57          165.36             198.27           54.19   \n",
       "9         16.51          229.08             476.81          164.33   \n",
       "\n",
       "   ProtectOptimal    Total  \n",
       "1            9.73    52.41  \n",
       "3            9.73   113.61  \n",
       "5           44.23   386.14  \n",
       "7           44.23   466.62  \n",
       "9          135.20  1021.93  "
      ]
     },
     "execution_count": 65,
     "metadata": {},
     "output_type": "execute_result"
    }
   ],
   "source": [
    "scen = (5,85); print(scen)\n",
    "np.round(dfs[scen][[\"FloodOptimal\",\"WetlandOptimal\",\"InundationOptimal\",\"RetreatOptimal\",\"ProtectOptimal\",\"Total\"]].iloc[idx_plot],2)"
   ]
  },
  {
   "cell_type": "markdown",
   "metadata": {},
   "source": [
    "### No adaptation cases\n",
    "\n",
    "Note that `StormCapitalNoAdapt+StormPopNoAdapt` are the flood-related damages for the no-adaptation cases. They are analogous to the `FloodOptimal` field in the least-cost adaptation case. Relatedly, `FloodNoAdapt` is the inundation damages in the no-adaptation cases, analogous to `IndundationOptimal`.\n",
    "\n",
    "Control/baseline, no-adaptation:"
   ]
  },
  {
   "cell_type": "code",
   "execution_count": 66,
   "metadata": {},
   "outputs": [
    {
     "data": {
      "text/html": [
       "<div>\n",
       "<style scoped>\n",
       "    .dataframe tbody tr th:only-of-type {\n",
       "        vertical-align: middle;\n",
       "    }\n",
       "\n",
       "    .dataframe tbody tr th {\n",
       "        vertical-align: top;\n",
       "    }\n",
       "\n",
       "    .dataframe thead th {\n",
       "        text-align: right;\n",
       "    }\n",
       "</style>\n",
       "<table border=\"1\" class=\"dataframe\">\n",
       "  <thead>\n",
       "    <tr style=\"text-align: right;\">\n",
       "      <th></th>\n",
       "      <th>StormCapitalNoAdapt</th>\n",
       "      <th>StormPopNoAdapt</th>\n",
       "      <th>WetlandNoAdapt</th>\n",
       "      <th>FloodNoAdapt</th>\n",
       "      <th>RelocateNoAdapt</th>\n",
       "      <th>Total NoAdapt</th>\n",
       "    </tr>\n",
       "  </thead>\n",
       "  <tbody>\n",
       "    <tr>\n",
       "      <th>1</th>\n",
       "      <td>2.52</td>\n",
       "      <td>3.36</td>\n",
       "      <td>5.57</td>\n",
       "      <td>64.96</td>\n",
       "      <td>112.94</td>\n",
       "      <td>189.34</td>\n",
       "    </tr>\n",
       "    <tr>\n",
       "      <th>3</th>\n",
       "      <td>35.75</td>\n",
       "      <td>42.86</td>\n",
       "      <td>17.75</td>\n",
       "      <td>149.08</td>\n",
       "      <td>239.34</td>\n",
       "      <td>484.77</td>\n",
       "    </tr>\n",
       "    <tr>\n",
       "      <th>5</th>\n",
       "      <td>255.95</td>\n",
       "      <td>252.81</td>\n",
       "      <td>43.16</td>\n",
       "      <td>270.02</td>\n",
       "      <td>395.10</td>\n",
       "      <td>1217.04</td>\n",
       "    </tr>\n",
       "    <tr>\n",
       "      <th>7</th>\n",
       "      <td>515.44</td>\n",
       "      <td>488.54</td>\n",
       "      <td>68.26</td>\n",
       "      <td>360.39</td>\n",
       "      <td>445.51</td>\n",
       "      <td>1878.14</td>\n",
       "    </tr>\n",
       "    <tr>\n",
       "      <th>9</th>\n",
       "      <td>680.30</td>\n",
       "      <td>636.12</td>\n",
       "      <td>78.09</td>\n",
       "      <td>421.26</td>\n",
       "      <td>435.69</td>\n",
       "      <td>2251.47</td>\n",
       "    </tr>\n",
       "  </tbody>\n",
       "</table>\n",
       "</div>"
      ],
      "text/plain": [
       "   StormCapitalNoAdapt  StormPopNoAdapt  WetlandNoAdapt  FloodNoAdapt  \\\n",
       "1                 2.52             3.36            5.57         64.96   \n",
       "3                35.75            42.86           17.75        149.08   \n",
       "5               255.95           252.81           43.16        270.02   \n",
       "7               515.44           488.54           68.26        360.39   \n",
       "9               680.30           636.12           78.09        421.26   \n",
       "\n",
       "   RelocateNoAdapt  Total NoAdapt  \n",
       "1           112.94         189.34  \n",
       "3           239.34         484.77  \n",
       "5           395.10        1217.04  \n",
       "7           445.51        1878.14  \n",
       "9           435.69        2251.47  "
      ]
     },
     "execution_count": 66,
     "metadata": {},
     "output_type": "execute_result"
    }
   ],
   "source": [
    "df_ctrl[\"Total NoAdapt\"] = np.sum(df_ctrl[[\"StormCapitalNoAdapt\",\"StormPopNoAdapt\",\"RelocateNoAdapt\",\"FloodNoAdapt\",\"WetlandNoAdapt\"]],axis=1)\n",
    "np.round(df_ctrl[[\"StormCapitalNoAdapt\",\"StormPopNoAdapt\",\"WetlandNoAdapt\",\"FloodNoAdapt\",\"RelocateNoAdapt\",\"Total NoAdapt\"]].iloc[idx_plot],2)"
   ]
  },
  {
   "cell_type": "markdown",
   "metadata": {},
   "source": [
    "Each SSP-RCP combo, no-adaptation:"
   ]
  },
  {
   "cell_type": "code",
   "execution_count": 67,
   "metadata": {},
   "outputs": [],
   "source": [
    "for scen in scenarios:\n",
    "    dfs[scen][\"Total NoAdapt\"] = np.sum(dfs[(scen)][[\"StormCapitalNoAdapt\",\"StormPopNoAdapt\",\"RelocateNoAdapt\",\"FloodNoAdapt\",\"WetlandNoAdapt\"]],axis=1)"
   ]
  },
  {
   "cell_type": "code",
   "execution_count": 68,
   "metadata": {},
   "outputs": [
    {
     "name": "stdout",
     "output_type": "stream",
     "text": [
      "(1, 26)\n"
     ]
    },
    {
     "data": {
      "text/html": [
       "<div>\n",
       "<style scoped>\n",
       "    .dataframe tbody tr th:only-of-type {\n",
       "        vertical-align: middle;\n",
       "    }\n",
       "\n",
       "    .dataframe tbody tr th {\n",
       "        vertical-align: top;\n",
       "    }\n",
       "\n",
       "    .dataframe thead th {\n",
       "        text-align: right;\n",
       "    }\n",
       "</style>\n",
       "<table border=\"1\" class=\"dataframe\">\n",
       "  <thead>\n",
       "    <tr style=\"text-align: right;\">\n",
       "      <th></th>\n",
       "      <th>StormCapitalNoAdapt</th>\n",
       "      <th>StormPopNoAdapt</th>\n",
       "      <th>WetlandNoAdapt</th>\n",
       "      <th>FloodNoAdapt</th>\n",
       "      <th>RelocateNoAdapt</th>\n",
       "      <th>Total NoAdapt</th>\n",
       "    </tr>\n",
       "  </thead>\n",
       "  <tbody>\n",
       "    <tr>\n",
       "      <th>1</th>\n",
       "      <td>3.19</td>\n",
       "      <td>3.60</td>\n",
       "      <td>1.86</td>\n",
       "      <td>60.48</td>\n",
       "      <td>97.63</td>\n",
       "      <td>166.75</td>\n",
       "    </tr>\n",
       "    <tr>\n",
       "      <th>3</th>\n",
       "      <td>20.61</td>\n",
       "      <td>21.09</td>\n",
       "      <td>8.09</td>\n",
       "      <td>144.26</td>\n",
       "      <td>216.85</td>\n",
       "      <td>410.90</td>\n",
       "    </tr>\n",
       "    <tr>\n",
       "      <th>5</th>\n",
       "      <td>109.00</td>\n",
       "      <td>108.28</td>\n",
       "      <td>13.76</td>\n",
       "      <td>219.13</td>\n",
       "      <td>294.30</td>\n",
       "      <td>744.46</td>\n",
       "    </tr>\n",
       "    <tr>\n",
       "      <th>7</th>\n",
       "      <td>272.58</td>\n",
       "      <td>259.13</td>\n",
       "      <td>9.79</td>\n",
       "      <td>241.35</td>\n",
       "      <td>251.48</td>\n",
       "      <td>1034.33</td>\n",
       "    </tr>\n",
       "    <tr>\n",
       "      <th>9</th>\n",
       "      <td>365.84</td>\n",
       "      <td>336.66</td>\n",
       "      <td>13.44</td>\n",
       "      <td>305.79</td>\n",
       "      <td>300.17</td>\n",
       "      <td>1321.89</td>\n",
       "    </tr>\n",
       "  </tbody>\n",
       "</table>\n",
       "</div>"
      ],
      "text/plain": [
       "   StormCapitalNoAdapt  StormPopNoAdapt  WetlandNoAdapt  FloodNoAdapt  \\\n",
       "1                 3.19             3.60            1.86         60.48   \n",
       "3                20.61            21.09            8.09        144.26   \n",
       "5               109.00           108.28           13.76        219.13   \n",
       "7               272.58           259.13            9.79        241.35   \n",
       "9               365.84           336.66           13.44        305.79   \n",
       "\n",
       "   RelocateNoAdapt  Total NoAdapt  \n",
       "1            97.63         166.75  \n",
       "3           216.85         410.90  \n",
       "5           294.30         744.46  \n",
       "7           251.48        1034.33  \n",
       "9           300.17        1321.89  "
      ]
     },
     "execution_count": 68,
     "metadata": {},
     "output_type": "execute_result"
    }
   ],
   "source": [
    "scen = (1,26); print(scen)\n",
    "np.round(dfs[scen][[\"StormCapitalNoAdapt\",\"StormPopNoAdapt\",\"WetlandNoAdapt\",\"FloodNoAdapt\",\"RelocateNoAdapt\",\"Total NoAdapt\"]].iloc[idx_plot],2)"
   ]
  },
  {
   "cell_type": "code",
   "execution_count": 69,
   "metadata": {},
   "outputs": [
    {
     "name": "stdout",
     "output_type": "stream",
     "text": [
      "(2, 45)\n"
     ]
    },
    {
     "data": {
      "text/html": [
       "<div>\n",
       "<style scoped>\n",
       "    .dataframe tbody tr th:only-of-type {\n",
       "        vertical-align: middle;\n",
       "    }\n",
       "\n",
       "    .dataframe tbody tr th {\n",
       "        vertical-align: top;\n",
       "    }\n",
       "\n",
       "    .dataframe thead th {\n",
       "        text-align: right;\n",
       "    }\n",
       "</style>\n",
       "<table border=\"1\" class=\"dataframe\">\n",
       "  <thead>\n",
       "    <tr style=\"text-align: right;\">\n",
       "      <th></th>\n",
       "      <th>StormCapitalNoAdapt</th>\n",
       "      <th>StormPopNoAdapt</th>\n",
       "      <th>WetlandNoAdapt</th>\n",
       "      <th>FloodNoAdapt</th>\n",
       "      <th>RelocateNoAdapt</th>\n",
       "      <th>Total NoAdapt</th>\n",
       "    </tr>\n",
       "  </thead>\n",
       "  <tbody>\n",
       "    <tr>\n",
       "      <th>1</th>\n",
       "      <td>2.49</td>\n",
       "      <td>2.80</td>\n",
       "      <td>1.17</td>\n",
       "      <td>51.68</td>\n",
       "      <td>85.08</td>\n",
       "      <td>143.22</td>\n",
       "    </tr>\n",
       "    <tr>\n",
       "      <th>3</th>\n",
       "      <td>15.75</td>\n",
       "      <td>16.61</td>\n",
       "      <td>4.70</td>\n",
       "      <td>115.01</td>\n",
       "      <td>168.42</td>\n",
       "      <td>320.49</td>\n",
       "    </tr>\n",
       "    <tr>\n",
       "      <th>5</th>\n",
       "      <td>85.81</td>\n",
       "      <td>89.25</td>\n",
       "      <td>9.48</td>\n",
       "      <td>178.33</td>\n",
       "      <td>231.98</td>\n",
       "      <td>594.85</td>\n",
       "    </tr>\n",
       "    <tr>\n",
       "      <th>7</th>\n",
       "      <td>248.53</td>\n",
       "      <td>254.19</td>\n",
       "      <td>29.00</td>\n",
       "      <td>317.33</td>\n",
       "      <td>439.77</td>\n",
       "      <td>1288.81</td>\n",
       "    </tr>\n",
       "    <tr>\n",
       "      <th>9</th>\n",
       "      <td>581.55</td>\n",
       "      <td>553.64</td>\n",
       "      <td>104.80</td>\n",
       "      <td>745.61</td>\n",
       "      <td>1177.05</td>\n",
       "      <td>3162.65</td>\n",
       "    </tr>\n",
       "  </tbody>\n",
       "</table>\n",
       "</div>"
      ],
      "text/plain": [
       "   StormCapitalNoAdapt  StormPopNoAdapt  WetlandNoAdapt  FloodNoAdapt  \\\n",
       "1                 2.49             2.80            1.17         51.68   \n",
       "3                15.75            16.61            4.70        115.01   \n",
       "5                85.81            89.25            9.48        178.33   \n",
       "7               248.53           254.19           29.00        317.33   \n",
       "9               581.55           553.64          104.80        745.61   \n",
       "\n",
       "   RelocateNoAdapt  Total NoAdapt  \n",
       "1            85.08         143.22  \n",
       "3           168.42         320.49  \n",
       "5           231.98         594.85  \n",
       "7           439.77        1288.81  \n",
       "9          1177.05        3162.65  "
      ]
     },
     "execution_count": 69,
     "metadata": {},
     "output_type": "execute_result"
    }
   ],
   "source": [
    "scen = (2,45); print(scen)\n",
    "np.round(dfs[scen][[\"StormCapitalNoAdapt\",\"StormPopNoAdapt\",\"WetlandNoAdapt\",\"FloodNoAdapt\",\"RelocateNoAdapt\",\"Total NoAdapt\"]].iloc[idx_plot],2)"
   ]
  },
  {
   "cell_type": "code",
   "execution_count": 70,
   "metadata": {},
   "outputs": [
    {
     "name": "stdout",
     "output_type": "stream",
     "text": [
      "(4, 60)\n"
     ]
    },
    {
     "data": {
      "text/html": [
       "<div>\n",
       "<style scoped>\n",
       "    .dataframe tbody tr th:only-of-type {\n",
       "        vertical-align: middle;\n",
       "    }\n",
       "\n",
       "    .dataframe tbody tr th {\n",
       "        vertical-align: top;\n",
       "    }\n",
       "\n",
       "    .dataframe thead th {\n",
       "        text-align: right;\n",
       "    }\n",
       "</style>\n",
       "<table border=\"1\" class=\"dataframe\">\n",
       "  <thead>\n",
       "    <tr style=\"text-align: right;\">\n",
       "      <th></th>\n",
       "      <th>StormCapitalNoAdapt</th>\n",
       "      <th>StormPopNoAdapt</th>\n",
       "      <th>WetlandNoAdapt</th>\n",
       "      <th>FloodNoAdapt</th>\n",
       "      <th>RelocateNoAdapt</th>\n",
       "      <th>Total NoAdapt</th>\n",
       "    </tr>\n",
       "  </thead>\n",
       "  <tbody>\n",
       "    <tr>\n",
       "      <th>1</th>\n",
       "      <td>2.70</td>\n",
       "      <td>3.07</td>\n",
       "      <td>1.30</td>\n",
       "      <td>51.95</td>\n",
       "      <td>84.02</td>\n",
       "      <td>143.04</td>\n",
       "    </tr>\n",
       "    <tr>\n",
       "      <th>3</th>\n",
       "      <td>14.13</td>\n",
       "      <td>15.72</td>\n",
       "      <td>8.19</td>\n",
       "      <td>128.42</td>\n",
       "      <td>202.63</td>\n",
       "      <td>369.10</td>\n",
       "    </tr>\n",
       "    <tr>\n",
       "      <th>5</th>\n",
       "      <td>82.36</td>\n",
       "      <td>96.09</td>\n",
       "      <td>22.19</td>\n",
       "      <td>199.88</td>\n",
       "      <td>293.96</td>\n",
       "      <td>694.49</td>\n",
       "    </tr>\n",
       "    <tr>\n",
       "      <th>7</th>\n",
       "      <td>269.38</td>\n",
       "      <td>314.77</td>\n",
       "      <td>63.40</td>\n",
       "      <td>348.19</td>\n",
       "      <td>522.39</td>\n",
       "      <td>1518.13</td>\n",
       "    </tr>\n",
       "    <tr>\n",
       "      <th>9</th>\n",
       "      <td>560.59</td>\n",
       "      <td>619.04</td>\n",
       "      <td>95.48</td>\n",
       "      <td>600.23</td>\n",
       "      <td>879.57</td>\n",
       "      <td>2754.92</td>\n",
       "    </tr>\n",
       "  </tbody>\n",
       "</table>\n",
       "</div>"
      ],
      "text/plain": [
       "   StormCapitalNoAdapt  StormPopNoAdapt  WetlandNoAdapt  FloodNoAdapt  \\\n",
       "1                 2.70             3.07            1.30         51.95   \n",
       "3                14.13            15.72            8.19        128.42   \n",
       "5                82.36            96.09           22.19        199.88   \n",
       "7               269.38           314.77           63.40        348.19   \n",
       "9               560.59           619.04           95.48        600.23   \n",
       "\n",
       "   RelocateNoAdapt  Total NoAdapt  \n",
       "1            84.02         143.04  \n",
       "3           202.63         369.10  \n",
       "5           293.96         694.49  \n",
       "7           522.39        1518.13  \n",
       "9           879.57        2754.92  "
      ]
     },
     "execution_count": 70,
     "metadata": {},
     "output_type": "execute_result"
    }
   ],
   "source": [
    "scen = (4,60); print(scen)\n",
    "np.round(dfs[scen][[\"StormCapitalNoAdapt\",\"StormPopNoAdapt\",\"WetlandNoAdapt\",\"FloodNoAdapt\",\"RelocateNoAdapt\",\"Total NoAdapt\"]].iloc[idx_plot],2)"
   ]
  },
  {
   "cell_type": "code",
   "execution_count": 71,
   "metadata": {},
   "outputs": [
    {
     "name": "stdout",
     "output_type": "stream",
     "text": [
      "(5, 85)\n"
     ]
    },
    {
     "data": {
      "text/html": [
       "<div>\n",
       "<style scoped>\n",
       "    .dataframe tbody tr th:only-of-type {\n",
       "        vertical-align: middle;\n",
       "    }\n",
       "\n",
       "    .dataframe tbody tr th {\n",
       "        vertical-align: top;\n",
       "    }\n",
       "\n",
       "    .dataframe thead th {\n",
       "        text-align: right;\n",
       "    }\n",
       "</style>\n",
       "<table border=\"1\" class=\"dataframe\">\n",
       "  <thead>\n",
       "    <tr style=\"text-align: right;\">\n",
       "      <th></th>\n",
       "      <th>StormCapitalNoAdapt</th>\n",
       "      <th>StormPopNoAdapt</th>\n",
       "      <th>WetlandNoAdapt</th>\n",
       "      <th>FloodNoAdapt</th>\n",
       "      <th>RelocateNoAdapt</th>\n",
       "      <th>Total NoAdapt</th>\n",
       "    </tr>\n",
       "  </thead>\n",
       "  <tbody>\n",
       "    <tr>\n",
       "      <th>1</th>\n",
       "      <td>2.57</td>\n",
       "      <td>2.86</td>\n",
       "      <td>7.11</td>\n",
       "      <td>119.09</td>\n",
       "      <td>220.78</td>\n",
       "      <td>352.41</td>\n",
       "    </tr>\n",
       "    <tr>\n",
       "      <th>3</th>\n",
       "      <td>157.05</td>\n",
       "      <td>157.61</td>\n",
       "      <td>53.19</td>\n",
       "      <td>476.39</td>\n",
       "      <td>819.21</td>\n",
       "      <td>1663.45</td>\n",
       "    </tr>\n",
       "    <tr>\n",
       "      <th>5</th>\n",
       "      <td>760.83</td>\n",
       "      <td>656.19</td>\n",
       "      <td>107.45</td>\n",
       "      <td>738.07</td>\n",
       "      <td>1088.76</td>\n",
       "      <td>3351.30</td>\n",
       "    </tr>\n",
       "    <tr>\n",
       "      <th>7</th>\n",
       "      <td>1253.04</td>\n",
       "      <td>1048.53</td>\n",
       "      <td>165.36</td>\n",
       "      <td>1295.42</td>\n",
       "      <td>1855.88</td>\n",
       "      <td>5618.24</td>\n",
       "    </tr>\n",
       "    <tr>\n",
       "      <th>9</th>\n",
       "      <td>1473.50</td>\n",
       "      <td>1184.84</td>\n",
       "      <td>229.08</td>\n",
       "      <td>1677.02</td>\n",
       "      <td>2145.49</td>\n",
       "      <td>6709.94</td>\n",
       "    </tr>\n",
       "  </tbody>\n",
       "</table>\n",
       "</div>"
      ],
      "text/plain": [
       "   StormCapitalNoAdapt  StormPopNoAdapt  WetlandNoAdapt  FloodNoAdapt  \\\n",
       "1                 2.57             2.86            7.11        119.09   \n",
       "3               157.05           157.61           53.19        476.39   \n",
       "5               760.83           656.19          107.45        738.07   \n",
       "7              1253.04          1048.53          165.36       1295.42   \n",
       "9              1473.50          1184.84          229.08       1677.02   \n",
       "\n",
       "   RelocateNoAdapt  Total NoAdapt  \n",
       "1           220.78         352.41  \n",
       "3           819.21        1663.45  \n",
       "5          1088.76        3351.30  \n",
       "7          1855.88        5618.24  \n",
       "9          2145.49        6709.94  "
      ]
     },
     "execution_count": 71,
     "metadata": {},
     "output_type": "execute_result"
    }
   ],
   "source": [
    "scen = (5,85); print(scen)\n",
    "np.round(dfs[scen][[\"StormCapitalNoAdapt\",\"StormPopNoAdapt\",\"WetlandNoAdapt\",\"FloodNoAdapt\",\"RelocateNoAdapt\",\"Total NoAdapt\"]].iloc[idx_plot],2)"
   ]
  },
  {
   "cell_type": "code",
   "execution_count": null,
   "metadata": {},
   "outputs": [],
   "source": []
  },
  {
   "cell_type": "markdown",
   "metadata": {},
   "source": [
    "<br>\n",
    "\n",
    "<h1 style=\"color:firebrick\">have not modified below here yet</h1>\n",
    "\n",
    "<br>"
   ]
  },
  {
   "cell_type": "code",
   "execution_count": null,
   "metadata": {},
   "outputs": [],
   "source": []
  },
  {
   "cell_type": "markdown",
   "metadata": {},
   "source": [
    "### Differences\n",
    "\n",
    "SSP5+BRICK85 minus control/baseline, least-cost:"
   ]
  },
  {
   "cell_type": "code",
   "execution_count": 53,
   "metadata": {},
   "outputs": [
    {
     "data": {
      "text/html": [
       "<div>\n",
       "<style scoped>\n",
       "    .dataframe tbody tr th:only-of-type {\n",
       "        vertical-align: middle;\n",
       "    }\n",
       "\n",
       "    .dataframe tbody tr th {\n",
       "        vertical-align: top;\n",
       "    }\n",
       "\n",
       "    .dataframe thead th {\n",
       "        text-align: right;\n",
       "    }\n",
       "</style>\n",
       "<table border=\"1\" class=\"dataframe\">\n",
       "  <thead>\n",
       "    <tr style=\"text-align: right;\">\n",
       "      <th></th>\n",
       "      <th>FloodOptimal</th>\n",
       "      <th>WetlandOptimal</th>\n",
       "      <th>InundationOptimal</th>\n",
       "      <th>RetreatOptimal</th>\n",
       "      <th>ProtectOptimal</th>\n",
       "      <th>Total</th>\n",
       "    </tr>\n",
       "  </thead>\n",
       "  <tbody>\n",
       "    <tr>\n",
       "      <th>1</th>\n",
       "      <td>0.09</td>\n",
       "      <td>-1.72</td>\n",
       "      <td>5.59</td>\n",
       "      <td>0.95</td>\n",
       "      <td>0.75</td>\n",
       "      <td>5.65</td>\n",
       "    </tr>\n",
       "    <tr>\n",
       "      <th>3</th>\n",
       "      <td>1.40</td>\n",
       "      <td>11.89</td>\n",
       "      <td>6.64</td>\n",
       "      <td>1.06</td>\n",
       "      <td>0.75</td>\n",
       "      <td>21.74</td>\n",
       "    </tr>\n",
       "    <tr>\n",
       "      <th>5</th>\n",
       "      <td>0.08</td>\n",
       "      <td>41.49</td>\n",
       "      <td>107.04</td>\n",
       "      <td>44.80</td>\n",
       "      <td>20.44</td>\n",
       "      <td>213.85</td>\n",
       "    </tr>\n",
       "    <tr>\n",
       "      <th>7</th>\n",
       "      <td>1.63</td>\n",
       "      <td>80.98</td>\n",
       "      <td>120.93</td>\n",
       "      <td>50.21</td>\n",
       "      <td>20.44</td>\n",
       "      <td>274.18</td>\n",
       "    </tr>\n",
       "    <tr>\n",
       "      <th>9</th>\n",
       "      <td>-0.41</td>\n",
       "      <td>143.99</td>\n",
       "      <td>352.79</td>\n",
       "      <td>193.87</td>\n",
       "      <td>93.66</td>\n",
       "      <td>783.90</td>\n",
       "    </tr>\n",
       "  </tbody>\n",
       "</table>\n",
       "</div>"
      ],
      "text/plain": [
       "   FloodOptimal  WetlandOptimal  InundationOptimal  RetreatOptimal  \\\n",
       "1          0.09           -1.72               5.59            0.95   \n",
       "3          1.40           11.89               6.64            1.06   \n",
       "5          0.08           41.49             107.04           44.80   \n",
       "7          1.63           80.98             120.93           50.21   \n",
       "9         -0.41          143.99             352.79          193.87   \n",
       "\n",
       "   ProtectOptimal   Total  \n",
       "1            0.75    5.65  \n",
       "3            0.75   21.74  \n",
       "5           20.44  213.85  \n",
       "7           20.44  274.18  \n",
       "9           93.66  783.90  "
      ]
     },
     "execution_count": 53,
     "metadata": {},
     "output_type": "execute_result"
    }
   ],
   "source": [
    "np.round(((df_SSP5_BRICK85[[\"FloodOptimal\",\"WetlandOptimal\",\"InundationOptimal\",\"RetreatOptimal\",\"ProtectOptimal\",\"Total\"]] - \\\n",
    "df_ctrl[[\"FloodOptimal\",\"WetlandOptimal\",\"InundationOptimal\",\"RetreatOptimal\",\"ProtectOptimal\",\"Total\"]])).iloc[idx_plot],2)"
   ]
  },
  {
   "cell_type": "markdown",
   "metadata": {},
   "source": [
    "SSP5+BRICK85 relative to baseline, least-cost, as a percentage:"
   ]
  },
  {
   "cell_type": "code",
   "execution_count": 54,
   "metadata": {},
   "outputs": [
    {
     "data": {
      "text/html": [
       "<div>\n",
       "<style scoped>\n",
       "    .dataframe tbody tr th:only-of-type {\n",
       "        vertical-align: middle;\n",
       "    }\n",
       "\n",
       "    .dataframe tbody tr th {\n",
       "        vertical-align: top;\n",
       "    }\n",
       "\n",
       "    .dataframe thead th {\n",
       "        text-align: right;\n",
       "    }\n",
       "</style>\n",
       "<table border=\"1\" class=\"dataframe\">\n",
       "  <thead>\n",
       "    <tr style=\"text-align: right;\">\n",
       "      <th></th>\n",
       "      <th>FloodOptimal</th>\n",
       "      <th>WetlandOptimal</th>\n",
       "      <th>InundationOptimal</th>\n",
       "      <th>RetreatOptimal</th>\n",
       "      <th>ProtectOptimal</th>\n",
       "      <th>Total</th>\n",
       "    </tr>\n",
       "  </thead>\n",
       "  <tbody>\n",
       "    <tr>\n",
       "      <th>1</th>\n",
       "      <td>16.63</td>\n",
       "      <td>-25.59</td>\n",
       "      <td>38.71</td>\n",
       "      <td>22.84</td>\n",
       "      <td>12.97</td>\n",
       "      <td>17.89</td>\n",
       "    </tr>\n",
       "    <tr>\n",
       "      <th>3</th>\n",
       "      <td>26.64</td>\n",
       "      <td>64.89</td>\n",
       "      <td>36.62</td>\n",
       "      <td>23.20</td>\n",
       "      <td>12.97</td>\n",
       "      <td>41.76</td>\n",
       "    </tr>\n",
       "    <tr>\n",
       "      <th>5</th>\n",
       "      <td>6.14</td>\n",
       "      <td>95.61</td>\n",
       "      <td>157.77</td>\n",
       "      <td>258.83</td>\n",
       "      <td>151.83</td>\n",
       "      <td>149.23</td>\n",
       "    </tr>\n",
       "    <tr>\n",
       "      <th>7</th>\n",
       "      <td>27.02</td>\n",
       "      <td>118.46</td>\n",
       "      <td>161.73</td>\n",
       "      <td>277.38</td>\n",
       "      <td>151.83</td>\n",
       "      <td>151.71</td>\n",
       "    </tr>\n",
       "    <tr>\n",
       "      <th>9</th>\n",
       "      <td>-3.26</td>\n",
       "      <td>183.43</td>\n",
       "      <td>207.40</td>\n",
       "      <td>518.39</td>\n",
       "      <td>346.60</td>\n",
       "      <td>240.72</td>\n",
       "    </tr>\n",
       "  </tbody>\n",
       "</table>\n",
       "</div>"
      ],
      "text/plain": [
       "   FloodOptimal  WetlandOptimal  InundationOptimal  RetreatOptimal  \\\n",
       "1         16.63          -25.59              38.71           22.84   \n",
       "3         26.64           64.89              36.62           23.20   \n",
       "5          6.14           95.61             157.77          258.83   \n",
       "7         27.02          118.46             161.73          277.38   \n",
       "9         -3.26          183.43             207.40          518.39   \n",
       "\n",
       "   ProtectOptimal   Total  \n",
       "1           12.97   17.89  \n",
       "3           12.97   41.76  \n",
       "5          151.83  149.23  \n",
       "7          151.83  151.71  \n",
       "9          346.60  240.72  "
      ]
     },
     "execution_count": 54,
     "metadata": {},
     "output_type": "execute_result"
    }
   ],
   "source": [
    "np.round(100*((df_SSP5_BRICK85[[\"FloodOptimal\",\"WetlandOptimal\",\"InundationOptimal\",\"RetreatOptimal\",\"ProtectOptimal\",\"Total\"]] - \\\n",
    "               df_ctrl[[\"FloodOptimal\",\"WetlandOptimal\",\"InundationOptimal\",\"RetreatOptimal\",\"ProtectOptimal\",\"Total\"]])/df_ctrl[[\"FloodOptimal\",\"WetlandOptimal\",\"InundationOptimal\",\"RetreatOptimal\",\"ProtectOptimal\",\"Total\"]]).iloc[idx_plot],2)"
   ]
  },
  {
   "cell_type": "markdown",
   "metadata": {},
   "source": [
    "SSP5+BRICK85 minus baseline, no-adaptation:"
   ]
  },
  {
   "cell_type": "code",
   "execution_count": 55,
   "metadata": {},
   "outputs": [
    {
     "data": {
      "text/html": [
       "<div>\n",
       "<style scoped>\n",
       "    .dataframe tbody tr th:only-of-type {\n",
       "        vertical-align: middle;\n",
       "    }\n",
       "\n",
       "    .dataframe tbody tr th {\n",
       "        vertical-align: top;\n",
       "    }\n",
       "\n",
       "    .dataframe thead th {\n",
       "        text-align: right;\n",
       "    }\n",
       "</style>\n",
       "<table border=\"1\" class=\"dataframe\">\n",
       "  <thead>\n",
       "    <tr style=\"text-align: right;\">\n",
       "      <th></th>\n",
       "      <th>StormCapitalNoAdapt</th>\n",
       "      <th>StormPopNoAdapt</th>\n",
       "      <th>WetlandNoAdapt</th>\n",
       "      <th>FloodNoAdapt</th>\n",
       "      <th>RelocateNoAdapt</th>\n",
       "      <th>Total NoAdapt</th>\n",
       "    </tr>\n",
       "  </thead>\n",
       "  <tbody>\n",
       "    <tr>\n",
       "      <th>1</th>\n",
       "      <td>1.83</td>\n",
       "      <td>1.50</td>\n",
       "      <td>-2.30</td>\n",
       "      <td>12.07</td>\n",
       "      <td>13.18</td>\n",
       "      <td>26.28</td>\n",
       "    </tr>\n",
       "    <tr>\n",
       "      <th>3</th>\n",
       "      <td>18.87</td>\n",
       "      <td>11.87</td>\n",
       "      <td>11.21</td>\n",
       "      <td>111.72</td>\n",
       "      <td>184.81</td>\n",
       "      <td>338.48</td>\n",
       "    </tr>\n",
       "    <tr>\n",
       "      <th>5</th>\n",
       "      <td>163.15</td>\n",
       "      <td>126.80</td>\n",
       "      <td>41.66</td>\n",
       "      <td>416.47</td>\n",
       "      <td>751.91</td>\n",
       "      <td>1499.99</td>\n",
       "    </tr>\n",
       "    <tr>\n",
       "      <th>7</th>\n",
       "      <td>540.78</td>\n",
       "      <td>378.29</td>\n",
       "      <td>81.07</td>\n",
       "      <td>1052.42</td>\n",
       "      <td>1857.69</td>\n",
       "      <td>3910.25</td>\n",
       "    </tr>\n",
       "    <tr>\n",
       "      <th>9</th>\n",
       "      <td>772.18</td>\n",
       "      <td>527.51</td>\n",
       "      <td>144.40</td>\n",
       "      <td>1583.60</td>\n",
       "      <td>2546.12</td>\n",
       "      <td>5573.81</td>\n",
       "    </tr>\n",
       "  </tbody>\n",
       "</table>\n",
       "</div>"
      ],
      "text/plain": [
       "   StormCapitalNoAdapt  StormPopNoAdapt  WetlandNoAdapt  FloodNoAdapt  \\\n",
       "1                 1.83             1.50           -2.30         12.07   \n",
       "3                18.87            11.87           11.21        111.72   \n",
       "5               163.15           126.80           41.66        416.47   \n",
       "7               540.78           378.29           81.07       1052.42   \n",
       "9               772.18           527.51          144.40       1583.60   \n",
       "\n",
       "   RelocateNoAdapt  Total NoAdapt  \n",
       "1            13.18          26.28  \n",
       "3           184.81         338.48  \n",
       "5           751.91        1499.99  \n",
       "7          1857.69        3910.25  \n",
       "9          2546.12        5573.81  "
      ]
     },
     "execution_count": 55,
     "metadata": {},
     "output_type": "execute_result"
    }
   ],
   "source": [
    "np.round(df_SSP5_BRICK85[[\"StormCapitalNoAdapt\",\"StormPopNoAdapt\",\"WetlandNoAdapt\",\"FloodNoAdapt\",\"RelocateNoAdapt\",\"Total NoAdapt\"]].iloc[idx_plot] - \\\n",
    "         df_ctrl[[\"StormCapitalNoAdapt\",\"StormPopNoAdapt\",\"WetlandNoAdapt\",\"FloodNoAdapt\",\"RelocateNoAdapt\",\"Total NoAdapt\"]].iloc[idx_plot],2)"
   ]
  },
  {
   "cell_type": "markdown",
   "metadata": {},
   "source": [
    "As a percentage:"
   ]
  },
  {
   "cell_type": "code",
   "execution_count": 57,
   "metadata": {},
   "outputs": [
    {
     "data": {
      "text/html": [
       "<div>\n",
       "<style scoped>\n",
       "    .dataframe tbody tr th:only-of-type {\n",
       "        vertical-align: middle;\n",
       "    }\n",
       "\n",
       "    .dataframe tbody tr th {\n",
       "        vertical-align: top;\n",
       "    }\n",
       "\n",
       "    .dataframe thead th {\n",
       "        text-align: right;\n",
       "    }\n",
       "</style>\n",
       "<table border=\"1\" class=\"dataframe\">\n",
       "  <thead>\n",
       "    <tr style=\"text-align: right;\">\n",
       "      <th></th>\n",
       "      <th>StormCapitalNoAdapt</th>\n",
       "      <th>StormPopNoAdapt</th>\n",
       "      <th>WetlandNoAdapt</th>\n",
       "      <th>FloodNoAdapt</th>\n",
       "      <th>RelocateNoAdapt</th>\n",
       "      <th>Total NoAdapt</th>\n",
       "    </tr>\n",
       "  </thead>\n",
       "  <tbody>\n",
       "    <tr>\n",
       "      <th>1</th>\n",
       "      <td>72.68</td>\n",
       "      <td>44.75</td>\n",
       "      <td>-41.38</td>\n",
       "      <td>18.59</td>\n",
       "      <td>11.67</td>\n",
       "      <td>13.88</td>\n",
       "    </tr>\n",
       "    <tr>\n",
       "      <th>3</th>\n",
       "      <td>52.78</td>\n",
       "      <td>27.69</td>\n",
       "      <td>63.15</td>\n",
       "      <td>74.94</td>\n",
       "      <td>77.22</td>\n",
       "      <td>69.82</td>\n",
       "    </tr>\n",
       "    <tr>\n",
       "      <th>5</th>\n",
       "      <td>63.74</td>\n",
       "      <td>50.16</td>\n",
       "      <td>96.53</td>\n",
       "      <td>154.24</td>\n",
       "      <td>190.31</td>\n",
       "      <td>123.25</td>\n",
       "    </tr>\n",
       "    <tr>\n",
       "      <th>7</th>\n",
       "      <td>104.92</td>\n",
       "      <td>77.43</td>\n",
       "      <td>118.75</td>\n",
       "      <td>292.02</td>\n",
       "      <td>416.98</td>\n",
       "      <td>208.20</td>\n",
       "    </tr>\n",
       "    <tr>\n",
       "      <th>9</th>\n",
       "      <td>113.51</td>\n",
       "      <td>82.93</td>\n",
       "      <td>184.93</td>\n",
       "      <td>375.92</td>\n",
       "      <td>584.38</td>\n",
       "      <td>247.56</td>\n",
       "    </tr>\n",
       "  </tbody>\n",
       "</table>\n",
       "</div>"
      ],
      "text/plain": [
       "   StormCapitalNoAdapt  StormPopNoAdapt  WetlandNoAdapt  FloodNoAdapt  \\\n",
       "1                72.68            44.75          -41.38         18.59   \n",
       "3                52.78            27.69           63.15         74.94   \n",
       "5                63.74            50.16           96.53        154.24   \n",
       "7               104.92            77.43          118.75        292.02   \n",
       "9               113.51            82.93          184.93        375.92   \n",
       "\n",
       "   RelocateNoAdapt  Total NoAdapt  \n",
       "1            11.67          13.88  \n",
       "3            77.22          69.82  \n",
       "5           190.31         123.25  \n",
       "7           416.98         208.20  \n",
       "9           584.38         247.56  "
      ]
     },
     "execution_count": 57,
     "metadata": {},
     "output_type": "execute_result"
    }
   ],
   "source": [
    "np.round(100*(df_SSP5_BRICK85[[\"StormCapitalNoAdapt\",\"StormPopNoAdapt\",\"WetlandNoAdapt\",\"FloodNoAdapt\",\"RelocateNoAdapt\",\"Total NoAdapt\"]].iloc[idx_plot] - \\\n",
    "          df_ctrl[[\"StormCapitalNoAdapt\",\"StormPopNoAdapt\",\"WetlandNoAdapt\",\"FloodNoAdapt\",\"RelocateNoAdapt\",\"Total NoAdapt\"]].iloc[idx_plot])/ \\\n",
    "          df_ctrl[[\"StormCapitalNoAdapt\",\"StormPopNoAdapt\",\"WetlandNoAdapt\",\"FloodNoAdapt\",\"RelocateNoAdapt\",\"Total NoAdapt\"]].iloc[idx_plot],2)"
   ]
  },
  {
   "cell_type": "markdown",
   "metadata": {},
   "source": [
    "**Some take-aways:** \n",
    "* SSP and LSLR updates more than doubles total least-cost adaptation costs\n",
    "* Largest increases are protection and retreat costs; highlights the importance of *actually doing something*\n",
    "* Actually see a decrease in `FloodOptimal` by 2100. Attributable to spending in Retreat or Protection."
   ]
  },
  {
   "cell_type": "code",
   "execution_count": null,
   "metadata": {},
   "outputs": [],
   "source": []
  },
  {
   "cell_type": "markdown",
   "metadata": {},
   "source": [
    "## baseline+updated SLR (RCP2.6)+updated GPD/population via SSP1"
   ]
  },
  {
   "cell_type": "code",
   "execution_count": 21,
   "metadata": {},
   "outputs": [],
   "source": [
    "dfO = pd.read_csv(dir_julia + \"/ctrl+SSP1+BRICKLSL26_seg_85p50ssp1fixed_optimal.csv\")\n",
    "dfN = pd.read_csv(dir_julia + \"/ctrl+SSP1+BRICKLSL26_seg_85p50ssp1fixed.csv\")\n",
    "dfC = pd.read_csv(dir_julia + \"/ctrl+SSP1+BRICKLSL26_global_85p50ssp1fixed.csv\")\n",
    "df_SSP1_BRICK26 = process_costs_df(dfC=dfC, dfO=dfO, dfN=dfN, tmax=10)"
   ]
  },
  {
   "cell_type": "code",
   "execution_count": 22,
   "metadata": {},
   "outputs": [
    {
     "data": {
      "image/png": "[encoded data removed]",
      "text/plain": [
       "<Figure size 576x792 with 2 Axes>"
      ]
     },
     "metadata": {
      "needs_background": "light"
     },
     "output_type": "display_data"
    }
   ],
   "source": [
    "sep = 2\n",
    "wid = 3.1\n",
    "cost_cols = {\"protect\" : \"gray\", \"retreat\" : \"coral\", \"inundation\" : \"skyblue\", \"wetland\" : \"mediumseagreen\", \"flood\" : \"gold\"}\n",
    "times_plot = list(range(2010,2110,10))\n",
    "idx_plot = [1,3,5,7,9]\n",
    "times_plot = np.array([times_plot[k] for k in idx_plot])\n",
    "hat = [1*'.', 1*'/', 1*'x']\n",
    "panels = [\"a.\",\"b.\",\"c.\",\"d.\",\"e.\",\"f.\",\"g.\",\"h.\"]\n",
    "\n",
    "fig,ax = plt.subplots(nrows=2, ncols=1, figsize=(8,11))\n",
    "# PANEL A: NO ADAPTATION COSTS\n",
    "pan = 0\n",
    "# set up for the legend\n",
    "ax[0].bar(x=times_plot[0], height=1, width=.5, color=\"white\", edgecolor=\"black\", label=\"MimiCIAM, SSP1, BRICK RCP2.6\")\n",
    "ax[0].bar(x=times_plot[0], height=1, width=.5, color=\"white\", hatch=2*hat[2], edgecolor=\"black\", label=\"MimiCIAM, SSP5, BRICK RCP8.5\")\n",
    "# BRICK SLR RCP2.6 & SSP1 pop/GDP\n",
    "ax[0].bar(x=times_plot-1.5*sep, height=1, width=.5, color=cost_cols[\"protect\"], label=\"protect\")\n",
    "ax[0].bar(x=times_plot-1.5*sep, height=df_SSP1_BRICK26.RelocateNoAdapt[idx_plot], width=wid, color=cost_cols[\"retreat\"], label=\"retreat\")\n",
    "ax[0].bar(x=times_plot-1.5*sep, height=df_SSP1_BRICK26.FloodNoAdapt[idx_plot], bottom=np.array(df_SSP1_BRICK26.RelocateNoAdapt[idx_plot]), width=wid, color=cost_cols[\"inundation\"], label=\"inundation\")\n",
    "ax[0].bar(x=times_plot-1.5*sep, height=df_SSP1_BRICK26.WetlandNoAdapt[idx_plot], bottom=np.array(df_SSP1_BRICK26.RelocateNoAdapt[idx_plot]+df_SSP1_BRICK26.FloodNoAdapt[idx_plot]), width=wid, color=cost_cols[\"wetland\"], label=\"wetland\")\n",
    "ax[0].bar(x=times_plot-1.5*sep, height=df_SSP1_BRICK26.StormCapitalNoAdapt[idx_plot]+df_SSP1_BRICK26.StormPopNoAdapt[idx_plot], bottom=np.array(df_SSP1_BRICK26.RelocateNoAdapt[idx_plot]+df_SSP1_BRICK26.FloodNoAdapt[idx_plot]+df_SSP1_BRICK26.WetlandNoAdapt[idx_plot]), width=wid, color=cost_cols[\"flood\"], label=\"flood\")\n",
    "# BRICK SLR RCP8.5 & SSP5 pop/GDP\n",
    "ax[0].bar(x=times_plot+1.5*sep, height=1, width=.5, color=cost_cols[\"protect\"], hatch=hat[2])\n",
    "ax[0].bar(x=times_plot+1.5*sep, height=df_SSP5_BRICK85.RelocateNoAdapt[idx_plot], width=wid, color=cost_cols[\"retreat\"], hatch=hat[2])\n",
    "ax[0].bar(x=times_plot+1.5*sep, height=df_SSP5_BRICK85.FloodNoAdapt[idx_plot], bottom=np.array(df_SSP5_BRICK85.RelocateNoAdapt[idx_plot]), width=wid, color=cost_cols[\"inundation\"], hatch=hat[2])\n",
    "ax[0].bar(x=times_plot+1.5*sep, height=df_SSP5_BRICK85.WetlandNoAdapt[idx_plot], bottom=np.array(df_SSP5_BRICK85.RelocateNoAdapt[idx_plot]+df_SSP5_BRICK85.FloodNoAdapt[idx_plot]), width=wid, color=cost_cols[\"wetland\"], hatch=hat[2])\n",
    "ax[0].bar(x=times_plot+1.5*sep, height=df_SSP5_BRICK85.StormCapitalNoAdapt[idx_plot]+df_SSP5_BRICK85.StormPopNoAdapt[idx_plot], bottom=np.array(df_SSP5_BRICK85.RelocateNoAdapt[idx_plot]+df_SSP5_BRICK85.FloodNoAdapt[idx_plot]+df_SSP5_BRICK85.WetlandNoAdapt[idx_plot]), width=wid, color=cost_cols[\"flood\"], hatch=hat[2])\n",
    "# other plot configuration options\n",
    "ax[0].grid(); ax[0].set_axisbelow(True); ax[0].set_xlim([2010,2110]); ax[0].set_ylim([0,8100])\n",
    "yticks = list(range(0,8100,1000)); ax[0].set_yticks(yticks); ax[0].set_yticklabels(yticks, fontsize=12)\n",
    "ax[0].set_xticks(range(2010,2110,10)); ax[0].set_xticklabels([\"\",2020,\"\",2040,\"\",2060,\"\",2080,\"\",2100], fontsize=12)\n",
    "ax[0].set_xlabel(\"Year\", fontsize=12); ax[0].set_ylabel(\"Annual No-Adapt Cost\\n(billion 2010$US)\", fontsize=12)\n",
    "ax[0].legend(fontsize=12)\n",
    "ylims = ax[0].get_ylim(); top = ylims[1]*1.02; ax[0].text(2010,top, panels[pan], fontsize=12);\n",
    "\n",
    "# PANEL B: OPTIMAL COSTS\n",
    "pan += 1\n",
    "# ctrl\n",
    "ax[1].bar(x=times_plot-1.5*sep, height=df_SSP1_BRICK26.ProtectOptimal[idx_plot], width=wid, color=cost_cols[\"protect\"], label=\"protect\")\n",
    "ax[1].bar(x=times_plot-1.5*sep, height=df_SSP1_BRICK26.RetreatOptimal[idx_plot], bottom=np.array(df_SSP1_BRICK26.ProtectOptimal[idx_plot]), width=wid, color=cost_cols[\"retreat\"], label=\"retreat\")\n",
    "ax[1].bar(x=times_plot-1.5*sep, height=df_SSP1_BRICK26.InundationOptimal[idx_plot], bottom=np.array(df_SSP1_BRICK26.ProtectOptimal[idx_plot]+df_SSP1_BRICK26.RetreatOptimal[idx_plot]), width=wid, color=cost_cols[\"inundation\"], label=\"inundation\")\n",
    "ax[1].bar(x=times_plot-1.5*sep, height=df_SSP1_BRICK26.WetlandOptimal[idx_plot], bottom=np.array(df_SSP1_BRICK26.ProtectOptimal[idx_plot]+df_SSP1_BRICK26.RetreatOptimal[idx_plot]+df_SSP1_BRICK26.InundationOptimal[idx_plot]), width=wid, color=cost_cols[\"wetland\"], label=\"wetland\")\n",
    "ax[1].bar(x=times_plot-1.5*sep, height=df_SSP1_BRICK26.FloodOptimal[idx_plot], bottom=np.array(df_SSP1_BRICK26.ProtectOptimal[idx_plot]+df_SSP1_BRICK26.RetreatOptimal[idx_plot]+df_SSP1_BRICK26.InundationOptimal[idx_plot]+df_SSP1_BRICK26.WetlandOptimal[idx_plot]), width=wid, color=cost_cols[\"flood\"], label=\"flood\")\n",
    "# BRICK SLR RCP8.5 & SSP5 pop/GDP\n",
    "ax[1].bar(x=times_plot+1.5*sep, height=df_SSP5_BRICK85.ProtectOptimal[idx_plot], width=wid, color=cost_cols[\"protect\"], hatch=hat[2])\n",
    "ax[1].bar(x=times_plot+1.5*sep, height=df_SSP5_BRICK85.RetreatOptimal[idx_plot], bottom=np.array(df_SSP5_BRICK85.ProtectOptimal[idx_plot]), width=wid, color=cost_cols[\"retreat\"], hatch=hat[2])\n",
    "ax[1].bar(x=times_plot+1.5*sep, height=df_SSP5_BRICK85.InundationOptimal[idx_plot], bottom=np.array(df_SSP5_BRICK85.ProtectOptimal[idx_plot]+df_SSP5_BRICK85.RetreatOptimal[idx_plot]), width=wid, color=cost_cols[\"inundation\"], hatch=hat[2])\n",
    "ax[1].bar(x=times_plot+1.5*sep, height=df_SSP5_BRICK85.WetlandOptimal[idx_plot], bottom=np.array(df_SSP5_BRICK85.ProtectOptimal[idx_plot]+df_SSP5_BRICK85.RetreatOptimal[idx_plot]+df_SSP5_BRICK85.InundationOptimal[idx_plot]), width=wid, color=cost_cols[\"wetland\"], hatch=hat[2])\n",
    "ax[1].bar(x=times_plot+1.5*sep, height=df_SSP5_BRICK85.FloodOptimal[idx_plot], bottom=np.array(df_SSP5_BRICK85.ProtectOptimal[idx_plot]+df_SSP5_BRICK85.RetreatOptimal[idx_plot]+df_SSP5_BRICK85.InundationOptimal[idx_plot]+df_SSP5_BRICK85.WetlandOptimal[idx_plot]), width=wid, color=cost_cols[\"flood\"], hatch=hat[2]) \n",
    "# other plot configuration options\n",
    "ax[1].grid(); ax[1].set_axisbelow(True); ax[1].set_xlim([2010,2110])\n",
    "yticks = list(range(0,1200,100)); ax[1].set_yticks(yticks); ax[1].set_yticklabels(yticks, fontsize=12)\n",
    "ax[1].set_xticks(range(2010,2110,10)); ax[1].set_xticklabels([\"\",2020,\"\",2040,\"\",2060,\"\",2080,\"\",2100], fontsize=12)\n",
    "ax[1].set_xlabel(\"Year\", fontsize=12); ax[1].set_ylabel(\"Annual Least-Cost\\n(billion 2010$US)\", fontsize=12)\n",
    "ylims = ax[1].get_ylim(); top = ylims[1]*1.02; ax[1].text(2010,top, panels[pan], fontsize=12);\n",
    "fig.savefig(plotdir+\"/updates_comparison_rcp26_rcp85.pdf\", bbox_inches='tight')"
   ]
  },
  {
   "cell_type": "markdown",
   "metadata": {},
   "source": [
    "### Write an output CSV file with the plotted data"
   ]
  },
  {
   "cell_type": "code",
   "execution_count": 107,
   "metadata": {},
   "outputs": [],
   "source": [
    "dfOut = pd.DataFrame(data={\"year\" : dfNew0.year,\n",
    "                            \"flood-noadapt-MimiCIAM-SSP1-BRICKRCP26\" : df_SSP1_BRICK26.StormCapitalNoAdapt+df_SSP1_BRICK26.StormPopNoAdapt,\n",
    "                            \"wetland-noadapt-MimiCIAM-SSP1-BRICKRCP26\" : df_SSP1_BRICK26.WetlandNoAdapt,\n",
    "                            \"inundation-noadapt-MimiCIAM-SSP1-BRICKRCP26\" : df_SSP1_BRICK26.FloodNoAdapt,\n",
    "                            \"retreat-noadapt-MimiCIAM-SSP1-BRICKRCP26\" : df_SSP1_BRICK26.RelocateNoAdapt,\n",
    "                            \"protect-noadapt-MimiCIAM-SSP1-BRICKRCP26\" : [0]*len(df_SSP1_BRICK26.RelocateNoAdapt),\n",
    "                            \"flood-noadapt-MimiCIAM-SSP5-BRICKRCP85\" : df_SSP5_BRICK85.StormCapitalNoAdapt+df_SSP5_BRICK85.StormPopNoAdapt,\n",
    "                            \"wetland-noadapt-MimiCIAM-SSP5-BRICKRCP85\" : df_SSP5_BRICK85.WetlandNoAdapt,\n",
    "                            \"inundation-noadapt-MimiCIAM-SSP5-BRICKRCP85\" : df_SSP5_BRICK85.FloodNoAdapt,\n",
    "                            \"retreat-noadapt-MimiCIAM-SSP5-BRICKRCP85\" : df_SSP5_BRICK85.RelocateNoAdapt,\n",
    "                            \"protect-noadapt-MimiCIAM-SSP5-BRICKRCP85\" : [0]*len(df_SSP5_BRICK85.RelocateNoAdapt),\n",
    "                            \"flood-leastcost-MimiCIAM-SSP1-BRICKRCP26\" : df_SSP1_BRICK26.FloodOptimal,\n",
    "                            \"wetland-leastcost-MimiCIAM-SSP1-BRICKRCP26\" : df_SSP1_BRICK26.WetlandOptimal,\n",
    "                            \"inundation-leastcost-MimiCIAM-SSP1-BRICKRCP26\" : df_SSP1_BRICK26.FloodOptimal,\n",
    "                            \"retreat-leastcost-MimiCIAM-SSP1-BRICKRCP26\" : df_SSP1_BRICK26.RetreatOptimal,\n",
    "                            \"protect-leastcost-MimiCIAM-SSP1-BRICKRCP26\" : df_SSP1_BRICK26.ProtectOptimal,\n",
    "                            \"flood-leastcost-MimiCIAM-SSP5-BRICKRCP85\" : df_SSP5_BRICK85.FloodOptimal,\n",
    "                            \"wetland-leastcost-MimiCIAM-SSP5-BRICKRCP85\" : df_SSP5_BRICK85.WetlandOptimal,\n",
    "                            \"inundation-leastcost-MimiCIAM-SSP5-BRICKRCP85\" : df_SSP5_BRICK85.FloodOptimal,\n",
    "                            \"retreat-leastcost-MimiCIAM-SSP5-BRICKRCP85\" : df_SSP5_BRICK85.RetreatOptimal,\n",
    "                            \"protect-leastcost-MimiCIAM-SSP5-BRICKRCP85\" : df_SSP5_BRICK85.ProtectOptimal})\n",
    "filename_out = dir_julia + \"/FigureData_comparison_SSP1-RCP26_SSP5-RCP85.csv\"\n",
    "dfOut.to_csv(filename_out, index=False)"
   ]
  },
  {
   "cell_type": "markdown",
   "metadata": {},
   "source": [
    "### SSP1-RCP26 vs SSP5-RCP85"
   ]
  },
  {
   "cell_type": "code",
   "execution_count": 39,
   "metadata": {},
   "outputs": [
    {
     "name": "stdout",
     "output_type": "stream",
     "text": [
      "SSP1-RCP26\n",
      "   FloodOptimal  WetlandOptimal  InundationOptimal  RetreatOptimal  \\\n",
      "1          0.76            5.35              19.03            4.53   \n",
      "3          6.74           13.17              22.05            4.75   \n",
      "5          1.58           20.31              80.50           15.07   \n",
      "7          6.47           25.05              84.80           15.24   \n",
      "9          4.64           26.91             149.89           18.48   \n",
      "\n",
      "   ProtectOptimal   Total  \n",
      "1            6.08   35.75  \n",
      "3            6.08   52.79  \n",
      "5           13.50  130.95  \n",
      "7           13.50  145.06  \n",
      "9           20.99  220.91  \n",
      "   StormCapitalNoAdapt  StormPopNoAdapt  WetlandNoAdapt  FloodNoAdapt  \\\n",
      "1                 4.81             5.40            3.83         80.80   \n",
      "3                46.39            46.73           10.95        170.00   \n",
      "5               213.53           205.47           17.50        257.51   \n",
      "7               441.11           391.31           21.67        337.53   \n",
      "9               581.78           499.47           22.89        367.36   \n",
      "\n",
      "   RelocateNoAdapt  Total NoAdapt  \n",
      "1           132.04         226.87  \n",
      "3           247.76         521.83  \n",
      "5           336.63        1030.65  \n",
      "7           396.48        1588.11  \n",
      "9           352.62        1824.11  \n"
     ]
    }
   ],
   "source": [
    "df_SSP1_BRICK26[\"Total\"] = np.sum(df_SSP1_BRICK26[[\"FloodOptimal\",\"WetlandOptimal\",\"InundationOptimal\",\"RetreatOptimal\",\"ProtectOptimal\"]],axis=1)\n",
    "df_SSP1_BRICK26[\"Total NoAdapt\"] = np.sum(df_SSP1_BRICK26[[\"StormCapitalNoAdapt\",\"StormPopNoAdapt\",\"RelocateNoAdapt\",\"FloodNoAdapt\",\"WetlandNoAdapt\"]],axis=1)\n",
    "print(\"SSP1-RCP26\")\n",
    "print(np.round(df_SSP1_BRICK26[[\"FloodOptimal\",\"WetlandOptimal\",\"InundationOptimal\",\"RetreatOptimal\",\"ProtectOptimal\",\"Total\"]].iloc[idx_plot],2))\n",
    "print(np.round(df_SSP1_BRICK26[[\"StormCapitalNoAdapt\",\"StormPopNoAdapt\",\"WetlandNoAdapt\",\"FloodNoAdapt\",\"RelocateNoAdapt\",\"Total NoAdapt\"]].iloc[idx_plot],2))"
   ]
  },
  {
   "cell_type": "code",
   "execution_count": 35,
   "metadata": {},
   "outputs": [
    {
     "name": "stdout",
     "output_type": "stream",
     "text": [
      "SSP5-RCP85\n",
      "   FloodOptimal  WetlandOptimal  InundationOptimal  RetreatOptimal  \\\n",
      "1          0.62            5.00              20.01            5.12   \n",
      "3          6.67           30.21              24.78            5.65   \n",
      "5          1.36           84.89             174.88           62.11   \n",
      "7          7.67          149.33             195.70           68.31   \n",
      "9         12.21          222.49             522.89          231.26   \n",
      "\n",
      "   ProtectOptimal    Total  \n",
      "1            6.49    37.25  \n",
      "3            6.49    73.81  \n",
      "5           33.90   357.15  \n",
      "7           33.90   454.90  \n",
      "9          120.69  1109.55  \n",
      "   StormCapitalNoAdapt  StormPopNoAdapt  WetlandNoAdapt  FloodNoAdapt  \\\n",
      "1                 4.34             4.86            3.26         77.03   \n",
      "3                54.62            54.72           28.96        260.80   \n",
      "5               419.10           379.61           84.82        686.49   \n",
      "7              1056.22           866.83          149.33       1412.81   \n",
      "9              1452.48          1163.63          222.49       2004.86   \n",
      "\n",
      "   RelocateNoAdapt  Total NoAdapt  \n",
      "1           126.12         215.62  \n",
      "3           424.15         823.26  \n",
      "5          1147.01        2717.03  \n",
      "7          2303.20        5788.39  \n",
      "9          2981.81        7825.28  \n"
     ]
    }
   ],
   "source": [
    "df_SSP5_BRICK85[\"Total\"] = np.sum(df_SSP5_BRICK85[[\"FloodOptimal\",\"WetlandOptimal\",\"InundationOptimal\",\"RetreatOptimal\",\"ProtectOptimal\"]],axis=1)\n",
    "df_SSP5_BRICK85[\"Total NoAdapt\"] = np.sum(df_SSP5_BRICK85[[\"StormCapitalNoAdapt\",\"StormPopNoAdapt\",\"RelocateNoAdapt\",\"FloodNoAdapt\",\"WetlandNoAdapt\"]],axis=1)\n",
    "print(\"SSP5-RCP85\")\n",
    "print(np.round(df_SSP5_BRICK85[[\"FloodOptimal\",\"WetlandOptimal\",\"InundationOptimal\",\"RetreatOptimal\",\"ProtectOptimal\",\"Total\"]].iloc[idx_plot],2))\n",
    "print(np.round(df_SSP5_BRICK85[[\"StormCapitalNoAdapt\",\"StormPopNoAdapt\",\"WetlandNoAdapt\",\"FloodNoAdapt\",\"RelocateNoAdapt\",\"Total NoAdapt\"]].iloc[idx_plot],2))"
   ]
  },
  {
   "cell_type": "markdown",
   "metadata": {},
   "source": [
    "#### Numbers for paper"
   ]
  },
  {
   "cell_type": "code",
   "execution_count": 29,
   "metadata": {},
   "outputs": [
    {
     "name": "stdout",
     "output_type": "stream",
     "text": [
      "Average annual flood losses in SSP1-RCP2.6, in 2100:\n",
      "... with no adaptation:         1081.24\n",
      "... with least-cost adaptation: 4.64\n",
      "\n",
      "Average annual flood losses in SSP5-RCP8.5, in 2100:\n",
      "... with no adaptation:         2616.11\n",
      "... with least-cost adaptation: 12.21\n"
     ]
    }
   ],
   "source": [
    "print(\"Average annual flood losses in SSP1-RCP2.6, in 2100:\")\n",
    "print(\"... with no adaptation:        \",np.round(df_SSP1_BRICK26[[\"StormCapitalNoAdapt\",\"StormPopNoAdapt\"]].iloc[9].sum(),2))\n",
    "print(\"... with least-cost adaptation:\",np.round(df_SSP1_BRICK26[\"FloodOptimal\"].iloc[9],2))\n",
    "\n",
    "print(\"\\nAverage annual flood losses in SSP5-RCP8.5, in 2100:\")\n",
    "print(\"... with no adaptation:        \",np.round(df_SSP5_BRICK85[[\"StormCapitalNoAdapt\",\"StormPopNoAdapt\"]].iloc[9].sum(),2))\n",
    "print(\"... with least-cost adaptation:\",np.round(df_SSP5_BRICK85[\"FloodOptimal\"].iloc[9],2))"
   ]
  },
  {
   "cell_type": "markdown",
   "metadata": {},
   "source": [
    "Note that as rounded percentages, both of those give 100\\%"
   ]
  },
  {
   "cell_type": "code",
   "execution_count": null,
   "metadata": {},
   "outputs": [],
   "source": []
  }
 ],
 "metadata": {
  "kernelspec": {
   "display_name": "Python 3",
   "language": "python",
   "name": "python3"
  },
  "language_info": {
   "codemirror_mode": {
    "name": "ipython",
    "version": 3
   },
   "file_extension": ".py",
   "mimetype": "text/x-python",
   "name": "python",
   "nbconvert_exporter": "python",
   "pygments_lexer": "ipython3",
   "version": "3.7.3"
  }
 },
 "nbformat": 4,
 "nbformat_minor": 4
}
