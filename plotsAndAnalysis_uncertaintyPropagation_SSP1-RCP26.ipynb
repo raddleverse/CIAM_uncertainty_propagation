{
 "cells": [
  {
   "cell_type": "markdown",
   "metadata": {},
   "source": [
    "# Plots and analysis for Monte Carlo ensembles, SSP1-RCP2.6"
   ]
  },
  {
   "cell_type": "code",
   "execution_count": 1,
   "metadata": {},
   "outputs": [],
   "source": [
    "import numpy as np\n",
    "import pandas as pd\n",
    "import scipy.stats as stats\n",
    "import re, os\n",
    "import matplotlib.pyplot as plt\n",
    "%matplotlib inline"
   ]
  },
  {
   "cell_type": "markdown",
   "metadata": {},
   "source": [
    "Set `projdir` on your system, then everything else is defined relative to that. `pwd` will just give the directory that this Jupyter notebook is housed in."
   ]
  },
  {
   "cell_type": "code",
   "execution_count": 2,
   "metadata": {},
   "outputs": [],
   "source": [
    "projdir = os.getcwd()\n",
    "datdir = projdir + \"/ciam-code/output/MonteCarlo\"\n",
    "plotdir = projdir + \"/ciam-code/figures\""
   ]
  },
  {
   "cell_type": "markdown",
   "metadata": {},
   "source": [
    "If the plot directory `plotdir` doesn't exist, make it."
   ]
  },
  {
   "cell_type": "code",
   "execution_count": 3,
   "metadata": {},
   "outputs": [
    {
     "name": "stdout",
     "output_type": "stream",
     "text": [
      "Will save plots to  /Users/aewsma/codes/CIAM_uncertainty_propagation/ciam-code/figures\n"
     ]
    }
   ],
   "source": [
    "if not os.path.exists(plotdir):\n",
    "    os.makedirs(plotdir)\n",
    "print(\"Will save plots to \",plotdir)"
   ]
  },
  {
   "cell_type": "markdown",
   "metadata": {},
   "source": [
    "## Read Monte Carlo simulation results"
   ]
  },
  {
   "cell_type": "markdown",
   "metadata": {},
   "source": [
    "### 5th, 50th and 95th percentiles only (single simulations)"
   ]
  },
  {
   "cell_type": "code",
   "execution_count": 4,
   "metadata": {},
   "outputs": [],
   "source": [
    "df05 = pd.read_csv(datdir+\"/SSP1_BRICK26_p5/CIAM 2021-07-17 09-09-40 MC1/PostProcessing/globalnpv_SSP1_BRICK26_p5.csv\")\n",
    "df50 = pd.read_csv(datdir+\"/SSP1_BRICK26_p50/CIAM 2021-07-17 09-10-05 MC1/PostProcessing/globalnpv_SSP1_BRICK26_p50.csv\")\n",
    "df95 = pd.read_csv(datdir+\"/SSP1_BRICK26_p95/CIAM 2021-07-17 09-10-29 MC1/PostProcessing/globalnpv_SSP1_BRICK26_p95.csv\")"
   ]
  },
  {
   "cell_type": "code",
   "execution_count": 5,
   "metadata": {},
   "outputs": [],
   "source": [
    "df05r = pd.read_csv(datdir+\"/SSP1_BRICK26_p5/CIAM 2021-07-17 09-09-40 MC1/PostProcessing/regionnpv_SSP1_BRICK26_p5.csv\")\n",
    "df50r = pd.read_csv(datdir+\"/SSP1_BRICK26_p50/CIAM 2021-07-17 09-10-05 MC1/PostProcessing/regionnpv_SSP1_BRICK26_p50.csv\")\n",
    "df95r = pd.read_csv(datdir+\"/SSP1_BRICK26_p95/CIAM 2021-07-17 09-10-29 MC1/PostProcessing/regionnpv_SSP1_BRICK26_p95.csv\")\n",
    "regions = df05r.columns"
   ]
  },
  {
   "cell_type": "code",
   "execution_count": 6,
   "metadata": {},
   "outputs": [],
   "source": [
    "df05 = df05.join(df05r)\n",
    "df50 = df50.join(df50r)\n",
    "df95 = df95.join(df95r)"
   ]
  },
  {
   "cell_type": "markdown",
   "metadata": {},
   "source": [
    "### SLR uncertainty only"
   ]
  },
  {
   "cell_type": "code",
   "execution_count": 7,
   "metadata": {},
   "outputs": [],
   "source": [
    "slrdir = datdir + \"/SSP1_BRICK26_varySLR/CIAM 2021-07-17 03-44-05 MC1000/PostProcessing\"\n",
    "dfS = pd.read_csv(slrdir+\"/globalnpv_SSP1_BRICK26_varySLR.csv\")\n",
    "dfS = dfS.join(pd.read_csv(slrdir+\"/regionnpv_SSP1_BRICK26_varySLR.csv\"))"
   ]
  },
  {
   "cell_type": "markdown",
   "metadata": {},
   "source": [
    "### CIAM socioeconomic parameter uncertainty only"
   ]
  },
  {
   "cell_type": "code",
   "execution_count": 8,
   "metadata": {},
   "outputs": [],
   "source": [
    "ciamdir = datdir + \"/SSP1_BRICK26_varyCIAM/CIAM 2021-07-16 22-20-26 MC1000/PostProcessing\"\n",
    "dfC = pd.read_csv(ciamdir+\"/globalnpv_SSP1_BRICK26_varyCIAM.csv\")\n",
    "dfC = dfC.join(pd.read_csv(ciamdir+\"/regionnpv_SSP1_BRICK26_varyCIAM.csv\"))"
   ]
  },
  {
   "cell_type": "markdown",
   "metadata": {},
   "source": [
    "### Both SLR and CIAM uncertainty"
   ]
  },
  {
   "cell_type": "code",
   "execution_count": 9,
   "metadata": {},
   "outputs": [],
   "source": [
    "bothdir = datdir + \"/SSP1_BRICK26_varySLR_varyCIAM/CIAM 2021-07-16 16-58-18 MC1000/PostProcessing\"\n",
    "dfSC = pd.read_csv(bothdir+\"/globalnpv_SSP1_BRICK26_varySLR_varyCIAM.csv\")\n",
    "dfSC = dfSC.join(pd.read_csv(bothdir+\"/regionnpv_SSP1_BRICK26_varySLR_varyCIAM.csv\"))"
   ]
  },
  {
   "cell_type": "markdown",
   "metadata": {},
   "source": [
    "### Histogram"
   ]
  },
  {
   "cell_type": "markdown",
   "metadata": {},
   "source": [
    "KDE version"
   ]
  },
  {
   "cell_type": "code",
   "execution_count": 10,
   "metadata": {},
   "outputs": [],
   "source": [
    "kde = {}\n",
    "kde[\"S\"] = stats.gaussian_kde(dfS.npv)\n",
    "kde[\"C\"] = stats.gaussian_kde(dfC.npv)\n",
    "kde[\"SC\"] = stats.gaussian_kde(dfSC.npv)\n",
    "\n",
    "x = np.linspace(0,12000,500)\n",
    "kde_plot = {}\n",
    "for k in kde.keys():\n",
    "    kde_plot[k] = kde[k](x)"
   ]
  },
  {
   "cell_type": "code",
   "execution_count": 11,
   "metadata": {
    "scrolled": true
   },
   "outputs": [
    {
     "data": {
      "image/png": "[encoded data removed]",
      "text/plain": [
       "<Figure size 504x288 with 2 Axes>"
      ]
     },
     "metadata": {
      "needs_background": "light"
     },
     "output_type": "display_data"
    }
   ],
   "source": [
    "fig, ax = plt.subplots(1,1,figsize=(7,4))\n",
    "plt.plot(x,kde_plot[\"S\"], linewidth=2, color=\"steelblue\", label=\"SLR only\")\n",
    "plt.plot(x,kde_plot[\"C\"], linewidth=2, color=\"coral\", label=\"CIAM only\")\n",
    "plt.plot(x,kde_plot[\"SC\"], linewidth=2, color=\"seagreen\", label=\"SLR and CIAM\")\n",
    "y0 = 0.0018; dy = 0.00009\n",
    "plt.plot([df05.npv, df95.npv], [y0, y0], color=\"black\"); plt.scatter(df50.npv, y0, color=\"black\", label=\"SLR percentiles only\")\n",
    "y0 -= dy\n",
    "plt.plot([dfS.npv.quantile(0.05), dfS.npv.quantile(0.95)], [y0, y0], color=\"steelblue\"); plt.scatter(dfS.npv.median(), y0, color=\"steelblue\")\n",
    "y0 -= dy\n",
    "plt.plot([dfC.npv.quantile(0.05), dfC.npv.quantile(0.95)], [y0, y0], color=\"coral\"); plt.scatter(dfC.npv.median(), y0, color=\"coral\")\n",
    "y0 -= dy\n",
    "plt.plot([dfSC.npv.quantile(0.05), dfSC.npv.quantile(0.95)], [y0, y0], color=\"seagreen\"); plt.scatter(dfSC.npv.median(), y0, color=\"seagreen\")\n",
    "plt.xlabel(\"NPV (billion 2010$US)\", fontsize=12); plt.ylabel(\"Density\", fontsize=12); plt.yticks([])\n",
    "plt.xlim([0,6500])\n",
    "plt.legend(fontsize=12, frameon=True)\n",
    "ax1 = plt.gca()\n",
    "ax2 = ax1.twiny()\n",
    "ax2.set_xlim(ax1.get_xlim())\n",
    "fig.savefig(plotdir+\"/global_damages_ssp1-rcp26.pdf\", bbox_inches='tight');"
   ]
  },
  {
   "cell_type": "code",
   "execution_count": 12,
   "metadata": {},
   "outputs": [
    {
     "name": "stdout",
     "output_type": "stream",
     "text": [
      "5th, 50th, 95th, and 95-5th percentiles\n",
      "Percentiles only:       [1510.05 1832.15 2785.4  1275.34]\n",
      "SLR-only ensemble:      [1466.83 1814.88 2782.31 1315.48]\n",
      "CIAM-only ensemble:     [1104.55 1955.23 3022.01 1917.47]\n",
      "SLR and CIAM ensemble:  [ 987.54 1953.34 3322.09 2334.55]\n"
     ]
    }
   ],
   "source": [
    "print(\"5th, 50th, 95th, and 95-5th percentiles\")\n",
    "print(\"Percentiles only:      \",np.transpose(np.round([df05.npv, df50.npv, df95.npv, df95.npv-df05.npv], 2))[0])\n",
    "print(\"SLR-only ensemble:     \",np.round([dfS.npv.quantile(.05), dfS.npv.quantile(.5), dfS.npv.quantile(.95), dfS.npv.quantile(.95)-dfS.npv.quantile(.05)], 2))\n",
    "print(\"CIAM-only ensemble:    \",np.round([dfC.npv.quantile(.05), dfC.npv.quantile(.5), dfC.npv.quantile(.95), dfC.npv.quantile(.95)-dfC.npv.quantile(.05)], 2))\n",
    "print(\"SLR and CIAM ensemble: \",np.round([dfSC.npv.quantile(.05), dfSC.npv.quantile(.5), dfSC.npv.quantile(.95), dfSC.npv.quantile(.95)-dfSC.npv.quantile(.05)], 2))"
   ]
  },
  {
   "cell_type": "markdown",
   "metadata": {},
   "source": [
    "### Write to CSV file for Supplemental Material"
   ]
  },
  {
   "cell_type": "code",
   "execution_count": 13,
   "metadata": {},
   "outputs": [
    {
     "name": "stdout",
     "output_type": "stream",
     "text": [
      "       percentile  percentiles-only     SLR-only    CIAM-only  SLR and CIAM\n",
      "0.000       0.000               NaN  1234.646171   349.224762    242.072340\n",
      "0.010       0.010               NaN  1367.435492   665.136208    695.428658\n",
      "0.025       0.025               NaN  1397.685844   828.304568    820.775580\n",
      "0.050       0.050       1510.051820  1466.831167  1104.546532    987.536381\n",
      "0.170       0.170               NaN  1594.320677  1442.295131   1370.499996\n",
      "0.250       0.250               NaN  1656.487004  1600.744999   1519.148936\n",
      "0.500       0.500       1832.149588  1814.880486  1955.230456   1953.344072\n",
      "0.750       0.750               NaN  2036.871976  2384.625728   2399.174567\n",
      "0.830       0.830               NaN  2152.129450  2511.059102   2641.761141\n",
      "0.950       0.950       2785.395612  2782.309578  3022.013832   3322.085204\n",
      "0.975       0.975               NaN  2997.156077  3248.143360   3643.598633\n",
      "0.990       0.990               NaN  3208.435567  3545.328422   4177.227010\n",
      "1.000       1.000               NaN  4084.138569  4157.749135   5716.769017\n"
     ]
    }
   ],
   "source": [
    "percentiles_out = [0,0.01,0.025,0.05,0.17,0.25,0.5,0.75,0.83,0.95,0.975,0.99,1]\n",
    "dfOut = pd.DataFrame(data={\"percentile\" : percentiles_out,\n",
    "                           \"percentiles-only\" : [np.nan,np.nan,np.nan,df05.npv[0],np.nan,np.nan,df50.npv[0],np.nan,np.nan,df95.npv[0],np.nan,np.nan,np.nan],\n",
    "                           \"SLR-only\" : dfS.npv.quantile(percentiles_out),\n",
    "                           \"CIAM-only\" : dfC.npv.quantile(percentiles_out),\n",
    "                           \"SLR and CIAM\" : dfSC.npv.quantile(percentiles_out)\n",
    "                          })\n",
    "filename_out = datdir+\"/FigureData_global_totalNPV_ensembles_SSP1-RCP26.csv\"\n",
    "dfOut.to_csv(filename_out, index=False)\n",
    "print(dfOut)"
   ]
  },
  {
   "cell_type": "markdown",
   "metadata": {},
   "source": [
    "## Aggregate by World Bank region (7 of them) and compute total NPV as %GDP (2010)"
   ]
  },
  {
   "cell_type": "markdown",
   "metadata": {},
   "source": [
    "### GDP per capita\n",
    "\n",
    "Grabbing just the first year (2010). All in US$2010."
   ]
  },
  {
   "cell_type": "code",
   "execution_count": 14,
   "metadata": {},
   "outputs": [],
   "source": [
    "ypcc = pd.read_csv(projdir+\"/ciam-code/data/ssp/ypcc_IIASAGDP_SSP5_v9_130219.csv\")\n",
    "dfGP = pd.DataFrame()\n",
    "dfGP[\"rgn\"] = ypcc.columns[1:]\n",
    "dfGP[\"gdp_per_capita\"] = np.array(ypcc.iloc[0][1:])"
   ]
  },
  {
   "cell_type": "markdown",
   "metadata": {},
   "source": [
    "### population (millions)"
   ]
  },
  {
   "cell_type": "code",
   "execution_count": 15,
   "metadata": {},
   "outputs": [],
   "source": [
    "pop = pd.read_csv(projdir+\"/ciam-code/data/ssp/pop_IIASAGDP_SSP5_v9_130219.csv\")\n",
    "dfGP[\"pop\"] = np.array(pop.iloc[0][1:])"
   ]
  },
  {
   "cell_type": "markdown",
   "metadata": {},
   "source": [
    "### get total GDP"
   ]
  },
  {
   "cell_type": "code",
   "execution_count": 16,
   "metadata": {},
   "outputs": [],
   "source": [
    "dfGP[\"gdp\"] = dfGP[\"gdp_per_capita\"]*dfGP[\"pop\"]*1e6/1e9 \n",
    "# 1e6 since population is in units of millions\n",
    "# and /1e9 to get in units of billions US$2010"
   ]
  },
  {
   "cell_type": "markdown",
   "metadata": {},
   "source": [
    "### mapping of segments/regions in CIAM, to the 7 World Bank regions\n",
    "\n",
    "gdp is in units of billions US$2010, since hte NPV results are also billions"
   ]
  },
  {
   "cell_type": "code",
   "execution_count": 17,
   "metadata": {},
   "outputs": [],
   "source": [
    "wbsegs = pd.read_csv(projdir+\"/ciam-code/data/segments_regions_WB.csv\")\n",
    "regions = list(wbsegs[\"global region\"].unique())\n",
    "rgn_gdp = {}\n",
    "for rgn in regions:\n",
    "    rgns_this_rgn = wbsegs.loc[wbsegs[\"global region\"]==rgn, \"regions\"].unique()\n",
    "    rgn_gdp[rgn] = dfGP.loc[dfGP[\"rgn\"].isin(rgns_this_rgn),\"gdp\"].sum()"
   ]
  },
  {
   "cell_type": "markdown",
   "metadata": {},
   "source": [
    "Check:"
   ]
  },
  {
   "cell_type": "code",
   "execution_count": 18,
   "metadata": {},
   "outputs": [
    {
     "name": "stdout",
     "output_type": "stream",
     "text": [
      "{'Europe and Central Asia': 18966.976402719152, 'Middle East and North Africa': 3938.501973598944, 'Sub-Saharan Africa': 1362.4469249975007, 'Latin America and the Caribbean': 6594.935674050595, 'East Asia and Pacific': 23439.597988189, 'South Asia': 5258.98316979206, 'North America': 15789.464594560679}\n"
     ]
    }
   ],
   "source": [
    "print(rgn_gdp)"
   ]
  },
  {
   "cell_type": "markdown",
   "metadata": {},
   "source": [
    "### compute the NPV as %GDP (in 2010)"
   ]
  },
  {
   "cell_type": "code",
   "execution_count": 19,
   "metadata": {},
   "outputs": [],
   "source": [
    "for rgn in regions:\n",
    "    dfS[\"npv/gpd \"+rgn] = 100*dfS[rgn]/rgn_gdp[rgn]\n",
    "    dfC[\"npv/gpd \"+rgn] = 100*dfC[rgn]/rgn_gdp[rgn]\n",
    "    dfSC[\"npv/gpd \"+rgn] = 100*dfSC[rgn]/rgn_gdp[rgn]"
   ]
  },
  {
   "cell_type": "markdown",
   "metadata": {},
   "source": [
    "world NPV as %GDP"
   ]
  },
  {
   "cell_type": "code",
   "execution_count": 20,
   "metadata": {},
   "outputs": [],
   "source": [
    "dfS[\"npv/gpd\"] = 100*dfS[\"npv\"]/np.sum(list(rgn_gdp.values()))\n",
    "dfC[\"npv/gpd\"] = 100*dfC[\"npv\"]/np.sum(list(rgn_gdp.values()))\n",
    "dfSC[\"npv/gpd\"] = 100*dfSC[\"npv\"]/np.sum(list(rgn_gdp.values()))"
   ]
  },
  {
   "cell_type": "markdown",
   "metadata": {},
   "source": [
    "<br>\n",
    "\n",
    "# Density estimates for each region\n",
    "\n",
    "<br>"
   ]
  },
  {
   "cell_type": "code",
   "execution_count": 21,
   "metadata": {},
   "outputs": [],
   "source": [
    "kde = {}\n",
    "kde[\"S\"] = {}; kde[\"C\"] = {}; kde[\"SC\"] = {}\n",
    "kde[\"S\"][\"World\"] = stats.gaussian_kde(dfS[\"npv/gpd\"])\n",
    "kde[\"C\"][\"World\"] = stats.gaussian_kde(dfC[\"npv/gpd\"])\n",
    "kde[\"SC\"][\"World\"] = stats.gaussian_kde(dfSC[\"npv/gpd\"])\n",
    "for rgn in regions:\n",
    "    kde[\"S\"][rgn] = stats.gaussian_kde(dfS[\"npv/gpd \"+rgn])\n",
    "    kde[\"C\"][rgn] = stats.gaussian_kde(dfC[\"npv/gpd \"+rgn])\n",
    "    kde[\"SC\"][rgn] = stats.gaussian_kde(dfSC[\"npv/gpd \"+rgn])\n",
    "    \n",
    "x = np.linspace(0,10,200)\n",
    "kde_plot = {}\n",
    "kde_plot[\"S\"] = {}; kde_plot[\"C\"] = {}; kde_plot[\"SC\"] = {}\n",
    "kde_plot[\"S\"][\"World\"] = kde[\"S\"][\"World\"](x)\n",
    "kde_plot[\"C\"][\"World\"] = kde[\"C\"][\"World\"](x)\n",
    "kde_plot[\"SC\"][\"World\"] = kde[\"SC\"][\"World\"](x)\n",
    "for rgn in regions:\n",
    "    kde_plot[\"S\"][rgn] = kde[\"S\"][rgn](x)\n",
    "    kde_plot[\"C\"][rgn] = kde[\"C\"][rgn](x)\n",
    "    kde_plot[\"SC\"][rgn] = kde[\"SC\"][rgn](x)"
   ]
  },
  {
   "cell_type": "code",
   "execution_count": 22,
   "metadata": {},
   "outputs": [
    {
     "data": {
      "image/png": "[encoded data removed]",
      "text/plain": [
       "<Figure size 792x1008 with 8 Axes>"
      ]
     },
     "metadata": {
      "needs_background": "light"
     },
     "output_type": "display_data"
    }
   ],
   "source": [
    "# from above\n",
    "\n",
    "fig, ax = plt.subplots(4,2,figsize=(11,14))\n",
    "fig.subplots_adjust(hspace=.5)\n",
    "bins = range(0,20,1)\n",
    "panels = [\"a.\",\"b.\",\"c.\",\"d.\",\"e.\",\"f.\",\"g.\",\"h.\"]\n",
    "\n",
    "# whole world\n",
    "rgn = \"World\"\n",
    "pan = 0\n",
    "ax[0][0].plot(x, kde_plot[\"S\"][rgn], linewidth=2, color=\"steelblue\", label=\"SLR only\")\n",
    "ax[0][0].plot(x, kde_plot[\"C\"][rgn], linewidth=2, color=\"coral\", label=\"CIAM only\")\n",
    "ax[0][0].plot(x, kde_plot[\"SC\"][rgn], linewidth=2, color=\"seagreen\", label=\"SLR and CIAM\")\n",
    "ax[0][0].set_xlabel(\"NPV (% 2010 GDP)\", fontsize=12)\n",
    "ax[0][0].set_ylabel(\"Density\", fontsize=12); ax[0][0].set_yticks([])\n",
    "ax[0][0].legend(fontsize=12, frameon=True)\n",
    "ax[0][0].set_title(\"Whole World\")\n",
    "#ylims = ax[0][0].get_ylim(); top = ylims[1]+.05*(ylims[1]-ylims[0]); ax[0][0].text(-0.5,top,\"a.\", fontsize=12)\n",
    "ylims = ax[0][0].get_ylim(); top = ylims[1]*1.05; ax[0][0].text(-0.5,top, panels[pan], fontsize=12);\n",
    "\n",
    "# regions\n",
    "rgn = regions[0]\n",
    "pan += 1\n",
    "ax[0][1].plot(x, kde_plot[\"S\"][rgn], linewidth=2, color=\"steelblue\", label=\"SLR only\")\n",
    "ax[0][1].plot(x, kde_plot[\"C\"][rgn], linewidth=2, color=\"coral\", label=\"CIAM only\")\n",
    "ax[0][1].plot(x, kde_plot[\"SC\"][rgn], linewidth=2, color=\"seagreen\", label=\"SLR and CIAM\")\n",
    "ax[0][1].set_xlabel(\"NPV (% 2010 GDP)\", fontsize=12)\n",
    "ax[0][1].set_ylabel(\"Density\", fontsize=12); ax[0][1].set_yticks([])\n",
    "ax[0][1].set_title(rgn)\n",
    "ylims = ax[0][1].get_ylim(); top = ylims[1]*1.05; ax[0][1].text(-0.5,top, panels[pan], fontsize=12);\n",
    "\n",
    "ir = 1\n",
    "for row in range(1,4):\n",
    "    for col in range(2):\n",
    "        rgn = regions[ir]\n",
    "        ir += 1\n",
    "        pan += 1\n",
    "        ax[row][col].plot(x, kde_plot[\"S\"][rgn], linewidth=2, color=\"steelblue\", label=\"SLR only\")\n",
    "        ax[row][col].plot(x, kde_plot[\"C\"][rgn], linewidth=2, color=\"coral\", label=\"CIAM only\")\n",
    "        ax[row][col].plot(x, kde_plot[\"SC\"][rgn], linewidth=2, color=\"seagreen\", label=\"SLR and CIAM\")\n",
    "        ax[row][col].set_xlabel(\"NPV (% 2010 GDP)\", fontsize=12)\n",
    "        ax[row][col].set_ylabel(\"Density\", fontsize=12); ax[row][col].set_yticks([])\n",
    "        ax[row][col].set_title(rgn)\n",
    "        ylims = ax[row][col].get_ylim(); top = ylims[1]*1.05; ax[row][col].text(-0.5,top, panels[pan], fontsize=12);\n",
    "\n",
    "fig.savefig(plotdir+\"/regional_damages_ssp1-rcp26.pdf\", bbox_inches='tight')"
   ]
  },
  {
   "cell_type": "markdown",
   "metadata": {},
   "source": [
    "Regional numbers"
   ]
  },
  {
   "cell_type": "code",
   "execution_count": 23,
   "metadata": {},
   "outputs": [
    {
     "name": "stdout",
     "output_type": "stream",
     "text": [
      "5th, 50th, 95th, and 95-5th percentiles\n",
      "====================================================\n",
      "Europe and Central Asia\n",
      "SLR-only ensemble:      [1.71 2.03 2.9  1.19]\n",
      "CIAM-only ensemble:     [1.23 2.19 3.27 2.04]\n",
      "SLR and CIAM ensemble:  [1.12 2.15 3.51 2.39]\n",
      "====================================================\n",
      "Middle East and North Africa\n",
      "SLR-only ensemble:      [1.06 1.24 1.73 0.67]\n",
      "CIAM-only ensemble:     [0.67 1.33 2.14 1.47]\n",
      "SLR and CIAM ensemble:  [0.63 1.32 2.29 1.65]\n",
      "====================================================\n",
      "Sub-Saharan Africa\n",
      "SLR-only ensemble:      [2.35 2.8  4.14 1.78]\n",
      "CIAM-only ensemble:     [1.54 3.09 6.33 4.79]\n",
      "SLR and CIAM ensemble:  [1.44 3.05 6.61 5.18]\n",
      "====================================================\n",
      "Latin America and the Caribbean\n",
      "SLR-only ensemble:      [2.89 3.61 5.71 2.82]\n",
      "CIAM-only ensemble:     [2.12 3.9  6.08 3.95]\n",
      "SLR and CIAM ensemble:  [1.94 3.87 6.86 4.93]\n",
      "====================================================\n",
      "East Asia and Pacific\n",
      "SLR-only ensemble:      [2.31 2.93 4.56 2.26]\n",
      "CIAM-only ensemble:     [1.79 3.17 4.9  3.12]\n",
      "SLR and CIAM ensemble:  [1.56 3.17 5.56 4.  ]\n",
      "====================================================\n",
      "South Asia\n",
      "SLR-only ensemble:      [2.15 2.62 3.89 1.74]\n",
      "CIAM-only ensemble:     [1.42 2.76 4.97 3.55]\n",
      "SLR and CIAM ensemble:  [1.31 2.68 5.25 3.94]\n",
      "====================================================\n",
      "North America\n",
      "SLR-only ensemble:      [1.41 1.78 2.86 1.45]\n",
      "CIAM-only ensemble:     [1.08 1.92 2.85 1.77]\n",
      "SLR and CIAM ensemble:  [0.94 1.88 3.24 2.3 ]\n"
     ]
    }
   ],
   "source": [
    "print(\"5th, 50th, 95th, and 95-5th percentiles\")\n",
    "for rgn in regions:\n",
    "    print(\"====================================================\")\n",
    "    print(rgn)\n",
    "    print(\"SLR-only ensemble:     \",np.round([dfS[\"npv/gpd \"+rgn].quantile(.05), dfS[\"npv/gpd \"+rgn].quantile(.5), dfS[\"npv/gpd \"+rgn].quantile(.95), dfS[\"npv/gpd \"+rgn].quantile(.95)-dfS[\"npv/gpd \"+rgn].quantile(.05)], 2))\n",
    "    print(\"CIAM-only ensemble:    \",np.round([dfC[\"npv/gpd \"+rgn].quantile(.05), dfC[\"npv/gpd \"+rgn].quantile(.5), dfC[\"npv/gpd \"+rgn].quantile(.95), dfC[\"npv/gpd \"+rgn].quantile(.95)-dfC[\"npv/gpd \"+rgn].quantile(.05)], 2))\n",
    "    print(\"SLR and CIAM ensemble: \",np.round([dfSC[\"npv/gpd \"+rgn].quantile(.05), dfSC[\"npv/gpd \"+rgn].quantile(.5), dfSC[\"npv/gpd \"+rgn].quantile(.95), dfSC[\"npv/gpd \"+rgn].quantile(.95)-dfSC[\"npv/gpd \"+rgn].quantile(.05)], 2))"
   ]
  },
  {
   "cell_type": "markdown",
   "metadata": {},
   "source": [
    "### Write to CSV files for Supplemental Material\n",
    "\n",
    "First, as percent of regional GDP"
   ]
  },
  {
   "cell_type": "code",
   "execution_count": 24,
   "metadata": {},
   "outputs": [
    {
     "name": "stdout",
     "output_type": "stream",
     "text": [
      "       percentile  SLR-only Europe and Central Asia  \\\n",
      "0.000       0.000                          1.501868   \n",
      "0.010       0.010                          1.591630   \n",
      "0.025       0.025                          1.645813   \n",
      "0.050       0.050                          1.710137   \n",
      "0.170       0.170                          1.836263   \n",
      "0.250       0.250                          1.888413   \n",
      "0.500       0.500                          2.033474   \n",
      "0.750       0.750                          2.224793   \n",
      "0.830       0.830                          2.327356   \n",
      "0.950       0.950                          2.901835   \n",
      "0.975       0.975                          3.148639   \n",
      "0.990       0.990                          3.317805   \n",
      "1.000       1.000                          4.337244   \n",
      "\n",
      "       CIAM-only Europe and Central Asia  \\\n",
      "0.000                           0.367217   \n",
      "0.010                           0.674435   \n",
      "0.025                           0.866503   \n",
      "0.050                           1.227276   \n",
      "0.170                           1.606916   \n",
      "0.250                           1.763195   \n",
      "0.500                           2.190817   \n",
      "0.750                           2.613249   \n",
      "0.830                           2.773534   \n",
      "0.950                           3.266826   \n",
      "0.975                           3.432849   \n",
      "0.990                           3.647860   \n",
      "1.000                           4.424792   \n",
      "\n",
      "       SLR and CIAM Europe and Central Asia  \\\n",
      "0.000                              0.289789   \n",
      "0.010                              0.787078   \n",
      "0.025                              0.913605   \n",
      "0.050                              1.115277   \n",
      "0.170                              1.534422   \n",
      "0.250                              1.698506   \n",
      "0.500                              2.154767   \n",
      "0.750                              2.660910   \n",
      "0.830                              2.849336   \n",
      "0.950                              3.506281   \n",
      "0.975                              3.736141   \n",
      "0.990                              4.278950   \n",
      "1.000                              5.817476   \n",
      "\n",
      "       SLR-only Middle East and North Africa  \\\n",
      "0.000                               0.938778   \n",
      "0.010                               1.015540   \n",
      "0.025                               1.035870   \n",
      "0.050                               1.064314   \n",
      "0.170                               1.128412   \n",
      "0.250                               1.158432   \n",
      "0.500                               1.237565   \n",
      "0.750                               1.329646   \n",
      "0.830                               1.380232   \n",
      "0.950                               1.729801   \n",
      "0.975                               1.844387   \n",
      "0.990                               2.013669   \n",
      "1.000                               2.664593   \n",
      "\n",
      "       CIAM-only Middle East and North Africa  \\\n",
      "0.000                                0.183948   \n",
      "0.010                                0.377767   \n",
      "0.025                                0.498312   \n",
      "0.050                                0.671043   \n",
      "0.170                                0.924814   \n",
      "0.250                                1.025504   \n",
      "0.500                                1.334555   \n",
      "0.750                                1.632402   \n",
      "0.830                                1.777273   \n",
      "0.950                                2.138817   \n",
      "0.975                                2.290057   \n",
      "0.990                                2.489919   \n",
      "1.000                                3.095321   \n",
      "\n",
      "       SLR and CIAM Middle East and North Africa  SLR-only Sub-Saharan Africa  \\\n",
      "0.000                                   0.150795                     2.127303   \n",
      "0.010                                   0.405456                     2.259784   \n",
      "0.025                                   0.512947                     2.300898   \n",
      "0.050                                   0.632986                     2.353960   \n",
      "0.170                                   0.898627                     2.504088   \n",
      "0.250                                   1.001636                     2.589681   \n",
      "0.500                                   1.319154                     2.803574   \n",
      "0.750                                   1.662412                     3.139818   \n",
      "0.830                                   1.811222                     3.290542   \n",
      "0.950                                   2.285429                     4.138726   \n",
      "0.975                                   2.557625                     4.400989   \n",
      "0.990                                   2.736914                     4.702435   \n",
      "1.000                                   6.458953                     5.488798   \n",
      "\n",
      "       CIAM-only Sub-Saharan Africa  SLR and CIAM Sub-Saharan Africa  ...  \\\n",
      "0.000                      0.224021                         0.212607  ...   \n",
      "0.010                      0.767712                         0.853598  ...   \n",
      "0.025                      1.095148                         1.096555  ...   \n",
      "0.050                      1.542361                         1.438412  ...   \n",
      "0.170                      2.178436                         2.052646  ...   \n",
      "0.250                      2.447143                         2.319154  ...   \n",
      "0.500                      3.086722                         3.048105  ...   \n",
      "0.750                      3.987460                         4.059479  ...   \n",
      "0.830                      4.424374                         4.551740  ...   \n",
      "0.950                      6.331030                         6.614029  ...   \n",
      "0.975                      7.942775                         8.218500  ...   \n",
      "0.990                     11.265969                        10.320284  ...   \n",
      "1.000                     16.381969                        14.892608  ...   \n",
      "\n",
      "       SLR and CIAM Latin America and the Caribbean  \\\n",
      "0.000                                      0.383578   \n",
      "0.010                                      1.233734   \n",
      "0.025                                      1.551860   \n",
      "0.050                                      1.937460   \n",
      "0.170                                      2.676744   \n",
      "0.250                                      3.006252   \n",
      "0.500                                      3.871115   \n",
      "0.750                                      4.822673   \n",
      "0.830                                      5.285790   \n",
      "0.950                                      6.864092   \n",
      "0.975                                      7.561356   \n",
      "0.990                                      8.614831   \n",
      "1.000                                     11.680283   \n",
      "\n",
      "       SLR-only East Asia and Pacific  CIAM-only East Asia and Pacific  \\\n",
      "0.000                        1.888542                         0.612397   \n",
      "0.010                        2.133070                         1.136025   \n",
      "0.025                        2.196441                         1.351282   \n",
      "0.050                        2.306659                         1.787797   \n",
      "0.170                        2.536000                         2.331616   \n",
      "0.250                        2.656091                         2.580680   \n",
      "0.500                        2.933362                         3.165669   \n",
      "0.750                        3.359780                         3.842252   \n",
      "0.830                        3.535975                         4.086168   \n",
      "0.950                        4.562258                         4.904069   \n",
      "0.975                        4.870822                         5.507491   \n",
      "0.990                        5.264344                         6.123388   \n",
      "1.000                        6.639131                         7.545830   \n",
      "\n",
      "       SLR and CIAM East Asia and Pacific  SLR-only South Asia  \\\n",
      "0.000                            0.392986             1.827826   \n",
      "0.010                            1.155348             2.002794   \n",
      "0.025                            1.347057             2.056419   \n",
      "0.050                            1.564681             2.150185   \n",
      "0.170                            2.178358             2.341501   \n",
      "0.250                            2.461946             2.436275   \n",
      "0.500                            3.166311             2.623826   \n",
      "0.750                            3.934624             2.873860   \n",
      "0.830                            4.320734             3.016432   \n",
      "0.950                            5.562267             3.891893   \n",
      "0.975                            5.959189             4.197602   \n",
      "0.990                            6.812450             4.568000   \n",
      "1.000                            9.434475             5.175141   \n",
      "\n",
      "       CIAM-only South Asia  SLR and CIAM South Asia  SLR-only North America  \\\n",
      "0.000              0.368958                 0.360180                1.194923   \n",
      "0.010              0.910215                 0.908111                1.274710   \n",
      "0.025              1.091983                 1.094503                1.345425   \n",
      "0.050              1.419417                 1.308625                1.410266   \n",
      "0.170              1.940636                 1.814798                1.546191   \n",
      "0.250              2.145348                 2.066981                1.600017   \n",
      "0.500              2.760116                 2.681677                1.779483   \n",
      "0.750              3.549855                 3.518627                2.010785   \n",
      "0.830              3.820570                 3.915552                2.134377   \n",
      "0.950              4.967581                 5.249480                2.861231   \n",
      "0.975              5.912922                 6.094830                3.209754   \n",
      "0.990              6.978853                 7.016378                3.389136   \n",
      "1.000              9.730060                11.314654                4.475961   \n",
      "\n",
      "       CIAM-only North America  SLR and CIAM North America  \n",
      "0.000                 0.453240                    0.265489  \n",
      "0.010                 0.626950                    0.658070  \n",
      "0.025                 0.770152                    0.787012  \n",
      "0.050                 1.084102                    0.942328  \n",
      "0.170                 1.410955                    1.340699  \n",
      "0.250                 1.555105                    1.459375  \n",
      "0.500                 1.924492                    1.882180  \n",
      "0.750                 2.284179                    2.325409  \n",
      "0.830                 2.426702                    2.535735  \n",
      "0.950                 2.851365                    3.240282  \n",
      "0.975                 3.050162                    3.594319  \n",
      "0.990                 3.187022                    4.366551  \n",
      "1.000                 3.865248                    5.306146  \n",
      "\n",
      "[13 rows x 22 columns]\n"
     ]
    }
   ],
   "source": [
    "percentiles_out = [0,0.01,0.025,0.05,0.17,0.25,0.5,0.75,0.83,0.95,0.975,0.99,1]\n",
    "\n",
    "rgn_dict = {\"percentile\" : percentiles_out}\n",
    "for rgn in regions:\n",
    "    rgn_dict[\"SLR-only \"+rgn] = dfS[\"npv/gpd \"+rgn].quantile(percentiles_out)\n",
    "    rgn_dict[\"CIAM-only \"+rgn] = dfC[\"npv/gpd \"+rgn].quantile(percentiles_out)\n",
    "    rgn_dict[\"SLR and CIAM \"+rgn] = dfSC[\"npv/gpd \"+rgn].quantile(percentiles_out)\n",
    "dfOut = pd.DataFrame(data=rgn_dict)\n",
    "\n",
    "filename_out = datdir+\"/FigureData_regional_percentGDP_ensembles_SSP1-RCP26.csv\"\n",
    "dfOut.to_csv(filename_out, index=False)\n",
    "print(dfOut)"
   ]
  },
  {
   "cell_type": "markdown",
   "metadata": {},
   "source": [
    "Now as actual NPV"
   ]
  },
  {
   "cell_type": "code",
   "execution_count": 25,
   "metadata": {},
   "outputs": [
    {
     "name": "stdout",
     "output_type": "stream",
     "text": [
      "       percentile  SLR-only Europe and Central Asia  \\\n",
      "0.000       0.000                        284.858905   \n",
      "0.010       0.010                        301.884139   \n",
      "0.025       0.025                        312.160978   \n",
      "0.050       0.050                        324.361191   \n",
      "0.170       0.170                        348.283543   \n",
      "0.250       0.250                        358.174899   \n",
      "0.500       0.500                        385.688462   \n",
      "0.750       0.750                        421.975997   \n",
      "0.830       0.830                        441.429132   \n",
      "0.950       0.950                        550.390422   \n",
      "0.975       0.975                        597.201677   \n",
      "0.990       0.990                        629.287354   \n",
      "1.000       1.000                        822.644128   \n",
      "\n",
      "       CIAM-only Europe and Central Asia  \\\n",
      "0.000                          69.650037   \n",
      "0.010                         127.919934   \n",
      "0.025                         164.349481   \n",
      "0.050                         232.777089   \n",
      "0.170                         304.783368   \n",
      "0.250                         334.424743   \n",
      "0.500                         415.531801   \n",
      "0.750                         495.654334   \n",
      "0.830                         526.055463   \n",
      "0.950                         619.618162   \n",
      "0.975                         651.107744   \n",
      "0.990                         691.888712   \n",
      "1.000                         839.249303   \n",
      "\n",
      "       SLR and CIAM Europe and Central Asia  \\\n",
      "0.000                             54.964245   \n",
      "0.010                            149.284858   \n",
      "0.025                            173.283335   \n",
      "0.050                            211.534299   \n",
      "0.170                            291.033453   \n",
      "0.250                            322.155260   \n",
      "0.500                            408.694106   \n",
      "0.750                            504.694228   \n",
      "0.830                            540.432954   \n",
      "0.950                            665.035566   \n",
      "0.975                            708.632935   \n",
      "0.990                            811.587369   \n",
      "1.000                           1103.399383   \n",
      "\n",
      "       SLR-only Middle East and North Africa  \\\n",
      "0.000                              36.973808   \n",
      "0.010                              39.997081   \n",
      "0.025                              40.797755   \n",
      "0.050                              41.918044   \n",
      "0.170                              44.442511   \n",
      "0.250                              45.624878   \n",
      "0.500                              48.741513   \n",
      "0.750                              52.368133   \n",
      "0.830                              54.360464   \n",
      "0.950                              68.128244   \n",
      "0.975                              72.641215   \n",
      "0.990                              79.308378   \n",
      "1.000                             104.945042   \n",
      "\n",
      "       CIAM-only Middle East and North Africa  \\\n",
      "0.000                                7.244806   \n",
      "0.010                               14.878349   \n",
      "0.025                               19.626034   \n",
      "0.050                               26.429056   \n",
      "0.170                               36.423832   \n",
      "0.250                               40.389513   \n",
      "0.500                               52.561481   \n",
      "0.750                               64.292196   \n",
      "0.830                               69.997927   \n",
      "0.950                               84.237338   \n",
      "0.975                               90.193943   \n",
      "0.990                               98.065523   \n",
      "1.000                              121.909266   \n",
      "\n",
      "       SLR and CIAM Middle East and North Africa  SLR-only Sub-Saharan Africa  \\\n",
      "0.000                                   5.939082                    28.983369   \n",
      "0.010                                  15.968891                    30.788358   \n",
      "0.025                                  20.202441                    31.348511   \n",
      "0.050                                  24.930159                    32.071451   \n",
      "0.170                                  35.392434                    34.116871   \n",
      "0.250                                  39.449448                    35.283030   \n",
      "0.500                                  51.954899                    38.197210   \n",
      "0.750                                  65.474141                    42.778352   \n",
      "0.830                                  71.335004                    44.831890   \n",
      "0.950                                  90.011657                    56.387951   \n",
      "0.975                                 100.732126                    59.961144   \n",
      "0.990                                 107.793394                    64.068183   \n",
      "1.000                                 254.386011                    74.781961   \n",
      "\n",
      "       CIAM-only Sub-Saharan Africa  SLR and CIAM Sub-Saharan Africa  ...  \\\n",
      "0.000                      3.052167                         2.896660  ...   \n",
      "0.010                     10.459668                        11.629814  ...   \n",
      "0.025                     14.920816                        14.939986  ...   \n",
      "0.050                     21.013845                        19.597601  ...   \n",
      "0.170                     29.680035                        27.966214  ...   \n",
      "0.250                     33.341028                        31.597247  ...   \n",
      "0.500                     42.054952                        41.528807  ...   \n",
      "0.750                     54.327025                        55.308248  ...   \n",
      "0.830                     60.279753                        62.015047  ...   \n",
      "0.950                     86.256918                        90.112630  ...   \n",
      "0.975                    108.216091                       111.972704  ...   \n",
      "0.990                    153.492849                       140.608397  ...   \n",
      "1.000                    223.195635                       202.903881  ...   \n",
      "\n",
      "       SLR and CIAM Latin America and the Caribbean  \\\n",
      "0.000                                     25.296753   \n",
      "0.010                                     81.363966   \n",
      "0.025                                    102.344171   \n",
      "0.050                                    127.774246   \n",
      "0.170                                    176.529537   \n",
      "0.250                                    198.260370   \n",
      "0.500                                    255.297546   \n",
      "0.750                                    318.052210   \n",
      "0.830                                    348.594422   \n",
      "0.950                                    452.682441   \n",
      "0.975                                    498.666597   \n",
      "0.990                                    568.142567   \n",
      "1.000                                    770.307139   \n",
      "\n",
      "       SLR-only East Asia and Pacific  CIAM-only East Asia and Pacific  \\\n",
      "0.000                      442.666720                       143.543340   \n",
      "0.010                      499.982923                       266.279577   \n",
      "0.025                      514.836946                       316.735142   \n",
      "0.050                      540.671569                       419.052510   \n",
      "0.170                      594.428128                       546.521497   \n",
      "0.250                      622.577065                       604.900929   \n",
      "0.500                      687.568212                       742.020126   \n",
      "0.750                      787.518809                       900.608426   \n",
      "0.830                      828.818341                       957.781274   \n",
      "0.950                     1069.375012                      1149.494014   \n",
      "0.975                     1141.701111                      1290.933804   \n",
      "0.990                     1233.941076                      1435.297471   \n",
      "1.000                     1556.185518                      1768.712311   \n",
      "\n",
      "       SLR and CIAM East Asia and Pacific  SLR-only South Asia  \\\n",
      "0.000                           92.114446            96.125087   \n",
      "0.010                          270.808929           105.326581   \n",
      "0.025                          315.744663           108.146734   \n",
      "0.050                          366.755022           113.077865   \n",
      "0.170                          510.598251           123.139147   \n",
      "0.250                          577.070198           128.123270   \n",
      "0.500                          742.170592           137.986558   \n",
      "0.750                          922.260073           151.135816   \n",
      "0.830                         1012.762718           158.633636   \n",
      "0.950                         1303.772972           204.674001   \n",
      "0.975                         1396.809966           220.751180   \n",
      "0.990                         1596.810985           240.230349   \n",
      "1.000                         2211.403090           272.159798   \n",
      "\n",
      "       CIAM-only South Asia  SLR and CIAM South Asia  SLR-only North America  \\\n",
      "0.000             19.403452                18.941818              188.671987   \n",
      "0.010             47.868077                47.757408              201.269872   \n",
      "0.025             57.427188                57.559744              212.435354   \n",
      "0.050             74.646887                68.820371              222.673398   \n",
      "0.170            102.057723                95.439923              244.135314   \n",
      "0.250            112.823474               108.702163              252.634042   \n",
      "0.500            145.154031               141.028952              280.970848   \n",
      "0.750            186.686290               185.044020              317.492107   \n",
      "0.830            200.923120               205.918243              337.006760   \n",
      "0.950            261.244237               276.069288              451.773104   \n",
      "0.975            310.959583               320.526058              506.802902   \n",
      "0.990            367.016707               368.990122              535.126473   \n",
      "1.000            511.702196               595.035735              706.730279   \n",
      "\n",
      "       CIAM-only North America  SLR and CIAM North America  \n",
      "0.000                71.564165                   41.919337  \n",
      "0.010                98.992121                  103.905709  \n",
      "0.025               121.602906                  124.264906  \n",
      "0.050               171.173947                  148.788554  \n",
      "0.170               222.782196                  211.689223  \n",
      "0.250               245.542702                  230.427441  \n",
      "0.500               303.866912                  297.186106  \n",
      "0.750               360.659611                  367.169658  \n",
      "0.830               383.163315                  400.378920  \n",
      "0.950               450.215288                  511.623153  \n",
      "0.975               481.604189                  567.523665  \n",
      "0.990               503.213694                  689.455101  \n",
      "1.000               610.301969                  837.812106  \n",
      "\n",
      "[13 rows x 22 columns]\n"
     ]
    }
   ],
   "source": [
    "percentiles_out = [0,0.01,0.025,0.05,0.17,0.25,0.5,0.75,0.83,0.95,0.975,0.99,1]\n",
    "\n",
    "rgn_dict = {\"percentile\" : percentiles_out}\n",
    "for rgn in regions:\n",
    "    rgn_dict[\"SLR-only \"+rgn] = dfS[rgn].quantile(percentiles_out)\n",
    "    rgn_dict[\"CIAM-only \"+rgn] = dfC[rgn].quantile(percentiles_out)\n",
    "    rgn_dict[\"SLR and CIAM \"+rgn] = dfSC[rgn].quantile(percentiles_out)\n",
    "dfOut = pd.DataFrame(data=rgn_dict)\n",
    "\n",
    "filename_out = datdir+\"/FigureData_regional_totalNPV_ensembles_SSP1-RCP26.csv\"\n",
    "dfOut.to_csv(filename_out, index=False)\n",
    "print(dfOut)"
   ]
  },
  {
   "cell_type": "code",
   "execution_count": null,
   "metadata": {},
   "outputs": [],
   "source": []
  }
 ],
 "metadata": {
  "kernelspec": {
   "display_name": "Python 3",
   "language": "python",
   "name": "python3"
  },
  "language_info": {
   "codemirror_mode": {
    "name": "ipython",
    "version": 3
   },
   "file_extension": ".py",
   "mimetype": "text/x-python",
   "name": "python",
   "nbconvert_exporter": "python",
   "pygments_lexer": "ipython3",
   "version": "3.7.3"
  }
 },
 "nbformat": 4,
 "nbformat_minor": 4
}
