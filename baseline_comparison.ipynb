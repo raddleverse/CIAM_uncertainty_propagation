{
 "cells": [
  {
   "cell_type": "code",
   "execution_count": 1,
   "metadata": {},
   "outputs": [],
   "source": [
    "import numpy as np\n",
    "import pandas as pd\n",
    "import matplotlib.pyplot as plt\n",
    "%matplotlib inline"
   ]
  },
  {
   "cell_type": "code",
   "execution_count": 2,
   "metadata": {},
   "outputs": [],
   "source": [
    "dir_gams = \"~/codes/CIAM-Work/gams-outputs/gams-results\""
   ]
  },
  {
   "cell_type": "markdown",
   "metadata": {},
   "source": [
    "### RCP8.5 baseline results from Diaz 2016"
   ]
  },
  {
   "cell_type": "markdown",
   "metadata": {},
   "source": [
    "file names"
   ]
  },
  {
   "cell_type": "code",
   "execution_count": 5,
   "metadata": {},
   "outputs": [],
   "source": [
    "files_rcp85 = [\"rcp85p50ref\"+str(k)+\".csv\" for k in range(1,11)]"
   ]
  },
  {
   "cell_type": "markdown",
   "metadata": {},
   "source": [
    "read the files, place in a list of Pandas DataFrames"
   ]
  },
  {
   "cell_type": "code",
   "execution_count": 46,
   "metadata": {},
   "outputs": [],
   "source": [
    "dfG85_all = []\n",
    "for file in files_rcp85:\n",
    "    dfG85_all.append(pd.read_csv(dir_gams+\"/rcp85/\"+file))"
   ]
  },
  {
   "cell_type": "markdown",
   "metadata": {},
   "source": [
    "concatenate all into a master file. don't worry about the times being out of order; the calculations will specify the year and type of damages to be summed up later"
   ]
  },
  {
   "cell_type": "code",
   "execution_count": 47,
   "metadata": {},
   "outputs": [],
   "source": [
    "dfG85 = pd.concat(dfG85_all)"
   ]
  },
  {
   "cell_type": "markdown",
   "metadata": {},
   "source": [
    "remove the list of DataFrames to save on some memory"
   ]
  },
  {
   "cell_type": "code",
   "execution_count": 53,
   "metadata": {},
   "outputs": [],
   "source": [
    "del dfG85_all"
   ]
  },
  {
   "cell_type": "code",
   "execution_count": 55,
   "metadata": {},
   "outputs": [
    {
     "data": {
      "text/plain": [
       "array(['FloodRetreat', 'RetreatCost', 'WetlandRetreat', 'RelocateRetreat',\n",
       "       'StormCapitalRetreat', 'StormPopRetreat', 'Construct',\n",
       "       'ProtectCost', 'WetlandProtect', 'StormCapitalProtect',\n",
       "       'StormPopProtect', 'FloodNoAdapt', 'NoAdaptCost', 'WetlandNoAdapt',\n",
       "       'RelocateNoAdapt', 'StormCapitalNoAdapt', 'StormPopNoAdapt',\n",
       "       'FloodOptimalFixed', 'OptimalFixedCost', 'WetlandOptimalFixed',\n",
       "       'RelocateOptimalFixed', 'StormCapitalOptimalFixed',\n",
       "       'StormPopOptimalFixed', 'ConstructOptimalFixed'], dtype=object)"
      ]
     },
     "execution_count": 55,
     "metadata": {},
     "output_type": "execute_result"
    }
   ],
   "source": [
    "dfG85[\"variable\"].unique()"
   ]
  },
  {
   "cell_type": "markdown",
   "metadata": {},
   "source": [
    "Gather up Diaz 2016 results into a DataFrame"
   ]
  },
  {
   "cell_type": "code",
   "execution_count": 180,
   "metadata": {},
   "outputs": [
    {
     "data": {
      "text/plain": [
       "12046"
      ]
     },
     "execution_count": 180,
     "metadata": {},
     "output_type": "execute_result"
    }
   ],
   "source": [
    "len(dfG85.loc[(dfG85[\"time\"]==1) & (dfG85[\"variable\"]==\"OptimalFixedCost\"), \"value\"])"
   ]
  },
  {
   "cell_type": "code",
   "execution_count": 182,
   "metadata": {},
   "outputs": [],
   "source": [
    "NoAdaptCost, OptimalCost, FloodNoAdapt, WetlandNoAdapt, RelocateNoAdapt, StormCapitalNoAdapt, StormPopNoAdapt = [], [], [], [], [], [], []\n",
    "Construct, ProtectCost, WetlandProtect, StormPopProtect, StormCapitalProtect = [], [], [], [], []\n",
    "RetreatCost, WetlandRetreat, StormPopRetreat, StormCapitalRetreat, RelocateRetreat = [], [], [], [], []\n",
    "for t in range(1,11):\n",
    "    NoAdaptCost.append(dfG85.loc[(dfG85[\"time\"]==t) & (dfG85[\"variable\"]==\"NoAdaptCost\"), \"value\"].sum())\n",
    "    OptimalCost.append(dfG85.loc[(dfG85[\"time\"]==t) & (dfG85[\"variable\"]==\"OptimalFixedCost\"), \"value\"].sum())\n",
    "    FloodNoAdapt.append(dfG85.loc[(dfG85[\"time\"]==t) & (dfG85[\"variable\"]==\"FloodNoAdapt\"), \"value\"].sum())\n",
    "    WetlandNoAdapt.append(dfG85.loc[(dfG85[\"time\"]==t) & (dfG85[\"variable\"]==\"WetlandNoAdapt\"), \"value\"].sum())\n",
    "    RelocateNoAdapt.append(dfG85.loc[(dfG85[\"time\"]==t) & (dfG85[\"variable\"]==\"RelocateNoAdapt\"), \"value\"].sum())\n",
    "    StormCapitalNoAdapt.append(dfG85.loc[(dfG85[\"time\"]==t) & (dfG85[\"variable\"]==\"StormCapitalNoAdapt\"), \"value\"].sum())\n",
    "    StormPopNoAdapt.append(dfG85.loc[(dfG85[\"time\"]==t) & (dfG85[\"variable\"]==\"StormPopNoAdapt\"), \"value\"].sum())\n",
    "    Construct.append(dfG85.loc[(dfG85[\"time\"]==t) & (dfG85[\"variable\"]==\"ConstructOptimalFixed\"), \"value\"].sum())\n",
    "    ProtectCost.append(dfG85.loc[(dfG85[\"time\"]==t) & (dfG85[\"variable\"]==\"ProtectCost\"), \"value\"].sum())\n",
    "    WetlandProtect.append(dfG85.loc[(dfG85[\"time\"]==t) & (dfG85[\"variable\"]==\"WetlandProtect\"), \"value\"].sum())\n",
    "    StormPopProtect.append(dfG85.loc[(dfG85[\"time\"]==t) & (dfG85[\"variable\"]==\"StormPopProtect\"), \"value\"].sum())\n",
    "    StormCapitalProtect.append(dfG85.loc[(dfG85[\"time\"]==t) & (dfG85[\"variable\"]==\"StormCapitalProtect\"), \"value\"].sum())\n",
    "    RetreatCost.append(dfG85.loc[(dfG85[\"time\"]==t) & (dfG85[\"variable\"]==\"RetreatCost\"), \"value\"].sum())\n",
    "    WetlandRetreat.append(dfG85.loc[(dfG85[\"time\"]==t) & (dfG85[\"variable\"]==\"WetlandRetreat\"), \"value\"].sum())\n",
    "    StormPopRetreat.append(dfG85.loc[(dfG85[\"time\"]==t) & (dfG85[\"variable\"]==\"StormPopRetreat\"), \"value\"].sum())\n",
    "    StormCapitalRetreat.append(dfG85.loc[(dfG85[\"time\"]==t) & (dfG85[\"variable\"]==\"StormCapitalRetreat\"), \"value\"].sum())\n",
    "    RelocateRetreat.append(dfG85.loc[(dfG85[\"time\"]==t) & (dfG85[\"variable\"]==\"RelocateRetreat\"), \"value\"].sum())\n",
    "\n",
    "dfDiaz = pd.DataFrame()\n",
    "dfDiaz[\"time\"] = list(range(2010,2110,10))\n",
    "dfDiaz[\"NoAdapt\"] = NoAdaptCost\n",
    "dfDiaz[\"Optimal\"] = OptimalCost\n",
    "dfDiaz[\"FloodNoAdapt\"] = FloodNoAdapt\n",
    "dfDiaz[\"WetlandNoAdapt\"] = WetlandNoAdapt\n",
    "dfDiaz[\"RelocateNoAdapt\"] = RelocateNoAdapt\n",
    "dfDiaz[\"StormCapitalNoAdapt\"] = StormCapitalNoAdapt\n",
    "dfDiaz[\"StormPopNoAdapt\"] = StormPopNoAdapt\n",
    "dfDiaz[\"Construct\"] = Construct\n",
    "dfDiaz[\"ProtectCost\"] = ProtectCost\n",
    "dfDiaz[\"WetlandProtect\"] = WetlandProtect\n",
    "dfDiaz[\"StormPopProtect\"] = StormPopProtect\n",
    "dfDiaz[\"StormCapitalProtect\"] = StormCapitalProtect\n",
    "dfDiaz[\"RetreatCost\"] = RetreatCost\n",
    "dfDiaz[\"WetlandRetreat\"] = WetlandRetreat\n",
    "dfDiaz[\"StormPopRetreat\"] = StormPopRetreat\n",
    "dfDiaz[\"StormCapitalRetreat\"] = StormCapitalRetreat\n",
    "dfDiaz[\"RelocateRetreat\"] = RelocateRetreat"
   ]
  },
  {
   "cell_type": "markdown",
   "metadata": {},
   "source": [
    "Matches the paper well (Fig 2, right column), except in the last year when things jump up just a bit too much. Paper reports \\\\$2.2T in the NoAdapt case and \\\\$270B in the Optimal adaptation case."
   ]
  },
  {
   "cell_type": "code",
   "execution_count": 145,
   "metadata": {},
   "outputs": [
    {
     "name": "stdout",
     "output_type": "stream",
     "text": [
      "   time  NoAdapt  Optimal\n",
      "0  2010   119.17    29.27\n",
      "1  2020   189.34    33.03\n",
      "2  2030   304.23    39.72\n",
      "3  2040   484.77    52.75\n",
      "4  2050   787.10   115.54\n",
      "5  2060  1217.03   132.09\n",
      "6  2070  1566.37   148.21\n",
      "7  2080  1878.13   163.73\n",
      "8  2090  2043.67   178.02\n",
      "9  2100  2251.46   282.07\n"
     ]
    }
   ],
   "source": [
    "print(np.round(dfDiaz[[\"time\",\"NoAdapt\",\"Optimal\"]],2))"
   ]
  },
  {
   "cell_type": "markdown",
   "metadata": {},
   "source": [
    "### New results"
   ]
  },
  {
   "cell_type": "code",
   "execution_count": 221,
   "metadata": {},
   "outputs": [],
   "source": [
    "dfC = pd.read_csv(\"./output/lslOld_pop0_global_85p50ssp0fixed_control_sub1.csv\")"
   ]
  },
  {
   "cell_type": "code",
   "execution_count": 270,
   "metadata": {},
   "outputs": [],
   "source": [
    "def compare(dfD, dfN, var, lev=False, times=list(range(1,11)), verbose=True):\n",
    "    varD = var\n",
    "    names = {\"OptimalCost\" : \"OptimalFixedCost\"}#, \"Construct\" : \"ConstructOptimalFixed\"}\n",
    "    if var in names.keys():\n",
    "        varD = names[var]\n",
    "    if lev:\n",
    "        D = [dfD.loc[(dfD.variable==varD) & (dfD.level==lev) & (dfD.time==t), \"value\"].sum() for t in times]\n",
    "        N = list(dfN.loc[(dfN.variable==var) & (dfN.level==lev) & (dfN.time>=times[0]) & (dfN.time<=np.max(times)), \"value\"])\n",
    "    else:\n",
    "        D = [dfD.loc[(dfD.variable==varD) & (dfD.time==t), \"value\"].sum() for t in times]\n",
    "        N = list(dfN.loc[(dfN.variable==var) & (dfN.time>=times[0]) & (dfN.time<=np.max(times)), \"value\"])\n",
    "    if verbose:\n",
    "        print(\"time | Diaz | New\")\n",
    "        for t in range(len(times)):\n",
    "            print(times[t], np.round(D[t],3), np.round(N[t],3))\n",
    "    return [N[t]-D[t] for t in range(len(times))]"
   ]
  },
  {
   "cell_type": "code",
   "execution_count": 252,
   "metadata": {},
   "outputs": [
    {
     "data": {
      "text/plain": [
       "array(['FloodNoAdapt', 'RelocateNoAdapt', 'StormCapitalNoAdapt',\n",
       "       'NoAdaptCost', 'OptimalCost', 'WetlandProtect', 'StormPopNoAdapt',\n",
       "       'WetlandRetreat', 'WetlandNoAdapt', 'StormPopProtect',\n",
       "       'StormCapitalProtect', 'ProtectCost', 'Construct',\n",
       "       'StormCapitalRetreat', 'StormPopRetreat', 'RetreatCost',\n",
       "       'FloodRetreat', 'RelocateRetreat'], dtype=object)"
      ]
     },
     "execution_count": 252,
     "metadata": {},
     "output_type": "execute_result"
    }
   ],
   "source": [
    "dfC[\"variable\"].unique()"
   ]
  },
  {
   "cell_type": "code",
   "execution_count": 253,
   "metadata": {},
   "outputs": [
    {
     "data": {
      "text/plain": [
       "array(['FloodRetreat', 'RetreatCost', 'WetlandRetreat', 'RelocateRetreat',\n",
       "       'StormCapitalRetreat', 'StormPopRetreat', 'Construct',\n",
       "       'ProtectCost', 'WetlandProtect', 'StormCapitalProtect',\n",
       "       'StormPopProtect', 'FloodNoAdapt', 'NoAdaptCost', 'WetlandNoAdapt',\n",
       "       'RelocateNoAdapt', 'StormCapitalNoAdapt', 'StormPopNoAdapt',\n",
       "       'FloodOptimalFixed', 'OptimalFixedCost', 'WetlandOptimalFixed',\n",
       "       'RelocateOptimalFixed', 'StormCapitalOptimalFixed',\n",
       "       'StormPopOptimalFixed', 'ConstructOptimalFixed'], dtype=object)"
      ]
     },
     "execution_count": 253,
     "metadata": {},
     "output_type": "execute_result"
    }
   ],
   "source": [
    "dfG85[\"variable\"].unique()"
   ]
  },
  {
   "cell_type": "markdown",
   "metadata": {},
   "source": [
    "Checking NoAdaptCost..."
   ]
  },
  {
   "cell_type": "code",
   "execution_count": 255,
   "metadata": {},
   "outputs": [
    {
     "name": "stdout",
     "output_type": "stream",
     "text": [
      "time | Diaz | New\n",
      "1 119.166 119.166\n",
      "2 189.336 189.336\n",
      "3 304.226 304.226\n",
      "4 484.775 484.775\n",
      "5 787.095 787.095\n",
      "6 1217.032 1217.038\n",
      "7 1566.374 1566.376\n",
      "8 1878.132 1878.142\n",
      "9 2043.672 2043.716\n",
      "10 2251.458 2251.467\n",
      "11 2635.751 2635.751\n"
     ]
    }
   ],
   "source": [
    "x = compare(dfG85, dfC, var=\"NoAdaptCost\", lev=False, times=list(range(1,12)), verbose=True)"
   ]
  },
  {
   "cell_type": "markdown",
   "metadata": {},
   "source": [
    "Good!"
   ]
  },
  {
   "cell_type": "markdown",
   "metadata": {},
   "source": [
    "Checking OptimalCost..."
   ]
  },
  {
   "cell_type": "code",
   "execution_count": 258,
   "metadata": {},
   "outputs": [
    {
     "name": "stdout",
     "output_type": "stream",
     "text": [
      "time | Diaz | New\n",
      "1 29.274 27.608\n",
      "2 33.032 31.593\n",
      "3 39.718 38.638\n",
      "4 52.752 52.064\n",
      "5 115.535 124.3\n",
      "6 132.086 143.298\n",
      "7 148.209 161.838\n",
      "8 163.731 180.723\n",
      "9 178.017 197.697\n",
      "10 282.067 325.643\n",
      "11 303.188 352.242\n"
     ]
    }
   ],
   "source": [
    "x = compare(dfG85, dfC, var=\"OptimalCost\", lev=False, times=list(range(1,12)), verbose=True)"
   ]
  },
  {
   "cell_type": "markdown",
   "metadata": {},
   "source": [
    "Not good!"
   ]
  },
  {
   "cell_type": "markdown",
   "metadata": {},
   "source": [
    "Check RetreatCost..."
   ]
  },
  {
   "cell_type": "code",
   "execution_count": 259,
   "metadata": {},
   "outputs": [
    {
     "name": "stdout",
     "output_type": "stream",
     "text": [
      "time | Diaz | New\n",
      "1 123.019 123.019\n",
      "2 173.769 173.769\n",
      "3 277.287 277.287\n",
      "4 496.142 496.142\n",
      "5 279.418 279.418\n",
      "6 327.637 327.637\n",
      "7 407.305 407.305\n",
      "8 549.06 549.06\n",
      "9 847.47 847.47\n",
      "10 577.476 577.476\n",
      "11 624.229 624.229\n"
     ]
    }
   ],
   "source": [
    "x = compare(dfG85, dfC, var=\"RetreatCost\", lev=10, times=list(range(1,12)), verbose=True)"
   ]
  },
  {
   "cell_type": "markdown",
   "metadata": {},
   "source": [
    "Good!"
   ]
  },
  {
   "cell_type": "markdown",
   "metadata": {},
   "source": [
    "Check ProtectCost..."
   ]
  },
  {
   "cell_type": "code",
   "execution_count": 260,
   "metadata": {},
   "outputs": [
    {
     "name": "stdout",
     "output_type": "stream",
     "text": [
      "time | Diaz | New\n",
      "1 831.335 825.021\n",
      "2 1333.589 1327.242\n",
      "3 2411.871 2405.524\n",
      "4 4775.877 4769.533\n",
      "5 1339.202 1324.868\n",
      "6 2118.873 2104.537\n",
      "7 3735.674 3721.331\n",
      "8 7285.422 7271.073\n",
      "9 15344.465 15330.11\n",
      "10 2325.17 2313.425\n",
      "11 3528.217 3516.475\n"
     ]
    }
   ],
   "source": [
    "x = compare(dfG85, dfC, var=\"ProtectCost\", lev=10, times=list(range(1,12)), verbose=True)"
   ]
  },
  {
   "cell_type": "markdown",
   "metadata": {},
   "source": [
    "Not so good!"
   ]
  },
  {
   "cell_type": "markdown",
   "metadata": {},
   "source": [
    "ProtectCost is composed of Construct, WetlandProtect, StormCapitalProtect, StormPopProtect, and FloodProtect, so check each of those...\n",
    "\n",
    "`v.ProtectCost[tj,m,i-1] = v.Construct[tj,m,i-1] + v.WetlandProtect[tj,m] + v.StormCapitalProtect[tj,m,i-1] + v.StormPopProtect[tj,m,i-1] + v.FloodProtect[tj,m]`"
   ]
  },
  {
   "cell_type": "markdown",
   "metadata": {},
   "source": [
    "Construction costs are different:"
   ]
  },
  {
   "cell_type": "code",
   "execution_count": 271,
   "metadata": {},
   "outputs": [
    {
     "name": "stdout",
     "output_type": "stream",
     "text": [
      "time | Diaz | New\n",
      "1 177.491 171.4\n",
      "2 177.491 171.4\n",
      "3 177.491 171.4\n",
      "4 177.491 171.4\n",
      "5 300.823 286.659\n",
      "6 300.823 286.659\n",
      "7 300.823 286.659\n",
      "8 300.823 286.659\n",
      "9 300.823 286.659\n",
      "10 521.828 510.093\n",
      "11 521.828 510.093\n"
     ]
    }
   ],
   "source": [
    "x = compare(dfG85, dfC, var=\"Construct\", lev=10, times=list(range(1,12)), verbose=True)"
   ]
  },
  {
   "cell_type": "markdown",
   "metadata": {},
   "source": [
    "WetlandProtect costs are different"
   ]
  },
  {
   "cell_type": "code",
   "execution_count": 263,
   "metadata": {},
   "outputs": [
    {
     "name": "stdout",
     "output_type": "stream",
     "text": [
      "time | Diaz | New\n",
      "1 325.712 175.012\n",
      "2 375.706 200.91\n",
      "3 426.139 227.592\n",
      "4 478.768 255.678\n",
      "5 529.705 282.592\n",
      "6 579.427 308.787\n",
      "7 628.825 334.713\n",
      "8 675.232 359.065\n",
      "9 716.833 380.945\n",
      "10 760.034 403.693\n",
      "11 803.046 426.419\n"
     ]
    }
   ],
   "source": [
    "x = compare(dfG85, dfC, var=\"WetlandProtect\", lev=False, times=list(range(1,12)), verbose=True)"
   ]
  },
  {
   "cell_type": "markdown",
   "metadata": {},
   "source": [
    "StormPopProtect and StormCapitalProtect costs match!"
   ]
  },
  {
   "cell_type": "code",
   "execution_count": 265,
   "metadata": {},
   "outputs": [
    {
     "name": "stdout",
     "output_type": "stream",
     "text": [
      "time | Diaz | New\n",
      "1 271.926 271.83\n",
      "2 536.552 536.443\n",
      "3 1106.339 1106.231\n",
      "4 2339.987 2339.88\n",
      "5 395.768 395.695\n",
      "6 763.818 763.744\n",
      "7 1531.877 1531.8\n",
      "8 3236.131 3236.051\n",
      "9 7150.682 7150.6\n",
      "10 662.754 662.75\n",
      "11 1228.236 1228.232\n"
     ]
    }
   ],
   "source": [
    "x = compare(dfG85, dfC, var=\"StormPopProtect\", lev=10, times=list(range(1,12)), verbose=True)"
   ]
  },
  {
   "cell_type": "code",
   "execution_count": 267,
   "metadata": {},
   "outputs": [
    {
     "name": "stdout",
     "output_type": "stream",
     "text": [
      "time | Diaz | New\n",
      "1 206.906 206.779\n",
      "2 418.636 418.489\n",
      "3 900.449 900.302\n",
      "4 2002.721 2002.575\n",
      "5 360.019 359.921\n",
      "6 745.446 745.347\n",
      "7 1568.261 1568.159\n",
      "8 3389.404 3389.298\n",
      "9 7512.015 7511.906\n",
      "10 736.895 736.889\n",
      "11 1351.734 1351.73\n"
     ]
    }
   ],
   "source": [
    "x = compare(dfG85, dfC, var=\"StormCapitalProtect\", lev=10, times=list(range(1,12)), verbose=True)"
   ]
  },
  {
   "cell_type": "markdown",
   "metadata": {},
   "source": [
    "FloodProtect isn't on the output files"
   ]
  },
  {
   "cell_type": "code",
   "execution_count": null,
   "metadata": {},
   "outputs": [],
   "source": []
  },
  {
   "cell_type": "code",
   "execution_count": null,
   "metadata": {},
   "outputs": [],
   "source": []
  },
  {
   "cell_type": "code",
   "execution_count": null,
   "metadata": {},
   "outputs": [],
   "source": []
  },
  {
   "cell_type": "code",
   "execution_count": null,
   "metadata": {},
   "outputs": [],
   "source": []
  },
  {
   "cell_type": "code",
   "execution_count": null,
   "metadata": {},
   "outputs": [],
   "source": []
  },
  {
   "cell_type": "code",
   "execution_count": 188,
   "metadata": {},
   "outputs": [
    {
     "ename": "ValueError",
     "evalue": "Length of values does not match length of index",
     "output_type": "error",
     "traceback": [
      "\u001b[0;31m---------------------------------------------------------------------------\u001b[0m",
      "\u001b[0;31mValueError\u001b[0m                                Traceback (most recent call last)",
      "\u001b[0;32m<ipython-input-188-14a2c42f1f87>\u001b[0m in \u001b[0;36m<module>\u001b[0;34m\u001b[0m\n\u001b[1;32m      5\u001b[0m             \u001b[0;34m\"ProtectCost\"\u001b[0m\u001b[0;34m,\u001b[0m \u001b[0;34m\"WetlandProtect\"\u001b[0m\u001b[0;34m,\u001b[0m \u001b[0;34m\"StormPopProtect\"\u001b[0m\u001b[0;34m,\u001b[0m \u001b[0;34m\"StormCapitalProtect\"\u001b[0m\u001b[0;34m,\u001b[0m\u001b[0;34m\u001b[0m\u001b[0;34m\u001b[0m\u001b[0m\n\u001b[1;32m      6\u001b[0m             \"RetreatCost\", \"WetlandRetreat\", \"StormPopRetreat\", \"StormCapitalRetreat\", \"RelocateRetreat\"]:\n\u001b[0;32m----> 7\u001b[0;31m     \u001b[0mdfNew\u001b[0m\u001b[0;34m[\u001b[0m\u001b[0mvar\u001b[0m\u001b[0;34m]\u001b[0m \u001b[0;34m=\u001b[0m \u001b[0mlist\u001b[0m\u001b[0;34m(\u001b[0m\u001b[0mdfC\u001b[0m\u001b[0;34m.\u001b[0m\u001b[0mloc\u001b[0m\u001b[0;34m[\u001b[0m\u001b[0mdfC\u001b[0m\u001b[0;34m[\u001b[0m\u001b[0;34m\"variable\"\u001b[0m\u001b[0;34m]\u001b[0m\u001b[0;34m==\u001b[0m\u001b[0mvar\u001b[0m\u001b[0;34m,\u001b[0m \u001b[0;34m\"value\"\u001b[0m\u001b[0;34m]\u001b[0m\u001b[0;34m)\u001b[0m\u001b[0;34m\u001b[0m\u001b[0;34m\u001b[0m\u001b[0m\n\u001b[0m",
      "\u001b[0;32m~/anaconda3/lib/python3.7/site-packages/pandas/core/frame.py\u001b[0m in \u001b[0;36m__setitem__\u001b[0;34m(self, key, value)\u001b[0m\n\u001b[1;32m   3368\u001b[0m         \u001b[0;32melse\u001b[0m\u001b[0;34m:\u001b[0m\u001b[0;34m\u001b[0m\u001b[0;34m\u001b[0m\u001b[0m\n\u001b[1;32m   3369\u001b[0m             \u001b[0;31m# set column\u001b[0m\u001b[0;34m\u001b[0m\u001b[0;34m\u001b[0m\u001b[0;34m\u001b[0m\u001b[0m\n\u001b[0;32m-> 3370\u001b[0;31m             \u001b[0mself\u001b[0m\u001b[0;34m.\u001b[0m\u001b[0m_set_item\u001b[0m\u001b[0;34m(\u001b[0m\u001b[0mkey\u001b[0m\u001b[0;34m,\u001b[0m \u001b[0mvalue\u001b[0m\u001b[0;34m)\u001b[0m\u001b[0;34m\u001b[0m\u001b[0;34m\u001b[0m\u001b[0m\n\u001b[0m\u001b[1;32m   3371\u001b[0m \u001b[0;34m\u001b[0m\u001b[0m\n\u001b[1;32m   3372\u001b[0m     \u001b[0;32mdef\u001b[0m \u001b[0m_setitem_slice\u001b[0m\u001b[0;34m(\u001b[0m\u001b[0mself\u001b[0m\u001b[0;34m,\u001b[0m \u001b[0mkey\u001b[0m\u001b[0;34m,\u001b[0m \u001b[0mvalue\u001b[0m\u001b[0;34m)\u001b[0m\u001b[0;34m:\u001b[0m\u001b[0;34m\u001b[0m\u001b[0;34m\u001b[0m\u001b[0m\n",
      "\u001b[0;32m~/anaconda3/lib/python3.7/site-packages/pandas/core/frame.py\u001b[0m in \u001b[0;36m_set_item\u001b[0;34m(self, key, value)\u001b[0m\n\u001b[1;32m   3443\u001b[0m \u001b[0;34m\u001b[0m\u001b[0m\n\u001b[1;32m   3444\u001b[0m         \u001b[0mself\u001b[0m\u001b[0;34m.\u001b[0m\u001b[0m_ensure_valid_index\u001b[0m\u001b[0;34m(\u001b[0m\u001b[0mvalue\u001b[0m\u001b[0;34m)\u001b[0m\u001b[0;34m\u001b[0m\u001b[0;34m\u001b[0m\u001b[0m\n\u001b[0;32m-> 3445\u001b[0;31m         \u001b[0mvalue\u001b[0m \u001b[0;34m=\u001b[0m \u001b[0mself\u001b[0m\u001b[0;34m.\u001b[0m\u001b[0m_sanitize_column\u001b[0m\u001b[0;34m(\u001b[0m\u001b[0mkey\u001b[0m\u001b[0;34m,\u001b[0m \u001b[0mvalue\u001b[0m\u001b[0;34m)\u001b[0m\u001b[0;34m\u001b[0m\u001b[0;34m\u001b[0m\u001b[0m\n\u001b[0m\u001b[1;32m   3446\u001b[0m         \u001b[0mNDFrame\u001b[0m\u001b[0;34m.\u001b[0m\u001b[0m_set_item\u001b[0m\u001b[0;34m(\u001b[0m\u001b[0mself\u001b[0m\u001b[0;34m,\u001b[0m \u001b[0mkey\u001b[0m\u001b[0;34m,\u001b[0m \u001b[0mvalue\u001b[0m\u001b[0;34m)\u001b[0m\u001b[0;34m\u001b[0m\u001b[0;34m\u001b[0m\u001b[0m\n\u001b[1;32m   3447\u001b[0m \u001b[0;34m\u001b[0m\u001b[0m\n",
      "\u001b[0;32m~/anaconda3/lib/python3.7/site-packages/pandas/core/frame.py\u001b[0m in \u001b[0;36m_sanitize_column\u001b[0;34m(self, key, value, broadcast)\u001b[0m\n\u001b[1;32m   3628\u001b[0m \u001b[0;34m\u001b[0m\u001b[0m\n\u001b[1;32m   3629\u001b[0m             \u001b[0;31m# turn me into an ndarray\u001b[0m\u001b[0;34m\u001b[0m\u001b[0;34m\u001b[0m\u001b[0;34m\u001b[0m\u001b[0m\n\u001b[0;32m-> 3630\u001b[0;31m             \u001b[0mvalue\u001b[0m \u001b[0;34m=\u001b[0m \u001b[0msanitize_index\u001b[0m\u001b[0;34m(\u001b[0m\u001b[0mvalue\u001b[0m\u001b[0;34m,\u001b[0m \u001b[0mself\u001b[0m\u001b[0;34m.\u001b[0m\u001b[0mindex\u001b[0m\u001b[0;34m,\u001b[0m \u001b[0mcopy\u001b[0m\u001b[0;34m=\u001b[0m\u001b[0;32mFalse\u001b[0m\u001b[0;34m)\u001b[0m\u001b[0;34m\u001b[0m\u001b[0;34m\u001b[0m\u001b[0m\n\u001b[0m\u001b[1;32m   3631\u001b[0m             \u001b[0;32mif\u001b[0m \u001b[0;32mnot\u001b[0m \u001b[0misinstance\u001b[0m\u001b[0;34m(\u001b[0m\u001b[0mvalue\u001b[0m\u001b[0;34m,\u001b[0m \u001b[0;34m(\u001b[0m\u001b[0mnp\u001b[0m\u001b[0;34m.\u001b[0m\u001b[0mndarray\u001b[0m\u001b[0;34m,\u001b[0m \u001b[0mIndex\u001b[0m\u001b[0;34m)\u001b[0m\u001b[0;34m)\u001b[0m\u001b[0;34m:\u001b[0m\u001b[0;34m\u001b[0m\u001b[0;34m\u001b[0m\u001b[0m\n\u001b[1;32m   3632\u001b[0m                 \u001b[0;32mif\u001b[0m \u001b[0misinstance\u001b[0m\u001b[0;34m(\u001b[0m\u001b[0mvalue\u001b[0m\u001b[0;34m,\u001b[0m \u001b[0mlist\u001b[0m\u001b[0;34m)\u001b[0m \u001b[0;32mand\u001b[0m \u001b[0mlen\u001b[0m\u001b[0;34m(\u001b[0m\u001b[0mvalue\u001b[0m\u001b[0;34m)\u001b[0m \u001b[0;34m>\u001b[0m \u001b[0;36m0\u001b[0m\u001b[0;34m:\u001b[0m\u001b[0;34m\u001b[0m\u001b[0;34m\u001b[0m\u001b[0m\n",
      "\u001b[0;32m~/anaconda3/lib/python3.7/site-packages/pandas/core/internals/construction.py\u001b[0m in \u001b[0;36msanitize_index\u001b[0;34m(data, index, copy)\u001b[0m\n\u001b[1;32m    517\u001b[0m \u001b[0;34m\u001b[0m\u001b[0m\n\u001b[1;32m    518\u001b[0m     \u001b[0;32mif\u001b[0m \u001b[0mlen\u001b[0m\u001b[0;34m(\u001b[0m\u001b[0mdata\u001b[0m\u001b[0;34m)\u001b[0m \u001b[0;34m!=\u001b[0m \u001b[0mlen\u001b[0m\u001b[0;34m(\u001b[0m\u001b[0mindex\u001b[0m\u001b[0;34m)\u001b[0m\u001b[0;34m:\u001b[0m\u001b[0;34m\u001b[0m\u001b[0;34m\u001b[0m\u001b[0m\n\u001b[0;32m--> 519\u001b[0;31m         \u001b[0;32mraise\u001b[0m \u001b[0mValueError\u001b[0m\u001b[0;34m(\u001b[0m\u001b[0;34m'Length of values does not match length of index'\u001b[0m\u001b[0;34m)\u001b[0m\u001b[0;34m\u001b[0m\u001b[0;34m\u001b[0m\u001b[0m\n\u001b[0m\u001b[1;32m    520\u001b[0m \u001b[0;34m\u001b[0m\u001b[0m\n\u001b[1;32m    521\u001b[0m     \u001b[0;32mif\u001b[0m \u001b[0misinstance\u001b[0m\u001b[0;34m(\u001b[0m\u001b[0mdata\u001b[0m\u001b[0;34m,\u001b[0m \u001b[0mABCIndexClass\u001b[0m\u001b[0;34m)\u001b[0m \u001b[0;32mand\u001b[0m \u001b[0;32mnot\u001b[0m \u001b[0mcopy\u001b[0m\u001b[0;34m:\u001b[0m\u001b[0;34m\u001b[0m\u001b[0;34m\u001b[0m\u001b[0m\n",
      "\u001b[0;31mValueError\u001b[0m: Length of values does not match length of index"
     ]
    }
   ],
   "source": [
    "dfNew = pd.DataFrame()\n",
    "dfNew[\"time\"] = list(range(2010,2110,10))\n",
    "for var in [\"NoAdaptCost\", \"OptimalCost\", \"Construct\", \"RelocateRetreat\",\n",
    "            \"FloodNoAdapt\", \"RelocateNoAdapt\", \"StormCapitalNoAdapt\", \"StormPopNoAdapt\", \"WetlandNoAdapt\",\n",
    "            \"ProtectCost\", \"WetlandProtect\", \"StormPopProtect\", \"StormCapitalProtect\",\n",
    "            \"RetreatCost\", \"WetlandRetreat\", \"StormPopRetreat\", \"StormCapitalRetreat\", \"RelocateRetreat\"]:\n",
    "    dfNew[var] = list(dfC.loc[dfC[\"variable\"]==var, \"value\"])"
   ]
  },
  {
   "cell_type": "markdown",
   "metadata": {},
   "source": [
    "Check that these 5 match the NoAdapt total cost:"
   ]
  },
  {
   "cell_type": "code",
   "execution_count": 136,
   "metadata": {},
   "outputs": [
    {
     "data": {
      "text/plain": [
       "0   -2.842171e-13\n",
       "1    1.762146e-12\n",
       "2    6.252776e-13\n",
       "3   -3.126388e-12\n",
       "4    5.115908e-12\n",
       "5    1.136868e-12\n",
       "6    3.410605e-12\n",
       "7   -8.185452e-12\n",
       "8   -7.503331e-12\n",
       "9   -4.092726e-12\n",
       "dtype: float64"
      ]
     },
     "execution_count": 136,
     "metadata": {},
     "output_type": "execute_result"
    }
   ],
   "source": [
    "dfNew[\"FloodNoAdapt\"]+dfNew[\"RelocateNoAdapt\"]+dfNew[\"StormCapitalNoAdapt\"]+dfNew[\"StormPopNoAdapt\"]+dfNew[\"WetlandNoAdapt\"]-dfNew[\"NoAdapt\"]"
   ]
  },
  {
   "cell_type": "code",
   "execution_count": 159,
   "metadata": {},
   "outputs": [
    {
     "data": {
      "text/plain": [
       "array(['FloodRetreat', 'RetreatCost', 'WetlandRetreat', 'RelocateRetreat',\n",
       "       'StormCapitalRetreat', 'StormPopRetreat', 'Construct',\n",
       "       'ProtectCost', 'WetlandProtect', 'StormCapitalProtect',\n",
       "       'StormPopProtect', 'FloodNoAdapt', 'NoAdaptCost', 'WetlandNoAdapt',\n",
       "       'RelocateNoAdapt', 'StormCapitalNoAdapt', 'StormPopNoAdapt',\n",
       "       'FloodOptimalFixed', 'OptimalFixedCost', 'WetlandOptimalFixed',\n",
       "       'RelocateOptimalFixed', 'StormCapitalOptimalFixed',\n",
       "       'StormPopOptimalFixed', 'ConstructOptimalFixed'], dtype=object)"
      ]
     },
     "execution_count": 159,
     "metadata": {},
     "output_type": "execute_result"
    }
   ],
   "source": [
    "dfG85[\"variable\"].unique()"
   ]
  },
  {
   "cell_type": "code",
   "execution_count": 160,
   "metadata": {},
   "outputs": [
    {
     "data": {
      "text/plain": [
       "array(['FloodNoAdapt', 'RelocateNoAdapt', 'StormCapitalNoAdapt',\n",
       "       'NoAdaptCost', 'OptimalCost', 'WetlandProtect', 'StormPopNoAdapt',\n",
       "       'WetlandRetreat', 'WetlandNoAdapt', 'StormPopProtect',\n",
       "       'StormCapitalProtect', 'ProtectCost', 'Construct',\n",
       "       'StormCapitalRetreat', 'StormPopRetreat', 'RetreatCost',\n",
       "       'FloodRetreat', 'RelocateRetreat'], dtype=object)"
      ]
     },
     "execution_count": 160,
     "metadata": {},
     "output_type": "execute_result"
    }
   ],
   "source": [
    "dfC[\"variable\"].unique()"
   ]
  },
  {
   "cell_type": "code",
   "execution_count": 163,
   "metadata": {},
   "outputs": [
    {
     "data": {
      "text/plain": [
       "12148"
      ]
     },
     "execution_count": 163,
     "metadata": {},
     "output_type": "execute_result"
    }
   ],
   "source": [
    "len(dfG85[\"segments\"].unique())"
   ]
  },
  {
   "cell_type": "code",
   "execution_count": null,
   "metadata": {},
   "outputs": [],
   "source": []
  },
  {
   "cell_type": "code",
   "execution_count": 156,
   "metadata": {},
   "outputs": [
    {
     "name": "stdout",
     "output_type": "stream",
     "text": [
      "time\n",
      "Year| Diaz | New CIAM | Diaz-New\n",
      "2010 2010.0 2010.0 0.0\n",
      "2020 2020.0 2020.0 0.0\n",
      "2030 2030.0 2030.0 0.0\n",
      "2040 2040.0 2040.0 0.0\n",
      "2050 2050.0 2050.0 0.0\n",
      "2060 2060.0 2060.0 0.0\n",
      "2070 2070.0 2070.0 0.0\n",
      "2080 2080.0 2080.0 0.0\n",
      "2090 2090.0 2090.0 0.0\n",
      "2100 2100.0 2100.0 0.0\n",
      "\n",
      "NoAdapt\n",
      "Year| Diaz | New CIAM | Diaz-New\n",
      "2010 119.166 119.166 0.0\n",
      "2020 189.336 189.336 -0.0\n",
      "2030 304.226 304.226 -0.0\n",
      "2040 484.775 484.775 0.0\n",
      "2050 787.095 787.095 -0.0\n",
      "2060 1217.032 1217.038 -0.005\n",
      "2070 1566.374 1566.376 -0.002\n",
      "2080 1878.132 1878.142 -0.01\n",
      "2090 2043.672 2043.716 -0.044\n",
      "2100 2251.458 2189.244 62.213\n",
      "\n",
      "Optimal\n",
      "Year| Diaz | New CIAM | Diaz-New\n",
      "2010 29.274 27.608 1.666\n",
      "2020 33.032 31.593 1.439\n",
      "2030 39.718 38.638 1.08\n",
      "2040 52.752 52.064 0.687\n",
      "2050 115.535 124.3 -8.765\n",
      "2060 132.086 143.298 -11.212\n",
      "2070 148.209 161.838 -13.629\n",
      "2080 163.731 180.723 -16.992\n",
      "2090 178.017 197.697 -19.68\n",
      "2100 282.067 289.047 -6.979\n",
      "\n",
      "FloodNoAdapt\n",
      "Year| Diaz | New CIAM | Diaz-New\n",
      "2010 40.34 40.34 -0.0\n",
      "2020 64.955 64.955 -0.0\n",
      "2030 101.81 101.81 -0.0\n",
      "2040 149.08 149.08 0.0\n",
      "2050 204.345 204.345 -0.0\n",
      "2060 270.013 270.018 -0.005\n",
      "2070 309.993 309.993 -0.001\n",
      "2080 360.383 360.389 -0.005\n",
      "2090 379.418 379.454 -0.036\n",
      "2100 421.26 379.454 41.806\n",
      "\n",
      "RelocateNoAdapt\n",
      "Year| Diaz | New CIAM | Diaz-New\n",
      "2010 74.457 74.457 0.0\n",
      "2020 112.939 112.939 0.0\n",
      "2030 170.306 170.306 0.0\n",
      "2040 239.336 239.336 0.0\n",
      "2050 312.506 312.506 -0.0\n",
      "2060 395.101 395.101 -0.0\n",
      "2070 410.945 410.945 -0.001\n",
      "2080 445.506 445.51 -0.004\n",
      "2090 415.272 415.28 -0.008\n",
      "2100 435.687 415.28 20.407\n",
      "\n",
      "StormCapitalNoAdapt\n",
      "Year| Diaz | New CIAM | Diaz-New\n",
      "2010 1.023 1.023 -0.0\n",
      "2020 2.516 2.516 0.0\n",
      "2030 9.376 9.376 0.0\n",
      "2040 35.751 35.751 -0.0\n",
      "2050 117.222 117.222 0.0\n",
      "2060 255.952 255.952 -0.0\n",
      "2070 404.778 404.778 -0.0\n",
      "2080 515.441 515.441 0.0\n",
      "2090 608.641 608.641 0.0\n",
      "2100 680.302 680.302 0.0\n",
      "\n",
      "StormPopNoAdapt\n",
      "Year| Diaz | New CIAM | Diaz-New\n",
      "2010 1.255 1.255 -0.0\n",
      "2020 3.358 3.358 -0.0\n",
      "2030 12.138 12.138 0.0\n",
      "2040 42.858 42.858 -0.0\n",
      "2050 123.956 123.956 0.0\n",
      "2060 252.806 252.806 -0.0\n",
      "2070 384.044 384.044 0.0\n",
      "2080 488.538 488.538 0.0\n",
      "2090 570.445 570.445 -0.0\n",
      "2100 636.121 636.121 0.0\n",
      "\n",
      "WetlandNoAdapt\n",
      "Year| Diaz | New CIAM | Diaz-New\n",
      "2010 2.091 2.091 -0.0\n",
      "2020 5.569 5.569 -0.0\n",
      "2030 10.596 10.596 -0.0\n",
      "2040 17.749 17.749 0.0\n",
      "2050 29.068 29.068 0.0\n",
      "2060 43.161 43.161 0.0\n",
      "2070 56.616 56.616 -0.0\n",
      "2080 68.265 68.265 -0.0\n",
      "2090 69.896 69.896 0.0\n",
      "2100 78.087 78.087 0.0\n",
      "\n"
     ]
    }
   ],
   "source": [
    "for col in dfNew.columns:\n",
    "    print(col+\"\\nYear| Diaz | New CIAM | Diaz-New\")\n",
    "    for t in dfDiaz[\"time\"]:\n",
    "        print(t, np.round(float(dfDiaz.loc[dfDiaz[\"time\"]==t, col]),3), np.round(float(dfNew.loc[dfNew[\"time\"]==t, col]),3), \n",
    "              np.round(float(dfDiaz.loc[dfDiaz[\"time\"]==t, col]-dfNew.loc[dfNew[\"time\"]==t, col]),3))\n",
    "    print(\"\")"
   ]
  },
  {
   "cell_type": "code",
   "execution_count": null,
   "metadata": {},
   "outputs": [],
   "source": []
  },
  {
   "cell_type": "code",
   "execution_count": null,
   "metadata": {},
   "outputs": [],
   "source": []
  },
  {
   "cell_type": "code",
   "execution_count": null,
   "metadata": {},
   "outputs": [],
   "source": []
  },
  {
   "cell_type": "code",
   "execution_count": null,
   "metadata": {},
   "outputs": [],
   "source": []
  },
  {
   "cell_type": "code",
   "execution_count": null,
   "metadata": {},
   "outputs": [],
   "source": []
  },
  {
   "cell_type": "code",
   "execution_count": 472,
   "metadata": {},
   "outputs": [],
   "source": [
    "dfN2 = pd.read_csv(\"./output/lslOld_pop0_seg_85p50ssp0fixed_control_sub1.csv\")\n",
    "dfC2 = pd.read_csv(\"./output/lslOld_pop0_global_85p50ssp0fixed_control_sub1.csv\")"
   ]
  },
  {
   "cell_type": "code",
   "execution_count": 449,
   "metadata": {},
   "outputs": [],
   "source": [
    "#segments_test = [\"UnitedKingdom8819\", \"Sweden9129\", \"Ireland8492\", \"UnitedStates3383\", \"Canada5106\", \"Denmark7923\", \"Denmark7037\"]\n",
    "dfS = pd.read_csv(\"./ciam-code/data/subsets/sub1names.csv\", header=None)\n",
    "segments_test = list(dfS[0])"
   ]
  },
  {
   "cell_type": "code",
   "execution_count": 450,
   "metadata": {},
   "outputs": [],
   "source": [
    "dfG2 = dfG85.loc[dfG85[\"segments\"].isin(segments_test),:]"
   ]
  },
  {
   "cell_type": "code",
   "execution_count": 468,
   "metadata": {},
   "outputs": [
    {
     "name": "stdout",
     "output_type": "stream",
     "text": [
      "time | Diaz | New\n",
      "1 51.805 47.414\n",
      "2 51.805 47.414\n",
      "3 51.805 47.414\n",
      "4 51.805 47.414\n",
      "5 65.954 61.495\n",
      "6 65.954 61.495\n",
      "7 65.954 61.495\n",
      "8 65.954 61.495\n",
      "9 65.954 61.495\n",
      "10 92.029 87.873\n",
      "11 92.029 87.873\n"
     ]
    }
   ],
   "source": [
    "x = compare(dfG2, dfC2, var=\"Construct\", lev=10, times=list(range(1,12)), verbose=True)"
   ]
  },
  {
   "cell_type": "code",
   "execution_count": 288,
   "metadata": {},
   "outputs": [
    {
     "data": {
      "text/plain": [
       "array(['FloodNoAdapt', 'RelocateNoAdapt', 'StormCapitalNoAdapt',\n",
       "       'NoAdaptCost', 'OptimalCost', 'WetlandProtect', 'StormPopNoAdapt',\n",
       "       'WetlandRetreat', 'WetlandNoAdapt', 'StormPopProtect',\n",
       "       'StormCapitalProtect', 'ProtectCost', 'Construct',\n",
       "       'StormCapitalRetreat', 'StormPopRetreat', 'RetreatCost',\n",
       "       'FloodRetreat', 'RelocateRetreat'], dtype=object)"
      ]
     },
     "execution_count": 288,
     "metadata": {},
     "output_type": "execute_result"
    }
   ],
   "source": [
    "dfC2[\"variable\"].unique()"
   ]
  },
  {
   "cell_type": "code",
   "execution_count": 289,
   "metadata": {},
   "outputs": [
    {
     "data": {
      "text/plain": [
       "array(['FloodRetreat', 'RetreatCost', 'RelocateRetreat',\n",
       "       'StormCapitalRetreat', 'StormPopRetreat', 'WetlandRetreat',\n",
       "       'Construct', 'ProtectCost', 'StormCapitalProtect',\n",
       "       'StormPopProtect', 'WetlandProtect', 'FloodNoAdapt', 'NoAdaptCost',\n",
       "       'RelocateNoAdapt', 'StormCapitalNoAdapt', 'StormPopNoAdapt',\n",
       "       'WetlandNoAdapt', 'FloodOptimalFixed', 'OptimalFixedCost',\n",
       "       'RelocateOptimalFixed', 'StormCapitalOptimalFixed',\n",
       "       'StormPopOptimalFixed', 'WetlandOptimalFixed'], dtype=object)"
      ]
     },
     "execution_count": 289,
     "metadata": {},
     "output_type": "execute_result"
    }
   ],
   "source": [
    "dfG2[\"variable\"].unique()"
   ]
  },
  {
   "cell_type": "code",
   "execution_count": 340,
   "metadata": {},
   "outputs": [
    {
     "data": {
      "text/plain": [
       "0.01624851563499108"
      ]
     },
     "execution_count": 340,
     "metadata": {},
     "output_type": "execute_result"
    }
   ],
   "source": [
    "float(dfN2.loc[(dfN2.variable==\"OptimalCost\") & (dfN2.time==13) & (dfN2.segments==\"Sweden9129\"), \"value\"]) - \\\n",
    "float(dfG2.loc[(dfG2.variable==\"OptimalFixedCost\") & (dfG2.time==13) & (dfG2.segments==\"Sweden9129\"), \"value\"])"
   ]
  },
  {
   "cell_type": "code",
   "execution_count": 376,
   "metadata": {},
   "outputs": [
    {
     "data": {
      "text/plain": [
       "0.0015456638775497278"
      ]
     },
     "execution_count": 376,
     "metadata": {},
     "output_type": "execute_result"
    }
   ],
   "source": [
    "float(dfN2.loc[(dfN2.variable==\"RetreatCost\") & (dfN2.time==13) & (dfN2.level==10) & (dfN2.segments==segments_test[0]), \"value\"])"
   ]
  },
  {
   "cell_type": "code",
   "execution_count": null,
   "metadata": {},
   "outputs": [],
   "source": []
  },
  {
   "cell_type": "code",
   "execution_count": 446,
   "metadata": {
    "collapsed": true,
    "jupyter": {
     "outputs_hidden": true
    }
   },
   "outputs": [
    {
     "name": "stdout",
     "output_type": "stream",
     "text": [
      "Canada5527 0.004040049401722718 0.056436152\n",
      "Canada5687 0.0005090303345894624 0.005378783000000001\n",
      "Canada5691 0.0023110227253425727 0.033551626\n",
      "Canada5698 7.45997455923003e-05 0.007842693000000001\n",
      "Finland9131 0.002290062791981559 0.006076201\n",
      "Finland9137 0.00013856395260966722 0.0006650289999999999\n",
      "Finland9138 0.008031941393879784 0.029487435\n",
      "Finland9139 0.00010182675006077281 0.000557137\n",
      "Finland9141 0.002310969919072248 0.007019585\n",
      "Norway8935 0.0 0.009717973000000001\n",
      "Norway8936 0.0 0.009549451\n",
      "Norway8944 0.0 0.05078472\n",
      "Norway8946 0.0 0.308962127\n",
      "Norway8947 0.0 0.005926501999999999\n",
      "Norway8948 0.0 0.01753626\n",
      "Norway8949 0.0 0.001768751\n",
      "Norway8950 0.0 0.001450895\n",
      "Norway8951 0.0 0.000693165\n",
      "Norway8952 0.0 0.0066607540000000005\n",
      "Norway8953 0.0 0.003687401\n",
      "Norway8954 0.0 0.003861567\n",
      "Norway8955 0.0 0.003183978\n",
      "Norway8956 0.0 0.002105909\n",
      "Norway8957 0.0 0.001047367\n",
      "Norway8958 0.0 0.007419499999999999\n",
      "Norway8959 0.0 0.001574155\n",
      "Norway8960 0.0 0.024964677\n",
      "Norway8961 6.63770647035457e-06 0.000523944\n",
      "Norway8962 3.190513364780812e-05 0.000282599\n",
      "Norway8963 0.0006186920456054923 0.00152415\n",
      "Norway8964 0.0 0.005262006999999999\n",
      "Norway8965 0.0 0.010449629\n",
      "Norway8966 0.0 0.0014661329999999999\n",
      "Norway8967 0.0 0.301443636\n",
      "Norway8968 0.0 0.002634277\n",
      "Norway8969 0.0 0.06143346\n",
      "Norway8970 0.0 0.001135748\n",
      "Norway8971 0.0 0.018922252\n",
      "Norway8972 6.345261810900872e-05 0.000825417\n",
      "Norway8973 0.0 0.029512748999999998\n",
      "Norway8974 0.0 0.001047706\n",
      "Norway8975 0.0 0.00063131\n",
      "Norway9090 0.0 0.016520611\n",
      "Norway9109 0.0 0.0072425119999999996\n",
      "Norway9111 0.0 0.014280494\n",
      "Norway9115 0.0 0.02048083\n",
      "Norway9117 0.0001632076380166886 0.00663577\n",
      "Norway9118 0.00011470832230616101 0.000793242\n",
      "Norway9119 0.0 0.009827801\n",
      "Norway9121 0.0 0.018808023\n",
      "Norway9122 0.0 0.001612194\n",
      "Norway9123 0.0 0.007029291\n",
      "Norway9127 0.0 0.019666889\n",
      "Norway9130 0.0 0.012882761999999999\n",
      "Norway9135 0.0 0.008678733000000001\n",
      "Norway9152 0.0 0.069706521\n",
      "Norway9168 0.00013706534978798722 0.002161647\n",
      "Norway9169 0.0 0.020091863\n",
      "Norway9170 0.0 0.0010462380000000001\n",
      "Norway9171 0.0 0.03172239\n",
      "Norway9172 0.0 0.000530061\n",
      "Norway9173 0.0 0.027439235\n",
      "Norway9174 0.0 0.0031381509999999996\n",
      "Norway9175 0.0 0.004710274\n",
      "Norway9176 0.0 0.000330047\n",
      "Norway9177 0.0 0.029369624\n",
      "Norway9178 0.00039224602571645784 0.001007853\n",
      "Norway9179 3.430067664747485e-05 0.004184428\n",
      "Norway9180 0.0 0.00209654\n",
      "Norway9181 0.0 0.011100579\n",
      "Norway9182 0.0 0.008564391\n",
      "Norway9183 0.0 0.23927931\n",
      "RussianFederation9285 0.007661948231682232 0.146618683\n",
      "RussianFederation9289 0.0008839609418692279 0.014009895\n",
      "RussianFederation9290 0.0007430853556739325 0.012305838000000001\n",
      "RussianFederation9293 0.001693524522005108 0.022488846\n",
      "RussianFederation9295 0.00030801917464287805 0.0012750939999999998\n",
      "RussianFederation9307 0.0006056650665077348 0.009397274\n",
      "RussianFederation9308 0.0014903053954890804 0.028518414\n",
      "RussianFederation9309 0.00037422982254397744 0.00633968\n",
      "RussianFederation9310 0.00014525880203942627 0.003505994\n",
      "RussianFederation9311 5.540283291725629e-05 0.00085961\n",
      "RussianFederation9312 2.0328642301239372e-05 0.000421786\n",
      "RussianFederation9314 0.0006720271573775258 0.012226253000000001\n",
      "RussianFederation9315 0.00013767222476329652 0.002279916\n",
      "RussianFederation9316 9.119981845998422e-06 0.000151031\n",
      "RussianFederation9317 0.00016498442170523943 0.002732218\n",
      "RussianFederation9319 0.0005042730962913032 0.008167686\n",
      "RussianFederation9320 0.0017633714385694177 0.032891548\n",
      "RussianFederation9321 0.0004239414337981952 0.008555809000000001\n",
      "RussianFederation9322 0.00010060799382938868 0.001976434\n",
      "RussianFederation9323 2.454719923484685e-05 0.000294132\n",
      "RussianFederation9324 0.0005443597489005901 0.009221785\n",
      "RussianFederation9325 0.0004810487119143134 0.006387996999999999\n",
      "RussianFederation9326 0.0005268623496230647 0.008725085\n",
      "RussianFederation9327 0.0012667153089119588 0.026282241\n",
      "RussianFederation9328 0.0022746315283831 0.045905666\n",
      "RussianFederation9329 0.0009714409259860363 0.00807623\n",
      "RussianFederation9330 4.9505320338675814e-05 0.00054849\n",
      "RussianFederation9331 0.0010537262853457486 0.018270088\n",
      "RussianFederation9343 0.01964262232771534 0.266667194\n",
      "RussianFederation9348 0.002557788503629152 0.054603088\n",
      "RussianFederation9357 0.0010566807714199155 0.017499123000000002\n",
      "RussianFederation9358 0.0008293188171020931 0.013432435\n",
      "RussianFederation9361 0.0022213676573205315 0.03597938\n",
      "RussianFederation9362 0.0006054660568779469 0.00959603\n",
      "RussianFederation9363 4.516477679431444e-05 0.000192642\n",
      "RussianFederation9364 0.002740112825697177 0.038466898\n",
      "RussianFederation9367 4.0269172245528086e-05 0.001161495\n",
      "RussianFederation9368 3.2708351983223065e-05 0.000610097\n",
      "RussianFederation9369 0.0014613477251541375 0.023669375\n",
      "RussianFederation9370 0.0015770696863624755 0.030178732000000003\n",
      "RussianFederation9371 0.0008554942323440775 0.014167381000000001\n",
      "RussianFederation9372 0.0004857551492034524 0.00804433\n",
      "RussianFederation9373 0.0008523889859460554 0.007995158\n",
      "RussianFederation9374 0.0010027489113924957 0.019698901\n",
      "RussianFederation9375 0.00030160607939040766 0.00535519\n",
      "RussianFederation9376 4.183719752147143e-05 0.000543706\n",
      "RussianFederation9377 0.001194686403070153 0.008381592\n",
      "RussianFederation9378 0.00017113519474060108 0.00033195800000000004\n",
      "RussianFederation9379 0.001215155277375897 0.011697271\n",
      "RussianFederation9380 0.0019793838308057804 0.014924786\n",
      "RussianFederation9381 0.0012336273138772544 0.018746128\n",
      "RussianFederation9383 0.0013322517711746931 0.013350265\n",
      "RussianFederation9385 0.0015210818940742128 0.010370829\n",
      "RussianFederation9386 0.0006552887129880419 0.00630791\n",
      "RussianFederation9388 0.00032787742489189334 0.004692265\n",
      "RussianFederation9389 0.00011930265418487273 0.001119024\n",
      "RussianFederation9390 0.0007055718145952457 0.008888584\n",
      "RussianFederation9391 0.001322130711668701 0.026682691\n",
      "RussianFederation9392 0.0007637656658058598 0.01389526\n",
      "RussianFederation9393 8.255212809825464e-05 0.000784357\n",
      "RussianFederation9394 0.0001231683607105755 0.001305555\n",
      "RussianFederation9395 0.00021864036182131047 0.002252486\n",
      "RussianFederation9396 2.9829159768504963e-05 0.00032558\n",
      "RussianFederation9397 3.954874402824964e-05 0.00038070199999999996\n",
      "RussianFederation9398 5.3651107177229824e-05 0.000603522\n",
      "RussianFederation9400 0.002271360019869939 0.039382093\n",
      "RussianFederation9404 0.00017368821489851838 0.002081182\n",
      "RussianFederation9405 0.00019912816118933046 0.0015495560000000001\n",
      "RussianFederation9406 0.001042664206152865 0.005162335\n",
      "RussianFederation9411 0.002453064002437939 0.032118645\n",
      "RussianFederation9412 0.00012038033501400037 0.000573174\n",
      "RussianFederation9413 0.0012117177384425414 0.018118965\n",
      "RussianFederation9414 0.0005060737944120884 0.010803548\n",
      "RussianFederation9415 0.00012716932654635018 0.000289184\n",
      "RussianFederation9416 0.0009768145910677088 0.01693655\n",
      "RussianFederation9510 0.007711922085848578 0.029950041\n",
      "RussianFederation9515 0.00044897162602474533 0.002789481\n",
      "RussianFederation9516 0.00013058907472897078 0.000648027\n",
      "RussianFederation9517 0.003295170021928071 0.020473044\n",
      "UnitedStates3410 0.0 0.211555465\n",
      "UnitedStates3425 0.002495698564566891 0.016899887\n",
      "UnitedStates3426 0.0 0.030529035\n",
      "UnitedStates3428 0.0 0.024778177999999998\n",
      "UnitedStates3430 0.027189894076783086 0.20016789899999998\n",
      "UnitedStates3435 0.00011762978602747715 0.04713271\n",
      "UnitedStates3439 0.0 0.010620323999999999\n",
      "UnitedStates3441 0.0 0.053799808\n",
      "UnitedStates3443 0.0 0.294553845\n",
      "UnitedStates4985 0.00200532806278231 0.00765237\n",
      "UnitedStates4986 0.0009441393480106671 0.00671987\n",
      "UnitedStates4997 0.000840787521802875 0.007217945\n",
      "UnitedStates4998 0.0010839658474505783 0.007924808\n",
      "UnitedStates4999 0.003614624304708626 0.034282361000000004\n",
      "UnitedStates5000 0.006225671772820149 0.059046448\n",
      "UnitedStates5001 0.0011147198431275002 0.010952355\n",
      "UnitedStates5002 0.001347463204056267 0.0065515040000000005\n",
      "UnitedStates5003 0.0006640349729750857 0.005524693000000001\n",
      "UnitedStates5005 0.0010349251431007102 0.0065085080000000005\n",
      "UnitedStates5017 0.0 0.00489598\n",
      "UnitedStates5018 0.000443104675795936 0.005610173\n",
      "UnitedStates5019 0.0018085090001291047 0.011701593\n",
      "UnitedStates5020 0.0 0.00775585\n",
      "UnitedStates5021 0.0 0.011463693\n",
      "UnitedStates5022 0.00026796092258465595 0.007657921\n",
      "UnitedStates5023 0.0 0.038193837\n",
      "UnitedStates5024 0.0 0.09942571800000001\n",
      "UnitedStates5025 6.492295595755201e-05 0.000514844\n",
      "UnitedStates5027 3.9516090984384e-05 0.0009373680000000001\n",
      "UnitedStates5028 0.0 0.04710008\n",
      "UnitedStates5029 9.763096976527984e-05 0.006571051\n",
      "UnitedStates5030 0.000193789457732976 0.005538212\n",
      "UnitedStates5031 0.0 0.012156911000000001\n",
      "UnitedStates5032 0.0002014815792887913 0.004159635\n",
      "UnitedStates5033 0.0006742685638048974 0.004075151\n",
      "UnitedStates5034 0.001083186882129467 0.006069491999999999\n",
      "UnitedStates5035 0.000777766376885274 0.0043131459999999995\n",
      "UnitedStates5036 0.0012541658222961225 0.006955045\n",
      "UnitedStates5037 0.0014505940461477392 0.006572247\n",
      "UnitedStates5038 0.0012090403525288453 0.005662222\n",
      "UnitedStates5039 0.0022521913539371398 0.012174787\n",
      "UnitedStates5040 0.0039976100488194645 0.024864709\n",
      "UnitedStates5041 0.003338510787099645 0.019292527\n",
      "UnitedStates5049 0.0 0.09932251800000001\n",
      "UnitedStates5052 0.0 0.009426755\n",
      "UnitedStates5053 0.0 0.070089792\n",
      "UnitedStates5060 0.0 0.041996226\n"
     ]
    }
   ],
   "source": [
    "tol = 0.0001\n",
    "lev = 10\n",
    "t = 1\n",
    "for seg in segments_test:\n",
    "#    minlevel = dfN2.loc[(dfN2.variable==\"RetreatCost\") & (dfN2.time==t) & (dfN2.segments==seg), \"level\"].min()\n",
    "    N = float(dfN2.loc[(dfN2.variable==\"Construct\") & (dfN2.time==t) & (dfN2.level==lev) & (dfN2.segments==seg), \"value\"])\n",
    "    D = float(dfG2.loc[(dfG2.variable==\"Construct\") & (dfG2.time==t) & (dfG2.level==lev) & (dfG2.segments==seg), \"value\"])\n",
    "    if (np.abs(N-D) > tol):\n",
    "        print(seg,N,D)\n",
    "#    if minlevel > 1:\n",
    "#        cnt += 1"
   ]
  },
  {
   "cell_type": "code",
   "execution_count": 439,
   "metadata": {},
   "outputs": [
    {
     "data": {
      "text/plain": [
       "79"
      ]
     },
     "execution_count": 439,
     "metadata": {},
     "output_type": "execute_result"
    }
   ],
   "source": [
    "cnt"
   ]
  },
  {
   "cell_type": "code",
   "execution_count": 475,
   "metadata": {},
   "outputs": [
    {
     "data": {
      "text/html": [
       "<div>\n",
       "<style scoped>\n",
       "    .dataframe tbody tr th:only-of-type {\n",
       "        vertical-align: middle;\n",
       "    }\n",
       "\n",
       "    .dataframe tbody tr th {\n",
       "        vertical-align: top;\n",
       "    }\n",
       "\n",
       "    .dataframe thead th {\n",
       "        text-align: right;\n",
       "    }\n",
       "</style>\n",
       "<table border=\"1\" class=\"dataframe\">\n",
       "  <thead>\n",
       "    <tr style=\"text-align: right;\">\n",
       "      <th></th>\n",
       "      <th>time</th>\n",
       "      <th>regions</th>\n",
       "      <th>segments</th>\n",
       "      <th>level</th>\n",
       "      <th>variable</th>\n",
       "      <th>value</th>\n",
       "    </tr>\n",
       "  </thead>\n",
       "  <tbody>\n",
       "    <tr>\n",
       "      <th>0</th>\n",
       "      <td>1</td>\n",
       "      <td>CAN</td>\n",
       "      <td>Canada3384</td>\n",
       "      <td>NaN</td>\n",
       "      <td>FloodNoAdapt</td>\n",
       "      <td>0.000074</td>\n",
       "    </tr>\n",
       "    <tr>\n",
       "      <th>1</th>\n",
       "      <td>1</td>\n",
       "      <td>CAN</td>\n",
       "      <td>Canada3452</td>\n",
       "      <td>NaN</td>\n",
       "      <td>FloodNoAdapt</td>\n",
       "      <td>0.000191</td>\n",
       "    </tr>\n",
       "    <tr>\n",
       "      <th>2</th>\n",
       "      <td>1</td>\n",
       "      <td>CAN</td>\n",
       "      <td>Canada5092</td>\n",
       "      <td>NaN</td>\n",
       "      <td>FloodNoAdapt</td>\n",
       "      <td>0.000090</td>\n",
       "    </tr>\n",
       "    <tr>\n",
       "      <th>3</th>\n",
       "      <td>1</td>\n",
       "      <td>CAN</td>\n",
       "      <td>Canada5100</td>\n",
       "      <td>NaN</td>\n",
       "      <td>FloodNoAdapt</td>\n",
       "      <td>0.000011</td>\n",
       "    </tr>\n",
       "    <tr>\n",
       "      <th>4</th>\n",
       "      <td>1</td>\n",
       "      <td>CAN</td>\n",
       "      <td>Canada5103</td>\n",
       "      <td>NaN</td>\n",
       "      <td>FloodNoAdapt</td>\n",
       "      <td>0.000006</td>\n",
       "    </tr>\n",
       "  </tbody>\n",
       "</table>\n",
       "</div>"
      ],
      "text/plain": [
       "   time regions    segments  level      variable     value\n",
       "0     1     CAN  Canada3384    NaN  FloodNoAdapt  0.000074\n",
       "1     1     CAN  Canada3452    NaN  FloodNoAdapt  0.000191\n",
       "2     1     CAN  Canada5092    NaN  FloodNoAdapt  0.000090\n",
       "3     1     CAN  Canada5100    NaN  FloodNoAdapt  0.000011\n",
       "4     1     CAN  Canada5103    NaN  FloodNoAdapt  0.000006"
      ]
     },
     "execution_count": 475,
     "metadata": {},
     "output_type": "execute_result"
    }
   ],
   "source": [
    "dfN2.head()"
   ]
  },
  {
   "cell_type": "code",
   "execution_count": 476,
   "metadata": {},
   "outputs": [
    {
     "data": {
      "text/html": [
       "<div>\n",
       "<style scoped>\n",
       "    .dataframe tbody tr th:only-of-type {\n",
       "        vertical-align: middle;\n",
       "    }\n",
       "\n",
       "    .dataframe tbody tr th {\n",
       "        vertical-align: top;\n",
       "    }\n",
       "\n",
       "    .dataframe thead th {\n",
       "        text-align: right;\n",
       "    }\n",
       "</style>\n",
       "<table border=\"1\" class=\"dataframe\">\n",
       "  <thead>\n",
       "    <tr style=\"text-align: right;\">\n",
       "      <th></th>\n",
       "      <th>time</th>\n",
       "      <th>regions</th>\n",
       "      <th>segments</th>\n",
       "      <th>level</th>\n",
       "      <th>variable</th>\n",
       "      <th>value</th>\n",
       "    </tr>\n",
       "  </thead>\n",
       "  <tbody>\n",
       "    <tr>\n",
       "      <th>480780</th>\n",
       "      <td>1</td>\n",
       "      <td>CAN</td>\n",
       "      <td>Canada5527</td>\n",
       "      <td>10.0</td>\n",
       "      <td>Construct</td>\n",
       "      <td>0.004040</td>\n",
       "    </tr>\n",
       "    <tr>\n",
       "      <th>500780</th>\n",
       "      <td>1</td>\n",
       "      <td>CAN</td>\n",
       "      <td>Canada5527</td>\n",
       "      <td>100.0</td>\n",
       "      <td>Construct</td>\n",
       "      <td>0.051246</td>\n",
       "    </tr>\n",
       "    <tr>\n",
       "      <th>520780</th>\n",
       "      <td>1</td>\n",
       "      <td>CAN</td>\n",
       "      <td>Canada5527</td>\n",
       "      <td>1000.0</td>\n",
       "      <td>Construct</td>\n",
       "      <td>0.085356</td>\n",
       "    </tr>\n",
       "    <tr>\n",
       "      <th>540780</th>\n",
       "      <td>1</td>\n",
       "      <td>CAN</td>\n",
       "      <td>Canada5527</td>\n",
       "      <td>10000.0</td>\n",
       "      <td>Construct</td>\n",
       "      <td>0.542185</td>\n",
       "    </tr>\n",
       "    <tr>\n",
       "      <th>560780</th>\n",
       "      <td>1</td>\n",
       "      <td>CAN</td>\n",
       "      <td>Canada5527</td>\n",
       "      <td>0.0</td>\n",
       "      <td>Construct</td>\n",
       "      <td>0.000000</td>\n",
       "    </tr>\n",
       "  </tbody>\n",
       "</table>\n",
       "</div>"
      ],
      "text/plain": [
       "        time regions    segments    level   variable     value\n",
       "480780     1     CAN  Canada5527     10.0  Construct  0.004040\n",
       "500780     1     CAN  Canada5527    100.0  Construct  0.051246\n",
       "520780     1     CAN  Canada5527   1000.0  Construct  0.085356\n",
       "540780     1     CAN  Canada5527  10000.0  Construct  0.542185\n",
       "560780     1     CAN  Canada5527      0.0  Construct  0.000000"
      ]
     },
     "execution_count": 476,
     "metadata": {},
     "output_type": "execute_result"
    }
   ],
   "source": [
    "dfN2.loc[(dfN2.segments==\"Canada5527\") & (dfN2.time==1) & (dfN2.variable==\"Construct\")]"
   ]
  },
  {
   "cell_type": "code",
   "execution_count": 478,
   "metadata": {},
   "outputs": [
    {
     "data": {
      "text/html": [
       "<div>\n",
       "<style scoped>\n",
       "    .dataframe tbody tr th:only-of-type {\n",
       "        vertical-align: middle;\n",
       "    }\n",
       "\n",
       "    .dataframe tbody tr th {\n",
       "        vertical-align: top;\n",
       "    }\n",
       "\n",
       "    .dataframe thead th {\n",
       "        text-align: right;\n",
       "    }\n",
       "</style>\n",
       "<table border=\"1\" class=\"dataframe\">\n",
       "  <thead>\n",
       "    <tr style=\"text-align: right;\">\n",
       "      <th></th>\n",
       "      <th>time</th>\n",
       "      <th>segments</th>\n",
       "      <th>level</th>\n",
       "      <th>variable</th>\n",
       "      <th>value</th>\n",
       "    </tr>\n",
       "  </thead>\n",
       "  <tbody>\n",
       "    <tr>\n",
       "      <th>356658</th>\n",
       "      <td>1</td>\n",
       "      <td>Canada5527</td>\n",
       "      <td>10.0</td>\n",
       "      <td>Construct</td>\n",
       "      <td>0.056436</td>\n",
       "    </tr>\n",
       "    <tr>\n",
       "      <th>423418</th>\n",
       "      <td>1</td>\n",
       "      <td>Canada5527</td>\n",
       "      <td>100.0</td>\n",
       "      <td>Construct</td>\n",
       "      <td>0.058993</td>\n",
       "    </tr>\n",
       "    <tr>\n",
       "      <th>489078</th>\n",
       "      <td>1</td>\n",
       "      <td>Canada5527</td>\n",
       "      <td>1000.0</td>\n",
       "      <td>Construct</td>\n",
       "      <td>0.079407</td>\n",
       "    </tr>\n",
       "    <tr>\n",
       "      <th>554558</th>\n",
       "      <td>1</td>\n",
       "      <td>Canada5527</td>\n",
       "      <td>10000.0</td>\n",
       "      <td>Construct</td>\n",
       "      <td>0.352820</td>\n",
       "    </tr>\n",
       "  </tbody>\n",
       "</table>\n",
       "</div>"
      ],
      "text/plain": [
       "        time    segments    level   variable     value\n",
       "356658     1  Canada5527     10.0  Construct  0.056436\n",
       "423418     1  Canada5527    100.0  Construct  0.058993\n",
       "489078     1  Canada5527   1000.0  Construct  0.079407\n",
       "554558     1  Canada5527  10000.0  Construct  0.352820"
      ]
     },
     "execution_count": 478,
     "metadata": {},
     "output_type": "execute_result"
    }
   ],
   "source": [
    "dfG2.loc[(dfG2.segments==\"Canada5527\") & (dfG2.time==1) & (dfG2.variable==\"Construct\")]"
   ]
  },
  {
   "cell_type": "code",
   "execution_count": 408,
   "metadata": {},
   "outputs": [],
   "source": [
    "cnt = 0\n",
    "for seg in segments_test:\n",
    "    if (dfG2.loc[(dfG2.variable==\"RetreatCost\") & (dfG2.time==1) & (dfG2.segments==seg), \"level\"].min() > 1):\n",
    "        cnt += 1"
   ]
  },
  {
   "cell_type": "code",
   "execution_count": null,
   "metadata": {},
   "outputs": [],
   "source": [
    "cnt"
   ]
  },
  {
   "cell_type": "code",
   "execution_count": 440,
   "metadata": {},
   "outputs": [],
   "source": [
    "seg1 = \"Canada5527\""
   ]
  },
  {
   "cell_type": "code",
   "execution_count": 442,
   "metadata": {},
   "outputs": [
    {
     "data": {
      "text/html": [
       "<div>\n",
       "<style scoped>\n",
       "    .dataframe tbody tr th:only-of-type {\n",
       "        vertical-align: middle;\n",
       "    }\n",
       "\n",
       "    .dataframe tbody tr th {\n",
       "        vertical-align: top;\n",
       "    }\n",
       "\n",
       "    .dataframe thead th {\n",
       "        text-align: right;\n",
       "    }\n",
       "</style>\n",
       "<table border=\"1\" class=\"dataframe\">\n",
       "  <thead>\n",
       "    <tr style=\"text-align: right;\">\n",
       "      <th></th>\n",
       "      <th>time</th>\n",
       "      <th>segments</th>\n",
       "      <th>level</th>\n",
       "      <th>variable</th>\n",
       "      <th>value</th>\n",
       "    </tr>\n",
       "  </thead>\n",
       "  <tbody>\n",
       "    <tr>\n",
       "      <th>139940</th>\n",
       "      <td>1</td>\n",
       "      <td>Canada5527</td>\n",
       "      <td>100.0</td>\n",
       "      <td>RetreatCost</td>\n",
       "      <td>0.000939</td>\n",
       "    </tr>\n",
       "    <tr>\n",
       "      <th>210252</th>\n",
       "      <td>1</td>\n",
       "      <td>Canada5527</td>\n",
       "      <td>1000.0</td>\n",
       "      <td>RetreatCost</td>\n",
       "      <td>0.002948</td>\n",
       "    </tr>\n",
       "    <tr>\n",
       "      <th>281298</th>\n",
       "      <td>1</td>\n",
       "      <td>Canada5527</td>\n",
       "      <td>10000.0</td>\n",
       "      <td>RetreatCost</td>\n",
       "      <td>0.015136</td>\n",
       "    </tr>\n",
       "  </tbody>\n",
       "</table>\n",
       "</div>"
      ],
      "text/plain": [
       "        time    segments    level     variable     value\n",
       "139940     1  Canada5527    100.0  RetreatCost  0.000939\n",
       "210252     1  Canada5527   1000.0  RetreatCost  0.002948\n",
       "281298     1  Canada5527  10000.0  RetreatCost  0.015136"
      ]
     },
     "execution_count": 442,
     "metadata": {},
     "output_type": "execute_result"
    }
   ],
   "source": [
    "dfG85.loc[(dfG85.variable==\"RetreatCost\") & (dfG85.time==1) & (dfG85.segments==seg1)]"
   ]
  },
  {
   "cell_type": "code",
   "execution_count": 444,
   "metadata": {},
   "outputs": [
    {
     "data": {
      "text/html": [
       "<div>\n",
       "<style scoped>\n",
       "    .dataframe tbody tr th:only-of-type {\n",
       "        vertical-align: middle;\n",
       "    }\n",
       "\n",
       "    .dataframe tbody tr th {\n",
       "        vertical-align: top;\n",
       "    }\n",
       "\n",
       "    .dataframe thead th {\n",
       "        text-align: right;\n",
       "    }\n",
       "</style>\n",
       "<table border=\"1\" class=\"dataframe\">\n",
       "  <thead>\n",
       "    <tr style=\"text-align: right;\">\n",
       "      <th></th>\n",
       "      <th>time</th>\n",
       "      <th>regions</th>\n",
       "      <th>segments</th>\n",
       "      <th>level</th>\n",
       "      <th>variable</th>\n",
       "      <th>value</th>\n",
       "    </tr>\n",
       "  </thead>\n",
       "  <tbody>\n",
       "    <tr>\n",
       "      <th>820780</th>\n",
       "      <td>1</td>\n",
       "      <td>CAN</td>\n",
       "      <td>Canada5527</td>\n",
       "      <td>1.0</td>\n",
       "      <td>RetreatCost</td>\n",
       "      <td>0.000000</td>\n",
       "    </tr>\n",
       "    <tr>\n",
       "      <th>840780</th>\n",
       "      <td>1</td>\n",
       "      <td>CAN</td>\n",
       "      <td>Canada5527</td>\n",
       "      <td>10.0</td>\n",
       "      <td>RetreatCost</td>\n",
       "      <td>0.000000</td>\n",
       "    </tr>\n",
       "    <tr>\n",
       "      <th>860780</th>\n",
       "      <td>1</td>\n",
       "      <td>CAN</td>\n",
       "      <td>Canada5527</td>\n",
       "      <td>100.0</td>\n",
       "      <td>RetreatCost</td>\n",
       "      <td>0.000939</td>\n",
       "    </tr>\n",
       "    <tr>\n",
       "      <th>880780</th>\n",
       "      <td>1</td>\n",
       "      <td>CAN</td>\n",
       "      <td>Canada5527</td>\n",
       "      <td>1000.0</td>\n",
       "      <td>RetreatCost</td>\n",
       "      <td>0.002948</td>\n",
       "    </tr>\n",
       "    <tr>\n",
       "      <th>900780</th>\n",
       "      <td>1</td>\n",
       "      <td>CAN</td>\n",
       "      <td>Canada5527</td>\n",
       "      <td>10000.0</td>\n",
       "      <td>RetreatCost</td>\n",
       "      <td>0.015136</td>\n",
       "    </tr>\n",
       "    <tr>\n",
       "      <th>920780</th>\n",
       "      <td>1</td>\n",
       "      <td>CAN</td>\n",
       "      <td>Canada5527</td>\n",
       "      <td>0.0</td>\n",
       "      <td>RetreatCost</td>\n",
       "      <td>0.000000</td>\n",
       "    </tr>\n",
       "  </tbody>\n",
       "</table>\n",
       "</div>"
      ],
      "text/plain": [
       "        time regions    segments    level     variable     value\n",
       "820780     1     CAN  Canada5527      1.0  RetreatCost  0.000000\n",
       "840780     1     CAN  Canada5527     10.0  RetreatCost  0.000000\n",
       "860780     1     CAN  Canada5527    100.0  RetreatCost  0.000939\n",
       "880780     1     CAN  Canada5527   1000.0  RetreatCost  0.002948\n",
       "900780     1     CAN  Canada5527  10000.0  RetreatCost  0.015136\n",
       "920780     1     CAN  Canada5527      0.0  RetreatCost  0.000000"
      ]
     },
     "execution_count": 444,
     "metadata": {},
     "output_type": "execute_result"
    }
   ],
   "source": [
    "dfS.loc[(dfS.variable==\"RetreatCost\") & (dfS.time==1) & (dfS.segments==seg1)]"
   ]
  },
  {
   "cell_type": "code",
   "execution_count": 445,
   "metadata": {},
   "outputs": [
    {
     "data": {
      "text/html": [
       "<div>\n",
       "<style scoped>\n",
       "    .dataframe tbody tr th:only-of-type {\n",
       "        vertical-align: middle;\n",
       "    }\n",
       "\n",
       "    .dataframe tbody tr th {\n",
       "        vertical-align: top;\n",
       "    }\n",
       "\n",
       "    .dataframe thead th {\n",
       "        text-align: right;\n",
       "    }\n",
       "</style>\n",
       "<table border=\"1\" class=\"dataframe\">\n",
       "  <thead>\n",
       "    <tr style=\"text-align: right;\">\n",
       "      <th></th>\n",
       "      <th>time</th>\n",
       "      <th>segments</th>\n",
       "      <th>level</th>\n",
       "      <th>variable</th>\n",
       "      <th>value</th>\n",
       "    </tr>\n",
       "  </thead>\n",
       "  <tbody>\n",
       "    <tr>\n",
       "      <th>356658</th>\n",
       "      <td>1</td>\n",
       "      <td>Canada5527</td>\n",
       "      <td>10.0</td>\n",
       "      <td>Construct</td>\n",
       "      <td>0.056436</td>\n",
       "    </tr>\n",
       "    <tr>\n",
       "      <th>423418</th>\n",
       "      <td>1</td>\n",
       "      <td>Canada5527</td>\n",
       "      <td>100.0</td>\n",
       "      <td>Construct</td>\n",
       "      <td>0.058993</td>\n",
       "    </tr>\n",
       "    <tr>\n",
       "      <th>489078</th>\n",
       "      <td>1</td>\n",
       "      <td>Canada5527</td>\n",
       "      <td>1000.0</td>\n",
       "      <td>Construct</td>\n",
       "      <td>0.079407</td>\n",
       "    </tr>\n",
       "    <tr>\n",
       "      <th>554558</th>\n",
       "      <td>1</td>\n",
       "      <td>Canada5527</td>\n",
       "      <td>10000.0</td>\n",
       "      <td>Construct</td>\n",
       "      <td>0.352820</td>\n",
       "    </tr>\n",
       "  </tbody>\n",
       "</table>\n",
       "</div>"
      ],
      "text/plain": [
       "        time    segments    level   variable     value\n",
       "356658     1  Canada5527     10.0  Construct  0.056436\n",
       "423418     1  Canada5527    100.0  Construct  0.058993\n",
       "489078     1  Canada5527   1000.0  Construct  0.079407\n",
       "554558     1  Canada5527  10000.0  Construct  0.352820"
      ]
     },
     "execution_count": 445,
     "metadata": {},
     "output_type": "execute_result"
    }
   ],
   "source": [
    "dfG85.loc[(dfG85.variable==\"Construct\") & (dfG85.time==1) & (dfG85.segments==seg1)]"
   ]
  },
  {
   "cell_type": "code",
   "execution_count": 447,
   "metadata": {},
   "outputs": [
    {
     "data": {
      "text/html": [
       "<div>\n",
       "<style scoped>\n",
       "    .dataframe tbody tr th:only-of-type {\n",
       "        vertical-align: middle;\n",
       "    }\n",
       "\n",
       "    .dataframe tbody tr th {\n",
       "        vertical-align: top;\n",
       "    }\n",
       "\n",
       "    .dataframe thead th {\n",
       "        text-align: right;\n",
       "    }\n",
       "</style>\n",
       "<table border=\"1\" class=\"dataframe\">\n",
       "  <thead>\n",
       "    <tr style=\"text-align: right;\">\n",
       "      <th></th>\n",
       "      <th>time</th>\n",
       "      <th>regions</th>\n",
       "      <th>segments</th>\n",
       "      <th>level</th>\n",
       "      <th>variable</th>\n",
       "      <th>value</th>\n",
       "    </tr>\n",
       "  </thead>\n",
       "  <tbody>\n",
       "    <tr>\n",
       "      <th>480780</th>\n",
       "      <td>1</td>\n",
       "      <td>CAN</td>\n",
       "      <td>Canada5527</td>\n",
       "      <td>10.0</td>\n",
       "      <td>Construct</td>\n",
       "      <td>0.004040</td>\n",
       "    </tr>\n",
       "    <tr>\n",
       "      <th>500780</th>\n",
       "      <td>1</td>\n",
       "      <td>CAN</td>\n",
       "      <td>Canada5527</td>\n",
       "      <td>100.0</td>\n",
       "      <td>Construct</td>\n",
       "      <td>0.051246</td>\n",
       "    </tr>\n",
       "    <tr>\n",
       "      <th>520780</th>\n",
       "      <td>1</td>\n",
       "      <td>CAN</td>\n",
       "      <td>Canada5527</td>\n",
       "      <td>1000.0</td>\n",
       "      <td>Construct</td>\n",
       "      <td>0.085356</td>\n",
       "    </tr>\n",
       "    <tr>\n",
       "      <th>540780</th>\n",
       "      <td>1</td>\n",
       "      <td>CAN</td>\n",
       "      <td>Canada5527</td>\n",
       "      <td>10000.0</td>\n",
       "      <td>Construct</td>\n",
       "      <td>0.542185</td>\n",
       "    </tr>\n",
       "    <tr>\n",
       "      <th>560780</th>\n",
       "      <td>1</td>\n",
       "      <td>CAN</td>\n",
       "      <td>Canada5527</td>\n",
       "      <td>0.0</td>\n",
       "      <td>Construct</td>\n",
       "      <td>0.000000</td>\n",
       "    </tr>\n",
       "  </tbody>\n",
       "</table>\n",
       "</div>"
      ],
      "text/plain": [
       "        time regions    segments    level   variable     value\n",
       "480780     1     CAN  Canada5527     10.0  Construct  0.004040\n",
       "500780     1     CAN  Canada5527    100.0  Construct  0.051246\n",
       "520780     1     CAN  Canada5527   1000.0  Construct  0.085356\n",
       "540780     1     CAN  Canada5527  10000.0  Construct  0.542185\n",
       "560780     1     CAN  Canada5527      0.0  Construct  0.000000"
      ]
     },
     "execution_count": 447,
     "metadata": {},
     "output_type": "execute_result"
    }
   ],
   "source": [
    "dfS.loc[(dfS.variable==\"Construct\") & (dfS.time==1) & (dfS.segments==seg1)]"
   ]
  },
  {
   "cell_type": "markdown",
   "metadata": {},
   "source": [
    "### Checking all RetreatCost, or other quantities with `levels`, for a certain time"
   ]
  },
  {
   "cell_type": "code",
   "execution_count": 488,
   "metadata": {},
   "outputs": [],
   "source": [
    "tol = 0.0001\n",
    "bad_segs = []\n",
    "var = \"RetreatCost\"\n",
    "t = 1\n",
    "for seg in segments_test:\n",
    "    levels = dfG2.loc[(dfG2.time==t) & (dfG2.variable==var) & (dfG2.segments==seg), \"level\"].unique()\n",
    "    D = [float(dfG2.loc[(dfG2.variable==var) & (dfG2.level==lev) & (dfG2.time==t) & (dfG2.segments==seg), \"value\"]) for lev in levels]\n",
    "    N = [float(dfN2.loc[(dfN2.variable==var) & (dfN2.level==lev) & (dfN2.time==t) & (dfN2.segments==seg), \"value\"]) for lev in levels]\n",
    "    max_err = np.max([N[i] - D[i] for i in range(len(levels))])\n",
    "    if max_err > tol:\n",
    "        bad_segs.append(seg)\n",
    "        print(seg, max_err, \"<========================\")\n",
    "#    else:\n",
    "        #print(seg, max_err)"
   ]
  },
  {
   "cell_type": "markdown",
   "metadata": {},
   "source": [
    "### Checking all ProtectCost"
   ]
  },
  {
   "cell_type": "code",
   "execution_count": 517,
   "metadata": {
    "collapsed": true,
    "jupyter": {
     "outputs_hidden": true
    }
   },
   "outputs": [
    {
     "name": "stdout",
     "output_type": "stream",
     "text": [
      "Canada5527 0.1893652968916057 <========================\n",
      "Canada5687 0.018379222159555675 <========================\n",
      "Canada5691 0.11234703253702003 <========================\n",
      "Canada5698 0.024907150539546515 <========================\n",
      "Norway8935 0.07640089147347512 <========================\n",
      "Norway8936 0.07654756517568732 <========================\n",
      "Norway8944 0.3998619855312493 <========================\n",
      "Norway8946 2.383589149912153 <========================\n",
      "Norway8947 0.047441195449225565 <========================\n",
      "Norway8948 0.13590917641936595 <========================\n",
      "Norway8949 0.013635878728116748 <========================\n",
      "Norway8950 0.011377199866797347 <========================\n",
      "Norway8951 0.00545711443805138 <========================\n",
      "Norway8952 0.052758567206560844 <========================\n",
      "Norway8953 0.028897040303193535 <========================\n",
      "Norway8954 0.029853595454764688 <========================\n",
      "Norway8955 0.024783529937449582 <========================\n",
      "Norway8956 0.016467943067858228 <========================\n",
      "Norway8957 0.008346337899889032 <========================\n",
      "Norway8958 0.05846532442622835 <========================\n",
      "Norway8959 0.012275644998304153 <========================\n",
      "Norway8960 0.1976804721734298 <========================\n",
      "Norway8961 0.004522961339143156 <========================\n",
      "Norway8962 0.0026049901080750144 <========================\n",
      "Norway8963 0.017037725386301484 <========================\n",
      "Norway8964 0.043841800062618695 <========================\n",
      "Norway8965 0.08201613951442213 <========================\n",
      "Norway8966 0.011715144723197773 <========================\n",
      "Norway8967 2.3572513307596603 <========================\n",
      "Norway8968 0.02178990324270231 <========================\n",
      "Norway8969 0.4880791813427447 <========================\n",
      "Norway8970 0.008949645344044141 <========================\n",
      "Norway8971 0.1504707416123616 <========================\n",
      "Norway8972 0.0074262496202237875 <========================\n",
      "Norway8973 0.23489970637766158 <========================\n",
      "Norway8974 0.00821558846177167 <========================\n",
      "Norway8975 0.005014140003150908 <========================\n",
      "Norway9090 0.1406632632256285 <========================\n",
      "Norway9109 0.05795834641892681 <========================\n",
      "Norway9111 0.1203888044327454 <========================\n",
      "Norway9115 0.16138802472279645 <========================\n",
      "Norway9117 0.05770488815338895 <========================\n",
      "Norway9118 0.007467496034299323 <========================\n",
      "Norway9119 0.0838196406448224 <========================\n",
      "Norway9121 0.14915558094963038 <========================\n",
      "Norway9122 0.012808624735120505 <========================\n",
      "Norway9123 0.055120206442882014 <========================\n",
      "Norway9127 0.1542652378776892 <========================\n",
      "Norway9130 0.1064692501948536 <========================\n",
      "Norway9135 0.06922231119433206 <========================\n",
      "Norway9152 0.5516295646483741 <========================\n",
      "Norway9168 0.019277431297374168 <========================\n",
      "Norway9169 0.1674489525616479 <========================\n",
      "Norway9170 0.008447974722606832 <========================\n",
      "Norway9171 0.24837004647518895 <========================\n",
      "Norway9172 0.0040991515762936635 <========================\n",
      "Norway9173 0.21615400320059347 <========================\n",
      "Norway9174 0.024419276339428357 <========================\n",
      "Norway9175 0.036471511179155286 <========================\n",
      "Norway9176 0.0025579196378104144 <========================\n",
      "Norway9177 0.23256063539885763 <========================\n",
      "Norway9178 0.011145774951244436 <========================\n",
      "Norway9179 0.035990597358113496 <========================\n",
      "Norway9180 0.016757452418887087 <========================\n",
      "Norway9181 0.0890193523230206 <========================\n",
      "Norway9182 0.06810448367937613 <========================\n",
      "Norway9183 1.8918357609691 <========================\n",
      "RussianFederation9285 0.5431144562433798 <========================\n",
      "RussianFederation9289 0.052316790258952 <========================\n",
      "RussianFederation9290 0.045872149808908275 <========================\n",
      "RussianFederation9293 0.08491794166846406 <========================\n",
      "RussianFederation9294 0.00013489334460166773 <========================\n",
      "RussianFederation9295 0.005568217434136321 <========================\n",
      "RussianFederation9307 0.03516388067097601 <========================\n",
      "RussianFederation9308 0.1056044002866364 <========================\n",
      "RussianFederation9309 0.023615316193982452 <========================\n",
      "RussianFederation9310 0.012848194379279185 <========================\n",
      "RussianFederation9311 0.0032187267002323555 <========================\n",
      "RussianFederation9312 0.0015554038371398226 <========================\n",
      "RussianFederation9314 0.04536928968183618 <========================\n",
      "RussianFederation9315 0.008507266510396167 <========================\n",
      "RussianFederation9316 0.0005629946444386337 <========================\n",
      "RussianFederation9317 0.010188208222001642 <========================\n",
      "RussianFederation9319 0.030498735212068646 <========================\n",
      "RussianFederation9320 0.12192615998896503 <========================\n",
      "RussianFederation9321 0.03157350314142769 <========================\n",
      "RussianFederation9322 0.00730375335559294 <========================\n",
      "RussianFederation9323 0.001120229150726549 <========================\n",
      "RussianFederation9324 0.03435115693341058 <========================\n",
      "RussianFederation9325 0.024144882170469506 <========================\n",
      "RussianFederation9326 0.03250262416532615 <========================\n",
      "RussianFederation9327 0.09692008175145478 <========================\n",
      "RussianFederation9328 0.16951951532481968 <========================\n",
      "RussianFederation9329 0.03176714943743258 <========================\n",
      "RussianFederation9330 0.002101346612897235 <========================\n",
      "RussianFederation9331 0.06803000336942093 <========================\n",
      "RussianFederation9343 1.0608466741937002 <========================\n",
      "RussianFederation9348 0.2012818948681513 <========================\n",
      "RussianFederation9357 0.0652310245265783 <========================\n",
      "RussianFederation9358 0.05015769194579685 <========================\n",
      "RussianFederation9361 0.13426036592673002 <========================\n",
      "RussianFederation9362 0.03586992139932609 <========================\n",
      "RussianFederation9363 0.0008360162467476188 <========================\n",
      "RussianFederation9364 0.14484163847622847 <========================\n",
      "RussianFederation9367 0.0042341631988715095 <========================\n",
      "RussianFederation9368 0.0022600654717975623 <========================\n",
      "RussianFederation9369 0.08832445150109672 <========================\n",
      "RussianFederation9370 0.11171517400045083 <========================\n",
      "RussianFederation9371 0.052828948689040256 <========================\n",
      "RussianFederation9372 0.029996618189752793 <========================\n",
      "RussianFederation9373 0.031079438341025875 <========================\n",
      "RussianFederation9374 0.07277128564069676 <========================\n",
      "RussianFederation9375 0.01989960948406154 <========================\n",
      "RussianFederation9376 0.002119960108737432 <========================\n",
      "RussianFederation9377 0.03460995586881633 <========================\n",
      "RussianFederation9378 0.0018613127580612036 <========================\n",
      "RussianFederation9379 0.04533144628262176 <========================\n",
      "RussianFederation9380 0.05930234378850681 <========================\n",
      "RussianFederation9381 0.07022029980853721 <========================\n",
      "RussianFederation9383 0.05154125990298354 <========================\n",
      "RussianFederation9385 0.04301271413965644 <========================\n",
      "RussianFederation9386 0.024429903298527227 <========================\n",
      "RussianFederation9388 0.017637866280295064 <========================\n",
      "RussianFederation9389 0.00434996217176448 <========================\n",
      "RussianFederation9390 0.03369142778680673 <========================\n",
      "RussianFederation9391 0.09850021828051492 <========================\n",
      "RussianFederation9392 0.0515971205774005 <========================\n",
      "RussianFederation9393 0.0030419102431101875 <========================\n",
      "RussianFederation9394 0.005015946757618658 <========================\n",
      "RussianFederation9395 0.008672281123577747 <========================\n",
      "RussianFederation9396 0.0012478465009254911 <========================\n",
      "RussianFederation9397 0.0014748953508619779 <========================\n",
      "RussianFederation9398 0.0023090048371232547 <========================\n",
      "RussianFederation9399 0.000388681703665308 <========================\n",
      "RussianFederation9400 0.14659324978836172 <========================\n",
      "RussianFederation9404 0.00791605193603637 <========================\n",
      "RussianFederation9405 0.006135646020530398 <========================\n",
      "RussianFederation9406 0.02178150735171143 <========================\n",
      "RussianFederation9411 0.12812296555367128 <========================\n",
      "RussianFederation9412 0.0016586366083305923 <========================\n",
      "RussianFederation9413 0.07165930316819907 <========================\n",
      "RussianFederation9414 0.039798040672560764 <========================\n",
      "RussianFederation9415 0.0014858899567076135 <========================\n",
      "RussianFederation9416 0.06298045479414346 <========================\n",
      "RussianFederation9510 0.009831423414847218 <========================\n",
      "RussianFederation9515 0.0007243553670643194 <========================\n",
      "RussianFederation9516 0.00018842430577166794 <========================\n",
      "RussianFederation9517 0.00530324995506426 <========================\n",
      "UnitedStates3410 0.628365649647038 <========================\n",
      "UnitedStates3425 0.0010527238626332203 <========================\n",
      "UnitedStates3426 0.2057505835220811 <========================\n",
      "UnitedStates3428 0.11289790705825425 <========================\n",
      "UnitedStates3430 0.00587935922351468 <========================\n",
      "UnitedStates3435 0.1346385151427043 <========================\n",
      "UnitedStates3439 0.030215949458723038 <========================\n",
      "UnitedStates3441 0.15208878609037058 <========================\n",
      "UnitedStates3443 1.911328602044968 <========================\n",
      "UnitedStates5017 0.021908170807781735 <========================\n",
      "UnitedStates5018 0.017743157864272337 <========================\n",
      "UnitedStates5019 0.03873465566643068 <========================\n",
      "UnitedStates5020 0.02292853293930104 <========================\n",
      "UnitedStates5021 0.03430056915563491 <========================\n",
      "UnitedStates5022 0.02358116294351964 <========================\n",
      "UnitedStates5023 0.11473593704594348 <========================\n",
      "UnitedStates5024 0.29511812840448015 <========================\n",
      "UnitedStates5025 0.0017589736302647532 <========================\n",
      "UnitedStates5026 0.0002816011602195681 <========================\n",
      "UnitedStates5027 0.0030820152032083846 <========================\n",
      "UnitedStates5028 0.14069406757707348 <========================\n",
      "UnitedStates5029 0.020001987183296044 <========================\n",
      "UnitedStates5030 0.017053907105617966 <========================\n",
      "UnitedStates5031 0.036652929480417 <========================\n",
      "UnitedStates5032 0.0198749159180496 <========================\n",
      "UnitedStates5033 0.00017328800945769218 <========================\n",
      "UnitedStates5034 0.0002950327913148615 <========================\n",
      "UnitedStates5035 0.0002096823608591647 <========================\n",
      "UnitedStates5036 0.00034162633539613907 <========================\n",
      "UnitedStates5037 0.0004506330646219525 <========================\n",
      "UnitedStates5038 0.00037043761574563627 <========================\n",
      "UnitedStates5049 0.6474236356527787 <========================\n",
      "UnitedStates5052 0.06516915720996207 <========================\n",
      "UnitedStates5053 0.4549430704097184 <========================\n",
      "UnitedStates5060 0.2760609656970209 <========================\n"
     ]
    }
   ],
   "source": [
    "tol = 0.0001\n",
    "bad_segs = []\n",
    "var = \"ProtectCost\"\n",
    "t = 1\n",
    "for seg in segments_test:\n",
    "    levels = dfG2.loc[(dfG2.time==t) & (dfG2.variable==var) & (dfG2.segments==seg), \"level\"].unique()\n",
    "    D = [float(dfG2.loc[(dfG2.variable==var) & (dfG2.level==lev) & (dfG2.time==t) & (dfG2.segments==seg), \"value\"]) for lev in levels]\n",
    "    N = [float(dfN2.loc[(dfN2.variable==var) & (dfN2.level==lev) & (dfN2.time==t) & (dfN2.segments==seg), \"value\"]) for lev in levels]\n",
    "    max_err = np.max([N[i] - D[i] for i in range(len(levels))])\n",
    "    if max_err > tol:\n",
    "        bad_segs.append(seg)\n",
    "        print(seg, max_err, \"<========================\")\n",
    "#    else:\n",
    "        #print(seg, max_err)"
   ]
  },
  {
   "cell_type": "code",
   "execution_count": 520,
   "metadata": {
    "collapsed": true,
    "jupyter": {
     "outputs_hidden": true
    }
   },
   "outputs": [
    {
     "name": "stdout",
     "output_type": "stream",
     "text": [
      "['Canada5527', 'Canada5687', 'Canada5691', 'Canada5698', 'Norway8935', 'Norway8936', 'Norway8944', 'Norway8946', 'Norway8947', 'Norway8948', 'Norway8949', 'Norway8950', 'Norway8951', 'Norway8952', 'Norway8953', 'Norway8954', 'Norway8955', 'Norway8956', 'Norway8957', 'Norway8958', 'Norway8959', 'Norway8960', 'Norway8961', 'Norway8962', 'Norway8963', 'Norway8964', 'Norway8965', 'Norway8966', 'Norway8967', 'Norway8968', 'Norway8969', 'Norway8970', 'Norway8971', 'Norway8972', 'Norway8973', 'Norway8974', 'Norway8975', 'Norway9090', 'Norway9109', 'Norway9111', 'Norway9115', 'Norway9117', 'Norway9118', 'Norway9119', 'Norway9121', 'Norway9122', 'Norway9123', 'Norway9127', 'Norway9130', 'Norway9135', 'Norway9152', 'Norway9168', 'Norway9169', 'Norway9170', 'Norway9171', 'Norway9172', 'Norway9173', 'Norway9174', 'Norway9175', 'Norway9176', 'Norway9177', 'Norway9178', 'Norway9179', 'Norway9180', 'Norway9181', 'Norway9182', 'Norway9183', 'RussianFederation9285', 'RussianFederation9289', 'RussianFederation9290', 'RussianFederation9293', 'RussianFederation9294', 'RussianFederation9295', 'RussianFederation9307', 'RussianFederation9308', 'RussianFederation9309', 'RussianFederation9310', 'RussianFederation9311', 'RussianFederation9312', 'RussianFederation9314', 'RussianFederation9315', 'RussianFederation9316', 'RussianFederation9317', 'RussianFederation9319', 'RussianFederation9320', 'RussianFederation9321', 'RussianFederation9322', 'RussianFederation9323', 'RussianFederation9324', 'RussianFederation9325', 'RussianFederation9326', 'RussianFederation9327', 'RussianFederation9328', 'RussianFederation9329', 'RussianFederation9330', 'RussianFederation9331', 'RussianFederation9343', 'RussianFederation9348', 'RussianFederation9357', 'RussianFederation9358', 'RussianFederation9361', 'RussianFederation9362', 'RussianFederation9363', 'RussianFederation9364', 'RussianFederation9367', 'RussianFederation9368', 'RussianFederation9369', 'RussianFederation9370', 'RussianFederation9371', 'RussianFederation9372', 'RussianFederation9373', 'RussianFederation9374', 'RussianFederation9375', 'RussianFederation9376', 'RussianFederation9377', 'RussianFederation9378', 'RussianFederation9379', 'RussianFederation9380', 'RussianFederation9381', 'RussianFederation9383', 'RussianFederation9385', 'RussianFederation9386', 'RussianFederation9388', 'RussianFederation9389', 'RussianFederation9390', 'RussianFederation9391', 'RussianFederation9392', 'RussianFederation9393', 'RussianFederation9394', 'RussianFederation9395', 'RussianFederation9396', 'RussianFederation9397', 'RussianFederation9398', 'RussianFederation9399', 'RussianFederation9400', 'RussianFederation9404', 'RussianFederation9405', 'RussianFederation9406', 'RussianFederation9411', 'RussianFederation9412', 'RussianFederation9413', 'RussianFederation9414', 'RussianFederation9415', 'RussianFederation9416', 'RussianFederation9510', 'RussianFederation9515', 'RussianFederation9516', 'RussianFederation9517', 'UnitedStates3410', 'UnitedStates3425', 'UnitedStates3426', 'UnitedStates3428', 'UnitedStates3430', 'UnitedStates3435', 'UnitedStates3439', 'UnitedStates3441', 'UnitedStates3443', 'UnitedStates5017', 'UnitedStates5018', 'UnitedStates5019', 'UnitedStates5020', 'UnitedStates5021', 'UnitedStates5022', 'UnitedStates5023', 'UnitedStates5024', 'UnitedStates5025', 'UnitedStates5026', 'UnitedStates5027', 'UnitedStates5028', 'UnitedStates5029', 'UnitedStates5030', 'UnitedStates5031', 'UnitedStates5032', 'UnitedStates5033', 'UnitedStates5034', 'UnitedStates5035', 'UnitedStates5036', 'UnitedStates5037', 'UnitedStates5038', 'UnitedStates5049', 'UnitedStates5052', 'UnitedStates5053', 'UnitedStates5060']\n"
     ]
    }
   ],
   "source": [
    "print(bad_segs)"
   ]
  },
  {
   "cell_type": "code",
   "execution_count": 518,
   "metadata": {},
   "outputs": [
    {
     "data": {
      "text/plain": [
       "183"
      ]
     },
     "execution_count": 518,
     "metadata": {},
     "output_type": "execute_result"
    }
   ],
   "source": [
    "len(bad_segs)"
   ]
  },
  {
   "cell_type": "markdown",
   "metadata": {},
   "source": [
    "ProtectCost is composed of:\n",
    "`                                v.ProtectCost[tj,m,i-1] = v.Construct[tj,m,i-1] + v.WetlandProtect[tj,m] + v.StormCapitalProtect[tj,m,i-1] + v.StormPopProtect[tj,m,i-1] + v.FloodProtect[tj,m]\n",
    "`\n",
    "\n",
    "So check those"
   ]
  },
  {
   "cell_type": "markdown",
   "metadata": {},
   "source": [
    "### Checking all WetlandProtect, or other quantities without `levels`, over all times"
   ]
  },
  {
   "cell_type": "code",
   "execution_count": 510,
   "metadata": {},
   "outputs": [],
   "source": [
    "tol = 0.0001\n",
    "bad_segs = []\n",
    "var = \"WetlandProtect\"\n",
    "segments_wetland = dfG2.loc[(dfG2.variable==var) & (dfG2.time==1), \"segments\"].unique()\n",
    "for seg in segments_wetland:\n",
    "    D = [float(dfG2.loc[(dfG2.variable==var) & (dfG2.time==t) & (dfG2.segments==seg), \"value\"].iloc[0]) for t in range(1,15)]\n",
    "    N = [float(dfN2.loc[(dfN2.variable==var) & (dfN2.time==t) & (dfN2.segments==seg), \"value\"]) for t in range(1,15)]\n",
    "    max_err = np.max([N[i] - D[i] for i in range(len(N))])\n",
    "    if max_err > tol:\n",
    "        bad_segs.append(seg)\n",
    "        print(seg, max_err, \"<========================\")\n",
    "#    else:\n",
    "        #print(seg, max_err)"
   ]
  },
  {
   "cell_type": "code",
   "execution_count": 525,
   "metadata": {},
   "outputs": [
    {
     "data": {
      "text/plain": [
       "'Canada5106'"
      ]
     },
     "execution_count": 525,
     "metadata": {},
     "output_type": "execute_result"
    }
   ],
   "source": [
    "seg"
   ]
  },
  {
   "cell_type": "code",
   "execution_count": 528,
   "metadata": {},
   "outputs": [
    {
     "data": {
      "text/plain": [
       "array(['FloodRetreat', 'RetreatCost', 'WetlandRetreat', 'RelocateRetreat',\n",
       "       'StormCapitalRetreat', 'StormPopRetreat', 'Construct',\n",
       "       'ProtectCost', 'WetlandProtect', 'StormCapitalProtect',\n",
       "       'StormPopProtect', 'FloodNoAdapt', 'NoAdaptCost', 'WetlandNoAdapt',\n",
       "       'RelocateNoAdapt', 'StormCapitalNoAdapt', 'StormPopNoAdapt',\n",
       "       'FloodOptimalFixed', 'OptimalFixedCost', 'WetlandOptimalFixed',\n",
       "       'RelocateOptimalFixed', 'StormCapitalOptimalFixed',\n",
       "       'StormPopOptimalFixed', 'ConstructOptimalFixed'], dtype=object)"
      ]
     },
     "execution_count": 528,
     "metadata": {},
     "output_type": "execute_result"
    }
   ],
   "source": [
    "dfG2.variable.unique()"
   ]
  },
  {
   "cell_type": "code",
   "execution_count": 549,
   "metadata": {},
   "outputs": [],
   "source": [
    "tol = 0.0001\n",
    "bad_segs = []\n",
    "var = \"StormCapitalProtect\"\n",
    "t = 1\n",
    "for seg in segments_test:\n",
    "    levels = dfG2.loc[(dfG2.time==t) & (dfG2.variable==var) & (dfG2.segments==seg), \"level\"].unique()\n",
    "    if (len(levels) > 0):\n",
    "        D = [float(dfG2.loc[(dfG2.variable==var) & (dfG2.level==lev) & (dfG2.time==t) & (dfG2.segments==seg), \"value\"]) for lev in levels]\n",
    "        N = [float(dfN2.loc[(dfN2.variable==var) & (dfN2.level==lev) & (dfN2.time==t) & (dfN2.segments==seg), \"value\"]) for lev in levels]\n",
    "        max_err = np.max([N[i] - D[i] for i in range(len(levels))])\n",
    "        if max_err > tol:\n",
    "            bad_segs.append(seg)\n",
    "            print(seg, max_err, \"<========================\")\n",
    "    else:\n",
    "        N = list(dfN2.loc[(dfN2.variable==var) & (dfN2.time==t) & (dfN2.segments==seg), \"value\"])\n",
    "        if np.abs(np.median(N)) > tol/10:\n",
    "            bad_segs.append(seg)\n",
    "            print(seg, N, \"<============ no StormCapitalProtect value issue\")"
   ]
  },
  {
   "cell_type": "code",
   "execution_count": 550,
   "metadata": {},
   "outputs": [],
   "source": [
    "tol = 0.0001\n",
    "bad_segs = []\n",
    "var = \"StormPopProtect\"\n",
    "t = 1\n",
    "for seg in segments_test:\n",
    "    levels = dfG2.loc[(dfG2.time==t) & (dfG2.variable==var) & (dfG2.segments==seg), \"level\"].unique()\n",
    "    if (len(levels) > 0):\n",
    "        D = [float(dfG2.loc[(dfG2.variable==var) & (dfG2.level==lev) & (dfG2.time==t) & (dfG2.segments==seg), \"value\"]) for lev in levels]\n",
    "        N = [float(dfN2.loc[(dfN2.variable==var) & (dfN2.level==lev) & (dfN2.time==t) & (dfN2.segments==seg), \"value\"]) for lev in levels]\n",
    "        max_err = np.max([N[i] - D[i] for i in range(len(levels))])\n",
    "        if max_err > tol:\n",
    "            bad_segs.append(seg)\n",
    "            print(seg, max_err, \"<========================\")\n",
    "    else:\n",
    "        N = list(dfN2.loc[(dfN2.variable==var) & (dfN2.time==t) & (dfN2.segments==seg), \"value\"])\n",
    "        if np.abs(np.median(N)) > tol/10:\n",
    "            bad_segs.append(seg)\n",
    "            print(seg, N, \"<============ no StormPopProtect value issue\")"
   ]
  },
  {
   "cell_type": "code",
   "execution_count": 553,
   "metadata": {},
   "outputs": [
    {
     "data": {
      "text/plain": [
       "array(['FloodRetreat', 'RetreatCost', 'WetlandRetreat', 'RelocateRetreat',\n",
       "       'StormCapitalRetreat', 'StormPopRetreat', 'Construct',\n",
       "       'ProtectCost', 'WetlandProtect', 'StormCapitalProtect',\n",
       "       'StormPopProtect', 'FloodNoAdapt', 'NoAdaptCost', 'WetlandNoAdapt',\n",
       "       'RelocateNoAdapt', 'StormCapitalNoAdapt', 'StormPopNoAdapt',\n",
       "       'FloodOptimalFixed', 'OptimalFixedCost', 'WetlandOptimalFixed',\n",
       "       'RelocateOptimalFixed', 'StormCapitalOptimalFixed',\n",
       "       'StormPopOptimalFixed', 'ConstructOptimalFixed'], dtype=object)"
      ]
     },
     "execution_count": 553,
     "metadata": {},
     "output_type": "execute_result"
    }
   ],
   "source": [
    "dfG2.variable.unique()"
   ]
  },
  {
   "cell_type": "code",
   "execution_count": 555,
   "metadata": {},
   "outputs": [
    {
     "data": {
      "text/plain": [
       "array(['FloodNoAdapt', 'RelocateNoAdapt', 'StormCapitalNoAdapt',\n",
       "       'NoAdaptCost', 'OptimalCost', 'WetlandProtect', 'StormPopNoAdapt',\n",
       "       'WetlandRetreat', 'WetlandNoAdapt', 'StormPopProtect',\n",
       "       'StormCapitalProtect', 'ProtectCost', 'Construct',\n",
       "       'StormCapitalRetreat', 'StormPopRetreat', 'RetreatCost',\n",
       "       'FloodRetreat', 'RelocateRetreat'], dtype=object)"
      ]
     },
     "execution_count": 555,
     "metadata": {},
     "output_type": "execute_result"
    }
   ],
   "source": [
    "dfN2.variable.unique()"
   ]
  },
  {
   "cell_type": "code",
   "execution_count": 552,
   "metadata": {},
   "outputs": [
    {
     "data": {
      "text/html": [
       "<div>\n",
       "<style scoped>\n",
       "    .dataframe tbody tr th:only-of-type {\n",
       "        vertical-align: middle;\n",
       "    }\n",
       "\n",
       "    .dataframe tbody tr th {\n",
       "        vertical-align: top;\n",
       "    }\n",
       "\n",
       "    .dataframe thead th {\n",
       "        text-align: right;\n",
       "    }\n",
       "</style>\n",
       "<table border=\"1\" class=\"dataframe\">\n",
       "  <thead>\n",
       "    <tr style=\"text-align: right;\">\n",
       "      <th></th>\n",
       "      <th>time</th>\n",
       "      <th>segments</th>\n",
       "      <th>level</th>\n",
       "      <th>variable</th>\n",
       "      <th>value</th>\n",
       "    </tr>\n",
       "  </thead>\n",
       "  <tbody>\n",
       "  </tbody>\n",
       "</table>\n",
       "</div>"
      ],
      "text/plain": [
       "Empty DataFrame\n",
       "Columns: [time, segments, level, variable, value]\n",
       "Index: []"
      ]
     },
     "execution_count": 552,
     "metadata": {},
     "output_type": "execute_result"
    }
   ],
   "source": [
    "dfG2.loc[dfG2.variable==\"FloodProtect\"]"
   ]
  },
  {
   "cell_type": "code",
   "execution_count": 556,
   "metadata": {},
   "outputs": [],
   "source": [
    "tol = 0.0001\n",
    "bad_segs = []\n",
    "var = \"FloodRetreat\"\n",
    "t = 1\n",
    "for seg in segments_test:\n",
    "    levels = dfG2.loc[(dfG2.time==t) & (dfG2.variable==var) & (dfG2.segments==seg), \"level\"].unique()\n",
    "    if (len(levels) > 0):\n",
    "        D = [float(dfG2.loc[(dfG2.variable==var) & (dfG2.level==lev) & (dfG2.time==t) & (dfG2.segments==seg), \"value\"]) for lev in levels]\n",
    "        N = [float(dfN2.loc[(dfN2.variable==var) & (dfN2.level==lev) & (dfN2.time==t) & (dfN2.segments==seg), \"value\"]) for lev in levels]\n",
    "        max_err = np.max([N[i] - D[i] for i in range(len(levels))])\n",
    "        if max_err > tol:\n",
    "            bad_segs.append(seg)\n",
    "            print(seg, max_err, \"<========================\")\n",
    "    else:\n",
    "        N = list(dfN2.loc[(dfN2.variable==var) & (dfN2.time==t) & (dfN2.segments==seg), \"value\"])\n",
    "        if np.abs(np.median(N)) > tol/10:\n",
    "            bad_segs.append(seg)\n",
    "            print(seg, N, \"<============ no FloodRetreat value issue\")"
   ]
  },
  {
   "cell_type": "code",
   "execution_count": 515,
   "metadata": {},
   "outputs": [
    {
     "name": "stdout",
     "output_type": "stream",
     "text": [
      "        time    segments    level     variable     value\n",
      "385541     1  Canada3384     10.0  ProtectCost  0.087623\n",
      "452281     1  Canada3384    100.0  ProtectCost  0.133994\n",
      "517761     1  Canada3384   1000.0  ProtectCost  0.167694\n",
      "583241     1  Canada3384  10000.0  ProtectCost  0.592483\n",
      "        time regions    segments    level     variable     value\n",
      "380000     1     CAN  Canada3384     10.0  ProtectCost  0.087623\n",
      "400000     1     CAN  Canada3384    100.0  ProtectCost  0.133994\n",
      "420000     1     CAN  Canada3384   1000.0  ProtectCost  0.167694\n",
      "440000     1     CAN  Canada3384  10000.0  ProtectCost  0.592483\n",
      "460000     1     CAN  Canada3384      0.0  ProtectCost  0.000007\n"
     ]
    }
   ],
   "source": [
    "print(dfG2.loc[(dfG2.variable==var) & (dfG2.time==t) & (dfG2.segments==seg)])\n",
    "print(dfN2.loc[(dfN2.variable==var) & (dfN2.time==t) & (dfN2.segments==seg)])"
   ]
  },
  {
   "cell_type": "code",
   "execution_count": null,
   "metadata": {},
   "outputs": [],
   "source": []
  }
 ],
 "metadata": {
  "kernelspec": {
   "display_name": "Python 3",
   "language": "python",
   "name": "python3"
  },
  "language_info": {
   "codemirror_mode": {
    "name": "ipython",
    "version": 3
   },
   "file_extension": ".py",
   "mimetype": "text/x-python",
   "name": "python",
   "nbconvert_exporter": "python",
   "pygments_lexer": "ipython3",
   "version": "3.7.3"
  }
 },
 "nbformat": 4,
 "nbformat_minor": 4
}
