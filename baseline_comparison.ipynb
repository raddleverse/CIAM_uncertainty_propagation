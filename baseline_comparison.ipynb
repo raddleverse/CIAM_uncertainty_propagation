{
 "cells": [
  {
   "cell_type": "code",
   "execution_count": 1,
   "metadata": {},
   "outputs": [],
   "source": [
    "import numpy as np\n",
    "import pandas as pd\n",
    "import matplotlib.pyplot as plt\n",
    "%matplotlib inline"
   ]
  },
  {
   "cell_type": "code",
   "execution_count": 2,
   "metadata": {},
   "outputs": [],
   "source": [
    "dir_gams = \"~/codes/CIAM-Work/gams-outputs/gams-results\""
   ]
  },
  {
   "cell_type": "markdown",
   "metadata": {},
   "source": [
    "### RCP8.5 baseline results from Diaz 2016"
   ]
  },
  {
   "cell_type": "markdown",
   "metadata": {},
   "source": [
    "file names"
   ]
  },
  {
   "cell_type": "code",
   "execution_count": 5,
   "metadata": {},
   "outputs": [],
   "source": [
    "files_rcp85 = [\"rcp85p50ref\"+str(k)+\".csv\" for k in range(1,11)]"
   ]
  },
  {
   "cell_type": "markdown",
   "metadata": {},
   "source": [
    "read the files, place in a list of Pandas DataFrames"
   ]
  },
  {
   "cell_type": "code",
   "execution_count": 46,
   "metadata": {},
   "outputs": [],
   "source": [
    "dfG85_all = []\n",
    "for file in files_rcp85:\n",
    "    dfG85_all.append(pd.read_csv(dir_gams+\"/rcp85/\"+file))"
   ]
  },
  {
   "cell_type": "markdown",
   "metadata": {},
   "source": [
    "concatenate all into a master file. don't worry about the times being out of order; the calculations will specify the year and type of damages to be summed up later"
   ]
  },
  {
   "cell_type": "code",
   "execution_count": 47,
   "metadata": {},
   "outputs": [],
   "source": [
    "dfG85 = pd.concat(dfG85_all)"
   ]
  },
  {
   "cell_type": "markdown",
   "metadata": {},
   "source": [
    "remove the list of DataFrames to save on some memory"
   ]
  },
  {
   "cell_type": "code",
   "execution_count": 53,
   "metadata": {},
   "outputs": [],
   "source": [
    "del dfG85_all"
   ]
  },
  {
   "cell_type": "code",
   "execution_count": 55,
   "metadata": {},
   "outputs": [
    {
     "data": {
      "text/plain": [
       "array(['FloodRetreat', 'RetreatCost', 'WetlandRetreat', 'RelocateRetreat',\n",
       "       'StormCapitalRetreat', 'StormPopRetreat', 'Construct',\n",
       "       'ProtectCost', 'WetlandProtect', 'StormCapitalProtect',\n",
       "       'StormPopProtect', 'FloodNoAdapt', 'NoAdaptCost', 'WetlandNoAdapt',\n",
       "       'RelocateNoAdapt', 'StormCapitalNoAdapt', 'StormPopNoAdapt',\n",
       "       'FloodOptimalFixed', 'OptimalFixedCost', 'WetlandOptimalFixed',\n",
       "       'RelocateOptimalFixed', 'StormCapitalOptimalFixed',\n",
       "       'StormPopOptimalFixed', 'ConstructOptimalFixed'], dtype=object)"
      ]
     },
     "execution_count": 55,
     "metadata": {},
     "output_type": "execute_result"
    }
   ],
   "source": [
    "dfG85[\"variable\"].unique()"
   ]
  },
  {
   "cell_type": "markdown",
   "metadata": {},
   "source": [
    "Gather up Diaz 2016 results into a DataFrame"
   ]
  },
  {
   "cell_type": "code",
   "execution_count": 180,
   "metadata": {},
   "outputs": [
    {
     "data": {
      "text/plain": [
       "12046"
      ]
     },
     "execution_count": 180,
     "metadata": {},
     "output_type": "execute_result"
    }
   ],
   "source": [
    "len(dfG85.loc[(dfG85[\"time\"]==1) & (dfG85[\"variable\"]==\"OptimalFixedCost\"), \"value\"])"
   ]
  },
  {
   "cell_type": "code",
   "execution_count": 182,
   "metadata": {},
   "outputs": [],
   "source": [
    "NoAdaptCost, OptimalCost, FloodNoAdapt, WetlandNoAdapt, RelocateNoAdapt, StormCapitalNoAdapt, StormPopNoAdapt = [], [], [], [], [], [], []\n",
    "Construct, ProtectCost, WetlandProtect, StormPopProtect, StormCapitalProtect = [], [], [], [], []\n",
    "RetreatCost, WetlandRetreat, StormPopRetreat, StormCapitalRetreat, RelocateRetreat = [], [], [], [], []\n",
    "for t in range(1,11):\n",
    "    NoAdaptCost.append(dfG85.loc[(dfG85[\"time\"]==t) & (dfG85[\"variable\"]==\"NoAdaptCost\"), \"value\"].sum())\n",
    "    OptimalCost.append(dfG85.loc[(dfG85[\"time\"]==t) & (dfG85[\"variable\"]==\"OptimalFixedCost\"), \"value\"].sum())\n",
    "    FloodNoAdapt.append(dfG85.loc[(dfG85[\"time\"]==t) & (dfG85[\"variable\"]==\"FloodNoAdapt\"), \"value\"].sum())\n",
    "    WetlandNoAdapt.append(dfG85.loc[(dfG85[\"time\"]==t) & (dfG85[\"variable\"]==\"WetlandNoAdapt\"), \"value\"].sum())\n",
    "    RelocateNoAdapt.append(dfG85.loc[(dfG85[\"time\"]==t) & (dfG85[\"variable\"]==\"RelocateNoAdapt\"), \"value\"].sum())\n",
    "    StormCapitalNoAdapt.append(dfG85.loc[(dfG85[\"time\"]==t) & (dfG85[\"variable\"]==\"StormCapitalNoAdapt\"), \"value\"].sum())\n",
    "    StormPopNoAdapt.append(dfG85.loc[(dfG85[\"time\"]==t) & (dfG85[\"variable\"]==\"StormPopNoAdapt\"), \"value\"].sum())\n",
    "    Construct.append(dfG85.loc[(dfG85[\"time\"]==t) & (dfG85[\"variable\"]==\"ConstructOptimalFixed\"), \"value\"].sum())\n",
    "    ProtectCost.append(dfG85.loc[(dfG85[\"time\"]==t) & (dfG85[\"variable\"]==\"ProtectCost\"), \"value\"].sum())\n",
    "    WetlandProtect.append(dfG85.loc[(dfG85[\"time\"]==t) & (dfG85[\"variable\"]==\"WetlandProtect\"), \"value\"].sum())\n",
    "    StormPopProtect.append(dfG85.loc[(dfG85[\"time\"]==t) & (dfG85[\"variable\"]==\"StormPopProtect\"), \"value\"].sum())\n",
    "    StormCapitalProtect.append(dfG85.loc[(dfG85[\"time\"]==t) & (dfG85[\"variable\"]==\"StormCapitalProtect\"), \"value\"].sum())\n",
    "    RetreatCost.append(dfG85.loc[(dfG85[\"time\"]==t) & (dfG85[\"variable\"]==\"RetreatCost\"), \"value\"].sum())\n",
    "    WetlandRetreat.append(dfG85.loc[(dfG85[\"time\"]==t) & (dfG85[\"variable\"]==\"WetlandRetreat\"), \"value\"].sum())\n",
    "    StormPopRetreat.append(dfG85.loc[(dfG85[\"time\"]==t) & (dfG85[\"variable\"]==\"StormPopRetreat\"), \"value\"].sum())\n",
    "    StormCapitalRetreat.append(dfG85.loc[(dfG85[\"time\"]==t) & (dfG85[\"variable\"]==\"StormCapitalRetreat\"), \"value\"].sum())\n",
    "    RelocateRetreat.append(dfG85.loc[(dfG85[\"time\"]==t) & (dfG85[\"variable\"]==\"RelocateRetreat\"), \"value\"].sum())\n",
    "\n",
    "dfDiaz = pd.DataFrame()\n",
    "dfDiaz[\"time\"] = list(range(2010,2110,10))\n",
    "dfDiaz[\"NoAdapt\"] = NoAdaptCost\n",
    "dfDiaz[\"Optimal\"] = OptimalCost\n",
    "dfDiaz[\"FloodNoAdapt\"] = FloodNoAdapt\n",
    "dfDiaz[\"WetlandNoAdapt\"] = WetlandNoAdapt\n",
    "dfDiaz[\"RelocateNoAdapt\"] = RelocateNoAdapt\n",
    "dfDiaz[\"StormCapitalNoAdapt\"] = StormCapitalNoAdapt\n",
    "dfDiaz[\"StormPopNoAdapt\"] = StormPopNoAdapt\n",
    "dfDiaz[\"Construct\"] = Construct\n",
    "dfDiaz[\"ProtectCost\"] = ProtectCost\n",
    "dfDiaz[\"WetlandProtect\"] = WetlandProtect\n",
    "dfDiaz[\"StormPopProtect\"] = StormPopProtect\n",
    "dfDiaz[\"StormCapitalProtect\"] = StormCapitalProtect\n",
    "dfDiaz[\"RetreatCost\"] = RetreatCost\n",
    "dfDiaz[\"WetlandRetreat\"] = WetlandRetreat\n",
    "dfDiaz[\"StormPopRetreat\"] = StormPopRetreat\n",
    "dfDiaz[\"StormCapitalRetreat\"] = StormCapitalRetreat\n",
    "dfDiaz[\"RelocateRetreat\"] = RelocateRetreat"
   ]
  },
  {
   "cell_type": "markdown",
   "metadata": {},
   "source": [
    "Matches the paper well (Fig 2, right column), except in the last year when things jump up just a bit too much. Paper reports \\\\$2.2T in the NoAdapt case and \\\\$270B in the Optimal adaptation case."
   ]
  },
  {
   "cell_type": "code",
   "execution_count": 145,
   "metadata": {},
   "outputs": [
    {
     "name": "stdout",
     "output_type": "stream",
     "text": [
      "   time  NoAdapt  Optimal\n",
      "0  2010   119.17    29.27\n",
      "1  2020   189.34    33.03\n",
      "2  2030   304.23    39.72\n",
      "3  2040   484.77    52.75\n",
      "4  2050   787.10   115.54\n",
      "5  2060  1217.03   132.09\n",
      "6  2070  1566.37   148.21\n",
      "7  2080  1878.13   163.73\n",
      "8  2090  2043.67   178.02\n",
      "9  2100  2251.46   282.07\n"
     ]
    }
   ],
   "source": [
    "print(np.round(dfDiaz[[\"time\",\"NoAdapt\",\"Optimal\"]],2))"
   ]
  },
  {
   "cell_type": "markdown",
   "metadata": {},
   "source": [
    "### New results"
   ]
  },
  {
   "cell_type": "code",
   "execution_count": 221,
   "metadata": {},
   "outputs": [],
   "source": [
    "dfC = pd.read_csv(\"./output/lslOld_pop0_global_85p50ssp0fixed_control.csv\")"
   ]
  },
  {
   "cell_type": "code",
   "execution_count": 270,
   "metadata": {},
   "outputs": [],
   "source": [
    "def compare(dfD, dfN, var, lev=False, times=list(range(1,11)), verbose=True):\n",
    "    varD = var\n",
    "    names = {\"OptimalCost\" : \"OptimalFixedCost\"}#, \"Construct\" : \"ConstructOptimalFixed\"}\n",
    "    if var in names.keys():\n",
    "        varD = names[var]\n",
    "    if lev:\n",
    "        D = [dfD.loc[(dfD.variable==varD) & (dfD.level==lev) & (dfD.time==t), \"value\"].sum() for t in times]\n",
    "        N = list(dfN.loc[(dfN.variable==var) & (dfN.level==lev) & (dfN.time>=times[0]) & (dfN.time<=np.max(times)), \"value\"])\n",
    "    else:\n",
    "        D = [dfD.loc[(dfD.variable==varD) & (dfD.time==t), \"value\"].sum() for t in times]\n",
    "        N = list(dfN.loc[(dfN.variable==var) & (dfN.time>=times[0]) & (dfN.time<=np.max(times)), \"value\"])\n",
    "    if verbose:\n",
    "        print(\"time | Diaz | New\")\n",
    "        for t in range(len(times)):\n",
    "            print(times[t], np.round(D[t],3), np.round(N[t],3))\n",
    "    return [N[t]-D[t] for t in range(len(times))]"
   ]
  },
  {
   "cell_type": "code",
   "execution_count": 252,
   "metadata": {},
   "outputs": [
    {
     "data": {
      "text/plain": [
       "array(['FloodNoAdapt', 'RelocateNoAdapt', 'StormCapitalNoAdapt',\n",
       "       'NoAdaptCost', 'OptimalCost', 'WetlandProtect', 'StormPopNoAdapt',\n",
       "       'WetlandRetreat', 'WetlandNoAdapt', 'StormPopProtect',\n",
       "       'StormCapitalProtect', 'ProtectCost', 'Construct',\n",
       "       'StormCapitalRetreat', 'StormPopRetreat', 'RetreatCost',\n",
       "       'FloodRetreat', 'RelocateRetreat'], dtype=object)"
      ]
     },
     "execution_count": 252,
     "metadata": {},
     "output_type": "execute_result"
    }
   ],
   "source": [
    "dfC[\"variable\"].unique()"
   ]
  },
  {
   "cell_type": "code",
   "execution_count": 253,
   "metadata": {},
   "outputs": [
    {
     "data": {
      "text/plain": [
       "array(['FloodRetreat', 'RetreatCost', 'WetlandRetreat', 'RelocateRetreat',\n",
       "       'StormCapitalRetreat', 'StormPopRetreat', 'Construct',\n",
       "       'ProtectCost', 'WetlandProtect', 'StormCapitalProtect',\n",
       "       'StormPopProtect', 'FloodNoAdapt', 'NoAdaptCost', 'WetlandNoAdapt',\n",
       "       'RelocateNoAdapt', 'StormCapitalNoAdapt', 'StormPopNoAdapt',\n",
       "       'FloodOptimalFixed', 'OptimalFixedCost', 'WetlandOptimalFixed',\n",
       "       'RelocateOptimalFixed', 'StormCapitalOptimalFixed',\n",
       "       'StormPopOptimalFixed', 'ConstructOptimalFixed'], dtype=object)"
      ]
     },
     "execution_count": 253,
     "metadata": {},
     "output_type": "execute_result"
    }
   ],
   "source": [
    "dfG85[\"variable\"].unique()"
   ]
  },
  {
   "cell_type": "markdown",
   "metadata": {},
   "source": [
    "Checking NoAdaptCost..."
   ]
  },
  {
   "cell_type": "code",
   "execution_count": 255,
   "metadata": {},
   "outputs": [
    {
     "name": "stdout",
     "output_type": "stream",
     "text": [
      "time | Diaz | New\n",
      "1 119.166 119.166\n",
      "2 189.336 189.336\n",
      "3 304.226 304.226\n",
      "4 484.775 484.775\n",
      "5 787.095 787.095\n",
      "6 1217.032 1217.038\n",
      "7 1566.374 1566.376\n",
      "8 1878.132 1878.142\n",
      "9 2043.672 2043.716\n",
      "10 2251.458 2251.467\n",
      "11 2635.751 2635.751\n"
     ]
    }
   ],
   "source": [
    "x = compare(dfG85, dfC, var=\"NoAdaptCost\", lev=False, times=list(range(1,12)), verbose=True)"
   ]
  },
  {
   "cell_type": "markdown",
   "metadata": {},
   "source": [
    "Good!"
   ]
  },
  {
   "cell_type": "markdown",
   "metadata": {},
   "source": [
    "Checking OptimalCost..."
   ]
  },
  {
   "cell_type": "code",
   "execution_count": 258,
   "metadata": {},
   "outputs": [
    {
     "name": "stdout",
     "output_type": "stream",
     "text": [
      "time | Diaz | New\n",
      "1 29.274 27.608\n",
      "2 33.032 31.593\n",
      "3 39.718 38.638\n",
      "4 52.752 52.064\n",
      "5 115.535 124.3\n",
      "6 132.086 143.298\n",
      "7 148.209 161.838\n",
      "8 163.731 180.723\n",
      "9 178.017 197.697\n",
      "10 282.067 325.643\n",
      "11 303.188 352.242\n"
     ]
    }
   ],
   "source": [
    "x = compare(dfG85, dfC, var=\"OptimalCost\", lev=False, times=list(range(1,12)), verbose=True)"
   ]
  },
  {
   "cell_type": "markdown",
   "metadata": {},
   "source": [
    "Not good!"
   ]
  },
  {
   "cell_type": "markdown",
   "metadata": {},
   "source": [
    "Check RetreatCost..."
   ]
  },
  {
   "cell_type": "code",
   "execution_count": 259,
   "metadata": {},
   "outputs": [
    {
     "name": "stdout",
     "output_type": "stream",
     "text": [
      "time | Diaz | New\n",
      "1 123.019 123.019\n",
      "2 173.769 173.769\n",
      "3 277.287 277.287\n",
      "4 496.142 496.142\n",
      "5 279.418 279.418\n",
      "6 327.637 327.637\n",
      "7 407.305 407.305\n",
      "8 549.06 549.06\n",
      "9 847.47 847.47\n",
      "10 577.476 577.476\n",
      "11 624.229 624.229\n"
     ]
    }
   ],
   "source": [
    "x = compare(dfG85, dfC, var=\"RetreatCost\", lev=10, times=list(range(1,12)), verbose=True)"
   ]
  },
  {
   "cell_type": "markdown",
   "metadata": {},
   "source": [
    "Good!"
   ]
  },
  {
   "cell_type": "markdown",
   "metadata": {},
   "source": [
    "Check ProtectCost..."
   ]
  },
  {
   "cell_type": "code",
   "execution_count": 260,
   "metadata": {},
   "outputs": [
    {
     "name": "stdout",
     "output_type": "stream",
     "text": [
      "time | Diaz | New\n",
      "1 831.335 825.021\n",
      "2 1333.589 1327.242\n",
      "3 2411.871 2405.524\n",
      "4 4775.877 4769.533\n",
      "5 1339.202 1324.868\n",
      "6 2118.873 2104.537\n",
      "7 3735.674 3721.331\n",
      "8 7285.422 7271.073\n",
      "9 15344.465 15330.11\n",
      "10 2325.17 2313.425\n",
      "11 3528.217 3516.475\n"
     ]
    }
   ],
   "source": [
    "x = compare(dfG85, dfC, var=\"ProtectCost\", lev=10, times=list(range(1,12)), verbose=True)"
   ]
  },
  {
   "cell_type": "markdown",
   "metadata": {},
   "source": [
    "Not so good!"
   ]
  },
  {
   "cell_type": "markdown",
   "metadata": {},
   "source": [
    "ProtectCost is composed of Construct, WetlandProtect, StormCapitalProtect, StormPopProtect, and FloodProtect, so check each of those...\n",
    "\n",
    "`v.ProtectCost[tj,m,i-1] = v.Construct[tj,m,i-1] + v.WetlandProtect[tj,m] + v.StormCapitalProtect[tj,m,i-1] + v.StormPopProtect[tj,m,i-1] + v.FloodProtect[tj,m]`"
   ]
  },
  {
   "cell_type": "markdown",
   "metadata": {},
   "source": [
    "Construction costs are different:"
   ]
  },
  {
   "cell_type": "code",
   "execution_count": 271,
   "metadata": {},
   "outputs": [
    {
     "name": "stdout",
     "output_type": "stream",
     "text": [
      "time | Diaz | New\n",
      "1 177.491 171.4\n",
      "2 177.491 171.4\n",
      "3 177.491 171.4\n",
      "4 177.491 171.4\n",
      "5 300.823 286.659\n",
      "6 300.823 286.659\n",
      "7 300.823 286.659\n",
      "8 300.823 286.659\n",
      "9 300.823 286.659\n",
      "10 521.828 510.093\n",
      "11 521.828 510.093\n"
     ]
    }
   ],
   "source": [
    "x = compare(dfG85, dfC, var=\"Construct\", lev=10, times=list(range(1,12)), verbose=True)"
   ]
  },
  {
   "cell_type": "markdown",
   "metadata": {},
   "source": [
    "WetlandProtect costs are different"
   ]
  },
  {
   "cell_type": "code",
   "execution_count": 263,
   "metadata": {},
   "outputs": [
    {
     "name": "stdout",
     "output_type": "stream",
     "text": [
      "time | Diaz | New\n",
      "1 325.712 175.012\n",
      "2 375.706 200.91\n",
      "3 426.139 227.592\n",
      "4 478.768 255.678\n",
      "5 529.705 282.592\n",
      "6 579.427 308.787\n",
      "7 628.825 334.713\n",
      "8 675.232 359.065\n",
      "9 716.833 380.945\n",
      "10 760.034 403.693\n",
      "11 803.046 426.419\n"
     ]
    }
   ],
   "source": [
    "x = compare(dfG85, dfC, var=\"WetlandProtect\", lev=False, times=list(range(1,12)), verbose=True)"
   ]
  },
  {
   "cell_type": "markdown",
   "metadata": {},
   "source": [
    "StormPopProtect and StormCapitalProtect costs match!"
   ]
  },
  {
   "cell_type": "code",
   "execution_count": 265,
   "metadata": {},
   "outputs": [
    {
     "name": "stdout",
     "output_type": "stream",
     "text": [
      "time | Diaz | New\n",
      "1 271.926 271.83\n",
      "2 536.552 536.443\n",
      "3 1106.339 1106.231\n",
      "4 2339.987 2339.88\n",
      "5 395.768 395.695\n",
      "6 763.818 763.744\n",
      "7 1531.877 1531.8\n",
      "8 3236.131 3236.051\n",
      "9 7150.682 7150.6\n",
      "10 662.754 662.75\n",
      "11 1228.236 1228.232\n"
     ]
    }
   ],
   "source": [
    "x = compare(dfG85, dfC, var=\"StormPopProtect\", lev=10, times=list(range(1,12)), verbose=True)"
   ]
  },
  {
   "cell_type": "code",
   "execution_count": 267,
   "metadata": {},
   "outputs": [
    {
     "name": "stdout",
     "output_type": "stream",
     "text": [
      "time | Diaz | New\n",
      "1 206.906 206.779\n",
      "2 418.636 418.489\n",
      "3 900.449 900.302\n",
      "4 2002.721 2002.575\n",
      "5 360.019 359.921\n",
      "6 745.446 745.347\n",
      "7 1568.261 1568.159\n",
      "8 3389.404 3389.298\n",
      "9 7512.015 7511.906\n",
      "10 736.895 736.889\n",
      "11 1351.734 1351.73\n"
     ]
    }
   ],
   "source": [
    "x = compare(dfG85, dfC, var=\"StormCapitalProtect\", lev=10, times=list(range(1,12)), verbose=True)"
   ]
  },
  {
   "cell_type": "markdown",
   "metadata": {},
   "source": [
    "FloodProtect isn't on the output files"
   ]
  },
  {
   "cell_type": "code",
   "execution_count": null,
   "metadata": {},
   "outputs": [],
   "source": []
  },
  {
   "cell_type": "code",
   "execution_count": null,
   "metadata": {},
   "outputs": [],
   "source": []
  },
  {
   "cell_type": "code",
   "execution_count": null,
   "metadata": {},
   "outputs": [],
   "source": []
  },
  {
   "cell_type": "code",
   "execution_count": null,
   "metadata": {},
   "outputs": [],
   "source": []
  },
  {
   "cell_type": "code",
   "execution_count": null,
   "metadata": {},
   "outputs": [],
   "source": []
  },
  {
   "cell_type": "code",
   "execution_count": 188,
   "metadata": {},
   "outputs": [
    {
     "ename": "ValueError",
     "evalue": "Length of values does not match length of index",
     "output_type": "error",
     "traceback": [
      "\u001b[0;31m---------------------------------------------------------------------------\u001b[0m",
      "\u001b[0;31mValueError\u001b[0m                                Traceback (most recent call last)",
      "\u001b[0;32m<ipython-input-188-14a2c42f1f87>\u001b[0m in \u001b[0;36m<module>\u001b[0;34m\u001b[0m\n\u001b[1;32m      5\u001b[0m             \u001b[0;34m\"ProtectCost\"\u001b[0m\u001b[0;34m,\u001b[0m \u001b[0;34m\"WetlandProtect\"\u001b[0m\u001b[0;34m,\u001b[0m \u001b[0;34m\"StormPopProtect\"\u001b[0m\u001b[0;34m,\u001b[0m \u001b[0;34m\"StormCapitalProtect\"\u001b[0m\u001b[0;34m,\u001b[0m\u001b[0;34m\u001b[0m\u001b[0;34m\u001b[0m\u001b[0m\n\u001b[1;32m      6\u001b[0m             \"RetreatCost\", \"WetlandRetreat\", \"StormPopRetreat\", \"StormCapitalRetreat\", \"RelocateRetreat\"]:\n\u001b[0;32m----> 7\u001b[0;31m     \u001b[0mdfNew\u001b[0m\u001b[0;34m[\u001b[0m\u001b[0mvar\u001b[0m\u001b[0;34m]\u001b[0m \u001b[0;34m=\u001b[0m \u001b[0mlist\u001b[0m\u001b[0;34m(\u001b[0m\u001b[0mdfC\u001b[0m\u001b[0;34m.\u001b[0m\u001b[0mloc\u001b[0m\u001b[0;34m[\u001b[0m\u001b[0mdfC\u001b[0m\u001b[0;34m[\u001b[0m\u001b[0;34m\"variable\"\u001b[0m\u001b[0;34m]\u001b[0m\u001b[0;34m==\u001b[0m\u001b[0mvar\u001b[0m\u001b[0;34m,\u001b[0m \u001b[0;34m\"value\"\u001b[0m\u001b[0;34m]\u001b[0m\u001b[0;34m)\u001b[0m\u001b[0;34m\u001b[0m\u001b[0;34m\u001b[0m\u001b[0m\n\u001b[0m",
      "\u001b[0;32m~/anaconda3/lib/python3.7/site-packages/pandas/core/frame.py\u001b[0m in \u001b[0;36m__setitem__\u001b[0;34m(self, key, value)\u001b[0m\n\u001b[1;32m   3368\u001b[0m         \u001b[0;32melse\u001b[0m\u001b[0;34m:\u001b[0m\u001b[0;34m\u001b[0m\u001b[0;34m\u001b[0m\u001b[0m\n\u001b[1;32m   3369\u001b[0m             \u001b[0;31m# set column\u001b[0m\u001b[0;34m\u001b[0m\u001b[0;34m\u001b[0m\u001b[0;34m\u001b[0m\u001b[0m\n\u001b[0;32m-> 3370\u001b[0;31m             \u001b[0mself\u001b[0m\u001b[0;34m.\u001b[0m\u001b[0m_set_item\u001b[0m\u001b[0;34m(\u001b[0m\u001b[0mkey\u001b[0m\u001b[0;34m,\u001b[0m \u001b[0mvalue\u001b[0m\u001b[0;34m)\u001b[0m\u001b[0;34m\u001b[0m\u001b[0;34m\u001b[0m\u001b[0m\n\u001b[0m\u001b[1;32m   3371\u001b[0m \u001b[0;34m\u001b[0m\u001b[0m\n\u001b[1;32m   3372\u001b[0m     \u001b[0;32mdef\u001b[0m \u001b[0m_setitem_slice\u001b[0m\u001b[0;34m(\u001b[0m\u001b[0mself\u001b[0m\u001b[0;34m,\u001b[0m \u001b[0mkey\u001b[0m\u001b[0;34m,\u001b[0m \u001b[0mvalue\u001b[0m\u001b[0;34m)\u001b[0m\u001b[0;34m:\u001b[0m\u001b[0;34m\u001b[0m\u001b[0;34m\u001b[0m\u001b[0m\n",
      "\u001b[0;32m~/anaconda3/lib/python3.7/site-packages/pandas/core/frame.py\u001b[0m in \u001b[0;36m_set_item\u001b[0;34m(self, key, value)\u001b[0m\n\u001b[1;32m   3443\u001b[0m \u001b[0;34m\u001b[0m\u001b[0m\n\u001b[1;32m   3444\u001b[0m         \u001b[0mself\u001b[0m\u001b[0;34m.\u001b[0m\u001b[0m_ensure_valid_index\u001b[0m\u001b[0;34m(\u001b[0m\u001b[0mvalue\u001b[0m\u001b[0;34m)\u001b[0m\u001b[0;34m\u001b[0m\u001b[0;34m\u001b[0m\u001b[0m\n\u001b[0;32m-> 3445\u001b[0;31m         \u001b[0mvalue\u001b[0m \u001b[0;34m=\u001b[0m \u001b[0mself\u001b[0m\u001b[0;34m.\u001b[0m\u001b[0m_sanitize_column\u001b[0m\u001b[0;34m(\u001b[0m\u001b[0mkey\u001b[0m\u001b[0;34m,\u001b[0m \u001b[0mvalue\u001b[0m\u001b[0;34m)\u001b[0m\u001b[0;34m\u001b[0m\u001b[0;34m\u001b[0m\u001b[0m\n\u001b[0m\u001b[1;32m   3446\u001b[0m         \u001b[0mNDFrame\u001b[0m\u001b[0;34m.\u001b[0m\u001b[0m_set_item\u001b[0m\u001b[0;34m(\u001b[0m\u001b[0mself\u001b[0m\u001b[0;34m,\u001b[0m \u001b[0mkey\u001b[0m\u001b[0;34m,\u001b[0m \u001b[0mvalue\u001b[0m\u001b[0;34m)\u001b[0m\u001b[0;34m\u001b[0m\u001b[0;34m\u001b[0m\u001b[0m\n\u001b[1;32m   3447\u001b[0m \u001b[0;34m\u001b[0m\u001b[0m\n",
      "\u001b[0;32m~/anaconda3/lib/python3.7/site-packages/pandas/core/frame.py\u001b[0m in \u001b[0;36m_sanitize_column\u001b[0;34m(self, key, value, broadcast)\u001b[0m\n\u001b[1;32m   3628\u001b[0m \u001b[0;34m\u001b[0m\u001b[0m\n\u001b[1;32m   3629\u001b[0m             \u001b[0;31m# turn me into an ndarray\u001b[0m\u001b[0;34m\u001b[0m\u001b[0;34m\u001b[0m\u001b[0;34m\u001b[0m\u001b[0m\n\u001b[0;32m-> 3630\u001b[0;31m             \u001b[0mvalue\u001b[0m \u001b[0;34m=\u001b[0m \u001b[0msanitize_index\u001b[0m\u001b[0;34m(\u001b[0m\u001b[0mvalue\u001b[0m\u001b[0;34m,\u001b[0m \u001b[0mself\u001b[0m\u001b[0;34m.\u001b[0m\u001b[0mindex\u001b[0m\u001b[0;34m,\u001b[0m \u001b[0mcopy\u001b[0m\u001b[0;34m=\u001b[0m\u001b[0;32mFalse\u001b[0m\u001b[0;34m)\u001b[0m\u001b[0;34m\u001b[0m\u001b[0;34m\u001b[0m\u001b[0m\n\u001b[0m\u001b[1;32m   3631\u001b[0m             \u001b[0;32mif\u001b[0m \u001b[0;32mnot\u001b[0m \u001b[0misinstance\u001b[0m\u001b[0;34m(\u001b[0m\u001b[0mvalue\u001b[0m\u001b[0;34m,\u001b[0m \u001b[0;34m(\u001b[0m\u001b[0mnp\u001b[0m\u001b[0;34m.\u001b[0m\u001b[0mndarray\u001b[0m\u001b[0;34m,\u001b[0m \u001b[0mIndex\u001b[0m\u001b[0;34m)\u001b[0m\u001b[0;34m)\u001b[0m\u001b[0;34m:\u001b[0m\u001b[0;34m\u001b[0m\u001b[0;34m\u001b[0m\u001b[0m\n\u001b[1;32m   3632\u001b[0m                 \u001b[0;32mif\u001b[0m \u001b[0misinstance\u001b[0m\u001b[0;34m(\u001b[0m\u001b[0mvalue\u001b[0m\u001b[0;34m,\u001b[0m \u001b[0mlist\u001b[0m\u001b[0;34m)\u001b[0m \u001b[0;32mand\u001b[0m \u001b[0mlen\u001b[0m\u001b[0;34m(\u001b[0m\u001b[0mvalue\u001b[0m\u001b[0;34m)\u001b[0m \u001b[0;34m>\u001b[0m \u001b[0;36m0\u001b[0m\u001b[0;34m:\u001b[0m\u001b[0;34m\u001b[0m\u001b[0;34m\u001b[0m\u001b[0m\n",
      "\u001b[0;32m~/anaconda3/lib/python3.7/site-packages/pandas/core/internals/construction.py\u001b[0m in \u001b[0;36msanitize_index\u001b[0;34m(data, index, copy)\u001b[0m\n\u001b[1;32m    517\u001b[0m \u001b[0;34m\u001b[0m\u001b[0m\n\u001b[1;32m    518\u001b[0m     \u001b[0;32mif\u001b[0m \u001b[0mlen\u001b[0m\u001b[0;34m(\u001b[0m\u001b[0mdata\u001b[0m\u001b[0;34m)\u001b[0m \u001b[0;34m!=\u001b[0m \u001b[0mlen\u001b[0m\u001b[0;34m(\u001b[0m\u001b[0mindex\u001b[0m\u001b[0;34m)\u001b[0m\u001b[0;34m:\u001b[0m\u001b[0;34m\u001b[0m\u001b[0;34m\u001b[0m\u001b[0m\n\u001b[0;32m--> 519\u001b[0;31m         \u001b[0;32mraise\u001b[0m \u001b[0mValueError\u001b[0m\u001b[0;34m(\u001b[0m\u001b[0;34m'Length of values does not match length of index'\u001b[0m\u001b[0;34m)\u001b[0m\u001b[0;34m\u001b[0m\u001b[0;34m\u001b[0m\u001b[0m\n\u001b[0m\u001b[1;32m    520\u001b[0m \u001b[0;34m\u001b[0m\u001b[0m\n\u001b[1;32m    521\u001b[0m     \u001b[0;32mif\u001b[0m \u001b[0misinstance\u001b[0m\u001b[0;34m(\u001b[0m\u001b[0mdata\u001b[0m\u001b[0;34m,\u001b[0m \u001b[0mABCIndexClass\u001b[0m\u001b[0;34m)\u001b[0m \u001b[0;32mand\u001b[0m \u001b[0;32mnot\u001b[0m \u001b[0mcopy\u001b[0m\u001b[0;34m:\u001b[0m\u001b[0;34m\u001b[0m\u001b[0;34m\u001b[0m\u001b[0m\n",
      "\u001b[0;31mValueError\u001b[0m: Length of values does not match length of index"
     ]
    }
   ],
   "source": [
    "dfNew = pd.DataFrame()\n",
    "dfNew[\"time\"] = list(range(2010,2110,10))\n",
    "for var in [\"NoAdaptCost\", \"OptimalCost\", \"Construct\", \"RelocateRetreat\",\n",
    "            \"FloodNoAdapt\", \"RelocateNoAdapt\", \"StormCapitalNoAdapt\", \"StormPopNoAdapt\", \"WetlandNoAdapt\",\n",
    "            \"ProtectCost\", \"WetlandProtect\", \"StormPopProtect\", \"StormCapitalProtect\",\n",
    "            \"RetreatCost\", \"WetlandRetreat\", \"StormPopRetreat\", \"StormCapitalRetreat\", \"RelocateRetreat\"]:\n",
    "    dfNew[var] = list(dfC.loc[dfC[\"variable\"]==var, \"value\"])"
   ]
  },
  {
   "cell_type": "markdown",
   "metadata": {},
   "source": [
    "Check that these 5 match the NoAdapt total cost:"
   ]
  },
  {
   "cell_type": "code",
   "execution_count": 136,
   "metadata": {},
   "outputs": [
    {
     "data": {
      "text/plain": [
       "0   -2.842171e-13\n",
       "1    1.762146e-12\n",
       "2    6.252776e-13\n",
       "3   -3.126388e-12\n",
       "4    5.115908e-12\n",
       "5    1.136868e-12\n",
       "6    3.410605e-12\n",
       "7   -8.185452e-12\n",
       "8   -7.503331e-12\n",
       "9   -4.092726e-12\n",
       "dtype: float64"
      ]
     },
     "execution_count": 136,
     "metadata": {},
     "output_type": "execute_result"
    }
   ],
   "source": [
    "dfNew[\"FloodNoAdapt\"]+dfNew[\"RelocateNoAdapt\"]+dfNew[\"StormCapitalNoAdapt\"]+dfNew[\"StormPopNoAdapt\"]+dfNew[\"WetlandNoAdapt\"]-dfNew[\"NoAdapt\"]"
   ]
  },
  {
   "cell_type": "code",
   "execution_count": 159,
   "metadata": {},
   "outputs": [
    {
     "data": {
      "text/plain": [
       "array(['FloodRetreat', 'RetreatCost', 'WetlandRetreat', 'RelocateRetreat',\n",
       "       'StormCapitalRetreat', 'StormPopRetreat', 'Construct',\n",
       "       'ProtectCost', 'WetlandProtect', 'StormCapitalProtect',\n",
       "       'StormPopProtect', 'FloodNoAdapt', 'NoAdaptCost', 'WetlandNoAdapt',\n",
       "       'RelocateNoAdapt', 'StormCapitalNoAdapt', 'StormPopNoAdapt',\n",
       "       'FloodOptimalFixed', 'OptimalFixedCost', 'WetlandOptimalFixed',\n",
       "       'RelocateOptimalFixed', 'StormCapitalOptimalFixed',\n",
       "       'StormPopOptimalFixed', 'ConstructOptimalFixed'], dtype=object)"
      ]
     },
     "execution_count": 159,
     "metadata": {},
     "output_type": "execute_result"
    }
   ],
   "source": [
    "dfG85[\"variable\"].unique()"
   ]
  },
  {
   "cell_type": "code",
   "execution_count": 160,
   "metadata": {},
   "outputs": [
    {
     "data": {
      "text/plain": [
       "array(['FloodNoAdapt', 'RelocateNoAdapt', 'StormCapitalNoAdapt',\n",
       "       'NoAdaptCost', 'OptimalCost', 'WetlandProtect', 'StormPopNoAdapt',\n",
       "       'WetlandRetreat', 'WetlandNoAdapt', 'StormPopProtect',\n",
       "       'StormCapitalProtect', 'ProtectCost', 'Construct',\n",
       "       'StormCapitalRetreat', 'StormPopRetreat', 'RetreatCost',\n",
       "       'FloodRetreat', 'RelocateRetreat'], dtype=object)"
      ]
     },
     "execution_count": 160,
     "metadata": {},
     "output_type": "execute_result"
    }
   ],
   "source": [
    "dfC[\"variable\"].unique()"
   ]
  },
  {
   "cell_type": "code",
   "execution_count": 163,
   "metadata": {},
   "outputs": [
    {
     "data": {
      "text/plain": [
       "12148"
      ]
     },
     "execution_count": 163,
     "metadata": {},
     "output_type": "execute_result"
    }
   ],
   "source": [
    "len(dfG85[\"segments\"].unique())"
   ]
  },
  {
   "cell_type": "code",
   "execution_count": null,
   "metadata": {},
   "outputs": [],
   "source": []
  },
  {
   "cell_type": "code",
   "execution_count": 156,
   "metadata": {},
   "outputs": [
    {
     "name": "stdout",
     "output_type": "stream",
     "text": [
      "time\n",
      "Year| Diaz | New CIAM | Diaz-New\n",
      "2010 2010.0 2010.0 0.0\n",
      "2020 2020.0 2020.0 0.0\n",
      "2030 2030.0 2030.0 0.0\n",
      "2040 2040.0 2040.0 0.0\n",
      "2050 2050.0 2050.0 0.0\n",
      "2060 2060.0 2060.0 0.0\n",
      "2070 2070.0 2070.0 0.0\n",
      "2080 2080.0 2080.0 0.0\n",
      "2090 2090.0 2090.0 0.0\n",
      "2100 2100.0 2100.0 0.0\n",
      "\n",
      "NoAdapt\n",
      "Year| Diaz | New CIAM | Diaz-New\n",
      "2010 119.166 119.166 0.0\n",
      "2020 189.336 189.336 -0.0\n",
      "2030 304.226 304.226 -0.0\n",
      "2040 484.775 484.775 0.0\n",
      "2050 787.095 787.095 -0.0\n",
      "2060 1217.032 1217.038 -0.005\n",
      "2070 1566.374 1566.376 -0.002\n",
      "2080 1878.132 1878.142 -0.01\n",
      "2090 2043.672 2043.716 -0.044\n",
      "2100 2251.458 2189.244 62.213\n",
      "\n",
      "Optimal\n",
      "Year| Diaz | New CIAM | Diaz-New\n",
      "2010 29.274 27.608 1.666\n",
      "2020 33.032 31.593 1.439\n",
      "2030 39.718 38.638 1.08\n",
      "2040 52.752 52.064 0.687\n",
      "2050 115.535 124.3 -8.765\n",
      "2060 132.086 143.298 -11.212\n",
      "2070 148.209 161.838 -13.629\n",
      "2080 163.731 180.723 -16.992\n",
      "2090 178.017 197.697 -19.68\n",
      "2100 282.067 289.047 -6.979\n",
      "\n",
      "FloodNoAdapt\n",
      "Year| Diaz | New CIAM | Diaz-New\n",
      "2010 40.34 40.34 -0.0\n",
      "2020 64.955 64.955 -0.0\n",
      "2030 101.81 101.81 -0.0\n",
      "2040 149.08 149.08 0.0\n",
      "2050 204.345 204.345 -0.0\n",
      "2060 270.013 270.018 -0.005\n",
      "2070 309.993 309.993 -0.001\n",
      "2080 360.383 360.389 -0.005\n",
      "2090 379.418 379.454 -0.036\n",
      "2100 421.26 379.454 41.806\n",
      "\n",
      "RelocateNoAdapt\n",
      "Year| Diaz | New CIAM | Diaz-New\n",
      "2010 74.457 74.457 0.0\n",
      "2020 112.939 112.939 0.0\n",
      "2030 170.306 170.306 0.0\n",
      "2040 239.336 239.336 0.0\n",
      "2050 312.506 312.506 -0.0\n",
      "2060 395.101 395.101 -0.0\n",
      "2070 410.945 410.945 -0.001\n",
      "2080 445.506 445.51 -0.004\n",
      "2090 415.272 415.28 -0.008\n",
      "2100 435.687 415.28 20.407\n",
      "\n",
      "StormCapitalNoAdapt\n",
      "Year| Diaz | New CIAM | Diaz-New\n",
      "2010 1.023 1.023 -0.0\n",
      "2020 2.516 2.516 0.0\n",
      "2030 9.376 9.376 0.0\n",
      "2040 35.751 35.751 -0.0\n",
      "2050 117.222 117.222 0.0\n",
      "2060 255.952 255.952 -0.0\n",
      "2070 404.778 404.778 -0.0\n",
      "2080 515.441 515.441 0.0\n",
      "2090 608.641 608.641 0.0\n",
      "2100 680.302 680.302 0.0\n",
      "\n",
      "StormPopNoAdapt\n",
      "Year| Diaz | New CIAM | Diaz-New\n",
      "2010 1.255 1.255 -0.0\n",
      "2020 3.358 3.358 -0.0\n",
      "2030 12.138 12.138 0.0\n",
      "2040 42.858 42.858 -0.0\n",
      "2050 123.956 123.956 0.0\n",
      "2060 252.806 252.806 -0.0\n",
      "2070 384.044 384.044 0.0\n",
      "2080 488.538 488.538 0.0\n",
      "2090 570.445 570.445 -0.0\n",
      "2100 636.121 636.121 0.0\n",
      "\n",
      "WetlandNoAdapt\n",
      "Year| Diaz | New CIAM | Diaz-New\n",
      "2010 2.091 2.091 -0.0\n",
      "2020 5.569 5.569 -0.0\n",
      "2030 10.596 10.596 -0.0\n",
      "2040 17.749 17.749 0.0\n",
      "2050 29.068 29.068 0.0\n",
      "2060 43.161 43.161 0.0\n",
      "2070 56.616 56.616 -0.0\n",
      "2080 68.265 68.265 -0.0\n",
      "2090 69.896 69.896 0.0\n",
      "2100 78.087 78.087 0.0\n",
      "\n"
     ]
    }
   ],
   "source": [
    "for col in dfNew.columns:\n",
    "    print(col+\"\\nYear| Diaz | New CIAM | Diaz-New\")\n",
    "    for t in dfDiaz[\"time\"]:\n",
    "        print(t, np.round(float(dfDiaz.loc[dfDiaz[\"time\"]==t, col]),3), np.round(float(dfNew.loc[dfNew[\"time\"]==t, col]),3), \n",
    "              np.round(float(dfDiaz.loc[dfDiaz[\"time\"]==t, col]-dfNew.loc[dfNew[\"time\"]==t, col]),3))\n",
    "    print(\"\")"
   ]
  },
  {
   "cell_type": "code",
   "execution_count": null,
   "metadata": {},
   "outputs": [],
   "source": []
  },
  {
   "cell_type": "code",
   "execution_count": null,
   "metadata": {},
   "outputs": [],
   "source": []
  }
 ],
 "metadata": {
  "kernelspec": {
   "display_name": "Python 3",
   "language": "python",
   "name": "python3"
  },
  "language_info": {
   "codemirror_mode": {
    "name": "ipython",
    "version": 3
   },
   "file_extension": ".py",
   "mimetype": "text/x-python",
   "name": "python",
   "nbconvert_exporter": "python",
   "pygments_lexer": "ipython3",
   "version": "3.7.3"
  }
 },
 "nbformat": 4,
 "nbformat_minor": 4
}
